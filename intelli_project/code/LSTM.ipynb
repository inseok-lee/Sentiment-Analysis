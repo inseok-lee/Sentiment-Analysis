{
 "cells": [
  {
   "cell_type": "markdown",
   "metadata": {
    "pycharm": {
     "name": "#%% md\n"
    }
   },
   "source": [
    "# LSTM"
   ]
  },
  {
   "cell_type": "markdown",
   "metadata": {
    "pycharm": {
     "name": "#%% md\n"
    }
   },
   "source": [
    "\n",
    "## Mount Google Drive"
   ]
  },
  {
   "cell_type": "code",
   "execution_count": 8,
   "metadata": {
    "pycharm": {
     "name": "#%%\n"
    }
   },
   "outputs": [],
   "source": [
    "# Colab 사용시\n",
    "# from google.colab import drive\n",
    "# drive.mount('/content/drive')"
   ]
  },
  {
   "cell_type": "markdown",
   "metadata": {
    "pycharm": {
     "name": "#%% md\n"
    }
   },
   "source": [
    "## Install"
   ]
  },
  {
   "cell_type": "code",
   "execution_count": 9,
   "metadata": {
    "pycharm": {
     "name": "#%%\n"
    }
   },
   "outputs": [],
   "source": [
    "# !java -version\n",
    "# %pip install konlpy"
   ]
  },
  {
   "cell_type": "markdown",
   "metadata": {
    "pycharm": {
     "name": "#%% md\n"
    }
   },
   "source": [
    "## Import Library"
   ]
  },
  {
   "cell_type": "code",
   "execution_count": 10,
   "metadata": {
    "pycharm": {
     "name": "#%%\n"
    }
   },
   "outputs": [
    {
     "ename": "TypeError",
     "evalue": "Unable to convert function return value to a Python type! The signature was\n\t() -> handle",
     "output_type": "error",
     "traceback": [
      "\u001B[0;31m---------------------------------------------------------------------------\u001B[0m",
      "\u001B[0;31mTypeError\u001B[0m                                 Traceback (most recent call last)",
      "Input \u001B[0;32mIn [10]\u001B[0m, in \u001B[0;36m<cell line: 8>\u001B[0;34m()\u001B[0m\n\u001B[1;32m      6\u001B[0m \u001B[38;5;28;01mfrom\u001B[39;00m \u001B[38;5;21;01mkonlpy\u001B[39;00m\u001B[38;5;21;01m.\u001B[39;00m\u001B[38;5;21;01mtag\u001B[39;00m \u001B[38;5;28;01mimport\u001B[39;00m Komoran\n\u001B[1;32m      7\u001B[0m \u001B[38;5;28;01mfrom\u001B[39;00m \u001B[38;5;21;01msklearn\u001B[39;00m\u001B[38;5;21;01m.\u001B[39;00m\u001B[38;5;21;01mmodel_selection\u001B[39;00m \u001B[38;5;28;01mimport\u001B[39;00m train_test_split\n\u001B[0;32m----> 8\u001B[0m \u001B[38;5;28;01mfrom\u001B[39;00m \u001B[38;5;21;01mtensorflow\u001B[39;00m\u001B[38;5;21;01m.\u001B[39;00m\u001B[38;5;21;01mkeras\u001B[39;00m\u001B[38;5;21;01m.\u001B[39;00m\u001B[38;5;21;01mpreprocessing\u001B[39;00m\u001B[38;5;21;01m.\u001B[39;00m\u001B[38;5;21;01mtext\u001B[39;00m \u001B[38;5;28;01mimport\u001B[39;00m Tokenizer\n\u001B[1;32m      9\u001B[0m \u001B[38;5;28;01mfrom\u001B[39;00m \u001B[38;5;21;01mtensorflow\u001B[39;00m\u001B[38;5;21;01m.\u001B[39;00m\u001B[38;5;21;01mkeras\u001B[39;00m\u001B[38;5;21;01m.\u001B[39;00m\u001B[38;5;21;01mpreprocessing\u001B[39;00m\u001B[38;5;21;01m.\u001B[39;00m\u001B[38;5;21;01msequence\u001B[39;00m \u001B[38;5;28;01mimport\u001B[39;00m pad_sequences\n\u001B[1;32m     11\u001B[0m \u001B[38;5;66;03m# model\u001B[39;00m\n",
      "File \u001B[0;32m/opt/miniconda3/envs/intelli/lib/python3.10/site-packages/tensorflow/__init__.py:37\u001B[0m, in \u001B[0;36m<module>\u001B[0;34m\u001B[0m\n\u001B[1;32m     34\u001B[0m \u001B[38;5;28;01mimport\u001B[39;00m \u001B[38;5;21;01msys\u001B[39;00m \u001B[38;5;28;01mas\u001B[39;00m \u001B[38;5;21;01m_sys\u001B[39;00m\n\u001B[1;32m     35\u001B[0m \u001B[38;5;28;01mimport\u001B[39;00m \u001B[38;5;21;01mtyping\u001B[39;00m \u001B[38;5;28;01mas\u001B[39;00m \u001B[38;5;21;01m_typing\u001B[39;00m\n\u001B[0;32m---> 37\u001B[0m \u001B[38;5;28;01mfrom\u001B[39;00m \u001B[38;5;21;01mtensorflow\u001B[39;00m\u001B[38;5;21;01m.\u001B[39;00m\u001B[38;5;21;01mpython\u001B[39;00m\u001B[38;5;21;01m.\u001B[39;00m\u001B[38;5;21;01mtools\u001B[39;00m \u001B[38;5;28;01mimport\u001B[39;00m module_util \u001B[38;5;28;01mas\u001B[39;00m _module_util\n\u001B[1;32m     38\u001B[0m \u001B[38;5;28;01mfrom\u001B[39;00m \u001B[38;5;21;01mtensorflow\u001B[39;00m\u001B[38;5;21;01m.\u001B[39;00m\u001B[38;5;21;01mpython\u001B[39;00m\u001B[38;5;21;01m.\u001B[39;00m\u001B[38;5;21;01mutil\u001B[39;00m\u001B[38;5;21;01m.\u001B[39;00m\u001B[38;5;21;01mlazy_loader\u001B[39;00m \u001B[38;5;28;01mimport\u001B[39;00m LazyLoader \u001B[38;5;28;01mas\u001B[39;00m _LazyLoader\n\u001B[1;32m     40\u001B[0m \u001B[38;5;66;03m# Make sure code inside the TensorFlow codebase can use tf2.enabled() at import.\u001B[39;00m\n",
      "File \u001B[0;32m/opt/miniconda3/envs/intelli/lib/python3.10/site-packages/tensorflow/python/__init__.py:42\u001B[0m, in \u001B[0;36m<module>\u001B[0;34m\u001B[0m\n\u001B[1;32m     37\u001B[0m \u001B[38;5;28;01mfrom\u001B[39;00m \u001B[38;5;21;01mtensorflow\u001B[39;00m\u001B[38;5;21;01m.\u001B[39;00m\u001B[38;5;21;01mpython\u001B[39;00m\u001B[38;5;21;01m.\u001B[39;00m\u001B[38;5;21;01meager\u001B[39;00m \u001B[38;5;28;01mimport\u001B[39;00m context\n\u001B[1;32m     39\u001B[0m \u001B[38;5;66;03m# pylint: enable=wildcard-import\u001B[39;00m\n\u001B[1;32m     40\u001B[0m \n\u001B[1;32m     41\u001B[0m \u001B[38;5;66;03m# Bring in subpackages.\u001B[39;00m\n\u001B[0;32m---> 42\u001B[0m \u001B[38;5;28;01mfrom\u001B[39;00m \u001B[38;5;21;01mtensorflow\u001B[39;00m\u001B[38;5;21;01m.\u001B[39;00m\u001B[38;5;21;01mpython\u001B[39;00m \u001B[38;5;28;01mimport\u001B[39;00m data\n\u001B[1;32m     43\u001B[0m \u001B[38;5;28;01mfrom\u001B[39;00m \u001B[38;5;21;01mtensorflow\u001B[39;00m\u001B[38;5;21;01m.\u001B[39;00m\u001B[38;5;21;01mpython\u001B[39;00m \u001B[38;5;28;01mimport\u001B[39;00m distribute\n\u001B[1;32m     44\u001B[0m \u001B[38;5;66;03m# from tensorflow.python import keras\u001B[39;00m\n",
      "File \u001B[0;32m/opt/miniconda3/envs/intelli/lib/python3.10/site-packages/tensorflow/python/data/__init__.py:21\u001B[0m, in \u001B[0;36m<module>\u001B[0;34m\u001B[0m\n\u001B[1;32m     15\u001B[0m \u001B[38;5;124;03m\"\"\"`tf.data.Dataset` API for input pipelines.\u001B[39;00m\n\u001B[1;32m     16\u001B[0m \n\u001B[1;32m     17\u001B[0m \u001B[38;5;124;03mSee [Importing Data](https://tensorflow.org/guide/data) for an overview.\u001B[39;00m\n\u001B[1;32m     18\u001B[0m \u001B[38;5;124;03m\"\"\"\u001B[39;00m\n\u001B[1;32m     20\u001B[0m \u001B[38;5;66;03m# pylint: disable=unused-import\u001B[39;00m\n\u001B[0;32m---> 21\u001B[0m \u001B[38;5;28;01mfrom\u001B[39;00m \u001B[38;5;21;01mtensorflow\u001B[39;00m\u001B[38;5;21;01m.\u001B[39;00m\u001B[38;5;21;01mpython\u001B[39;00m\u001B[38;5;21;01m.\u001B[39;00m\u001B[38;5;21;01mdata\u001B[39;00m \u001B[38;5;28;01mimport\u001B[39;00m experimental\n\u001B[1;32m     22\u001B[0m \u001B[38;5;28;01mfrom\u001B[39;00m \u001B[38;5;21;01mtensorflow\u001B[39;00m\u001B[38;5;21;01m.\u001B[39;00m\u001B[38;5;21;01mpython\u001B[39;00m\u001B[38;5;21;01m.\u001B[39;00m\u001B[38;5;21;01mdata\u001B[39;00m\u001B[38;5;21;01m.\u001B[39;00m\u001B[38;5;21;01mops\u001B[39;00m\u001B[38;5;21;01m.\u001B[39;00m\u001B[38;5;21;01mdataset_ops\u001B[39;00m \u001B[38;5;28;01mimport\u001B[39;00m AUTOTUNE\n\u001B[1;32m     23\u001B[0m \u001B[38;5;28;01mfrom\u001B[39;00m \u001B[38;5;21;01mtensorflow\u001B[39;00m\u001B[38;5;21;01m.\u001B[39;00m\u001B[38;5;21;01mpython\u001B[39;00m\u001B[38;5;21;01m.\u001B[39;00m\u001B[38;5;21;01mdata\u001B[39;00m\u001B[38;5;21;01m.\u001B[39;00m\u001B[38;5;21;01mops\u001B[39;00m\u001B[38;5;21;01m.\u001B[39;00m\u001B[38;5;21;01mdataset_ops\u001B[39;00m \u001B[38;5;28;01mimport\u001B[39;00m Dataset\n",
      "File \u001B[0;32m/opt/miniconda3/envs/intelli/lib/python3.10/site-packages/tensorflow/python/data/experimental/__init__.py:95\u001B[0m, in \u001B[0;36m<module>\u001B[0;34m\u001B[0m\n\u001B[1;32m     15\u001B[0m \u001B[38;5;124;03m\"\"\"Experimental API for building input pipelines.\u001B[39;00m\n\u001B[1;32m     16\u001B[0m \n\u001B[1;32m     17\u001B[0m \u001B[38;5;124;03mThis module contains experimental `Dataset` sources and transformations that can\u001B[39;00m\n\u001B[0;32m   (...)\u001B[0m\n\u001B[1;32m     91\u001B[0m \u001B[38;5;124;03m@@UNKNOWN_CARDINALITY\u001B[39;00m\n\u001B[1;32m     92\u001B[0m \u001B[38;5;124;03m\"\"\"\u001B[39;00m\n\u001B[1;32m     94\u001B[0m \u001B[38;5;66;03m# pylint: disable=unused-import\u001B[39;00m\n\u001B[0;32m---> 95\u001B[0m \u001B[38;5;28;01mfrom\u001B[39;00m \u001B[38;5;21;01mtensorflow\u001B[39;00m\u001B[38;5;21;01m.\u001B[39;00m\u001B[38;5;21;01mpython\u001B[39;00m\u001B[38;5;21;01m.\u001B[39;00m\u001B[38;5;21;01mdata\u001B[39;00m\u001B[38;5;21;01m.\u001B[39;00m\u001B[38;5;21;01mexperimental\u001B[39;00m \u001B[38;5;28;01mimport\u001B[39;00m service\n\u001B[1;32m     96\u001B[0m \u001B[38;5;28;01mfrom\u001B[39;00m \u001B[38;5;21;01mtensorflow\u001B[39;00m\u001B[38;5;21;01m.\u001B[39;00m\u001B[38;5;21;01mpython\u001B[39;00m\u001B[38;5;21;01m.\u001B[39;00m\u001B[38;5;21;01mdata\u001B[39;00m\u001B[38;5;21;01m.\u001B[39;00m\u001B[38;5;21;01mexperimental\u001B[39;00m\u001B[38;5;21;01m.\u001B[39;00m\u001B[38;5;21;01mops\u001B[39;00m\u001B[38;5;21;01m.\u001B[39;00m\u001B[38;5;21;01mbatching\u001B[39;00m \u001B[38;5;28;01mimport\u001B[39;00m dense_to_ragged_batch\n\u001B[1;32m     97\u001B[0m \u001B[38;5;28;01mfrom\u001B[39;00m \u001B[38;5;21;01mtensorflow\u001B[39;00m\u001B[38;5;21;01m.\u001B[39;00m\u001B[38;5;21;01mpython\u001B[39;00m\u001B[38;5;21;01m.\u001B[39;00m\u001B[38;5;21;01mdata\u001B[39;00m\u001B[38;5;21;01m.\u001B[39;00m\u001B[38;5;21;01mexperimental\u001B[39;00m\u001B[38;5;21;01m.\u001B[39;00m\u001B[38;5;21;01mops\u001B[39;00m\u001B[38;5;21;01m.\u001B[39;00m\u001B[38;5;21;01mbatching\u001B[39;00m \u001B[38;5;28;01mimport\u001B[39;00m dense_to_sparse_batch\n",
      "File \u001B[0;32m/opt/miniconda3/envs/intelli/lib/python3.10/site-packages/tensorflow/python/data/experimental/service/__init__.py:387\u001B[0m, in \u001B[0;36m<module>\u001B[0;34m\u001B[0m\n\u001B[1;32m      1\u001B[0m \u001B[38;5;66;03m# Copyright 2020 The TensorFlow Authors. All Rights Reserved.\u001B[39;00m\n\u001B[1;32m      2\u001B[0m \u001B[38;5;66;03m#\u001B[39;00m\n\u001B[1;32m      3\u001B[0m \u001B[38;5;66;03m# Licensed under the Apache License, Version 2.0 (the \"License\");\u001B[39;00m\n\u001B[0;32m   (...)\u001B[0m\n\u001B[1;32m     13\u001B[0m \u001B[38;5;66;03m# limitations under the License.\u001B[39;00m\n\u001B[1;32m     14\u001B[0m \u001B[38;5;66;03m# ==============================================================================\u001B[39;00m\n\u001B[1;32m     15\u001B[0m \u001B[38;5;124;03m\"\"\"API for using the tf.data service.\u001B[39;00m\n\u001B[1;32m     16\u001B[0m \n\u001B[1;32m     17\u001B[0m \u001B[38;5;124;03mThis module contains:\u001B[39;00m\n\u001B[0;32m   (...)\u001B[0m\n\u001B[1;32m    384\u001B[0m \u001B[38;5;124;03m  job of ParameterServerStrategy).\u001B[39;00m\n\u001B[1;32m    385\u001B[0m \u001B[38;5;124;03m\"\"\"\u001B[39;00m\n\u001B[0;32m--> 387\u001B[0m \u001B[38;5;28;01mfrom\u001B[39;00m \u001B[38;5;21;01mtensorflow\u001B[39;00m\u001B[38;5;21;01m.\u001B[39;00m\u001B[38;5;21;01mpython\u001B[39;00m\u001B[38;5;21;01m.\u001B[39;00m\u001B[38;5;21;01mdata\u001B[39;00m\u001B[38;5;21;01m.\u001B[39;00m\u001B[38;5;21;01mexperimental\u001B[39;00m\u001B[38;5;21;01m.\u001B[39;00m\u001B[38;5;21;01mops\u001B[39;00m\u001B[38;5;21;01m.\u001B[39;00m\u001B[38;5;21;01mdata_service_ops\u001B[39;00m \u001B[38;5;28;01mimport\u001B[39;00m distribute\n\u001B[1;32m    388\u001B[0m \u001B[38;5;28;01mfrom\u001B[39;00m \u001B[38;5;21;01mtensorflow\u001B[39;00m\u001B[38;5;21;01m.\u001B[39;00m\u001B[38;5;21;01mpython\u001B[39;00m\u001B[38;5;21;01m.\u001B[39;00m\u001B[38;5;21;01mdata\u001B[39;00m\u001B[38;5;21;01m.\u001B[39;00m\u001B[38;5;21;01mexperimental\u001B[39;00m\u001B[38;5;21;01m.\u001B[39;00m\u001B[38;5;21;01mops\u001B[39;00m\u001B[38;5;21;01m.\u001B[39;00m\u001B[38;5;21;01mdata_service_ops\u001B[39;00m \u001B[38;5;28;01mimport\u001B[39;00m from_dataset_id\n\u001B[1;32m    389\u001B[0m \u001B[38;5;28;01mfrom\u001B[39;00m \u001B[38;5;21;01mtensorflow\u001B[39;00m\u001B[38;5;21;01m.\u001B[39;00m\u001B[38;5;21;01mpython\u001B[39;00m\u001B[38;5;21;01m.\u001B[39;00m\u001B[38;5;21;01mdata\u001B[39;00m\u001B[38;5;21;01m.\u001B[39;00m\u001B[38;5;21;01mexperimental\u001B[39;00m\u001B[38;5;21;01m.\u001B[39;00m\u001B[38;5;21;01mops\u001B[39;00m\u001B[38;5;21;01m.\u001B[39;00m\u001B[38;5;21;01mdata_service_ops\u001B[39;00m \u001B[38;5;28;01mimport\u001B[39;00m register_dataset\n",
      "File \u001B[0;32m/opt/miniconda3/envs/intelli/lib/python3.10/site-packages/tensorflow/python/data/experimental/ops/data_service_ops.py:22\u001B[0m, in \u001B[0;36m<module>\u001B[0;34m\u001B[0m\n\u001B[1;32m     20\u001B[0m \u001B[38;5;28;01mfrom\u001B[39;00m \u001B[38;5;21;01mtensorflow\u001B[39;00m\u001B[38;5;21;01m.\u001B[39;00m\u001B[38;5;21;01mcore\u001B[39;00m\u001B[38;5;21;01m.\u001B[39;00m\u001B[38;5;21;01mprotobuf\u001B[39;00m \u001B[38;5;28;01mimport\u001B[39;00m data_service_pb2\n\u001B[1;32m     21\u001B[0m \u001B[38;5;28;01mfrom\u001B[39;00m \u001B[38;5;21;01mtensorflow\u001B[39;00m\u001B[38;5;21;01m.\u001B[39;00m\u001B[38;5;21;01mpython\u001B[39;00m \u001B[38;5;28;01mimport\u001B[39;00m tf2\n\u001B[0;32m---> 22\u001B[0m \u001B[38;5;28;01mfrom\u001B[39;00m \u001B[38;5;21;01mtensorflow\u001B[39;00m\u001B[38;5;21;01m.\u001B[39;00m\u001B[38;5;21;01mpython\u001B[39;00m\u001B[38;5;21;01m.\u001B[39;00m\u001B[38;5;21;01mdata\u001B[39;00m\u001B[38;5;21;01m.\u001B[39;00m\u001B[38;5;21;01mexperimental\u001B[39;00m\u001B[38;5;21;01m.\u001B[39;00m\u001B[38;5;21;01mops\u001B[39;00m \u001B[38;5;28;01mimport\u001B[39;00m compression_ops\n\u001B[1;32m     23\u001B[0m \u001B[38;5;28;01mfrom\u001B[39;00m \u001B[38;5;21;01mtensorflow\u001B[39;00m\u001B[38;5;21;01m.\u001B[39;00m\u001B[38;5;21;01mpython\u001B[39;00m\u001B[38;5;21;01m.\u001B[39;00m\u001B[38;5;21;01mdata\u001B[39;00m\u001B[38;5;21;01m.\u001B[39;00m\u001B[38;5;21;01mexperimental\u001B[39;00m\u001B[38;5;21;01m.\u001B[39;00m\u001B[38;5;21;01mservice\u001B[39;00m \u001B[38;5;28;01mimport\u001B[39;00m _pywrap_server_lib\n\u001B[1;32m     24\u001B[0m \u001B[38;5;28;01mfrom\u001B[39;00m \u001B[38;5;21;01mtensorflow\u001B[39;00m\u001B[38;5;21;01m.\u001B[39;00m\u001B[38;5;21;01mpython\u001B[39;00m\u001B[38;5;21;01m.\u001B[39;00m\u001B[38;5;21;01mdata\u001B[39;00m\u001B[38;5;21;01m.\u001B[39;00m\u001B[38;5;21;01mexperimental\u001B[39;00m\u001B[38;5;21;01m.\u001B[39;00m\u001B[38;5;21;01mservice\u001B[39;00m \u001B[38;5;28;01mimport\u001B[39;00m _pywrap_utils\n",
      "File \u001B[0;32m/opt/miniconda3/envs/intelli/lib/python3.10/site-packages/tensorflow/python/data/experimental/ops/compression_ops.py:16\u001B[0m, in \u001B[0;36m<module>\u001B[0;34m\u001B[0m\n\u001B[1;32m      1\u001B[0m \u001B[38;5;66;03m# Copyright 2020 The TensorFlow Authors. All Rights Reserved.\u001B[39;00m\n\u001B[1;32m      2\u001B[0m \u001B[38;5;66;03m#\u001B[39;00m\n\u001B[1;32m      3\u001B[0m \u001B[38;5;66;03m# Licensed under the Apache License, Version 2.0 (the \"License\");\u001B[39;00m\n\u001B[0;32m   (...)\u001B[0m\n\u001B[1;32m     13\u001B[0m \u001B[38;5;66;03m# limitations under the License.\u001B[39;00m\n\u001B[1;32m     14\u001B[0m \u001B[38;5;66;03m# ==============================================================================\u001B[39;00m\n\u001B[1;32m     15\u001B[0m \u001B[38;5;124;03m\"\"\"Ops for compressing and uncompressing dataset elements.\"\"\"\u001B[39;00m\n\u001B[0;32m---> 16\u001B[0m \u001B[38;5;28;01mfrom\u001B[39;00m \u001B[38;5;21;01mtensorflow\u001B[39;00m\u001B[38;5;21;01m.\u001B[39;00m\u001B[38;5;21;01mpython\u001B[39;00m\u001B[38;5;21;01m.\u001B[39;00m\u001B[38;5;21;01mdata\u001B[39;00m\u001B[38;5;21;01m.\u001B[39;00m\u001B[38;5;21;01mutil\u001B[39;00m \u001B[38;5;28;01mimport\u001B[39;00m structure\n\u001B[1;32m     17\u001B[0m \u001B[38;5;28;01mfrom\u001B[39;00m \u001B[38;5;21;01mtensorflow\u001B[39;00m\u001B[38;5;21;01m.\u001B[39;00m\u001B[38;5;21;01mpython\u001B[39;00m\u001B[38;5;21;01m.\u001B[39;00m\u001B[38;5;21;01mops\u001B[39;00m \u001B[38;5;28;01mimport\u001B[39;00m gen_experimental_dataset_ops \u001B[38;5;28;01mas\u001B[39;00m ged_ops\n\u001B[1;32m     20\u001B[0m \u001B[38;5;28;01mdef\u001B[39;00m \u001B[38;5;21mcompress\u001B[39m(element):\n",
      "File \u001B[0;32m/opt/miniconda3/envs/intelli/lib/python3.10/site-packages/tensorflow/python/data/util/structure.py:22\u001B[0m, in \u001B[0;36m<module>\u001B[0;34m\u001B[0m\n\u001B[1;32m     19\u001B[0m \u001B[38;5;28;01mimport\u001B[39;00m \u001B[38;5;21;01msix\u001B[39;00m\n\u001B[1;32m     20\u001B[0m \u001B[38;5;28;01mimport\u001B[39;00m \u001B[38;5;21;01mwrapt\u001B[39;00m\n\u001B[0;32m---> 22\u001B[0m \u001B[38;5;28;01mfrom\u001B[39;00m \u001B[38;5;21;01mtensorflow\u001B[39;00m\u001B[38;5;21;01m.\u001B[39;00m\u001B[38;5;21;01mpython\u001B[39;00m\u001B[38;5;21;01m.\u001B[39;00m\u001B[38;5;21;01mdata\u001B[39;00m\u001B[38;5;21;01m.\u001B[39;00m\u001B[38;5;21;01mutil\u001B[39;00m \u001B[38;5;28;01mimport\u001B[39;00m nest\n\u001B[1;32m     23\u001B[0m \u001B[38;5;28;01mfrom\u001B[39;00m \u001B[38;5;21;01mtensorflow\u001B[39;00m\u001B[38;5;21;01m.\u001B[39;00m\u001B[38;5;21;01mpython\u001B[39;00m\u001B[38;5;21;01m.\u001B[39;00m\u001B[38;5;21;01mframework\u001B[39;00m \u001B[38;5;28;01mimport\u001B[39;00m composite_tensor\n\u001B[1;32m     24\u001B[0m \u001B[38;5;28;01mfrom\u001B[39;00m \u001B[38;5;21;01mtensorflow\u001B[39;00m\u001B[38;5;21;01m.\u001B[39;00m\u001B[38;5;21;01mpython\u001B[39;00m\u001B[38;5;21;01m.\u001B[39;00m\u001B[38;5;21;01mframework\u001B[39;00m \u001B[38;5;28;01mimport\u001B[39;00m ops\n",
      "File \u001B[0;32m/opt/miniconda3/envs/intelli/lib/python3.10/site-packages/tensorflow/python/data/util/nest.py:36\u001B[0m, in \u001B[0;36m<module>\u001B[0;34m\u001B[0m\n\u001B[1;32m     16\u001B[0m \u001B[38;5;124;03m\"\"\"## Functions for working with arbitrarily nested sequences of elements.\u001B[39;00m\n\u001B[1;32m     17\u001B[0m \n\u001B[1;32m     18\u001B[0m \u001B[38;5;124;03mNOTE(mrry): This fork of the `tensorflow.python.util.nest` module\u001B[39;00m\n\u001B[0;32m   (...)\u001B[0m\n\u001B[1;32m     31\u001B[0m \u001B[38;5;124;03m   arrays.\u001B[39;00m\n\u001B[1;32m     32\u001B[0m \u001B[38;5;124;03m\"\"\"\u001B[39;00m\n\u001B[1;32m     34\u001B[0m \u001B[38;5;28;01mimport\u001B[39;00m \u001B[38;5;21;01msix\u001B[39;00m \u001B[38;5;28;01mas\u001B[39;00m \u001B[38;5;21;01m_six\u001B[39;00m\n\u001B[0;32m---> 36\u001B[0m \u001B[38;5;28;01mfrom\u001B[39;00m \u001B[38;5;21;01mtensorflow\u001B[39;00m\u001B[38;5;21;01m.\u001B[39;00m\u001B[38;5;21;01mpython\u001B[39;00m\u001B[38;5;21;01m.\u001B[39;00m\u001B[38;5;21;01mframework\u001B[39;00m \u001B[38;5;28;01mimport\u001B[39;00m sparse_tensor \u001B[38;5;28;01mas\u001B[39;00m _sparse_tensor\n\u001B[1;32m     37\u001B[0m \u001B[38;5;28;01mfrom\u001B[39;00m \u001B[38;5;21;01mtensorflow\u001B[39;00m\u001B[38;5;21;01m.\u001B[39;00m\u001B[38;5;21;01mpython\u001B[39;00m\u001B[38;5;21;01m.\u001B[39;00m\u001B[38;5;21;01mutil\u001B[39;00m \u001B[38;5;28;01mimport\u001B[39;00m _pywrap_utils\n\u001B[1;32m     38\u001B[0m \u001B[38;5;28;01mfrom\u001B[39;00m \u001B[38;5;21;01mtensorflow\u001B[39;00m\u001B[38;5;21;01m.\u001B[39;00m\u001B[38;5;21;01mpython\u001B[39;00m\u001B[38;5;21;01m.\u001B[39;00m\u001B[38;5;21;01mutil\u001B[39;00m \u001B[38;5;28;01mimport\u001B[39;00m nest\n",
      "File \u001B[0;32m/opt/miniconda3/envs/intelli/lib/python3.10/site-packages/tensorflow/python/framework/sparse_tensor.py:24\u001B[0m, in \u001B[0;36m<module>\u001B[0;34m\u001B[0m\n\u001B[1;32m     22\u001B[0m \u001B[38;5;28;01mfrom\u001B[39;00m \u001B[38;5;21;01mtensorflow\u001B[39;00m\u001B[38;5;21;01m.\u001B[39;00m\u001B[38;5;21;01mpython\u001B[39;00m \u001B[38;5;28;01mimport\u001B[39;00m tf2\n\u001B[1;32m     23\u001B[0m \u001B[38;5;28;01mfrom\u001B[39;00m \u001B[38;5;21;01mtensorflow\u001B[39;00m\u001B[38;5;21;01m.\u001B[39;00m\u001B[38;5;21;01mpython\u001B[39;00m\u001B[38;5;21;01m.\u001B[39;00m\u001B[38;5;21;01mframework\u001B[39;00m \u001B[38;5;28;01mimport\u001B[39;00m composite_tensor\n\u001B[0;32m---> 24\u001B[0m \u001B[38;5;28;01mfrom\u001B[39;00m \u001B[38;5;21;01mtensorflow\u001B[39;00m\u001B[38;5;21;01m.\u001B[39;00m\u001B[38;5;21;01mpython\u001B[39;00m\u001B[38;5;21;01m.\u001B[39;00m\u001B[38;5;21;01mframework\u001B[39;00m \u001B[38;5;28;01mimport\u001B[39;00m constant_op\n\u001B[1;32m     25\u001B[0m \u001B[38;5;28;01mfrom\u001B[39;00m \u001B[38;5;21;01mtensorflow\u001B[39;00m\u001B[38;5;21;01m.\u001B[39;00m\u001B[38;5;21;01mpython\u001B[39;00m\u001B[38;5;21;01m.\u001B[39;00m\u001B[38;5;21;01mframework\u001B[39;00m \u001B[38;5;28;01mimport\u001B[39;00m dtypes\n\u001B[1;32m     26\u001B[0m \u001B[38;5;28;01mfrom\u001B[39;00m \u001B[38;5;21;01mtensorflow\u001B[39;00m\u001B[38;5;21;01m.\u001B[39;00m\u001B[38;5;21;01mpython\u001B[39;00m\u001B[38;5;21;01m.\u001B[39;00m\u001B[38;5;21;01mframework\u001B[39;00m \u001B[38;5;28;01mimport\u001B[39;00m ops\n",
      "File \u001B[0;32m/opt/miniconda3/envs/intelli/lib/python3.10/site-packages/tensorflow/python/framework/constant_op.py:25\u001B[0m, in \u001B[0;36m<module>\u001B[0;34m\u001B[0m\n\u001B[1;32m     23\u001B[0m \u001B[38;5;28;01mfrom\u001B[39;00m \u001B[38;5;21;01mtensorflow\u001B[39;00m\u001B[38;5;21;01m.\u001B[39;00m\u001B[38;5;21;01mcore\u001B[39;00m\u001B[38;5;21;01m.\u001B[39;00m\u001B[38;5;21;01mframework\u001B[39;00m \u001B[38;5;28;01mimport\u001B[39;00m types_pb2\n\u001B[1;32m     24\u001B[0m \u001B[38;5;28;01mfrom\u001B[39;00m \u001B[38;5;21;01mtensorflow\u001B[39;00m\u001B[38;5;21;01m.\u001B[39;00m\u001B[38;5;21;01mpython\u001B[39;00m\u001B[38;5;21;01m.\u001B[39;00m\u001B[38;5;21;01meager\u001B[39;00m \u001B[38;5;28;01mimport\u001B[39;00m context\n\u001B[0;32m---> 25\u001B[0m \u001B[38;5;28;01mfrom\u001B[39;00m \u001B[38;5;21;01mtensorflow\u001B[39;00m\u001B[38;5;21;01m.\u001B[39;00m\u001B[38;5;21;01mpython\u001B[39;00m\u001B[38;5;21;01m.\u001B[39;00m\u001B[38;5;21;01meager\u001B[39;00m \u001B[38;5;28;01mimport\u001B[39;00m execute\n\u001B[1;32m     26\u001B[0m \u001B[38;5;28;01mfrom\u001B[39;00m \u001B[38;5;21;01mtensorflow\u001B[39;00m\u001B[38;5;21;01m.\u001B[39;00m\u001B[38;5;21;01mpython\u001B[39;00m\u001B[38;5;21;01m.\u001B[39;00m\u001B[38;5;21;01mframework\u001B[39;00m \u001B[38;5;28;01mimport\u001B[39;00m dtypes\n\u001B[1;32m     27\u001B[0m \u001B[38;5;28;01mfrom\u001B[39;00m \u001B[38;5;21;01mtensorflow\u001B[39;00m\u001B[38;5;21;01m.\u001B[39;00m\u001B[38;5;21;01mpython\u001B[39;00m\u001B[38;5;21;01m.\u001B[39;00m\u001B[38;5;21;01mframework\u001B[39;00m \u001B[38;5;28;01mimport\u001B[39;00m op_callbacks\n",
      "File \u001B[0;32m/opt/miniconda3/envs/intelli/lib/python3.10/site-packages/tensorflow/python/eager/execute.py:23\u001B[0m, in \u001B[0;36m<module>\u001B[0;34m\u001B[0m\n\u001B[1;32m     21\u001B[0m \u001B[38;5;28;01mfrom\u001B[39;00m \u001B[38;5;21;01mtensorflow\u001B[39;00m\u001B[38;5;21;01m.\u001B[39;00m\u001B[38;5;21;01mpython\u001B[39;00m \u001B[38;5;28;01mimport\u001B[39;00m pywrap_tfe\n\u001B[1;32m     22\u001B[0m \u001B[38;5;28;01mfrom\u001B[39;00m \u001B[38;5;21;01mtensorflow\u001B[39;00m\u001B[38;5;21;01m.\u001B[39;00m\u001B[38;5;21;01mpython\u001B[39;00m\u001B[38;5;21;01m.\u001B[39;00m\u001B[38;5;21;01meager\u001B[39;00m \u001B[38;5;28;01mimport\u001B[39;00m core\n\u001B[0;32m---> 23\u001B[0m \u001B[38;5;28;01mfrom\u001B[39;00m \u001B[38;5;21;01mtensorflow\u001B[39;00m\u001B[38;5;21;01m.\u001B[39;00m\u001B[38;5;21;01mpython\u001B[39;00m\u001B[38;5;21;01m.\u001B[39;00m\u001B[38;5;21;01mframework\u001B[39;00m \u001B[38;5;28;01mimport\u001B[39;00m dtypes\n\u001B[1;32m     24\u001B[0m \u001B[38;5;28;01mfrom\u001B[39;00m \u001B[38;5;21;01mtensorflow\u001B[39;00m\u001B[38;5;21;01m.\u001B[39;00m\u001B[38;5;21;01mpython\u001B[39;00m\u001B[38;5;21;01m.\u001B[39;00m\u001B[38;5;21;01mframework\u001B[39;00m \u001B[38;5;28;01mimport\u001B[39;00m ops\n\u001B[1;32m     25\u001B[0m \u001B[38;5;28;01mfrom\u001B[39;00m \u001B[38;5;21;01mtensorflow\u001B[39;00m\u001B[38;5;21;01m.\u001B[39;00m\u001B[38;5;21;01mpython\u001B[39;00m\u001B[38;5;21;01m.\u001B[39;00m\u001B[38;5;21;01mframework\u001B[39;00m \u001B[38;5;28;01mimport\u001B[39;00m tensor_shape\n",
      "File \u001B[0;32m/opt/miniconda3/envs/intelli/lib/python3.10/site-packages/tensorflow/python/framework/dtypes.py:29\u001B[0m, in \u001B[0;36m<module>\u001B[0;34m\u001B[0m\n\u001B[1;32m     26\u001B[0m \u001B[38;5;28;01mfrom\u001B[39;00m \u001B[38;5;21;01mtensorflow\u001B[39;00m\u001B[38;5;21;01m.\u001B[39;00m\u001B[38;5;21;01mpython\u001B[39;00m\u001B[38;5;21;01m.\u001B[39;00m\u001B[38;5;21;01mlib\u001B[39;00m\u001B[38;5;21;01m.\u001B[39;00m\u001B[38;5;21;01mcore\u001B[39;00m \u001B[38;5;28;01mimport\u001B[39;00m _pywrap_bfloat16\n\u001B[1;32m     27\u001B[0m \u001B[38;5;28;01mfrom\u001B[39;00m \u001B[38;5;21;01mtensorflow\u001B[39;00m\u001B[38;5;21;01m.\u001B[39;00m\u001B[38;5;21;01mpython\u001B[39;00m\u001B[38;5;21;01m.\u001B[39;00m\u001B[38;5;21;01mutil\u001B[39;00m\u001B[38;5;21;01m.\u001B[39;00m\u001B[38;5;21;01mtf_export\u001B[39;00m \u001B[38;5;28;01mimport\u001B[39;00m tf_export\n\u001B[0;32m---> 29\u001B[0m _np_bfloat16 \u001B[38;5;241m=\u001B[39m \u001B[43m_pywrap_bfloat16\u001B[49m\u001B[38;5;241;43m.\u001B[39;49m\u001B[43mTF_bfloat16_type\u001B[49m\u001B[43m(\u001B[49m\u001B[43m)\u001B[49m\n\u001B[1;32m     32\u001B[0m \u001B[38;5;129m@tf_export\u001B[39m(\u001B[38;5;124m\"\u001B[39m\u001B[38;5;124mdtypes.DType\u001B[39m\u001B[38;5;124m\"\u001B[39m, \u001B[38;5;124m\"\u001B[39m\u001B[38;5;124mDType\u001B[39m\u001B[38;5;124m\"\u001B[39m)\n\u001B[1;32m     33\u001B[0m \u001B[38;5;28;01mclass\u001B[39;00m \u001B[38;5;21;01mDType\u001B[39;00m(_dtypes\u001B[38;5;241m.\u001B[39mDType):\n\u001B[1;32m     34\u001B[0m   \u001B[38;5;124;03m\"\"\"Represents the type of the elements in a `Tensor`.\u001B[39;00m\n\u001B[1;32m     35\u001B[0m \n\u001B[1;32m     36\u001B[0m \u001B[38;5;124;03m  `DType`'s are used to specify the output data type for operations which\u001B[39;00m\n\u001B[0;32m   (...)\u001B[0m\n\u001B[1;32m     46\u001B[0m \u001B[38;5;124;03m  See `tf.dtypes` for a complete list of `DType`'s defined.\u001B[39;00m\n\u001B[1;32m     47\u001B[0m \u001B[38;5;124;03m  \"\"\"\u001B[39;00m\n",
      "\u001B[0;31mTypeError\u001B[0m: Unable to convert function return value to a Python type! The signature was\n\t() -> handle"
     ]
    }
   ],
   "source": [
    "# data\n",
    "import pandas as pd\n",
    "import pickle\n",
    "\n",
    "# preprocessing\n",
    "from konlpy.tag import Komoran\n",
    "from sklearn.model_selection import train_test_split\n",
    "from tensorflow.keras.preprocessing.text import Tokenizer\n",
    "from tensorflow.keras.preprocessing.sequence import pad_sequences\n",
    "\n",
    "# model\n",
    "import tensorflow as tf\n",
    "from tensorflow.keras import Sequential\n",
    "from tensorflow.keras.layers import Dense, Embedding, LSTM\n",
    "from tensorflow.keras.models import load_model\n",
    "from tensorflow.keras.callbacks import EarlyStopping, ModelCheckpoint\n",
    "\n",
    "# evaluation\n",
    "from sklearn.metrics import confusion_matrix, accuracy_score, precision_score, recall_score, f1_score\n",
    "\n",
    "# visualization\n",
    "import matplotlib.pyplot as plt\n",
    "import seaborn as sn\n",
    "\n",
    "# env\n",
    "import os\n",
    "from tqdm import tqdm\n",
    "import hangul_font"
   ]
  },
  {
   "cell_type": "markdown",
   "metadata": {
    "pycharm": {
     "name": "#%% md\n"
    }
   },
   "source": [
    "## GPU Check"
   ]
  },
  {
   "cell_type": "code",
   "execution_count": null,
   "metadata": {
    "pycharm": {
     "name": "#%%\n"
    }
   },
   "outputs": [],
   "source": [
    "if tf.test.gpu_device_name():\n",
    "    print('GPU found')\n",
    "else:\n",
    "    print('No GPU found')"
   ]
  },
  {
   "cell_type": "markdown",
   "source": [
    "## Hyper parameters"
   ],
   "metadata": {
    "collapsed": false,
    "pycharm": {
     "name": "#%% md\n"
    }
   }
  },
  {
   "cell_type": "code",
   "execution_count": 10,
   "outputs": [],
   "source": [
    "# Path\n",
    "# Colab\n",
    "# DATA_DIR = '/content/drive/MyDrive/miso/intelli/data/'\n",
    "# SAVE_DIR = '/content/drive/MyDrive/miso/intelli/model/LSTM/'\n",
    "# LOAD_DIR = '/content/drive/MyDrive/miso/intelli/model/LSTM/'\n",
    "\n",
    "# Local\n",
    "DATA_DIR = '/Users/inseoklee/Desktop/miso/intelli/data/'\n",
    "SAVE_DIR = '/Users/inseoklee/Desktop/miso/intelli/model/LSTM/'\n",
    "LOAD_DIR = '/Users/inseoklee/Desktop/miso/intelli/model/LSTM/'\n",
    "\n",
    "# Model\n",
    "# MAX_LEN -> 패딩 단계에서 설정\n",
    "OUTPUT_DIM = 128 # Embedding layer\n",
    "UNITS = 64 # LSTM layer\n",
    "DROPOUT = 0.2 # LSTM layer\n",
    "OUTPUT = 7 # Dense layer\n",
    "\n",
    "# Evaluation\n",
    "EPOCHS = 10\n",
    "VERBOSE = 1\n",
    "BATCH_SIZE = 128\n",
    "PATIENCE = 3\n",
    "VALIDATION_SPLIT = 0.2"
   ],
   "metadata": {
    "collapsed": false,
    "pycharm": {
     "name": "#%%\n"
    }
   }
  },
  {
   "cell_type": "markdown",
   "source": [
    "## Load Data"
   ],
   "metadata": {
    "collapsed": false,
    "pycharm": {
     "name": "#%% md\n"
    }
   }
  },
  {
   "cell_type": "code",
   "execution_count": 11,
   "outputs": [
    {
     "name": "stdout",
     "output_type": "stream",
     "text": [
      "<class 'pandas.core.frame.DataFrame'>\n",
      "RangeIndex: 15051 entries, 0 to 15050\n",
      "Data columns (total 2 columns):\n",
      " #   Column  Non-Null Count  Dtype \n",
      "---  ------  --------------  ----- \n",
      " 0   답변      15051 non-null  object\n",
      " 1   지능      15051 non-null  object\n",
      "dtypes: object(2)\n",
      "memory usage: 235.3+ KB\n"
     ]
    }
   ],
   "source": [
    "df = pd.read_csv(DATA_DIR + 'intelli.csv')\n",
    "df.info()"
   ],
   "metadata": {
    "collapsed": false,
    "pycharm": {
     "name": "#%%\n"
    }
   }
  },
  {
   "cell_type": "code",
   "execution_count": 12,
   "outputs": [
    {
     "data": {
      "text/plain": "<Figure size 1152x576 with 1 Axes>",
      "image/png": "[encoded data removed]"
     },
     "metadata": {
      "needs_background": "light"
     },
     "output_type": "display_data"
    }
   ],
   "source": [
    "label = df['지능']\n",
    "\n",
    "plt.figure(figsize=(16, 8))\n",
    "plt.hist(label)\n",
    "plt.show()"
   ],
   "metadata": {
    "collapsed": false,
    "pycharm": {
     "name": "#%%\n"
    }
   }
  },
  {
   "cell_type": "markdown",
   "source": [
    "## Train Test Split"
   ],
   "metadata": {
    "collapsed": false,
    "pycharm": {
     "name": "#%% md\n"
    }
   }
  },
  {
   "cell_type": "code",
   "execution_count": 13,
   "outputs": [],
   "source": [
    "X = df.답변\n",
    "y = df.지능\n",
    "\n",
    "X_train, X_test, y_train, y_test = train_test_split(\n",
    "    X, y, test_size=0.2, shuffle=True, random_state=34, stratify=y\n",
    ")"
   ],
   "metadata": {
    "collapsed": false,
    "pycharm": {
     "name": "#%%\n"
    }
   }
  },
  {
   "cell_type": "code",
   "execution_count": 14,
   "outputs": [
    {
     "name": "stdout",
     "output_type": "stream",
     "text": [
      "X_train shape:  (12040,)\n",
      "y_train shape:  (12040,)\n",
      "\n",
      "X_test shape:  (3011,)\n",
      "y_test shape:  (3011,)\n"
     ]
    }
   ],
   "source": [
    "print('X_train shape: ', X_train.shape)\n",
    "print('y_train shape: ', y_train.shape)\n",
    "print('\\nX_test shape: ', X_test.shape)\n",
    "print('y_test shape: ', y_test.shape)"
   ],
   "metadata": {
    "collapsed": false,
    "pycharm": {
     "name": "#%%\n"
    }
   }
  },
  {
   "cell_type": "markdown",
   "source": [
    "## Preprocessing"
   ],
   "metadata": {
    "collapsed": false,
    "pycharm": {
     "name": "#%% md\n"
    }
   }
  },
  {
   "cell_type": "markdown",
   "source": [
    "### Train Tokenization"
   ],
   "metadata": {
    "collapsed": false,
    "pycharm": {
     "name": "#%% md\n"
    }
   }
  },
  {
   "cell_type": "code",
   "execution_count": 15,
   "outputs": [
    {
     "ename": "JVMNotFoundException",
     "evalue": "No JVM shared library file (libjli.dylib) found. Try setting up the JAVA_HOME environment variable properly.",
     "output_type": "error",
     "traceback": [
      "\u001B[0;31m---------------------------------------------------------------------------\u001B[0m",
      "\u001B[0;31mJVMNotFoundException\u001B[0m                      Traceback (most recent call last)",
      "Input \u001B[0;32mIn [15]\u001B[0m, in \u001B[0;36m<cell line: 1>\u001B[0;34m()\u001B[0m\n\u001B[0;32m----> 1\u001B[0m komoran \u001B[38;5;241m=\u001B[39m \u001B[43mKomoran\u001B[49m\u001B[43m(\u001B[49m\u001B[43m)\u001B[49m\n\u001B[1;32m      3\u001B[0m \u001B[38;5;66;03m# 불용어(Stop Words) 제거\u001B[39;00m\n\u001B[1;32m      4\u001B[0m stop_pos_tags \u001B[38;5;241m=\u001B[39m [\u001B[38;5;124m'\u001B[39m\u001B[38;5;124mIC\u001B[39m\u001B[38;5;124m'\u001B[39m, \u001B[38;5;124m'\u001B[39m\u001B[38;5;124mJKS\u001B[39m\u001B[38;5;124m'\u001B[39m, \u001B[38;5;124m'\u001B[39m\u001B[38;5;124mJKC\u001B[39m\u001B[38;5;124m'\u001B[39m, \u001B[38;5;124m'\u001B[39m\u001B[38;5;124mJKG\u001B[39m\u001B[38;5;124m'\u001B[39m, \u001B[38;5;124m'\u001B[39m\u001B[38;5;124mJKO\u001B[39m\u001B[38;5;124m'\u001B[39m, \u001B[38;5;124m'\u001B[39m\u001B[38;5;124mJKB\u001B[39m\u001B[38;5;124m'\u001B[39m, \u001B[38;5;124m'\u001B[39m\u001B[38;5;124mJKV\u001B[39m\u001B[38;5;124m'\u001B[39m, \u001B[38;5;124m'\u001B[39m\u001B[38;5;124mJKQ\u001B[39m\u001B[38;5;124m'\u001B[39m, \u001B[38;5;124m'\u001B[39m\u001B[38;5;124mJX\u001B[39m\u001B[38;5;124m'\u001B[39m,\n\u001B[1;32m      5\u001B[0m                    \u001B[38;5;124m'\u001B[39m\u001B[38;5;124mEF\u001B[39m\u001B[38;5;124m'\u001B[39m, \u001B[38;5;124m'\u001B[39m\u001B[38;5;124mETN\u001B[39m\u001B[38;5;124m'\u001B[39m, \u001B[38;5;124m'\u001B[39m\u001B[38;5;124mETM\u001B[39m\u001B[38;5;124m'\u001B[39m, \u001B[38;5;124m'\u001B[39m\u001B[38;5;124mXSA\u001B[39m\u001B[38;5;124m'\u001B[39m, \u001B[38;5;124m'\u001B[39m\u001B[38;5;124mSF\u001B[39m\u001B[38;5;124m'\u001B[39m, \u001B[38;5;124m'\u001B[39m\u001B[38;5;124mSP\u001B[39m\u001B[38;5;124m'\u001B[39m, \u001B[38;5;124m'\u001B[39m\u001B[38;5;124mSS\u001B[39m\u001B[38;5;124m'\u001B[39m, \u001B[38;5;124m'\u001B[39m\u001B[38;5;124mSE\u001B[39m\u001B[38;5;124m'\u001B[39m, \u001B[38;5;124m'\u001B[39m\u001B[38;5;124mSO\u001B[39m\u001B[38;5;124m'\u001B[39m, \u001B[38;5;124m'\u001B[39m\u001B[38;5;124mSL\u001B[39m\u001B[38;5;124m'\u001B[39m, \u001B[38;5;124m'\u001B[39m\u001B[38;5;124mSH\u001B[39m\u001B[38;5;124m'\u001B[39m,\n\u001B[1;32m      6\u001B[0m                    \u001B[38;5;124m'\u001B[39m\u001B[38;5;124mSW\u001B[39m\u001B[38;5;124m'\u001B[39m, \u001B[38;5;124m'\u001B[39m\u001B[38;5;124mNF\u001B[39m\u001B[38;5;124m'\u001B[39m, \u001B[38;5;124m'\u001B[39m\u001B[38;5;124mNV\u001B[39m\u001B[38;5;124m'\u001B[39m, \u001B[38;5;124m'\u001B[39m\u001B[38;5;124mSN\u001B[39m\u001B[38;5;124m'\u001B[39m, \u001B[38;5;124m'\u001B[39m\u001B[38;5;124mNA\u001B[39m\u001B[38;5;124m'\u001B[39m]\n",
      "File \u001B[0;32m/opt/miniconda3/envs/intelli/lib/python3.10/site-packages/konlpy/tag/_komoran.py:56\u001B[0m, in \u001B[0;36mKomoran.__init__\u001B[0;34m(self, jvmpath, userdic, modelpath, max_heap_size)\u001B[0m\n\u001B[1;32m     54\u001B[0m \u001B[38;5;28;01mdef\u001B[39;00m \u001B[38;5;21m__init__\u001B[39m(\u001B[38;5;28mself\u001B[39m, jvmpath\u001B[38;5;241m=\u001B[39m\u001B[38;5;28;01mNone\u001B[39;00m, userdic\u001B[38;5;241m=\u001B[39m\u001B[38;5;28;01mNone\u001B[39;00m, modelpath\u001B[38;5;241m=\u001B[39m\u001B[38;5;28;01mNone\u001B[39;00m, max_heap_size\u001B[38;5;241m=\u001B[39m\u001B[38;5;241m1024\u001B[39m):\n\u001B[1;32m     55\u001B[0m     \u001B[38;5;28;01mif\u001B[39;00m \u001B[38;5;129;01mnot\u001B[39;00m jpype\u001B[38;5;241m.\u001B[39misJVMStarted():\n\u001B[0;32m---> 56\u001B[0m         \u001B[43mjvm\u001B[49m\u001B[38;5;241;43m.\u001B[39;49m\u001B[43minit_jvm\u001B[49m\u001B[43m(\u001B[49m\u001B[43mjvmpath\u001B[49m\u001B[43m,\u001B[49m\u001B[43m \u001B[49m\u001B[43mmax_heap_size\u001B[49m\u001B[43m)\u001B[49m\n\u001B[1;32m     58\u001B[0m     \u001B[38;5;28;01mif\u001B[39;00m modelpath:\n\u001B[1;32m     59\u001B[0m         \u001B[38;5;28mself\u001B[39m\u001B[38;5;241m.\u001B[39mmodelpath \u001B[38;5;241m=\u001B[39m modelpath\n",
      "File \u001B[0;32m/opt/miniconda3/envs/intelli/lib/python3.10/site-packages/konlpy/jvm.py:55\u001B[0m, in \u001B[0;36minit_jvm\u001B[0;34m(jvmpath, max_heap_size)\u001B[0m\n\u001B[1;32m     52\u001B[0m args \u001B[38;5;241m=\u001B[39m [javadir, os\u001B[38;5;241m.\u001B[39msep]\n\u001B[1;32m     53\u001B[0m classpath \u001B[38;5;241m=\u001B[39m [f\u001B[38;5;241m.\u001B[39mformat(\u001B[38;5;241m*\u001B[39margs) \u001B[38;5;28;01mfor\u001B[39;00m f \u001B[38;5;129;01min\u001B[39;00m folder_suffix]\n\u001B[0;32m---> 55\u001B[0m jvmpath \u001B[38;5;241m=\u001B[39m jvmpath \u001B[38;5;129;01mor\u001B[39;00m \u001B[43mjpype\u001B[49m\u001B[38;5;241;43m.\u001B[39;49m\u001B[43mgetDefaultJVMPath\u001B[49m\u001B[43m(\u001B[49m\u001B[43m)\u001B[49m\n\u001B[1;32m     57\u001B[0m \u001B[38;5;66;03m# NOTE: Temporary patch for Issue #76. Erase when possible.\u001B[39;00m\n\u001B[1;32m     58\u001B[0m \u001B[38;5;28;01mif\u001B[39;00m sys\u001B[38;5;241m.\u001B[39mplatform \u001B[38;5;241m==\u001B[39m \u001B[38;5;124m'\u001B[39m\u001B[38;5;124mdarwin\u001B[39m\u001B[38;5;124m'\u001B[39m\\\n\u001B[1;32m     59\u001B[0m         \u001B[38;5;129;01mand\u001B[39;00m jvmpath\u001B[38;5;241m.\u001B[39mfind(\u001B[38;5;124m'\u001B[39m\u001B[38;5;124m1.8.0\u001B[39m\u001B[38;5;124m'\u001B[39m) \u001B[38;5;241m>\u001B[39m \u001B[38;5;241m0\u001B[39m\\\n\u001B[1;32m     60\u001B[0m         \u001B[38;5;129;01mand\u001B[39;00m jvmpath\u001B[38;5;241m.\u001B[39mendswith(\u001B[38;5;124m'\u001B[39m\u001B[38;5;124mlibjvm.dylib\u001B[39m\u001B[38;5;124m'\u001B[39m):\n",
      "File \u001B[0;32m/opt/miniconda3/envs/intelli/lib/python3.10/site-packages/jpype/_jvmfinder.py:74\u001B[0m, in \u001B[0;36mgetDefaultJVMPath\u001B[0;34m()\u001B[0m\n\u001B[1;32m     72\u001B[0m \u001B[38;5;28;01melse\u001B[39;00m:\n\u001B[1;32m     73\u001B[0m     finder \u001B[38;5;241m=\u001B[39m LinuxJVMFinder()\n\u001B[0;32m---> 74\u001B[0m \u001B[38;5;28;01mreturn\u001B[39;00m \u001B[43mfinder\u001B[49m\u001B[38;5;241;43m.\u001B[39;49m\u001B[43mget_jvm_path\u001B[49m\u001B[43m(\u001B[49m\u001B[43m)\u001B[49m\n",
      "File \u001B[0;32m/opt/miniconda3/envs/intelli/lib/python3.10/site-packages/jpype/_jvmfinder.py:212\u001B[0m, in \u001B[0;36mJVMFinder.get_jvm_path\u001B[0;34m(self)\u001B[0m\n\u001B[1;32m    210\u001B[0m \u001B[38;5;28;01mif\u001B[39;00m jvm_notsupport_ext \u001B[38;5;129;01mis\u001B[39;00m \u001B[38;5;129;01mnot\u001B[39;00m \u001B[38;5;28;01mNone\u001B[39;00m:\n\u001B[1;32m    211\u001B[0m     \u001B[38;5;28;01mraise\u001B[39;00m jvm_notsupport_ext\n\u001B[0;32m--> 212\u001B[0m \u001B[38;5;28;01mraise\u001B[39;00m JVMNotFoundException(\u001B[38;5;124m\"\u001B[39m\u001B[38;5;124mNo JVM shared library file (\u001B[39m\u001B[38;5;132;01m{0}\u001B[39;00m\u001B[38;5;124m) \u001B[39m\u001B[38;5;124m\"\u001B[39m\n\u001B[1;32m    213\u001B[0m                            \u001B[38;5;124m\"\u001B[39m\u001B[38;5;124mfound. Try setting up the JAVA_HOME \u001B[39m\u001B[38;5;124m\"\u001B[39m\n\u001B[1;32m    214\u001B[0m                            \u001B[38;5;124m\"\u001B[39m\u001B[38;5;124menvironment variable properly.\u001B[39m\u001B[38;5;124m\"\u001B[39m\n\u001B[1;32m    215\u001B[0m                            \u001B[38;5;241m.\u001B[39mformat(\u001B[38;5;28mself\u001B[39m\u001B[38;5;241m.\u001B[39m_libfile))\n",
      "\u001B[0;31mJVMNotFoundException\u001B[0m: No JVM shared library file (libjli.dylib) found. Try setting up the JAVA_HOME environment variable properly."
     ]
    }
   ],
   "source": [
    "komoran = Komoran()\n",
    "\n",
    "# 불용어(Stop Words) 제거\n",
    "stop_pos_tags = ['IC', 'JKS', 'JKC', 'JKG', 'JKO', 'JKB', 'JKV', 'JKQ', 'JX',\n",
    "                   'EF', 'ETN', 'ETM', 'XSA', 'SF', 'SP', 'SS', 'SE', 'SO', 'SL', 'SH',\n",
    "                   'SW', 'NF', 'NV', 'SN', 'NA']\n",
    "\n",
    "# 어간 원형 복원(Lemmatization)\n",
    "# 동사와 형용사의 경우에는 어간(Stem)에 '다'를 붙여서 기본형으로 복원\n",
    "def tokenize(corpus, stop_pos_tags):\n",
    "    result = []\n",
    "    pairs = komoran.pos(corpus)\n",
    "    for pair in pairs:\n",
    "        morph, pos = pair\n",
    "        if pos not in stop_pos_tags:\n",
    "            if pos in ['VV', 'VA', 'VX', 'VCP', 'VCN']:\n",
    "                morph = morph + '다'\n",
    "            result.append(morph)\n",
    "    return result"
   ],
   "metadata": {
    "collapsed": false,
    "pycharm": {
     "name": "#%%\n"
    }
   }
  },
  {
   "cell_type": "code",
   "execution_count": 11,
   "outputs": [
    {
     "name": "stderr",
     "output_type": "stream",
     "text": [
      "100%|██████████| 12040/12040 [00:03<00:00, 3718.61it/s]\n"
     ]
    }
   ],
   "source": [
    "# 토큰을 만들고 리스트에 저장\n",
    "clean_train_text = []\n",
    "for sample in tqdm(X_train):\n",
    "    clean_train_text.append(tokenize(sample, stop_pos_tags))"
   ],
   "metadata": {
    "collapsed": false,
    "pycharm": {
     "name": "#%%\n"
    }
   }
  },
  {
   "cell_type": "code",
   "execution_count": 12,
   "outputs": [
    {
     "data": {
      "text/plain": "[['삽화', '을', '읽다', '것', '좋다', '고', '듣다', '게', '좋다', '아'],\n ['나', '도사', '푸란', '구경', '하', '게', '좋다', '아'],\n ['백파이프', '배우다', '게', '즐겁다', '어']]"
     },
     "execution_count": 12,
     "metadata": {},
     "output_type": "execute_result"
    }
   ],
   "source": [
    "clean_train_text[:3]"
   ],
   "metadata": {
    "collapsed": false,
    "pycharm": {
     "name": "#%%\n"
    }
   }
  },
  {
   "cell_type": "markdown",
   "source": [
    "### Test Tokenization"
   ],
   "metadata": {
    "collapsed": false,
    "pycharm": {
     "name": "#%% md\n"
    }
   }
  },
  {
   "cell_type": "code",
   "execution_count": 13,
   "outputs": [
    {
     "name": "stderr",
     "output_type": "stream",
     "text": [
      "100%|██████████| 3011/3011 [00:00<00:00, 4972.41it/s]\n"
     ]
    }
   ],
   "source": [
    "# 토큰을 만들고 리스트에 저장\n",
    "clean_test_text = []\n",
    "for sample in tqdm(X_test):\n",
    "    clean_test_text.append(tokenize(sample, stop_pos_tags))"
   ],
   "metadata": {
    "collapsed": false,
    "pycharm": {
     "name": "#%%\n"
    }
   }
  },
  {
   "cell_type": "markdown",
   "source": [
    "### Vectorization"
   ],
   "metadata": {
    "collapsed": false,
    "pycharm": {
     "name": "#%% md\n"
    }
   }
  },
  {
   "cell_type": "code",
   "execution_count": 14,
   "outputs": [
    {
     "name": "stdout",
     "output_type": "stream",
     "text": [
      "[[216, 13, 25, 72, 9, 18, 21, 3, 9, 4], [5, 873, 874, 15, 2, 3, 9, 4], [143, 23, 3, 11, 7]]\n"
     ]
    }
   ],
   "source": [
    "tokenizer_name = 'tokenizer.pickle'\n",
    "save_path = os.path.join(SAVE_DIR, tokenizer_name)\n",
    "\n",
    "tokenizer = Tokenizer(oov_token=True)\n",
    "\n",
    "try:\n",
    "    tokenizer.fit_on_texts(clean_train_text)\n",
    "    train_sequences = tokenizer.texts_to_sequences(clean_train_text)\n",
    "    test_sequences = tokenizer.texts_to_sequences(clean_test_text)\n",
    "\n",
    "except:\n",
    "    print('Already tokenized')\n",
    "\n",
    "with open(save_path, 'wb') as f:\n",
    "    pickle.dump(tokenizer, f, protocol=pickle.HIGHEST_PROTOCOL)\n",
    "\n",
    "print(train_sequences[:3])"
   ],
   "metadata": {
    "collapsed": false,
    "pycharm": {
     "name": "#%%\n"
    }
   }
  },
  {
   "cell_type": "markdown",
   "source": [
    "### Set vocab_size"
   ],
   "metadata": {
    "collapsed": false,
    "pycharm": {
     "name": "#%% md\n"
    }
   }
  },
  {
   "cell_type": "code",
   "execution_count": 15,
   "outputs": [
    {
     "name": "stdout",
     "output_type": "stream",
     "text": [
      "1913\n"
     ]
    }
   ],
   "source": [
    "VOCAB_SIZE = len(tokenizer.word_index) + 1\n",
    "print(VOCAB_SIZE)"
   ],
   "metadata": {
    "collapsed": false,
    "pycharm": {
     "name": "#%%\n"
    }
   }
  },
  {
   "cell_type": "markdown",
   "source": [
    "### Get vocab items"
   ],
   "metadata": {
    "collapsed": false,
    "pycharm": {
     "name": "#%% md\n"
    }
   }
  },
  {
   "cell_type": "code",
   "execution_count": 16,
   "outputs": [
    {
     "name": "stdout",
     "output_type": "stream",
     "text": [
      "[('하', 9230), ('게', 8788), ('아', 5912), ('나', 4001), ('잘', 3611), ('어', 3274), ('거', 3163), ('좋다', 2951), ('신', 2856), ('즐겁다', 2848), ('연주', 2036), ('을', 2034), ('면서', 2013), ('구경', 1766), ('관찰', 1724), ('소리', 1496), ('고', 1335), ('하다', 1241), ('있다', 825), ('듣다', 722), ('는지', 714), ('배우다', 690), ('되다', 659), ('읽다', 644), ('내다', 599), ('나다', 589), ('주다', 510), ('노래', 433), ('르', 415), ('보다', 412), ('부르다', 406), ('이다', 388), ('지', 384), ('뭔', 367), ('싶다', 367), ('치다', 355), ('놀다', 355), ('어떤', 339), ('음악', 331), ('여러', 327), ('먹이', 326), ('무슨', 323), ('기르다', 322), ('악기', 320), ('가지다', 320), ('예', 319), ('어요', 313), ('맞히다', 304), ('흉내', 301), ('입', 284), ('이야기', 259), ('친구', 249), ('이', 235), ('뛰다', 229), ('그림', 203), ('치', 197), ('속', 189), ('놓다', 181), ('꿈', 172), ('식물', 150), ('수', 138), ('만들다', 124), ('시간', 124), ('어서', 123), ('엄마', 123), ('들', 120), ('가', 114), ('아빠', 113), ('그리다', 111), ('지다', 108), ('것', 106), ('과', 103), ('어떻다', 99), ('많이', 99), ('나오다', 97), ('으면', 96), ('맞추다', 96), ('주인공', 96), ('똑똑', 91), ('상상', 91), ('전', 91), ('북', 87), ('만나다', 86), ('잠들다', 84), ('동물', 83), ('소', 83), ('역할', 83), ('극', 83), ('이랑', 82), ('호른', 78), ('말', 75), ('ㄴ지', 72), ('때', 71), ('초', 70), ('쓰다', 67), ('시집', 64), ('꽃', 62), ('가다', 60), ('알다', 57), ('섞다', 57), ('피아노', 56), ('놀이', 55), ('모양', 54), ('색깔', 53), ('같이', 51), ('박', 51), ('아서', 51), ('예쁘다', 50), ('색칠', 49), ('마을', 49), ('그릴', 49), ('숫자', 49), ('무을', 49), ('파', 49), ('나누다', 48), ('집', 48), ('와', 47), ('비올라', 47), ('탐탐', 47), ('공후', 47), ('오르간', 46), ('나무', 46), ('하프', 46), ('장구', 45), ('월금', 45), ('소금', 45), ('꽹과리', 45), ('실로폰', 44), ('중금', 44), ('자바라', 44), ('트라이앵글', 44), ('동화책', 44), ('반도네온', 44), ('방향', 44), ('봉고', 44), ('큰북', 44), ('작은북', 44), ('치터', 44), ('곳', 44), ('첼로', 44), ('첼레스타', 44), ('백파이프', 43), ('색소폰', 43), ('태평소', 43), ('류트', 43), ('사이', 43), ('콩가', 43), ('가야금', 43), ('퉁소', 43), ('거문고', 43), ('생황', 43), ('플루트', 43), ('금', 43), ('발랄라이카', 43), ('피리', 42), ('바이올린', 42), ('아울로스', 42), ('오카리나', 42), ('초적', 42), ('마라카스', 42), ('팬플', 42), ('루트', 42), ('철', 42), ('튜바', 42), ('톰톰', 42), ('만돌린', 42), ('키타라', 42), ('들다', 41), ('곤충', 41), ('캐스터네츠', 41), ('오보에', 41), ('아코디언', 41), ('피콜로', 41), ('동화', 41), ('쳄발로', 41), ('리라', 41), ('트롬본', 41), ('당적', 41), ('밴조', 41), ('나각', 41), ('색', 41), ('관자', 40), ('대금', 40), ('아쟁', 40), ('선생님', 40), ('화', 40), ('대쟁', 40), ('코넷', 40), ('러', 40), ('비파', 40), ('심벌즈', 40), ('우', 39), ('클레', 39), ('레', 39), ('물감', 39), ('당', 39), ('교방고', 39), ('해금', 39), ('클라비코드', 39), ('팀파니', 39), ('단소', 38), ('시', 38), ('그림책', 38), ('일', 37), ('으면서', 37), ('콘트라베이스', 37), ('자이', 37), ('리코더', 37), ('양금', 37), ('클라리넷', 36), ('트럼펫', 36), ('재밌다', 36), ('운라', 36), ('징', 36), ('삽화', 35), ('선', 35), ('사람', 35), ('공부', 35), ('소설화', 35), ('단', 35), ('중단편', 34), ('기타', 34), ('외전', 34), ('소설집', 34), ('사', 34), ('종', 33), ('단편', 33), ('가이', 33), ('천자문', 33), ('소설책', 33), ('탬버린', 33), ('모음집', 33), ('었', 33), ('권', 32), ('명작', 32), ('소고', 32), ('작품집', 32), ('논픽션', 32), ('소을', 32), ('전집', 31), ('단어', 31), ('단편집', 31), ('다른', 31), ('수필집', 31), ('며', 31), ('따르다', 30), ('공', 30), ('동화집', 30), ('산문집', 30), ('소설', 30), ('책', 29), ('우리', 29), ('산', 29), ('참', 29), ('뭐', 29), ('살다', 29), ('동양화', 28), ('나발', 28), ('십', 28), ('풀', 27), ('새', 27), ('구하다', 26), ('새다', 26), ('대하다', 26), ('걸다', 26), ('지내다', 26), ('내', 25), ('동생', 25), ('베다', 25), ('점', 25), ('손', 24), ('좋아하다', 24), ('타다', 24), ('두', 24), ('받다', 24), ('면', 23), ('년', 23), ('은지', 23), ('곱하다', 23), ('다고', 23), ('초록색', 23), ('빼다', 23), ('아야', 23), ('사랑', 23), ('얼마나', 22), ('버섯', 22), ('상', 22), ('구분', 22), ('종이', 22), ('호박', 22), ('창포', 21), ('조을', 21), ('칭찬', 21), ('비오', 21), ('홍', 21), ('잎', 21), ('목', 21), ('비', 20), ('올', 20), ('다래', 20), ('골프', 20), ('더하다', 20), ('등', 20), ('카드', 20), ('춤', 20), ('추다', 20), ('앞', 20), ('뒤', 20), ('송', 19), ('리듬', 19), ('토', 19), ('뿌리다', 19), ('찾다', 19), ('다가', 19), ('표범', 19), ('블록', 19), ('양', 19), ('나비', 19), ('았', 19), ('세다', 19), ('남', 19), ('놀이터', 19), ('비교', 18), ('돌', 18), ('세', 18), ('도와주다', 18), ('남색', 18), ('고추', 18), ('몸', 18), ('가지', 18), ('안', 18), ('사자', 17), ('낙타', 17), ('달리다', 17), ('강아지', 17), ('빨간색', 17), ('글', 17), ('물건', 17), ('라이', 17), ('벌레', 16), ('석', 16), ('수상', 16), ('얘기', 16), ('김', 16), ('운동', 16), ('신나다', 16), ('누구', 16), ('던지다', 16), ('줄넘기', 16), ('노란색', 16), ('콩', 16), ('보라색', 16), ('게임', 16), ('애', 15), ('도형', 15), ('하늘', 15), ('자전거', 15), ('둥글다', 15), ('크다', 15), ('갖다', 15), ('축구', 15), ('쓰기', 15), ('토끼', 15), ('생기다', 15), ('그것', 15), ('눈', 15), ('고구', 15), ('이십', 15), ('길', 15), ('오늘', 15), ('태권도', 15), ('국화', 15), ('악어', 15), ('벌', 14), ('박쥐', 14), ('몇', 14), ('크레파스', 14), ('봉리', 14), ('바람', 14), ('바다', 14), ('숙', 14), ('숲', 14), ('이름', 14), ('록', 14), ('달', 14), ('별', 14), ('걷다', 14), ('위', 14), ('선인장', 14), ('모', 14), ('부레', 14), ('노력', 14), ('류', 14), ('향', 14), ('장난감', 13), ('길다', 13), ('모으다', 13), ('찔레', 13), ('훌라후프', 13), ('나리', 13), ('시다', 13), ('연필', 13), ('계산', 13), ('재미있다', 13), ('자연', 13), ('복자', 13), ('야자', 13), ('파란색', 13), ('근', 12), ('스라소니', 12), ('알아맞히다', 12), ('승마', 12), ('귀', 12), ('노루', 12), ('오소리', 12), ('그리고', 12), ('주황색', 12), ('참외', 12), ('사탕', 12), ('감다', 12), ('퍼즐', 12), ('많다', 12), ('남천', 12), ('등산', 12), ('흙', 12), ('당근', 12), ('윈드서핑', 12), ('농구', 12), ('이용', 12), ('럭비', 12), ('가수', 12), ('탁구', 12), ('유치원', 12), ('화분', 12), ('스키', 12), ('백', 12), ('엽', 12), ('벨', 12), ('교사', 12), ('채송화', 12), ('오동', 12), ('가족', 12), ('메추라기', 12), ('움직이다', 12), ('생각', 12), ('나래', 12), ('흔들다', 12), ('침팬지', 11), ('고슴도치', 11), ('멀리', 11), ('재규어', 11), ('산양', 11), ('치타', 11), ('까마귀', 11), ('물개', 11), ('제비', 11), ('볼링', 11), ('파크', 11), ('변화', 11), ('스킨스쿠버', 11), ('수달', 11), ('에어로빅', 11), ('고라니', 11), ('보디빌딩', 11), ('팥', 11), ('이구', 11), ('아나', 11), ('복싱', 11), ('목련', 11), ('줄기', 11), ('바다사자', 11), ('정구', 11), ('딱따구리', 11), ('난초', 11), ('하키', 11), ('미어캣', 11), ('점프', 11), ('려고', 11), ('사슴', 11), ('무겁다', 11), ('카피바라', 11), ('행', 11), ('딩', 11), ('서다', 11), ('도롱뇽', 10), ('북극곰', 10), ('직박구리', 10), ('코알라', 10), ('더', 10), ('청설', 10), ('담비', 10), ('퓨마', 10), ('음표', 10), ('피다', 10), ('스쿼시', 10), ('레슬링', 10), ('앵무새', 10), ('순록', 10), ('고맙다', 10), ('참새', 10), ('씨름', 10), ('열매', 10), ('올빼미', 10), ('쌓다', 10), ('알아보다', 10), ('나방', 10), ('개구리', 10), ('조류', 10), ('판다', 10), ('언니', 10), ('캥거루', 10), ('발', 10), ('해보다', 10), ('프다', 10), ('공책', 10), ('배드민턴', 10), ('살', 10), ('어야', 10), ('두꺼비', 10), ('밀', 10), ('빨리', 10), ('같다', 10), ('얼룩말', 10), ('스컹크', 10), ('날짜', 10), ('요일', 10), ('잔', 10), ('뱀', 10), ('카누', 10), ('사이좋다', 10), ('동그라미', 10), ('네모', 10), ('세모', 10), ('오랑우탄', 10), ('체', 10), ('인라인', 10), ('스케이트', 10), ('체조', 10), ('조정', 10), ('공작', 10), ('패러글라이딩', 10), ('제', 10), ('궁도', 10), ('엄청', 10), ('펭귄', 10), ('키', 10), ('카멜레온', 10), ('독수리', 10), ('상어', 10), ('어느', 10), ('우파', 9), ('루파', 9), ('원숭이', 9), ('유도', 9), ('구렁이', 9), ('사격', 9), ('돌리다', 9), ('세팍타크로', 9), ('닭', 9), ('미술', 9), ('늑대', 9), ('하이에나', 9), ('배구', 9), ('코요테', 9), ('수영', 9), ('비둘기', 9), ('발르다', 9), ('테니스', 9), ('라켓볼', 9), ('원', 9), ('기린', 9), ('뜨다', 9), ('피구', 9), ('검도', 9), ('거나', 9), ('ㄹ라', 9), ('잉', 9), ('디스크', 9), ('연극', 9), ('춤추다', 9), ('풋살', 9), ('양보', 9), ('산수', 9), ('느', 9), ('비슷', 9), ('삼', 9), ('수상스키', 9), ('그림자', 9), ('형', 9), ('고릴라', 9), ('중', 9), ('구구단', 9), ('두더지', 9), ('변하다', 9), ('야구', 9), ('따라서', 9), ('뛰어다니다', 9), ('육상', 9), ('다람쥐', 9), ('돌고래', 9), ('자라다', 9), ('핸드볼', 9), ('계절', 9), ('소치', 9), ('오빠', 9), ('족구', 9), ('두루미', 9), ('녹조류', 8), ('스케치북', 8), ('코코넛', 8), ('대', 8), ('머루', 8), ('수선화', 8), ('색연필', 8), ('땅', 8), ('양미역취', 8), ('갈대', 8), ('적', 8), ('생활', 8), ('고양', 8), ('상아', 8), ('야채', 8), ('잣', 8), ('사마귀', 8), ('우슈', 8), ('겨우살이', 8), ('수박', 8), ('멧돼지', 8), ('카', 8), ('밀레', 8), ('생장점', 8), ('음지', 8), ('장단', 8), ('곡물', 8), ('억새풀', 8), ('음식', 8), ('먹다', 8), ('수수', 8), ('아이스하키', 8), ('연초', 8), ('칠면조', 8), ('나라', 8), ('겨울', 8), ('관목', 8), ('꽃밭', 8), ('제일', 8), ('시합', 8), ('두리안', 8), ('붓', 8), ('뺄셈', 8), ('코끼리', 8), ('붓꽃', 8), ('다복솔', 8), ('파슬리', 8), ('인삼', 8), ('종려', 8), ('곰', 8), ('유채', 8), ('엽록소', 8), ('글쓰기', 8), ('연습', 8), ('예주', 8), ('맹꽁', 8), ('설명', 8), ('따', 8), ('어디', 8), ('겨자', 8), ('낙엽송', 8), ('홍당', 8), ('석송', 8), ('복', 8), ('분자', 8), ('버들', 8), ('너구리', 8), ('고사리', 8), ('명사', 8), ('양치류', 8), ('봉숭아', 8), ('승', 8), ('고래', 8), ('나라꽃', 8), ('싫어하다', 8), ('거북', 8), ('연산', 8), ('수양', 8), ('애기똥풀', 8), ('매다', 8), ('대답', 8), ('멜론', 8), ('사탕수수', 8), ('친하다', 8), ('적송', 8), ('양치식물', 8), ('맥문동', 8), ('가볍다', 8), ('시계', 8), ('거위', 8), ('사지', 8), ('종이접기', 8), ('넓적사슴벌레', 8), ('경영', 8), ('호랑', 8), ('다', 8), ('무궁화', 7), ('영지', 7), ('물', 7), ('떨어지다', 7), ('부엉이', 7), ('세쿼이아', 7), ('콜라', 7), ('파파야', 7), ('대파', 7), ('꽃가루', 7), ('사초과', 7), ('컴프리', 7), ('사비', 7), ('가시나무', 7), ('규칙', 7), ('지금', 7), ('주고받다', 7), ('산성', 7), ('행동', 7), ('파라고무나무', 7), ('싸리', 7), ('홍두', 7), ('다릅나무', 7), ('그레이프프루트', 7), ('알로에', 7), ('손가락', 7), ('분지', 7), ('꽃잎', 7), ('레몬', 7), ('배추', 7), ('박자', 7), ('야자나무', 7), ('알파카', 7), ('다르다', 7), ('담쟁이덩굴', 7), ('습지', 7), ('지도', 7), ('독', 7), ('대다', 7), ('콩나물', 7), ('바위', 7), ('게이트볼', 7), ('두견화', 7), ('코스모스', 7), ('홍조식물', 7), ('제패', 7), ('수유', 7), ('덧셈', 7), ('박꽃', 7), ('블루베리', 7), ('산딸기', 7), ('나비나물', 7), ('돋보기', 7), ('특징', 7), ('분생자', 7), ('쐐기풀', 7), ('아프다', 7), ('사슴벌레', 7), ('활엽수', 7), ('까치', 7), ('싸우다', 7), ('모란', 7), ('풍경', 7), ('감자', 7), ('어깨', 7), ('아욱', 7), ('오렌지', 7), ('디자이너', 7), ('배', 7), ('광성', 7), ('복숭아', 7), ('부추', 7), ('시냇물', 7), ('기분', 7), ('귤', 7), ('현삼', 7), ('눕다', 7), ('이삭', 7), ('해당', 7), ('한해', 7), ('국수나무', 7), ('넣다', 7), ('댄스스포츠', 7), ('파인애플', 7), ('부처꽃', 7), ('개미', 7), ('장미', 7), ('여우', 7), ('시네', 7), ('라리', 7), ('침엽', 7), ('빙상', 7), ('인지', 7), ('콜라나무', 7), ('염', 7), ('고마리', 7), ('바나나', 7), ('자란', 7), ('가락', 7), ('딸기', 7), ('해바라기', 7), ('이루어지다', 7), ('살구', 7), ('기억', 7), ('바닐라', 7), ('자두', 7), ('옥수수', 7), ('갓', 7), ('이어서', 7), ('박쥐나무', 7), ('글씨', 7), ('느티나무', 7), ('출수', 7), ('복사', 7), ('배엽', 7), ('어울리다', 7), ('태', 7), ('감저', 7), ('우주', 7), ('아카시아', 7), ('싹', 7), ('영산', 7), ('개양귀비', 7), ('구르다', 7), ('좁쌀', 7), ('륜', 7), ('비름', 7), ('체리', 7), ('메밀', 7), ('두충', 7), ('채', 7), ('짱', 7), ('충국', 7), ('양귀비', 7), ('삼칠', 7), ('초목', 7), ('일어나다', 7), ('용담', 7), ('구계', 7), ('오미자', 7), ('만병초', 7), ('빌', 7), ('베리', 7), ('배아', 7), ('말씀', 7), ('데이지', 7), ('방', 7), ('으려고', 7), ('비행기', 7), ('부루', 7), ('개망초', 7), ('엽록체', 7), ('단화', 7), ('분열조직', 7), ('대나무', 7), ('캐러웨이', 7), ('동아', 7), ('무우', 7), ('식용', 7), ('쑥갓', 7), ('덩굴', 7), ('홍매', 7), ('자생', 7), ('당나귀', 7), ('설계', 7), ('찰벼', 7), ('단풍잎돼지풀', 7), ('두초', 7), ('도사', 6), ('푸란', 6), ('고치다', 6), ('유자', 6), ('변호사', 6), ('연', 6), ('침', 6), ('잔디', 6), ('생강', 6), ('짧다', 6), ('아주까리', 6), ('토마토', 6), ('식충식물', 6), ('인동', 6), ('들어주다', 6), ('백합', 6), ('바랑', 6), ('남산제비꽃', 6), ('피', 6), ('계피', 6), ('나뭇잎', 6), ('협죽도', 6), ('찰옥수수', 6), ('화서', 6), ('매미', 6), ('분수', 6), ('참깨', 6), ('라플레시아', 6), ('갈다', 6), ('아보카도', 6), ('카네이션', 6), ('아름답다', 6), ('트다', 6), ('당구', 6), ('검사', 6), ('글짓기', 6), ('악보', 6), ('자', 6), ('정리', 6), ('솔', 6), ('오', 6), ('수생식물', 6), ('어렵다', 6), ('땅속줄기', 6), ('마스', 6), ('무화과', 6), ('낚시제비꽃', 6), ('소철', 6), ('도토리', 6), ('울다', 6), ('나팔꽃', 6), ('라벤더', 6), ('발광', 6), ('추자', 6), ('느낌', 6), ('별자리', 6), ('사라', 6), ('복수초', 6), ('땅콩', 6), ('육', 6), ('칠', 6), ('팔', 6), ('구', 6), ('튤립', 6), ('과학', 6), ('의사', 6), ('옛날', 6), ('오크라', 6), ('합', 6), ('위치', 6), ('기러기', 6), ('진달래', 6), ('산사나무', 6), ('파다', 6), ('난', 6), ('후추', 6), ('쥐다', 6), ('그', 6), ('토끼풀', 6), ('개나리', 6), ('새싹', 6), ('날', 6), ('마늘', 6), ('성', 6), ('결실', 6), ('셀러리', 6), ('순서', 6), ('깨다', 6), ('도화지', 6), ('데칼코마니', 6), ('구절', 6), ('물망초', 6), ('교목', 6), ('코뿔소', 6), ('글자', 6), ('목단', 6), ('아몬드', 6), ('산수유', 6), ('오디', 6), ('피망', 6), ('이끼', 6), ('쌍', 6), ('떡', 6), ('일찍', 6), ('질경', 6), ('수술', 6), ('배꼽', 6), ('수국', 6), ('촉', 6), ('백목련', 6), ('군인', 6), ('환삼덩굴', 6), ('섬유', 6), ('수초', 6), ('견과', 6), ('달라지다', 6), ('한', 6), ('야자수', 6), ('파리풀', 6), ('망고', 6), ('복사꽃', 6), ('패턴', 6), ('녹조식물', 6), ('마타리', 6), ('작약', 6), ('삼다', 6), ('해초', 6), ('두상', 6), ('은행', 6), ('판화', 6), ('개과', 6), ('닥나무', 6), ('그라스', 6), ('칼라', 6), ('부', 6), ('방아풀', 6), ('손바닥', 6), ('백화', 6), ('덩굴식물', 6), ('보리', 6), ('시금치', 6), ('매화', 5), ('개나리꽃', 5), ('차', 5), ('과자', 5), ('사과', 5), ('찾아보다', 5), ('개살구', 5), ('제목', 5), ('퀵', 5), ('보드', 5), ('기술자', 5), ('양파', 5), ('타', 5), ('산호수', 5), ('벽오동', 5), ('그대로', 5), ('멈추다', 5), ('청각', 5), ('향유', 5), ('이해', 5), ('모시다', 5), ('대추', 5), ('매', 5), ('감당', 5), ('천궁', 5), ('산자고', 5), ('들쭉나무', 5), ('망초', 5), ('개암', 5), ('감', 5), ('칸나', 5), ('동요', 5), ('달력', 5), ('오동나무', 5), ('할아버지', 5), ('할머니', 5), ('요', 5), ('토하다', 5), ('미역', 5), ('상록수', 5), ('자귀나무', 5), ('구근', 5), ('검정', 5), ('알', 5), ('비어', 5), ('오리다', 5), ('보', 5), ('서어나무', 5), ('서양', 5), ('고양이', 5), ('포도', 5), ('목화', 5), ('칡', 5), ('억새', 5), ('작살나무', 5), ('다니다', 5), ('약용식물', 5), ('놓아주다', 5), ('실버들', 5), ('사다', 5), ('찰리 채플린', 5), ('꽃차례', 5), ('은데', 5), ('부전', 5), ('배우', 5), ('찌다', 5), ('광', 5), ('사회', 5), ('토란', 5), ('생', 5), ('수련', 5), ('출', 5), ('맥', 5), ('서로', 5), ('라', 5), ('동백꽃', 5), ('약초', 5), ('석남', 5), ('민들레', 5), ('미안', 5), ('레크리에이션', 5), ('벼', 5), ('디', 5), ('돼지풀', 5), ('똑', 4), ('요리', 4), ('난타', 4), ('카메라', 4), ('차나무', 4), ('반딧불', 4), ('넓다', 4), ('소방', 4), ('목소리', 4), ('나리다', 4), ('오바마', 4), ('합창', 4), ('애기', 4), ('큰주홍부전나비', 4), ('녹조', 4), ('돌보다', 4), ('쑥', 4), ('날다', 4), ('독버섯', 4), ('녹두', 4), ('ㄹ가', 4), ('쇼', 4), ('샤넬', 4), ('작가', 4), ('보살피다', 4), ('가우디', 4), ('으며', 4), ('해시계', 4), ('구부리다', 4), ('무', 4), ('언가', 4), ('줍다', 4), ('카레이서', 4), ('컴퓨터', 4), ('실베짱이', 4), ('구름', 4), ('반주', 4), ('작은청동하늘소', 4), ('양이', 4), ('얼', 4), ('주홍길앞잡이', 4), ('키우다', 4), ('종가', 4), ('왕거위벌레', 4), ('넓적배사마귀', 4), ('제작', 4), ('타조', 4), ('화해', 4), ('시키다', 4), ('쌍살벌', 4), ('강사', 4), ('가위', 4), ('자르다', 4), ('들국화', 4), ('균형', 4), ('잡기', 4), ('맑다', 4), ('재래꿀벌', 4), ('흥', 4), ('예절', 4), ('귀담다', 4), ('여치', 4), ('남방제비나비', 4), ('달래', 4), ('붉다', 4), ('만화', 4), ('양금로', 4), ('엎드리다', 4), ('일기', 4), ('고수', 4), ('꼬마장수말벌', 4), ('준', 4), ('가르치다', 4), ('물잠자리', 4), ('전과', 4), ('인사', 4), ('정향', 4), ('비밀', 4), ('털어놓다', 4), ('좀사마귀', 4), ('풍뎅이', 4), ('건지', 4), ('사랑해', 4), ('보리수', 4), ('엷은털왕사슴벌레', 4), ('부드럽다', 4), ('모래', 4), ('만지다', 4), ('날개', 4), ('짓', 4), ('더하기', 4), ('함께', 4), ('청', 4), ('미래', 4), ('검정말벌', 4), ('석류', 4), ('짝', 4), ('교수', 4), ('얻다', 4), ('벨로', 4), ('장미꽃', 4), ('체험', 4), ('건', 4), ('울음', 4), ('수이', 4), ('땅벌', 4), ('엔지니어', 4), ('미접', 4), ('대벌레', 4), ('회색', 4), ('곱셈', 4), ('사슴풍뎅이', 4), ('항아리', 4), ('뿔', 4), ('라일락', 4), ('극지', 4), ('왕사마귀', 4), ('맹꽁이', 4), ('숨바꼭질', 4), ('작다', 4), ('는데', 4), ('씩씩', 4), ('깡충깡충', 4), ('한국홍가슴개미', 4), ('양배추', 4), ('ㄴ다고', 4), ('맛있다', 4), ('개', 4), ('생장', 4), ('채소', 4), ('사물', 4), ('길이', 4), ('고기', 4), ('잡다', 4), ('심리학', 4), ('잔물땡땡이', 4), ('창출', 4), ('제비나비', 4), ('단추', 4), ('끼우다', 4), ('시험', 4), ('지만', 4), ('열심히', 4), ('징가', 4), ('개그맨', 4), ('소고로', 4), ('거북이', 4), ('태평', 4), ('선교사', 4), ('직접', 4), ('산제비나비', 4), ('방아', 4), ('쥐', 4), ('촉감', 4), ('동', 4), ('오다', 4), ('반듯', 4), ('쏘이다', 4), ('발레리나', 4), ('하마', 4), ('떼', 4), ('연출가', 4), ('작곡가', 4), ('미나리아재비', 4), ('저', 4), ('경찰', 4), ('똑바르다', 4), ('휘어지다', 4), ('환하다', 4), ('공인', 4), ('회계사', 4), ('칙', 4), ('발표', 4), ('푸른', 4), ('징검다리', 4), ('건너다', 4), ('장수풍뎅이', 4), ('홍단딱정벌레', 4), ('씀바귀', 4), ('고개', 4), ('끄덕끄덕', 4), ('찍다', 4), ('완성', 4), ('앉다', 4), ('주변', 4), ('떠보다', 4), ('털다', 4), ('흔들리다', 4), ('뜀틀', 4), ('번역', 4), ('미끄럼', 4), ('떨다', 4), ('려', 4), ('덮다', 4), ('호랑나비', 4), ('분류', 4), ('편지', 4), ('다우리아사슴벌레', 4), ('다리', 4), ('주무르다', 4), ('뛰기', 4), ('봉선화', 4), ('긴꼬리제비나비', 4), ('누', 4), ('군가', 4), ('선물', 4), ('타이거 우즈', 4), ('다시', 3), ('신이', 3), ('멧누에나방', 3), ('징치', 3), ('원표애보라사슴벌레', 3), ('왜', 3), ('보아주다', 3), ('환경', 3), ('작은 수', 3), ('삼백초', 3), ('홍다리사슴벌레', 3), ('잡목', 3), ('레고', 3), ('아기', 3), ('자장가', 3), ('왕귀뚜라미', 3), ('멤논제비나비', 3), ('술래잡기', 3), ('양봉꿀벌', 3), ('톱사슴벌레', 3), ('철써기', 3), ('맞다', 3), ('색소', 3), ('폰치', 3), ('백조', 3), ('소가', 3), ('말벌', 3), ('모형', 3), ('합치다', 3), ('위로', 3), ('보라', 3), ('아나운서', 3), ('머리', 3), ('공원', 3), ('돌다', 3), ('유재석', 3), ('조각가', 3), ('내기', 3), ('거리', 3), ('로봇', 3), ('조립', 3), ('영화', 3), ('튕기다', 3), ('바구니', 3), ('통하다', 3), ('털보말벌', 3), ('파일럿', 3), ('팡팡', 3), ('십오', 3), ('십팔', 3), ('까다', 3), ('ㄴ가', 3), ('숨다', 3), ('뛰쳐나오다', 3), ('강', 3), ('장수말벌', 3), ('직선', 3), ('곡선', 3), ('기자', 3), ('들려주다', 3), ('바깥', 3), ('나가다', 3), ('지르다', 3), ('구슬', 3), ('굴리다', 3), ('체육관', 3), ('읽기', 3), ('뚜벅뚜벅', 3), ('열', 3), ('교집합', 3), ('부채', 3), ('부치다', 3), ('듯', 3), ('소꿉놀이', 3), ('상담원', 3), ('중베짱이', 3), ('세익스피어', 3), ('훨훨', 3), ('바퀴', 3), ('손뼉', 3), ('멋조롱박딱정벌레', 3), ('해랑', 3), ('둥', 3), ('둥둥', 3), ('라마', 3), ('외교관', 3), ('바람개비', 3), ('무용', 3), ('명자꽃', 3), ('아래', 3), ('오른쪽', 3), ('왼쪽', 3), ('상자', 3), ('비틀다', 3), ('곰 세 마리', 3), ('체육', 3), ('동물원', 3), ('리코', 3), ('더치', 3), ('자다', 3), ('켜다', 3), ('묻다', 3), ('또박또박', 3), ('두점박이사슴벌레', 3), ('꼽등이', 3), ('새롭다', 3), ('누나', 3), ('멋쟁이딱정벌레', 3), ('산호랑나비', 3), ('땅강아지', 3), ('지하철', 3), ('줄', 3), ('사향제비나비', 3), ('기타로', 3), ('공놀이', 3), ('돼지', 3), ('물통', 3), ('떨어뜨리다', 3), ('장수하늘소', 3), ('둘', 3), ('청띠제비나비', 3), ('송장벌레', 3), ('학자', 3), ('가꾸다', 3), ('거짓말', 3), ('내용', 3), ('밤나무산누에나방', 3), ('끝', 3), ('잇다', 3), ('호랑이', 3), ('배추흰나비', 3), ('빈칸', 3), ('들어가다', 3), ('ㄹ지', 3), ('가방', 3), ('신데렐라', 3), ('박수', 3), ('모사', 3), ('새집', 3), ('짓다', 3), ('행복', 3), ('백남준', 3), ('발가', 3), ('애사슴벌레', 3), ('연습실', 3), ('댄서', 3), ('들리다', 3), ('세일즈맨', 3), ('얘', 3), ('방송인', 3), ('장면', 3), ('넓이', 3), ('처칠', 3), ('조합', 3), ('골대', 3), ('지렁이', 3), ('기어가다', 3), ('무엇', 3), ('정치가', 3), ('꼬리', 3), ('날리다', 3), ('회계', 3), ('프로듀서', 3), ('채집', 3), ('종치', 3), ('알락꼽등이', 3), ('주위', 3), ('상쾌', 3), ('느끼다', 3), ('이어', 3), ('금방', 3), ('화나다', 3), ('않다', 3), ('지휘자', 2), ('시골', 2), ('냄새', 2), ('맡아보다', 2), ('앨리스 먼로', 2), ('수치', 2), ('여사', 2), ('박맹호', 2), ('운전기사', 2), ('김현우', 2), ('스포츠', 2), ('해설', 2), ('발명가', 2), ('간디', 2), ('호스트', 2), ('코코', 2), ('통계학자', 2), ('철봉', 2), ('오래', 2), ('메', 2), ('소설가', 2), ('레크레이션', 2), ('라디오', 2), ('선곡', 2), ('장영실', 2), ('수학자', 2), ('마틴', 2), ('루터', 2), ('킹', 2), ('약사', 2), ('벽', 2), ('법조인', 2), ('소수', 2), ('허준', 2), ('스턴', 2), ('매장', 2), ('삼각형', 2), ('사각형', 2), ('박세리', 2), ('도감', 2), ('물리학자', 2), ('반짝반짝', 2), ('통역', 2), ('관리자', 2), ('도움', 2), ('김구', 2), ('탐험', 2), ('좁다', 2), ('소관', 2), ('자치', 2), ('황영조', 2), ('콘라트 로렌츠', 2), ('괴테', 2), ('끼리', 2), ('면적', 2), ('간호사', 2), ('미화원', 2), ('지구', 2), ('윤선', 2), ('정신', 2), ('안젤리나 졸리', 2), ('설교', 2), ('관장', 2), ('들소', 2), ('기상학', 2), ('셈', 2), ('송유근', 2), ('음반', 2), ('어류학', 2), ('이국', 2), ('아이유', 2), ('연하다', 2), ('점점', 2), ('짙은', 2), ('감상', 2), ('경락', 2), ('마사지', 2), ('신동엽', 2), ('랴', 2), ('샤오', 2), ('무대', 2), ('핑크', 2), ('치과의', 2), ('해', 2), ('음악가', 2), ('파도', 2), ('힘찬', 2), ('러스트', 2), ('레이', 2), ('터', 2), ('풍', 2), ('안철수', 2), ('판사', 2), ('관리', 2), ('한의사', 2), ('미', 2), ('대교', 2), ('피아노 조율사', 2), ('문학 평론', 2), ('정명훈', 2), ('경호원', 2), ('승무원', 2), ('박물관', 2), ('이런', 2), ('큐레이터', 2), ('털보왕사슴벌레', 2), ('안내원', 2), ('염소', 2), ('받아쓰기', 2), ('버나드', 2), ('비서', 2), ('경리', 2), ('보디가드', 2), ('어니스트 섀클턴', 2), ('산악인', 2), ('훌쩍', 2), ('내리다', 2), ('작곡', 2), ('연푸르다', 2), ('사서', 2), ('데이비드 오길비', 2), ('천문학자', 2), ('삽화가', 2), ('소녀시대', 2), ('생명', 2), ('공학자', 2), ('돕다', 2), ('드리다', 2), ('힘들다', 2), ('친절', 2), ('높이', 2), ('뛰어오르다', 2), ('조류학', 2), ('달리기', 2), ('선수', 2), ('성우', 2), ('방송국', 2), ('고갱', 2), ('오리', 2), ('성악가', 2), ('꼬마', 2), ('큐브', 2), ('윤', 2), ('생진', 2), ('김혜자', 2), ('월트 디즈니', 2), ('판매원', 2), ('뮤지컬', 2), ('게바라', 2), ('줄리어스 시저', 2), ('모차르트', 2), ('톨스토이', 2), ('농', 2), ('설리번', 2), ('수녀', 2), ('마이클 조던', 2), ('왕사슴벌레', 2), ('언어학', 2), ('방법', 2), ('조오련', 2), ('펠레', 2), ('향기', 2), ('외과의', 2), ('운동선수', 2), ('퀴리', 2), ('부인', 2), ('항해사', 2), ('넬슨 만델라', 2), ('실험', 2), ('평론', 2), ('빼기', 2), ('사회 운동', 2), ('박재범', 2), ('원예', 2), ('공연', 2), ('운문산', 2), ('링컨', 2), ('안토니 가우디', 2), ('기업', 2), ('증권', 2), ('분석', 2), ('연설', 2), ('인테리어', 2), ('농장', 2), ('운영', 2), ('공차', 2), ('마케팅', 2), ('조사', 2), ('오프라 윈프리', 2), ('역활', 2), ('꽃집', 2), ('곤충학', 2), ('스타일', 2), ('리스트', 2), ('애니메이터', 2), ('물장군', 2), ('햇빛', 2), ('택시', 2), ('운전', 2), ('종로', 2), ('리포터', 2), ('호텔', 2), ('고산', 2), ('뉴튼', 2), ('손흥민', 2), ('조리사', 2), ('최정화', 2), ('다빈치', 2), ('음대', 2), ('영화 음악', 2), ('안데르센', 2), ('피아니스트', 2), ('영화배우', 2), ('스티븐 호킹', 2), ('마르쿠스 페르손', 2), ('밤', 2), ('음악 평론', 2), ('시인', 2), ('전략', 2), ('수학', 2), ('베토벤', 2), ('복지', 2), ('심부름', 2), ('만', 2), ('든', 2), ('스카프', 2), ('베이비', 2), ('루스', 2), ('차범근', 2), ('조수미', 2), ('연구', 2), ('정약용', 2), ('마술사', 2), ('오드리 헵번', 2), ('탤런트', 2), ('미끄럼틀', 2), ('시소', 2), ('그네', 2), ('김대중', 2), ('정비', 2), ('갈릴레이', 2), ('마리 퀴리', 2), ('미야자키 하야오', 2), ('뽀뽀', 2), ('뽀다', 2), ('보석', 2), ('고흐', 2), ('오리아나 팔라치', 2), ('마이크', 2), ('김태호', 2), ('손기정', 2), ('감시원', 2), ('정보기관', 2), ('빌 게이츠', 2), ('빌리다', 2), ('가을', 2), ('단풍', 2), ('지켜보다', 2), ('피카소', 2), ('슈바이처', 2), ('밖', 2), ('제인 구달', 2), ('리본', 2), ('묶다', 2), ('젓가락', 2), ('옮기다', 2), ('정', 2), ('방송', 2), ('아이돌', 2), ('채연', 2), ('조장희', 2), ('관광', 2), ('가이드', 2), ('언론인', 2), ('가브리엘', 2), ('로뎅', 2), ('목사', 2), ('메다', 2), ('ㄴ데', 2), ('미켈란젤로', 2), ('이벤트', 2), ('사업가', 2), ('표창원', 2), ('생물', 2), ('아인슈타인', 2), ('탐정', 2), ('먼저', 2), ('안무', 2), ('반기문', 1), ('연예인', 1), ('음향', 1), ('고아원', 1), ('원장', 1), ('택', 1), ('쪼개다', 1), ('부서지다', 1), ('과정', 1), ('누다', 1), ('애플', 1), ('박찬호', 1), ('과학자', 1), ('헤어', 1), ('김연아', 1), ('다치다', 1), ('땀', 1), ('선장', 1), ('친척', 1), ('서태지', 1), ('공예', 1), ('서예', 1), ('학교', 1), ('교장', 1), ('무라카미 하루키', 1), ('잔디밭', 1), ('키즈', 1), ('카페', 1), ('모네', 1), ('사육사', 1), ('어라', 1), ('강수진', 1), ('영업', 1), ('사원', 1), ('도서관', 1), ('미술관', 1), ('왕풍뎅이', 1), ('게임 디자이너', 1), ('소풍', 1), ('시작', 1), ('헬스', 1), ('트레이너', 1), ('에디슨', 1), ('펀드', 1), ('매니저', 1), ('만화가', 1), ('슈마허', 1), ('나폴레옹', 1), ('마라', 1), ('도나', 1), ('농구장', 1), ('이외수', 1), ('이순신', 1), ('한국어', 1), ('광고인', 1), ('화원', 1), ('패션쇼', 1), ('윤무부', 1), ('카피라이터', 1), ('삼성', 1), ('생물학자', 1), ('최진순', 1), ('건축', 1), ('아이', 1), ('이브', 1), ('앨 고어', 1), ('키다', 1), ('류현진', 1), ('음악 치료', 1), ('동물학', 1), ('정의', 1), ('메이크업', 1), ('아티스트', 1), ('대학교수', 1), ('베르나르 베르베르', 1), ('달나라', 1), ('비다', 1), ('업무', 1), ('담당', 1), ('웨딩', 1), ('ㄹ래', 1), ('너', 1), ('심리치료', 1), ('다윈', 1), ('치어리더', 1), ('한승헌', 1), ('컨설턴트', 1), ('이봉주', 1), ('골프장', 1), ('공룡', 1), ('공연장', 1), ('들판', 1), ('우장춘', 1), ('학원', 1), ('야구장', 1), ('장한나', 1), ('도예', 1), ('샘물', 1), ('마이클 잭슨', 1), ('동산', 1), ('파브르', 1), ('식물학', 1), ('자리', 1), ('시설', 1), ('자영업자', 1), ('에버', 1), ('랜드', 1), ('화가', 1), ('스티브 잡스', 1), ('낙원', 1), ('상가', 1), ('연구원', 1), ('박지성', 1), ('그래픽', 1), ('발레리', 1), ('나이', 1), ('식물원', 1), ('드가', 1), ('손석희', 1), ('아놀드', 1), ('머', 1), ('천문대', 1), ('비틀즈', 1), ('물리치료', 1), ('대통령', 1), ('고고학', 1), ('조앤', 1), ('롤링', 1), ('은행원', 1), ('종교', 1), ('지도자', 1), ('꿈나라', 1), ('스포츠 에이전트', 1), ('조선희', 1), ('소중', 1), ('이상묵', 1), ('사진', 1), ('구매', 1), ('대리인', 1), ('해주', 1), ('빠르다', 1), ('레이첼', 1), ('카슨', 1), ('마네', 1), ('모옌', 1), ('수의사', 1), ('장유', 1)]\n"
     ]
    }
   ],
   "source": [
    "token_dic = tokenizer.word_counts\n",
    "d2 = sorted(token_dic.items(), key=lambda x: x[1], reverse=True)\n",
    "print(d2)"
   ],
   "metadata": {
    "collapsed": false,
    "pycharm": {
     "name": "#%%\n"
    }
   }
  },
  {
   "cell_type": "markdown",
   "source": [
    "### Padding"
   ],
   "metadata": {
    "collapsed": false,
    "pycharm": {
     "name": "#%% md\n"
    }
   }
  },
  {
   "cell_type": "code",
   "execution_count": 17,
   "outputs": [
    {
     "name": "stdout",
     "output_type": "stream",
     "text": [
      "텍스트의 최대 길이 : 46\n",
      "텍스트의 평균 길이 : 7.997009966777409\n"
     ]
    },
    {
     "data": {
      "text/plain": "<Figure size 432x288 with 1 Axes>",
      "image/png": "[encoded data removed]"
     },
     "metadata": {},
     "output_type": "display_data"
    }
   ],
   "source": [
    "print('텍스트의 최대 길이 :',max(len(text) for text in train_sequences))\n",
    "print('텍스트의 평균 길이 :',sum(map(len, train_sequences))/len(train_sequences))\n",
    "plt.hist([len(text) for text in train_sequences], bins=50)\n",
    "plt.xlabel('length of samples')\n",
    "plt.ylabel('number of samples')\n",
    "plt.show()"
   ],
   "metadata": {
    "collapsed": false,
    "pycharm": {
     "name": "#%%\n"
    }
   }
  },
  {
   "cell_type": "code",
   "execution_count": 18,
   "outputs": [],
   "source": [
    "trunc_type = 'post'\n",
    "padding_type = 'post'\n",
    "MAX_LEN = int(max(len(text) for text in train_sequences) * 95 / 100)\n",
    "\n",
    "X_train = pad_sequences(train_sequences, maxlen=MAX_LEN, padding=padding_type, truncating=trunc_type)\n",
    "X_test= pad_sequences(test_sequences, maxlen=MAX_LEN, padding=padding_type, truncating=trunc_type)"
   ],
   "metadata": {
    "collapsed": false,
    "pycharm": {
     "name": "#%%\n"
    }
   }
  },
  {
   "cell_type": "markdown",
   "source": [
    "## Labeling"
   ],
   "metadata": {
    "collapsed": false,
    "pycharm": {
     "name": "#%% md\n"
    }
   }
  },
  {
   "cell_type": "code",
   "execution_count": 19,
   "outputs": [
    {
     "data": {
      "text/plain": "array(['언어', '자연', '음악', '수리', '미술', '신체', '관계'], dtype=object)"
     },
     "execution_count": 19,
     "metadata": {},
     "output_type": "execute_result"
    }
   ],
   "source": [
    "y_train.unique()"
   ],
   "metadata": {
    "collapsed": false,
    "pycharm": {
     "name": "#%%\n"
    }
   }
  },
  {
   "cell_type": "code",
   "execution_count": 20,
   "outputs": [],
   "source": [
    "intelli_dic = {\n",
    "    '관계': 0, '미술': 1, '수리': 2, '신체': 3, '언어': 4, '음악': 5, '자연': 6\n",
    "}"
   ],
   "metadata": {
    "collapsed": false,
    "pycharm": {
     "name": "#%%\n"
    }
   }
  },
  {
   "cell_type": "code",
   "execution_count": 21,
   "outputs": [
    {
     "data": {
      "text/plain": "array([4, 6, 5, 2, 1, 3, 0])"
     },
     "execution_count": 21,
     "metadata": {},
     "output_type": "execute_result"
    }
   ],
   "source": [
    "y_train = y_train.replace(intelli_dic)\n",
    "y_test = y_test.replace(intelli_dic)\n",
    "y_train.unique()"
   ],
   "metadata": {
    "collapsed": false,
    "pycharm": {
     "name": "#%%\n"
    }
   }
  },
  {
   "cell_type": "markdown",
   "source": [
    "## Model definition"
   ],
   "metadata": {
    "collapsed": false,
    "pycharm": {
     "name": "#%% md\n"
    }
   }
  },
  {
   "cell_type": "code",
   "execution_count": 22,
   "outputs": [
    {
     "name": "stderr",
     "output_type": "stream",
     "text": [
      "2022-08-03 13:30:12.421809: I tensorflow/core/common_runtime/pluggable_device/pluggable_device_factory.cc:305] Could not identify NUMA node of platform GPU ID 0, defaulting to 0. Your kernel may not have been built with NUMA support.\n",
      "2022-08-03 13:30:12.421834: I tensorflow/core/common_runtime/pluggable_device/pluggable_device_factory.cc:271] Created TensorFlow device (/job:localhost/replica:0/task:0/device:GPU:0 with 0 MB memory) -> physical PluggableDevice (device: 0, name: METAL, pci bus id: <undefined>)\n"
     ]
    }
   ],
   "source": [
    "model = Sequential()\n",
    "model.add(Embedding(input_dim=VOCAB_SIZE, output_dim=OUTPUT_DIM, mask_zero=True, input_length=MAX_LEN))\n",
    "model.add(LSTM(units=UNITS, dropout=DROPOUT))#, recurrent_dropout=RECURRENT_DROPOUT))\n",
    "model.add(Dense(units=OUTPUT, activation='softmax'))\n",
    "\n",
    "es = EarlyStopping(monitor='val_loss', mode='min', verbose=VERBOSE, patience=PATIENCE, restore_best_weights=True)\n",
    "mcp = ModelCheckpoint(SAVE_DIR + 'best-model.h5', monitor='val_accuracy', mode='max', verbose=VERBOSE, save_best_only=True)\n",
    "\n",
    "model.compile(loss='sparse_categorical_crossentropy', optimizer='adam', metrics=['accuracy'])"
   ],
   "metadata": {
    "collapsed": false,
    "pycharm": {
     "name": "#%%\n"
    }
   }
  },
  {
   "cell_type": "markdown",
   "source": [
    "## Train"
   ],
   "metadata": {
    "collapsed": false,
    "pycharm": {
     "name": "#%% md\n"
    }
   }
  },
  {
   "cell_type": "code",
   "execution_count": 23,
   "outputs": [
    {
     "name": "stdout",
     "output_type": "stream",
     "text": [
      "Epoch 1/10\n"
     ]
    },
    {
     "name": "stderr",
     "output_type": "stream",
     "text": [
      "2022-08-03 13:30:13.183769: W tensorflow/core/platform/profile_utils/cpu_utils.cc:128] Failed to get CPU frequency: 0 Hz\n",
      "2022-08-03 13:30:14.708216: I tensorflow/core/grappler/optimizers/custom_graph_optimizer_registry.cc:113] Plugin optimizer for device_type GPU is enabled.\n",
      "2022-08-03 13:30:14.960535: W tensorflow/core/common_runtime/forward_type_inference.cc:231] Type inference failed. This indicates an invalid graph that escaped type checking. Error message: INVALID_ARGUMENT: expected compatible input types, but input 1:\n",
      "type_id: TFT_OPTIONAL\n",
      "args {\n",
      "  type_id: TFT_PRODUCT\n",
      "  args {\n",
      "    type_id: TFT_TENSOR\n",
      "    args {\n",
      "      type_id: TFT_LEGACY_VARIANT\n",
      "    }\n",
      "  }\n",
      "}\n",
      " is neither a subtype nor a supertype of the combined inputs preceding it:\n",
      "type_id: TFT_OPTIONAL\n",
      "args {\n",
      "  type_id: TFT_PRODUCT\n",
      "  args {\n",
      "    type_id: TFT_TENSOR\n",
      "    args {\n",
      "      type_id: TFT_FLOAT\n",
      "    }\n",
      "  }\n",
      "}\n",
      "\n",
      "\twhile inferring type of node 'cond_40/output/_19'\n",
      "2022-08-03 13:30:14.963983: I tensorflow/core/grappler/optimizers/custom_graph_optimizer_registry.cc:113] Plugin optimizer for device_type GPU is enabled.\n",
      "2022-08-03 13:30:15.202163: I tensorflow/core/grappler/optimizers/custom_graph_optimizer_registry.cc:113] Plugin optimizer for device_type GPU is enabled.\n"
     ]
    },
    {
     "name": "stdout",
     "output_type": "stream",
     "text": [
      "76/76 [==============================] - ETA: 0s - loss: 1.5863 - accuracy: 0.3583"
     ]
    },
    {
     "name": "stderr",
     "output_type": "stream",
     "text": [
      "2022-08-03 13:30:19.848173: I tensorflow/core/grappler/optimizers/custom_graph_optimizer_registry.cc:113] Plugin optimizer for device_type GPU is enabled.\n",
      "2022-08-03 13:30:19.998969: I tensorflow/core/grappler/optimizers/custom_graph_optimizer_registry.cc:113] Plugin optimizer for device_type GPU is enabled.\n"
     ]
    },
    {
     "name": "stdout",
     "output_type": "stream",
     "text": [
      "\n",
      "Epoch 1: val_accuracy improved from -inf to 0.36213, saving model to /Users/inseoklee/Desktop/miso/intelli/model/LSTM/best-model.h5\n",
      "76/76 [==============================] - 7s 67ms/step - loss: 1.5863 - accuracy: 0.3583 - val_loss: 1.5725 - val_accuracy: 0.3621\n",
      "Epoch 2/10\n",
      "75/76 [============================>.] - ETA: 0s - loss: 1.3990 - accuracy: 0.3997\n",
      "Epoch 2: val_accuracy improved from 0.36213 to 0.45681, saving model to /Users/inseoklee/Desktop/miso/intelli/model/LSTM/best-model.h5\n",
      "76/76 [==============================] - 3s 44ms/step - loss: 1.3980 - accuracy: 0.4001 - val_loss: 1.0845 - val_accuracy: 0.4568\n",
      "Epoch 3/10\n",
      "75/76 [============================>.] - ETA: 0s - loss: 1.0374 - accuracy: 0.4556\n",
      "Epoch 3: val_accuracy did not improve from 0.45681\n",
      "76/76 [==============================] - 3s 44ms/step - loss: 1.0369 - accuracy: 0.4564 - val_loss: 1.0449 - val_accuracy: 0.4547\n",
      "Epoch 4/10\n",
      "75/76 [============================>.] - ETA: 0s - loss: 1.0161 - accuracy: 0.4557\n",
      "Epoch 4: val_accuracy improved from 0.45681 to 0.45806, saving model to /Users/inseoklee/Desktop/miso/intelli/model/LSTM/best-model.h5\n",
      "76/76 [==============================] - 3s 45ms/step - loss: 1.0162 - accuracy: 0.4565 - val_loss: 1.0233 - val_accuracy: 0.4581\n",
      "Epoch 5/10\n",
      "75/76 [============================>.] - ETA: 0s - loss: 1.1928 - accuracy: 0.4417\n",
      "Epoch 5: val_accuracy did not improve from 0.45806\n",
      "76/76 [==============================] - 3s 42ms/step - loss: 1.1942 - accuracy: 0.4413 - val_loss: 1.2404 - val_accuracy: 0.4556\n",
      "Epoch 6/10\n",
      "75/76 [============================>.] - ETA: 0s - loss: 1.1353 - accuracy: 0.4502\n",
      "Epoch 6: val_accuracy did not improve from 0.45806\n",
      "76/76 [==============================] - 3s 43ms/step - loss: 1.1346 - accuracy: 0.4507 - val_loss: 1.1458 - val_accuracy: 0.4568\n",
      "Epoch 7/10\n",
      "75/76 [============================>.] - ETA: 0s - loss: 1.1048 - accuracy: 0.4597Restoring model weights from the end of the best epoch: 4.\n",
      "\n",
      "Epoch 7: val_accuracy did not improve from 0.45806\n",
      "76/76 [==============================] - 3s 42ms/step - loss: 1.1043 - accuracy: 0.4594 - val_loss: 1.1402 - val_accuracy: 0.4572\n",
      "Epoch 7: early stopping\n"
     ]
    }
   ],
   "source": [
    "history = model.fit(\n",
    "    X_train, y_train, epochs=EPOCHS, callbacks=[es, mcp], batch_size=BATCH_SIZE, validation_split=VALIDATION_SPLIT\n",
    ")"
   ],
   "metadata": {
    "collapsed": false,
    "pycharm": {
     "name": "#%%\n"
    }
   }
  },
  {
   "cell_type": "markdown",
   "source": [
    "## Test"
   ],
   "metadata": {
    "collapsed": false,
    "pycharm": {
     "name": "#%% md\n"
    }
   }
  },
  {
   "cell_type": "code",
   "execution_count": 24,
   "outputs": [
    {
     "name": "stderr",
     "output_type": "stream",
     "text": [
      "2022-08-03 13:30:41.525151: I tensorflow/core/grappler/optimizers/custom_graph_optimizer_registry.cc:113] Plugin optimizer for device_type GPU is enabled.\n",
      "2022-08-03 13:30:41.653088: I tensorflow/core/grappler/optimizers/custom_graph_optimizer_registry.cc:113] Plugin optimizer for device_type GPU is enabled.\n"
     ]
    },
    {
     "name": "stdout",
     "output_type": "stream",
     "text": [
      "95/95 [==============================] - 2s 15ms/step - loss: 1.0009 - accuracy: 0.4616\n",
      "Test loss:  1.0009101629257202\n",
      "Test accuracy:  0.4616406261920929\n"
     ]
    }
   ],
   "source": [
    "loaded_model = load_model(LOAD_DIR + 'best-model.h5')\n",
    "loss, acc = loaded_model.evaluate(X_test, y_test)\n",
    "print('Test loss: ', loss)\n",
    "print('Test accuracy: ', acc)"
   ],
   "metadata": {
    "collapsed": false,
    "pycharm": {
     "name": "#%%\n"
    }
   }
  },
  {
   "cell_type": "markdown",
   "source": [
    "## Visualization"
   ],
   "metadata": {
    "collapsed": false,
    "pycharm": {
     "name": "#%% md\n"
    }
   }
  },
  {
   "cell_type": "code",
   "execution_count": 25,
   "outputs": [
    {
     "data": {
      "text/plain": "<Figure size 432x288 with 2 Axes>",
      "image/png": "[encoded data removed]"
     },
     "metadata": {},
     "output_type": "display_data"
    }
   ],
   "source": [
    "fig, loss_ax = plt.subplots()\n",
    "acc_ax = loss_ax.twinx()\n",
    "\n",
    "loss_ax.plot(history.history['loss'], 'y', label='train loss')\n",
    "loss_ax.plot(history.history['val_loss'], 'r', label='val loss')\n",
    "\n",
    "acc_ax.plot(history.history['accuracy'], 'b', label='train acc')\n",
    "acc_ax.plot(history.history['val_accuracy'], 'g', label='val acc')\n",
    "\n",
    "loss_ax.set_xlabel('epoch')\n",
    "loss_ax.set_ylabel('loss')\n",
    "acc_ax.set_ylabel('accuracy')\n",
    "\n",
    "loss_ax.legend(loc='upper left')\n",
    "acc_ax.legend(loc='lower left')\n",
    "\n",
    "plt.show()"
   ],
   "metadata": {
    "collapsed": false,
    "pycharm": {
     "name": "#%%\n"
    }
   }
  },
  {
   "cell_type": "markdown",
   "source": [
    "## Save model"
   ],
   "metadata": {
    "collapsed": false,
    "pycharm": {
     "name": "#%% md\n"
    }
   }
  },
  {
   "cell_type": "code",
   "execution_count": 26,
   "outputs": [
    {
     "name": "stdout",
     "output_type": "stream",
     "text": [
      "Saved trained model at /Users/inseoklee/Desktop/miso/intelli/model/LSTM/trained-model.h5 \n"
     ]
    }
   ],
   "source": [
    "model_name = 'trained-model.h5'\n",
    "\n",
    "# Save model and weights\n",
    "model_path = os.path.join(SAVE_DIR, model_name)\n",
    "model.save(model_path)\n",
    "print('Saved trained model at %s ' % model_path)"
   ],
   "metadata": {
    "collapsed": false,
    "pycharm": {
     "name": "#%%\n"
    }
   }
  },
  {
   "cell_type": "markdown",
   "source": [
    "## Evaluation"
   ],
   "metadata": {
    "collapsed": false,
    "pycharm": {
     "name": "#%% md\n"
    }
   }
  },
  {
   "cell_type": "code",
   "execution_count": 27,
   "outputs": [
    {
     "name": "stderr",
     "output_type": "stream",
     "text": [
      "2022-08-03 13:30:43.795552: I tensorflow/core/grappler/optimizers/custom_graph_optimizer_registry.cc:113] Plugin optimizer for device_type GPU is enabled.\n",
      "2022-08-03 13:30:43.921540: I tensorflow/core/grappler/optimizers/custom_graph_optimizer_registry.cc:113] Plugin optimizer for device_type GPU is enabled.\n"
     ]
    },
    {
     "name": "stdout",
     "output_type": "stream",
     "text": [
      "95/95 [==============================] - 2s 13ms/step\n",
      "[6 4 6 ... 6 6 6]\n"
     ]
    }
   ],
   "source": [
    "y_pred = loaded_model.predict(X_test)\n",
    "y_pred = y_pred.argmax(axis=-1)\n",
    "print(y_pred)"
   ],
   "metadata": {
    "collapsed": false,
    "pycharm": {
     "name": "#%%\n"
    }
   }
  },
  {
   "cell_type": "markdown",
   "source": [
    "### Confusion matrix"
   ],
   "metadata": {
    "collapsed": false,
    "pycharm": {
     "name": "#%% md\n"
    }
   }
  },
  {
   "cell_type": "code",
   "execution_count": 28,
   "outputs": [
    {
     "name": "stdout",
     "output_type": "stream",
     "text": [
      "[[   0    0    0    0  116    0    0]\n",
      " [   0    0    0    0  105    0    1]\n",
      " [   0    0    0    0  120    0    1]\n",
      " [   0    0    0    0  239    0    0]\n",
      " [   0    0    0    0  303    0    0]\n",
      " [   0    0    0    0   20    0  995]\n",
      " [   0    0    0    0   24    0 1087]]\n"
     ]
    },
    {
     "data": {
      "text/plain": "<Figure size 864x720 with 2 Axes>",
      "image/png": "[encoded data removed]"
     },
     "metadata": {},
     "output_type": "display_data"
    }
   ],
   "source": [
    "# constant for classes\n",
    "classes = ('관계', '미술', '수리', '신체', '언어', '음악', '자연')\n",
    "\n",
    "# Build confusion matrix\n",
    "cf_matrix = confusion_matrix(y_test, y_pred)\n",
    "print(cf_matrix)\n",
    "df_cm = pd.DataFrame(cf_matrix/cf_matrix.sum(axis=1).reshape(7, 1), index = [i for i in classes],\n",
    "                     columns = [i for i in classes])\n",
    "plt.figure(figsize = (12,10))\n",
    "sn.heatmap(df_cm, annot=True, cmap='Blues')\n",
    "plt.savefig(SAVE_DIR + '/output.png')"
   ],
   "metadata": {
    "collapsed": false,
    "pycharm": {
     "name": "#%%\n"
    }
   }
  },
  {
   "cell_type": "markdown",
   "source": [
    "### precision, recall, f1 score"
   ],
   "metadata": {
    "collapsed": false,
    "pycharm": {
     "name": "#%% md\n"
    }
   }
  },
  {
   "cell_type": "code",
   "execution_count": 29,
   "outputs": [
    {
     "name": "stdout",
     "output_type": "stream",
     "text": [
      "accuracy_score:  0.4616406509465294\n",
      "precision_score:  0.12120770451929723\n",
      "recall_score:  0.2826282628262827\n",
      "f1_score:  0.16758873021325787\n"
     ]
    },
    {
     "name": "stderr",
     "output_type": "stream",
     "text": [
      "/Users/inseoklee/miniforge3/envs/intelli/lib/python3.10/site-packages/sklearn/metrics/_classification.py:1327: UndefinedMetricWarning: Precision is ill-defined and being set to 0.0 in labels with no predicted samples. Use `zero_division` parameter to control this behavior.\n",
      "  _warn_prf(average, modifier, msg_start, len(result))\n"
     ]
    }
   ],
   "source": [
    "acc_score = accuracy_score(y_test, y_pred)\n",
    "prec_score = precision_score(y_test, y_pred, average='macro')\n",
    "re_score = recall_score(y_test, y_pred, average='macro')\n",
    "f1_score = f1_score(y_test, y_pred, average='macro')\n",
    "print(\"accuracy_score: \", acc_score)\n",
    "print(\"precision_score: \", prec_score)\n",
    "print(\"recall_score: \", re_score)\n",
    "print(\"f1_score: \", f1_score)"
   ],
   "metadata": {
    "collapsed": false,
    "pycharm": {
     "name": "#%%\n"
    }
   }
  },
  {
   "cell_type": "markdown",
   "source": [
    "## Load Model"
   ],
   "metadata": {
    "collapsed": false,
    "pycharm": {
     "name": "#%% md\n"
    }
   }
  },
  {
   "cell_type": "code",
   "execution_count": 30,
   "outputs": [],
   "source": [
    "def load_tokenizer(path):\n",
    "    with open(path, 'rb') as f:\n",
    "        tokenizer = pickle.load(f)\n",
    "    return tokenizer\n",
    "\n",
    "model_name = 'trained-model.h5'\n",
    "tokenizer_name = 'tokenizer.pickle'\n",
    "model_path = os.path.join(LOAD_DIR, model_name)\n",
    "tokenizer_path = os.path.join(LOAD_DIR, tokenizer_name)\n",
    "\n",
    "model = load_model(model_path)\n",
    "tokenizer = load_tokenizer(tokenizer_path)\n"
   ],
   "metadata": {
    "collapsed": false,
    "pycharm": {
     "name": "#%%\n"
    }
   }
  },
  {
   "cell_type": "code",
   "execution_count": 31,
   "outputs": [],
   "source": [
    "def getResult(predict) :\n",
    "    highest = 0\n",
    "    highestIdx = 0\n",
    "    for x in range (0,len(predict)) :\n",
    "        if(predict[x] > highest) :\n",
    "            highestIdx = x\n",
    "            highest =predict[x]\n",
    "    return highestIdx\n",
    "\n",
    "def predict_label(text, model):\n",
    "    tokens = []\n",
    "    tokenized = tokenize(text, stop_pos_tags)\n",
    "    if(len(tokenized) == 0) :\n",
    "        return \"너무 짧아\"\n",
    "    tokens.append(tokenized)\n",
    "    tokens = tokenizer.texts_to_sequences(tokens)\n",
    "    x_test = pad_sequences(tokens, maxlen=MAX_LEN)\n",
    "    predict = model.predict(x_test)\n",
    "    # print(predict)\n",
    "    result = getResult(predict[0])\n",
    "    # '관계', '미술', '수리', '신체', '언어', '음악', '자연'\n",
    "    if result == 0 :\n",
    "        return '관계'\n",
    "    elif result == 1 :\n",
    "        return '미술'\n",
    "    elif result == 2 :\n",
    "        return '수리'\n",
    "    elif result == 3 :\n",
    "        return '신체'\n",
    "    elif result == 4 :\n",
    "        return '언어'\n",
    "    elif result == 5 :\n",
    "        return '음악'\n",
    "    elif result == 6 :\n",
    "        return '자연'"
   ],
   "metadata": {
    "collapsed": false,
    "pycharm": {
     "name": "#%%\n"
    }
   }
  },
  {
   "cell_type": "markdown",
   "source": [
    "## 3가지 레이블에 대한 예측"
   ],
   "metadata": {
    "collapsed": false,
    "pycharm": {
     "name": "#%% md\n"
    }
   }
  },
  {
   "cell_type": "markdown",
   "source": [
    "'미술' 라벨에 대한 예측"
   ],
   "metadata": {
    "collapsed": false,
    "pycharm": {
     "name": "#%% md\n"
    }
   }
  },
  {
   "cell_type": "code",
   "execution_count": 32,
   "outputs": [
    {
     "name": "stderr",
     "output_type": "stream",
     "text": [
      "2022-08-03 13:30:47.302695: I tensorflow/core/grappler/optimizers/custom_graph_optimizer_registry.cc:113] Plugin optimizer for device_type GPU is enabled.\n",
      "2022-08-03 13:30:47.428273: I tensorflow/core/grappler/optimizers/custom_graph_optimizer_registry.cc:113] Plugin optimizer for device_type GPU is enabled.\n"
     ]
    },
    {
     "name": "stdout",
     "output_type": "stream",
     "text": [
      "1/1 [==============================] - 1s 1s/step\n"
     ]
    },
    {
     "data": {
      "text/plain": "'언어'"
     },
     "execution_count": 32,
     "metadata": {},
     "output_type": "execute_result"
    }
   ],
   "source": [
    "predict_label(\"나는 동물을 크레파스로 그리는게 신나\", model)"
   ],
   "metadata": {
    "collapsed": false,
    "pycharm": {
     "name": "#%%\n"
    }
   }
  },
  {
   "cell_type": "markdown",
   "source": [
    "'관계' 라벨에 대한 예측"
   ],
   "metadata": {
    "collapsed": false,
    "pycharm": {
     "name": "#%% md\n"
    }
   }
  },
  {
   "cell_type": "code",
   "execution_count": 33,
   "outputs": [
    {
     "name": "stdout",
     "output_type": "stream",
     "text": [
      "1/1 [==============================] - 0s 179ms/step\n"
     ]
    },
    {
     "data": {
      "text/plain": "'신체'"
     },
     "execution_count": 33,
     "metadata": {},
     "output_type": "execute_result"
    }
   ],
   "source": [
    "predict_label(\"나는 친구를 도와줘서 칭찬을 받는게 좋아\", model)"
   ],
   "metadata": {
    "collapsed": false,
    "pycharm": {
     "name": "#%%\n"
    }
   }
  },
  {
   "cell_type": "markdown",
   "source": [
    "'수리'라벨에 대한 예측"
   ],
   "metadata": {
    "collapsed": false,
    "pycharm": {
     "name": "#%% md\n"
    }
   }
  },
  {
   "cell_type": "code",
   "execution_count": 34,
   "outputs": [
    {
     "name": "stdout",
     "output_type": "stream",
     "text": [
      "1/1 [==============================] - 0s 184ms/step\n"
     ]
    },
    {
     "data": {
      "text/plain": "'신체'"
     },
     "execution_count": 34,
     "metadata": {},
     "output_type": "execute_result"
    }
   ],
   "source": [
    "predict_label(\"나는 숫자를 공부해서 나중에 프로그래머가 되고 싶어요\", model)"
   ],
   "metadata": {
    "collapsed": false,
    "pycharm": {
     "name": "#%%\n"
    }
   }
  },
  {
   "cell_type": "code",
   "execution_count": 34,
   "outputs": [],
   "source": [],
   "metadata": {
    "collapsed": false,
    "pycharm": {
     "name": "#%%\n"
    }
   }
  }
 ],
 "metadata": {
  "kernelspec": {
   "display_name": "Python 3.10.4 ('intelli')",
   "language": "python",
   "name": "python3"
  },
  "language_info": {
   "codemirror_mode": {
    "name": "ipython",
    "version": 3
   },
   "file_extension": ".py",
   "mimetype": "text/x-python",
   "name": "python",
   "nbconvert_exporter": "python",
   "pygments_lexer": "ipython3",
   "version": "3.10.4"
  },
  "orig_nbformat": 4,
  "vscode": {
   "interpreter": {
    "hash": "3b274bb93569e4867fd26fecd7d75d5329e1156233149f03ba1b952d6088b262"
   }
  }
 },
 "nbformat": 4,
 "nbformat_minor": 2
}
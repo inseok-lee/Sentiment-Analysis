{
 "cells": [
  {
   "cell_type": "markdown",
   "metadata": {
    "pycharm": {
     "name": "#%% md\n"
    }
   },
   "source": [
    "# LSTM"
   ]
  },
  {
   "cell_type": "markdown",
   "metadata": {
    "pycharm": {
     "name": "#%% md\n"
    }
   },
   "source": [
    "\n",
    "## Mount Google Drive"
   ]
  },
  {
   "cell_type": "code",
   "execution_count": 1,
   "metadata": {
    "pycharm": {
     "name": "#%%\n"
    }
   },
   "outputs": [],
   "source": [
    "# Colab 사용시\n",
    "# from google.colab import drive\n",
    "# drive.mount('/content/drive')"
   ]
  },
  {
   "cell_type": "markdown",
   "metadata": {
    "pycharm": {
     "name": "#%% md\n"
    }
   },
   "source": [
    "## Install"
   ]
  },
  {
   "cell_type": "code",
   "execution_count": 2,
   "metadata": {
    "pycharm": {
     "name": "#%%\n"
    }
   },
   "outputs": [],
   "source": [
    "# !java -version\n",
    "# %pip install konlpy"
   ]
  },
  {
   "cell_type": "markdown",
   "metadata": {
    "pycharm": {
     "name": "#%% md\n"
    }
   },
   "source": [
    "## Import Library"
   ]
  },
  {
   "cell_type": "code",
   "execution_count": 3,
   "metadata": {
    "pycharm": {
     "name": "#%%\n"
    }
   },
   "outputs": [
    {
     "name": "stdout",
     "output_type": "stream",
     "text": [
      "Hangul font is set!\n"
     ]
    }
   ],
   "source": [
    "# data\n",
    "import pandas as pd\n",
    "import pickle\n",
    "\n",
    "# preprocessing\n",
    "from konlpy.tag import Komoran\n",
    "from sklearn.model_selection import train_test_split\n",
    "from tensorflow.keras.preprocessing.text import Tokenizer\n",
    "from tensorflow.keras.preprocessing.sequence import pad_sequences\n",
    "\n",
    "# model\n",
    "import tensorflow as tf\n",
    "from tensorflow.keras import Sequential\n",
    "from tensorflow.keras.layers import Dense, Embedding, LSTM\n",
    "from tensorflow.keras.models import load_model\n",
    "from tensorflow.keras.callbacks import EarlyStopping, ModelCheckpoint\n",
    "\n",
    "# evaluation\n",
    "from sklearn.metrics import confusion_matrix, accuracy_score, precision_score, recall_score, f1_score\n",
    "\n",
    "# visualization\n",
    "import matplotlib.pyplot as plt\n",
    "import seaborn as sn\n",
    "\n",
    "# env\n",
    "import os\n",
    "from tqdm import tqdm\n",
    "import hangul_font"
   ]
  },
  {
   "cell_type": "markdown",
   "metadata": {
    "pycharm": {
     "name": "#%% md\n"
    }
   },
   "source": [
    "## GPU Check"
   ]
  },
  {
   "cell_type": "code",
   "execution_count": 4,
   "metadata": {
    "pycharm": {
     "name": "#%%\n"
    }
   },
   "outputs": [
    {
     "name": "stdout",
     "output_type": "stream",
     "text": [
      "GPU foundMetal device set to: Apple M1\n",
      "\n"
     ]
    },
    {
     "name": "stderr",
     "output_type": "stream",
     "text": [
      "2022-08-03 13:36:36.451948: I tensorflow/core/common_runtime/pluggable_device/pluggable_device_factory.cc:305] Could not identify NUMA node of platform GPU ID 0, defaulting to 0. Your kernel may not have been built with NUMA support.\n",
      "2022-08-03 13:36:36.452193: I tensorflow/core/common_runtime/pluggable_device/pluggable_device_factory.cc:271] Created TensorFlow device (/device:GPU:0 with 0 MB memory) -> physical PluggableDevice (device: 0, name: METAL, pci bus id: <undefined>)\n"
     ]
    }
   ],
   "source": [
    "if tf.test.gpu_device_name():\n",
    "    print('GPU found')\n",
    "else:\n",
    "    print('No GPU found')"
   ]
  },
  {
   "cell_type": "markdown",
   "source": [
    "## Hyper parameters"
   ],
   "metadata": {
    "collapsed": false,
    "pycharm": {
     "name": "#%% md\n"
    }
   }
  },
  {
   "cell_type": "code",
   "execution_count": 5,
   "outputs": [],
   "source": [
    "# Path\n",
    "# Colab\n",
    "# DATA_DIR = '/content/drive/MyDrive/miso/intelli/data/'\n",
    "# SAVE_DIR = '/content/drive/MyDrive/miso/intelli/model/LSTM/'\n",
    "# LOAD_DIR = '/content/drive/MyDrive/miso/intelli/model/LSTM/'\n",
    "\n",
    "# Local\n",
    "DATA_DIR = '/Users/inseoklee/Desktop/miso/intelli/data/'\n",
    "SAVE_DIR = '/Users/inseoklee/Desktop/miso/intelli/model/LSTM_eda/'\n",
    "LOAD_DIR = '/Users/inseoklee/Desktop/miso/intelli/model/LSTM_eda/'\n",
    "\n",
    "# Model\n",
    "# MAX_LEN -> 패딩 단계에서 설정\n",
    "OUTPUT_DIM = 128 # Embedding layer\n",
    "UNITS = 64 # LSTM layer\n",
    "DROPOUT = 0.2 # LSTM layer\n",
    "OUTPUT = 7 # Dense layer\n",
    "\n",
    "# Evaluation\n",
    "EPOCHS = 10\n",
    "VERBOSE = 1\n",
    "BATCH_SIZE = 128\n",
    "PATIENCE = 3\n",
    "VALIDATION_SPLIT = 0.2"
   ],
   "metadata": {
    "collapsed": false,
    "pycharm": {
     "name": "#%%\n"
    }
   }
  },
  {
   "cell_type": "markdown",
   "source": [
    "## Load Data"
   ],
   "metadata": {
    "collapsed": false,
    "pycharm": {
     "name": "#%% md\n"
    }
   }
  },
  {
   "cell_type": "code",
   "execution_count": 6,
   "outputs": [
    {
     "name": "stdout",
     "output_type": "stream",
     "text": [
      "<class 'pandas.core.frame.DataFrame'>\n",
      "RangeIndex: 57132 entries, 0 to 57131\n",
      "Data columns (total 2 columns):\n",
      " #   Column  Non-Null Count  Dtype \n",
      "---  ------  --------------  ----- \n",
      " 0   답변      57132 non-null  object\n",
      " 1   지능      57132 non-null  object\n",
      "dtypes: object(2)\n",
      "memory usage: 892.8+ KB\n"
     ]
    }
   ],
   "source": [
    "df = pd.read_csv(DATA_DIR + 'eda_intelli.csv')\n",
    "df.info()"
   ],
   "metadata": {
    "collapsed": false,
    "pycharm": {
     "name": "#%%\n"
    }
   }
  },
  {
   "cell_type": "code",
   "execution_count": 7,
   "outputs": [
    {
     "data": {
      "text/plain": "<Figure size 1152x576 with 1 Axes>",
      "image/png": "[encoded data removed]"
     },
     "metadata": {},
     "output_type": "display_data"
    }
   ],
   "source": [
    "label = df['지능']\n",
    "\n",
    "plt.figure(figsize=(16, 8))\n",
    "plt.hist(label)\n",
    "plt.show()"
   ],
   "metadata": {
    "collapsed": false,
    "pycharm": {
     "name": "#%%\n"
    }
   }
  },
  {
   "cell_type": "markdown",
   "source": [
    "## Train Test Split"
   ],
   "metadata": {
    "collapsed": false,
    "pycharm": {
     "name": "#%% md\n"
    }
   }
  },
  {
   "cell_type": "code",
   "execution_count": 8,
   "outputs": [],
   "source": [
    "X = df.답변\n",
    "y = df.지능\n",
    "\n",
    "X_train, X_test, y_train, y_test = train_test_split(\n",
    "    X, y, test_size=0.2, shuffle=True, random_state=34, stratify=y\n",
    ")"
   ],
   "metadata": {
    "collapsed": false,
    "pycharm": {
     "name": "#%%\n"
    }
   }
  },
  {
   "cell_type": "code",
   "execution_count": 9,
   "outputs": [
    {
     "name": "stdout",
     "output_type": "stream",
     "text": [
      "X_train shape:  (45705,)\n",
      "y_train shape:  (45705,)\n",
      "\n",
      "X_test shape:  (11427,)\n",
      "y_test shape:  (11427,)\n"
     ]
    }
   ],
   "source": [
    "print('X_train shape: ', X_train.shape)\n",
    "print('y_train shape: ', y_train.shape)\n",
    "print('\\nX_test shape: ', X_test.shape)\n",
    "print('y_test shape: ', y_test.shape)"
   ],
   "metadata": {
    "collapsed": false,
    "pycharm": {
     "name": "#%%\n"
    }
   }
  },
  {
   "cell_type": "markdown",
   "source": [
    "## Preprocessing"
   ],
   "metadata": {
    "collapsed": false,
    "pycharm": {
     "name": "#%% md\n"
    }
   }
  },
  {
   "cell_type": "markdown",
   "source": [
    "### Train Tokenization"
   ],
   "metadata": {
    "collapsed": false,
    "pycharm": {
     "name": "#%% md\n"
    }
   }
  },
  {
   "cell_type": "code",
   "execution_count": 10,
   "outputs": [
    {
     "name": "stdout",
     "output_type": "stream",
     "text": [
      "\n",
      "systemMemory: 16.00 GB\n",
      "maxCacheSize: 5.33 GB\n",
      "\n",
      "[0.004s][warning][os,thread] Attempt to protect stack guard pages failed (0x000000016b1e0000-0x000000016b1ec000).\n",
      "[0.004s][warning][os,thread] Attempt to deallocate stack guard pages failed.\n"
     ]
    }
   ],
   "source": [
    "komoran = Komoran()\n",
    "\n",
    "# 불용어(Stop Words) 제거\n",
    "stop_pos_tags = ['IC', 'JKS', 'JKC', 'JKG', 'JKO', 'JKB', 'JKV', 'JKQ', 'JX',\n",
    "                   'EF', 'ETN', 'ETM', 'XSA', 'SF', 'SP', 'SS', 'SE', 'SO', 'SL', 'SH',\n",
    "                   'SW', 'NF', 'NV', 'SN', 'NA']\n",
    "\n",
    "# 어간 원형 복원(Lemmatization)\n",
    "# 동사와 형용사의 경우에는 어간(Stem)에 '다'를 붙여서 기본형으로 복원\n",
    "def tokenize(corpus, stop_pos_tags):\n",
    "    result = []\n",
    "    pairs = komoran.pos(corpus)\n",
    "    for pair in pairs:\n",
    "        morph, pos = pair\n",
    "        if pos not in stop_pos_tags:\n",
    "            if pos in ['VV', 'VA', 'VX', 'VCP', 'VCN']:\n",
    "                morph = morph + '다'\n",
    "            result.append(morph)\n",
    "    return result"
   ],
   "metadata": {
    "collapsed": false,
    "pycharm": {
     "name": "#%%\n"
    }
   }
  },
  {
   "cell_type": "code",
   "execution_count": 11,
   "outputs": [
    {
     "name": "stderr",
     "output_type": "stream",
     "text": [
      "100%|██████████| 45705/45705 [00:10<00:00, 4366.14it/s]\n"
     ]
    }
   ],
   "source": [
    "# 토큰을 만들고 리스트에 저장\n",
    "clean_train_text = []\n",
    "for sample in tqdm(X_train):\n",
    "    clean_train_text.append(tokenize(sample, stop_pos_tags))"
   ],
   "metadata": {
    "collapsed": false,
    "pycharm": {
     "name": "#%%\n"
    }
   }
  },
  {
   "cell_type": "code",
   "execution_count": 12,
   "outputs": [
    {
     "data": {
      "text/plain": "[['트라이앵글', '놀다', '면서', '있다', '거', '잘', '하', '아'],\n ['신', '나', '관찰', '하', '게', '석류', '을'],\n ['운라', '림', '듣다', '게', '즐겁다', '어']]"
     },
     "execution_count": 12,
     "metadata": {},
     "output_type": "execute_result"
    }
   ],
   "source": [
    "clean_train_text[:3]"
   ],
   "metadata": {
    "collapsed": false,
    "pycharm": {
     "name": "#%%\n"
    }
   }
  },
  {
   "cell_type": "markdown",
   "source": [
    "### Test Tokenization"
   ],
   "metadata": {
    "collapsed": false,
    "pycharm": {
     "name": "#%% md\n"
    }
   }
  },
  {
   "cell_type": "code",
   "execution_count": 13,
   "outputs": [
    {
     "name": "stderr",
     "output_type": "stream",
     "text": [
      "100%|██████████| 11427/11427 [00:02<00:00, 5264.40it/s]\n"
     ]
    }
   ],
   "source": [
    "# 토큰을 만들고 리스트에 저장\n",
    "clean_test_text = []\n",
    "for sample in tqdm(X_test):\n",
    "    clean_test_text.append(tokenize(sample, stop_pos_tags))"
   ],
   "metadata": {
    "collapsed": false,
    "pycharm": {
     "name": "#%%\n"
    }
   }
  },
  {
   "cell_type": "markdown",
   "source": [
    "### Vectorization"
   ],
   "metadata": {
    "collapsed": false,
    "pycharm": {
     "name": "#%% md\n"
    }
   }
  },
  {
   "cell_type": "code",
   "execution_count": 14,
   "outputs": [
    {
     "name": "stdout",
     "output_type": "stream",
     "text": [
      "[[141, 36, 12, 21, 8, 6, 3, 4], [11, 5, 19, 3, 2, 882, 15], [195, 285, 20, 2, 10, 7]]\n"
     ]
    }
   ],
   "source": [
    "tokenizer_name = 'tokenizer.pickle'\n",
    "save_path = os.path.join(SAVE_DIR, tokenizer_name)\n",
    "\n",
    "tokenizer = Tokenizer(oov_token=True)\n",
    "\n",
    "try:\n",
    "    tokenizer.fit_on_texts(clean_train_text)\n",
    "    train_sequences = tokenizer.texts_to_sequences(clean_train_text)\n",
    "    test_sequences = tokenizer.texts_to_sequences(clean_test_text)\n",
    "\n",
    "except:\n",
    "    print('Already tokenized')\n",
    "\n",
    "with open(save_path, 'wb') as f:\n",
    "    pickle.dump(tokenizer, f, protocol=pickle.HIGHEST_PROTOCOL)\n",
    "\n",
    "print(train_sequences[:3])"
   ],
   "metadata": {
    "collapsed": false,
    "pycharm": {
     "name": "#%%\n"
    }
   }
  },
  {
   "cell_type": "markdown",
   "source": [
    "### Set vocab_size"
   ],
   "metadata": {
    "collapsed": false,
    "pycharm": {
     "name": "#%% md\n"
    }
   }
  },
  {
   "cell_type": "code",
   "execution_count": 15,
   "outputs": [
    {
     "name": "stdout",
     "output_type": "stream",
     "text": [
      "2061\n"
     ]
    }
   ],
   "source": [
    "VOCAB_SIZE = len(tokenizer.word_index) + 1\n",
    "print(VOCAB_SIZE)"
   ],
   "metadata": {
    "collapsed": false,
    "pycharm": {
     "name": "#%%\n"
    }
   }
  },
  {
   "cell_type": "markdown",
   "source": [
    "### Get vocab items"
   ],
   "metadata": {
    "collapsed": false,
    "pycharm": {
     "name": "#%% md\n"
    }
   }
  },
  {
   "cell_type": "code",
   "execution_count": 16,
   "outputs": [
    {
     "name": "stdout",
     "output_type": "stream",
     "text": [
      "[('게', 31673), ('하', 30748), ('아', 21529), ('나', 14713), ('잘', 13120), ('어', 12205), ('거', 11483), ('좋다', 10722), ('즐겁다', 10307), ('신', 10227), ('면서', 7491), ('연주', 7302), ('소리', 6464), ('을', 6215), ('고', 5751), ('하다', 5158), ('구경', 5027), ('관찰', 5013), ('듣다', 3942), ('있다', 3188), ('는지', 3113), ('나다', 2557), ('배우다', 2417), ('되다', 2385), ('내다', 2344), ('읽다', 2166), ('주다', 1954), ('보다', 1798), ('노래', 1624), ('지', 1590), ('치다', 1566), ('어떤', 1525), ('뭔', 1508), ('부르다', 1490), ('놀다', 1443), ('싶다', 1410), ('이다', 1408), ('무슨', 1354), ('음악', 1319), ('가지다', 1294), ('여러', 1290), ('르', 1289), ('이야기', 1275), ('맞히다', 1269), ('흉내', 1223), ('입', 1182), ('꿈', 1175), ('어요', 1150), ('먹이', 1143), ('예', 1141), ('악기', 1133), ('그림', 1087), ('친구', 1075), ('기르다', 1039), ('속', 1009), ('이', 993), ('소', 952), ('놓다', 817), ('수', 787), ('치', 691), ('뛰다', 684), ('만들다', 663), ('어서', 626), ('때', 557), ('들', 542), ('그리다', 540), ('가', 525), ('엄마', 511), ('시간', 510), ('주인공', 509), ('나오다', 505), ('과', 478), ('아빠', 467), ('만나다', 463), ('맞추다', 453), ('어떻다', 452), ('식물', 444), ('것', 426), ('쓰다', 404), ('그릴', 389), ('전', 381), ('지다', 378), ('북', 376), ('상상', 366), ('섞다', 350), ('잠들다', 348), ('으면', 332), ('가다', 330), ('동물', 329), ('이랑', 319), ('많이', 316), ('ㄴ지', 307), ('역할', 296), ('극', 296), ('예쁘다', 295), ('똑똑', 295), ('모양', 290), ('색', 285), ('색깔', 282), ('아서', 274), ('호른', 268), ('말', 267), ('꽃', 261), ('알다', 256), ('박', 255), ('놀이', 255), ('들다', 253), ('단', 252), ('으면서', 239), ('선생님', 237), ('그', 231), ('시', 230), ('피아노', 229), ('색칠', 221), ('숫자', 214), ('러', 210), ('나누다', 209), ('첼로', 202), ('공부', 200), ('하프', 200), ('장구', 198), ('방향', 197), ('초', 195), ('일', 194), ('봉고', 193), ('소금', 192), ('동화', 192), ('기타', 190), ('베다', 190), ('사이', 187), ('오르간', 185), ('파', 185), ('금', 184), ('종', 184), ('당적', 184), ('었', 182), ('튜바', 181), ('탐탐', 181), ('사', 181), ('트라이앵글', 179), ('발랄라이카', 178), ('해금', 177), ('가야금', 177), ('심벌즈', 177), ('철', 176), ('곳', 174), ('쳄발로', 173), ('팀파니', 173), ('트롬본', 173), ('트럼펫', 173), ('물감', 172), ('공후', 170), ('시집', 170), ('나무', 170), ('대쟁', 169), ('나각', 169), ('집', 169), ('받다', 169), ('작은북', 168), ('단어', 168), ('코넷', 168), ('마라카스', 167), ('피리', 167), ('만돌린', 166), ('플루트', 166), ('무을', 165), ('오카리나', 165), ('태평소', 165), ('키타라', 164), ('아울로스', 164), ('음', 164), ('월금', 163), ('교방고', 163), ('꽹과리', 163), ('화', 162), ('비올라', 162), ('자이', 162), ('같이', 162), ('큰북', 161), ('클라리넷', 161), ('치터', 161), ('클라비코드', 161), ('탬버린', 161), ('중금', 160), ('콘트라베이스', 160), ('클레', 159), ('레', 159), ('밴조', 159), ('비파', 159), ('대금', 158), ('와', 158), ('캐스터네츠', 158), ('바이올린', 158), ('운라', 157), ('리라', 157), ('마을', 157), ('우', 157), ('피콜로', 157), ('톰톰', 157), ('아코디언', 157), ('반도네온', 156), ('관자', 156), ('오보에', 156), ('곤충', 156), ('생황', 155), ('팬플', 155), ('루트', 155), ('타다', 155), ('백파이프', 155), ('리코더', 155), ('거문고', 154), ('다른', 154), ('초적', 153), ('류트', 153), ('권', 153), ('실로폰', 152), ('자바라', 151), ('퉁소', 151), ('책', 150), ('소고', 149), ('공', 149), ('아쟁', 148), ('사람', 148), ('단편', 147), ('첼레스타', 146), ('그림책', 145), ('콩가', 143), ('단소', 142), ('따르다', 142), ('십', 141), ('색소폰', 139), ('양금', 138), ('삽화', 137), ('징', 134), ('중단편', 131), ('기', 130), ('살다', 129), ('선', 129), ('동화책', 129), ('소설', 128), ('뭐', 128), ('소설집', 127), ('전집', 126), ('동화집', 125), ('모음집', 125), ('대하다', 125), ('울다', 123), ('우리', 123), ('점', 123), ('동양화', 123), ('곱하다', 123), ('천자문', 122), ('초록색', 121), ('단편집', 121), ('논픽션', 120), ('걸다', 120), ('나발', 120), ('작품집', 118), ('가이', 118), ('산문집', 117), ('외전', 117), ('산', 117), ('소설책', 117), ('지내다', 115), ('좋아하다', 115), ('칭찬', 114), ('소설화', 114), ('당', 114), ('향', 114), ('수필집', 112), ('재밌다', 111), ('구하다', 109), ('빼다', 108), ('명작', 106), ('면', 106), ('구분', 105), ('손', 105), ('카드', 105), ('소을', 104), ('세다', 103), ('노란색', 102), ('내', 101), ('며', 100), ('림', 99), ('가지', 98), ('달', 98), ('물건', 96), ('다고', 95), ('오', 95), ('더하다', 95), ('생기다', 94), ('주황색', 94), ('안', 93), ('갖다', 93), ('체', 92), ('오늘', 92), ('종이', 92), ('조을', 92), ('얼마나', 91), ('아야', 91), ('남색', 91), ('그것', 91), ('블록', 90), ('사랑', 89), ('도형', 89), ('별', 89), ('참', 88), ('새', 88), ('파란색', 86), ('양', 86), ('빨간색', 86), ('았', 85), ('보라색', 85), ('은지', 85), ('놀이터', 84), ('홍', 84), ('이십', 83), ('년', 82), ('비오', 82), ('동생', 81), ('비', 81), ('새다', 80), ('풀', 80), ('게임', 79), ('찾다', 79), ('글', 78), ('앞', 77), ('크다', 77), ('송', 77), ('쓰기', 77), ('강아지', 76), ('피', 76), ('표범', 75), ('장', 74), ('알아맞히다', 74), ('두', 74), ('돌', 73), ('세', 73), ('자전거', 72), ('따라서', 70), ('서다', 70), ('던지다', 70), ('올', 69), ('뒤', 68), ('얘기', 68), ('춤', 67), ('노력', 67), ('벌레', 66), ('움직이다', 66), ('계산', 66), ('잎', 65), ('재미있다', 63), ('목', 63), ('고추', 62), ('토', 62), ('추다', 62), ('콩', 62), ('비교', 62), ('교사', 61), ('신나다', 61), ('숲', 60), ('이름', 59), ('가수', 59), ('춤추다', 59), ('멀리', 59), ('구', 59), ('나비', 58), ('바람', 58), ('수상', 58), ('장난감', 58), ('창포', 58), ('같다', 58), ('이용', 57), ('남', 57), ('그리고', 57), ('버섯', 56), ('뿌리다', 56), ('많다', 56), ('누구', 56), ('다래', 56), ('위', 56), ('운동', 56), ('상', 55), ('자연', 55), ('종이접기', 55), ('하늘', 55), ('거나', 55), ('몸', 54), ('리듬', 54), ('변하다', 54), ('세모', 54), ('등', 54), ('물', 53), ('골프', 53), ('몇', 53), ('쌓다', 52), ('네모', 52), ('퍼즐', 52), ('다가', 51), ('도와주다', 51), ('성', 51), ('동그라미', 51), ('호박', 51), ('백', 50), ('산수', 50), ('해보다', 50), ('리', 50), ('보', 50), ('모', 50), ('발', 50), ('친하다', 50), ('삼', 50), ('봉', 50), ('둥글다', 49), ('변화', 49), ('순서', 49), ('시다', 49), ('애', 49), ('흙', 49), ('김', 48), ('색연필', 48), ('대답', 48), ('길다', 48), ('그림자', 48), ('달리다', 47), ('바다', 47), ('일찍', 47), ('자', 47), ('낙타', 47), ('기분', 47), ('유치원', 46), ('걷다', 46), ('악어', 46), ('엄청', 46), ('박쥐', 46), ('제', 45), ('아프다', 45), ('류', 45), ('뜨다', 44), ('곰', 44), ('공책', 44), ('어느', 43), ('싸우다', 43), ('조류', 43), ('줄넘기', 43), ('토끼', 43), ('형', 43), ('어렵다', 43), ('음표', 43), ('채송화', 43), ('노루', 42), ('설명', 42), ('연필', 42), ('어디', 42), ('날짜', 42), ('오동', 42), ('록', 41), ('라이', 41), ('기억', 41), ('행', 41), ('타', 41), ('벌', 41), ('가족', 41), ('반', 41), ('크레파스', 41), ('팥', 41), ('려고', 41), ('모으다', 40), ('원', 40), ('놓아주다', 40), ('염', 40), ('사자', 40), ('사탕', 40), ('빨리', 40), ('요일', 40), ('키', 40), ('생각', 39), ('우파', 39), ('루파', 39), ('복자', 39), ('부레', 39), ('화분', 39), ('밀', 39), ('고라니', 39), ('중', 39), ('부엉이', 39), ('직박구리', 39), ('눈', 39), ('계절', 38), ('목련', 38), ('찔레', 38), ('엽', 38), ('육상', 38), ('글자', 38), ('근', 38), ('북극곰', 38), ('라', 38), ('침팬지', 38), ('육', 38), ('스컹크', 38), ('나래', 38), ('넣다', 38), ('돌고래', 38), ('비슷', 37), ('소치', 37), ('벨', 37), ('수달', 37), ('오빠', 37), ('나리', 37), ('점프', 37), ('으려고', 37), ('장단', 37), ('알아보다', 36), ('일어나다', 36), ('한', 36), ('담비', 36), ('선인장', 36), ('글짓기', 36), ('프다', 36), ('도화지', 36), ('데칼코마니', 36), ('느', 36), ('석', 36), ('사이좋다', 36), ('경영', 36), ('재규어', 36), ('거위', 36), ('뛰어다니다', 36), ('길', 36), ('국화', 36), ('난초', 36), ('봉리', 36), ('피다', 36), ('시냇물', 36), ('참외', 36), ('훌라후프', 35), ('옛날', 35), ('펭귄', 35), ('늑대', 35), ('딱따구리', 35), ('치타', 35), ('설계', 35), ('메추라기', 35), ('야자', 35), ('시합', 35), ('귀', 35), ('떨어지다', 35), ('남천', 35), ('하이에나', 34), ('시계', 34), ('고맙다', 34), ('고구', 34), ('하키', 34), ('농구', 34), ('카피바라', 34), ('숙', 34), ('닭', 34), ('독수리', 34), ('은데', 34), ('바다사자', 34), ('두더지', 34), ('트다', 34), ('스라소니', 34), ('비둘기', 34), ('이구', 34), ('아나', 34), ('퀵', 34), ('보드', 34), ('붓', 34), ('공작', 34), ('개', 34), ('코요테', 34), ('멧돼지', 33), ('고슴도치', 33), ('컴퓨터', 33), ('너구리', 33), ('연극', 33), ('산양', 33), ('생활', 33), ('무겁다', 33), ('날', 33), ('카멜레온', 33), ('감다', 33), ('판다', 33), ('고릴라', 33), ('알파카', 33), ('코알라', 33), ('정리', 33), ('줄기', 33), ('발르다', 33), ('더', 33), ('상어', 33), ('싫어하다', 33), ('청설', 32), ('구렁이', 32), ('여', 32), ('개구리', 32), ('뱀', 32), ('잡', 32), ('말씀', 32), ('가볍다', 32), ('태권도', 32), ('얼룩말', 32), ('올빼미', 32), ('여우', 32), ('우슈', 32), ('도롱뇽', 32), ('등산', 32), ('만', 32), ('미술', 32), ('칠면조', 32), ('흔들다', 31), ('달래', 31), ('비행기', 31), ('캥거루', 31), ('까마귀', 31), ('어깨', 31), ('위치', 31), ('땅', 31), ('다람쥐', 31), ('흥', 31), ('열매', 31), ('참새', 31), ('락', 31), ('주고받다', 31), ('순록', 31), ('축구', 31), ('음식', 30), ('먹다', 30), ('코뿔소', 30), ('내용', 30), ('두꺼비', 30), ('양보', 30), ('생', 30), ('언니', 30), ('제일', 30), ('살', 30), ('사회', 30), ('칠', 30), ('자라다', 30), ('패러글라이딩', 30), ('사격', 30), ('뺄셈', 30), ('들어주다', 30), ('카메라', 30), ('까치', 29), ('카누', 29), ('퓨마', 29), ('고래', 29), ('오랑우탄', 29), ('복싱', 29), ('당근', 29), ('보디빌딩', 29), ('시키다', 29), ('과학', 29), ('제비', 29), ('어야', 29), ('세팍타크로', 29), ('요', 29), ('토하다', 29), ('윈드서핑', 28), ('미어캣', 28), ('글쓰기', 28), ('앵무새', 28), ('당나귀', 28), ('야구', 28), ('코끼리', 28), ('ㄹ라', 28), ('잉', 28), ('디스크', 28), ('두루미', 28), ('스쿼시', 28), ('덧셈', 28), ('떨다', 28), ('려', 28), ('팔', 28), ('조정', 28), ('에어로빅', 28), ('파크', 28), ('감', 28), ('기러기', 28), ('오소리', 28), ('나라', 28), ('더하기', 28), ('피구', 28), ('게이트볼', 27), ('연습', 27), ('승마', 27), ('다', 27), ('정구', 27), ('제목', 27), ('고양이', 27), ('사슴', 27), ('아름답다', 27), ('당구', 27), ('지만', 27), ('기린', 27), ('댄스스포츠', 27), ('라켓볼', 27), ('묶다', 27), ('배구', 27), ('인지', 27), ('손가락', 27), ('공놀이', 27), ('어울리다', 26), ('유도', 26), ('레슬링', 26), ('방', 26), ('구구단', 26), ('체조', 26), ('줄', 26), ('열심히', 26), ('원숭이', 26), ('특징', 26), ('규칙', 26), ('영화', 26), ('옥수수', 26), ('빙상', 26), ('말다', 26), ('인라인', 26), ('스케이트', 26), ('궁도', 26), ('분수', 26), ('가방', 26), ('짓', 26), ('토란', 25), ('돌리다', 25), ('의사', 25), ('극지', 25), ('만병초', 25), ('잔', 25), ('씨름', 25), ('지하철', 25), ('아이스하키', 25), ('새싹', 25), ('다릅나무', 25), ('풋살', 25), ('나뭇잎', 25), ('나방', 25), ('달라지다', 25), ('물개', 25), ('침엽', 25), ('화해', 25), ('예주', 25), ('젓가락', 25), ('블루베리', 25), ('초목', 25), ('열', 25), ('디', 25), ('돼지풀', 25), ('고양', 25), ('마늘', 24), ('지도', 24), ('이어서', 24), ('무엇', 24), ('카', 24), ('공차', 24), ('산호수', 24), ('날리다', 24), ('백합', 24), ('반주', 24), ('메밀', 24), ('박자', 24), ('파도', 24), ('할머니', 24), ('위로', 24), ('검도', 24), ('레몬', 24), ('적', 24), ('시험', 24), ('글씨', 24), ('그대로', 24), ('머리', 24), ('연초', 24), ('사탕수수', 24), ('딩', 24), ('돋보기', 24), ('차나무', 24), ('힘찬', 24), ('레크리에이션', 24), ('나팔꽃', 24), ('바위', 24), ('리본', 24), ('개나리꽃', 24), ('빌', 24), ('바닐라', 24), ('테니스', 24), ('건', 24), ('조합', 24), ('해초', 24), ('양치류', 23), ('다르다', 23), ('영산', 23), ('좁쌀', 23), ('수영', 23), ('족구', 23), ('스키', 23), ('환삼덩굴', 23), ('으며', 23), ('할아버지', 23), ('핸드볼', 23), ('배드민턴', 23), ('생강', 23), ('은행', 23), ('찰옥수수', 23), ('부처꽃', 23), ('매다', 23), ('닥나무', 23), ('인동', 23), ('약초', 23), ('누', 23), ('개과', 23), ('쥐다', 23), ('나라꽃', 23), ('애기똥풀', 23), ('옮기다', 23), ('겨자', 23), ('라일락', 23), ('산성', 23), ('산자고', 23), ('느낌', 23), ('두상', 23), ('맞다', 23), ('종려', 23), ('들쭉나무', 22), ('홍당', 22), ('영지', 22), ('라플레시아', 22), ('방아', 22), ('남산제비꽃', 22), ('삼다', 22), ('동백꽃', 22), ('붓꽃', 22), ('현삼', 22), ('쑥갓', 22), ('수박', 22), ('오리다', 22), ('천궁', 22), ('별자리', 22), ('서양', 22), ('출수', 22), ('볼링', 22), ('유자', 22), ('양배추', 22), ('한해', 22), ('칼라', 22), ('꽃밭', 22), ('멈추다', 22), ('과자', 22), ('눕다', 22), ('삽', 22), ('연', 22), ('침', 22), ('매화', 22), ('연산', 22), ('수상스키', 22), ('활엽수', 22), ('짧다', 22), ('칙', 22), ('만화', 22), ('미나리아재비', 22), ('탁구', 22), ('이루어지다', 22), ('후추', 22), ('행동', 22), ('주위', 22), ('아몬드', 22), ('방아풀', 22), ('찾아보다', 22), ('분지', 22), ('들국화', 22), ('파라고무나무', 22), ('동요', 22), ('대', 22), ('사다', 22), ('구계', 22), ('미역', 22), ('이해', 22), ('짱', 22), ('자란', 22), ('석류', 21), ('땅속줄기', 21), ('디자이너', 21), ('훌쩍', 21), ('용담', 21), ('다리', 21), ('주무르다', 21), ('상록수', 21), ('개미', 21), ('습지', 21), ('복사', 21), ('다복솔', 21), ('악보', 21), ('비어', 21), ('두초', 21), ('칸나', 21), ('넓적사슴벌레', 21), ('갈대', 21), ('감당', 21), ('고수', 21), ('또박또박', 21), ('식용', 21), ('변호사', 21), ('생장점', 21), ('누나', 21), ('겨우살이', 21), ('진달래', 21), ('읽기', 21), ('홍매', 21), ('백목련', 21), ('청', 21), ('미래', 21), ('스케치북', 21), ('오디', 21), ('가시나무', 21), ('오크라', 21), ('약용식물', 21), ('정향', 21), ('지금', 21), ('파인애플', 21), ('배', 21), ('광성', 21), ('오동나무', 21), ('봉선화', 21), ('콩나물', 21), ('해바라기', 21), ('발광', 21), ('야채', 21), ('럭비', 21), ('억새', 21), ('로', 21), ('채', 21), ('파슬리', 21), ('수국', 21), ('제패', 21), ('분생자', 21), ('맑다', 21), ('패턴', 21), ('꽃가루', 20), ('잣', 20), ('고치다', 20), ('산수유', 20), ('사슴벌레', 20), ('밀레', 20), ('결실', 20), ('내리다', 20), ('바랑', 20), ('파파야', 20), ('추자', 20), ('사라', 20), ('간', 20), ('해당', 20), ('복사꽃', 20), ('녹조류', 20), ('작약', 20), ('구르다', 20), ('아카시아', 20), ('비름', 20), ('명사', 20), ('협죽도', 20), ('대파', 20), ('대나무', 20), ('목단', 20), ('솔', 20), ('쌍', 20), ('떡', 20), ('단풍잎돼지풀', 20), ('무우', 20), ('망고', 20), ('소철', 20), ('잔디', 20), ('컴프리', 20), ('체험', 20), ('꽃잎', 20), ('가락', 20), ('륜', 20), ('양귀비', 20), ('녹두', 20), ('자생', 20), ('토끼풀', 20), ('튤립', 20), ('베리', 20), ('작살나무', 20), ('검정', 20), ('알', 20), ('깨다', 20), ('대다', 20), ('촉감', 20), ('차', 20), ('짝', 20), ('보리', 20), ('출', 20), ('맥', 20), ('스킨스쿠버', 20), ('미안', 20), ('그레이프프루트', 20), ('잡다', 20), ('작다', 20), ('합', 20), ('두견화', 20), ('사지', 20), ('튕기다', 20), ('머루', 19), ('산딸기', 19), ('수술', 19), ('복수초', 19), ('오렌지', 19), ('장미', 19), ('창출', 19), ('코코넛', 19), ('섬유', 19), ('수수', 19), ('딸기', 19), ('두리안', 19), ('서어나무', 19), ('곡물', 19), ('토마토', 19), ('보리수', 19), ('시금치', 19), ('배아', 19), ('풍경', 19), ('벽오동', 19), ('청각', 19), ('수선화', 19), ('양파', 19), ('호랑', 19), ('거북', 19), ('판화', 19), ('동', 19), ('아욱', 19), ('명자꽃', 19), ('화서', 19), ('사과', 19), ('배엽', 19), ('검사', 19), ('다니다', 19), ('참깨', 19), ('파다', 19), ('억새풀', 19), ('부추', 19), ('노', 19), ('수생식물', 19), ('똑', 19), ('사초과', 19), ('갈다', 19), ('살구', 19), ('파리풀', 19), ('달력', 19), ('콜라', 19), ('정', 19), ('엽록체', 19), ('마스', 19), ('승', 19), ('쑥', 19), ('봉숭아', 19), ('석송', 19), ('느티나무', 19), ('마타리', 19), ('식충식물', 19), ('산사나무', 19), ('귤', 19), ('관목', 19), ('잡목', 19), ('콜라나무', 19), ('교목', 18), ('싸리', 18), ('충국', 18), ('개살구', 18), ('다치다', 18), ('부', 18), ('유채', 18), ('아주까리', 18), ('손바닥', 18), ('홍두', 18), ('덩굴식물', 18), ('체육', 18), ('ㄴ다고', 18), ('수련', 18), ('목화', 18), ('캐러웨이', 18), ('박꽃', 18), ('오미자', 18), ('배추', 18), ('독버섯', 18), ('꽃차례', 18), ('양치식물', 18), ('소방', 18), ('맹꽁', 18), ('ㄹ가', 18), ('땅콩', 18), ('계피', 18), ('찌다', 18), ('광', 18), ('거리', 18), ('우주', 18), ('맥문동', 18), ('사마귀', 18), ('반딧불', 18), ('멜론', 18), ('셀러리', 18), ('구근', 18), ('야자수', 18), ('생장', 18), ('셈', 18), ('구절', 18), ('물망초', 18), ('음지', 18), ('갓', 18), ('서로', 18), ('데이지', 18), ('준', 18), ('엽록소', 18), ('낙엽송', 18), ('매', 18), ('무궁화', 18), ('세쿼이아', 18), ('자귀나무', 18), ('체리', 18), ('독', 18), ('카네이션', 18), ('복숭아', 18), ('포도', 18), ('나비나물', 18), ('도사', 18), ('푸란', 18), ('실버들', 17), ('부전', 17), ('자다', 17), ('맛있다', 17), ('연출가', 17), ('대추', 17), ('그라스', 17), ('국수나무', 17), ('무용', 17), ('감저', 17), ('미', 17), ('덩굴', 17), ('작곡가', 17), ('박쥐나무', 17), ('삼백초', 17), ('기술자', 17), ('망초', 17), ('아보카도', 17), ('십팔', 17), ('담쟁이덩굴', 17), ('고사리', 17), ('개양귀비', 17), ('선수', 17), ('이끼', 17), ('개암', 17), ('피망', 17), ('민들레', 17), ('장면', 17), ('겨울', 17), ('분열조직', 17), ('저', 17), ('나리다', 17), ('수유', 17), ('도움', 17), ('삼칠', 17), ('평론', 17), ('백화', 17), ('싹', 17), ('단화', 17), ('날개', 17), ('는데', 17), ('녹조', 17), ('수양', 17), ('무화과', 17), ('복', 17), ('분자', 17), ('녹조식물', 17), ('조립', 16), ('배우', 16), ('버들', 16), ('심리학', 16), ('무', 16), ('태', 16), ('얻다', 16), ('반짝반짝', 16), ('질경', 16), ('이런', 16), ('수초', 16), ('모시다', 16), ('벼', 16), ('상아', 16), ('군인', 16), ('십오', 16), ('석남', 16), ('선물', 16), ('부루', 16), ('시네', 16), ('라리', 16), ('모란', 16), ('찰벼', 16), ('씀바귀', 16), ('발가', 16), ('감자', 16), ('홍조식물', 16), ('동아', 16), ('매미', 16), ('바나나', 16), ('프로듀서', 16), ('배꼽', 16), ('고마리', 16), ('장미꽃', 16), ('알로에', 16), ('야자나무', 16), ('주변', 16), ('라벤더', 16), ('이삭', 16), ('사비', 16), ('고기', 16), ('두충', 16), ('개망초', 16), ('바구니', 16), ('연습실', 16), ('좁다', 16), ('양이', 15), ('얼', 15), ('로봇', 15), ('금방', 15), ('밖', 15), ('핑크', 15), ('선곡', 15), ('종가', 15), ('미끄럼틀', 15), ('그네', 15), ('목소리', 15), ('공학자', 15), ('공인', 15), ('넓이', 15), ('상쾌', 15), ('느끼다', 15), ('따', 15), ('둥', 15), ('둥둥', 15), ('학자', 15), ('까다', 15), ('해랑', 15), ('휘어지다', 15), ('소고로', 15), ('엔지니어', 15), ('메', 15), ('부드럽다', 15), ('높이', 15), ('견과', 15), ('인삼', 15), ('회계', 15), ('푸른', 15), ('찍다', 15), ('완성', 15), ('칡', 15), ('코스모스', 15), ('덮다', 15), ('제작', 15), ('마리', 15), ('체육관', 15), ('받아쓰기', 15), ('소수', 15), ('키우다', 15), ('둘', 15), ('개나리', 15), ('보아주다', 15), ('향유', 14), ('난', 14), ('단풍', 14), ('실험', 14), ('적송', 14), ('쥐', 14), ('쐐기풀', 14), ('군가', 14), ('세일즈맨', 14), ('유재석', 14), ('똑바르다', 14), ('반듯', 14), ('도토리', 14), ('왜', 14), ('맹꽁이', 14), ('나가다', 14), ('레고', 14), ('든', 14), ('심부름', 14), ('양미역취', 14), ('뛰어오르다', 14), ('호랑이', 14), ('건지', 14), ('들려주다', 14), ('낚시제비꽃', 14), ('단추', 14), ('미끄럼', 14), ('작곡', 14), ('귀담다', 14), ('일기', 14), ('바', 14), ('촉', 14), ('시골', 14), ('냄새', 14), ('모형', 14), ('합치다', 14), ('비다', 14), ('관장', 13), ('색소', 13), ('폰치', 13), ('시소', 13), ('자두', 13), ('지켜보다', 13), ('수이', 13), ('돌다', 13), ('힘들다', 13), ('친절', 13), ('홍다리사슴벌레', 13), ('훨훨', 13), ('강사', 13), ('얘', 13), ('밤', 13), ('왕사슴벌레', 13), ('ㄴ가', 13), ('바깥', 13), ('술래잡기', 13), ('지렁이', 13), ('만지다', 13), ('정치가', 13), ('함께', 13), ('징검다리', 13), ('흔들리다', 13), ('빼기', 13), ('보라', 13), ('끼우다', 13), ('멋쟁이딱정벌레', 13), ('돌보다', 13), ('운전', 13), ('빈칸', 13), ('들어가다', 13), ('ㄹ지', 13), ('소꿉놀이', 13), ('백조', 13), ('거북이', 13), ('률', 13), ('해시계', 13), ('모래', 13), ('맡아보다', 13), ('징치', 12), ('장수풍뎅이', 12), ('시작', 12), ('공연', 12), ('퀴리', 12), ('꼬마장수말벌', 12), ('프로그래머', 12), ('역활', 12), ('오다', 12), ('이어', 12), ('회계사', 12), ('벽', 12), ('점점', 12), ('연하다', 12), ('짙은', 12), ('마이크', 12), ('예절', 12), ('뜀틀', 12), ('비밀', 12), ('묻다', 12), ('내기', 12), ('뛰쳐나오다', 12), ('카레이서', 12), ('동물원', 12), ('인사', 12), ('환경', 12), ('복지', 12), ('건너다', 12), ('털다', 12), ('고개', 12), ('끄덕끄덕', 12), ('하마', 12), ('숨바꼭질', 12), ('뛰기', 12), ('항아리', 12), ('뿔', 12), ('채소', 12), ('택시', 12), ('통하다', 12), ('오른쪽', 12), ('울음', 12), ('오리', 12), ('방법', 12), ('종로', 12), ('징가', 12), ('교수', 12), ('박수', 12), ('꼬마', 12), ('큐브', 12), ('숨다', 12), ('왕거위벌레', 12), ('발레리나', 12), ('전과', 12), ('먼저', 12), ('합창', 12), ('환하다', 12), ('상자', 12), ('직접', 11), ('연푸르다', 11), ('땅강아지', 11), ('앉다', 11), ('옛', 11), ('방송인', 11), ('신데렐라', 11), ('구부리다', 11), ('언가', 11), ('줍다', 11), ('켜다', 11), ('공룡', 11), ('기타로', 11), ('멧누에나방', 11), ('사랑해', 11), ('구슬', 11), ('굴리다', 11), ('아기', 11), ('씩씩', 11), ('가을', 11), ('제비나비', 11), ('리코', 11), ('더치', 11), ('송장벌레', 11), ('가르치다', 11), ('검정말벌', 11), ('파일럿', 11), ('소가', 11), ('골대', 11), ('면적', 11), ('부치다', 11), ('듯', 11), ('교집합', 11), ('바람개비', 11), ('차다', 11), ('화나다', 11), ('않다', 11), ('아티스트', 11), ('벚', 11), ('기어가다', 11), ('선교사', 11), ('작가', 11), ('악', 11), ('월', 11), ('경찰', 11), ('다우리아사슴벌레', 11), ('뽀뽀', 11), ('뽀다', 11), ('빌리다', 11), ('멤논제비나비', 11), ('백남준', 11), ('구름', 11), ('좀사마귀', 11), ('땅벌', 11), ('물잠자리', 11), ('신이', 11), ('왼쪽', 11), ('꼬리', 11), ('가꾸다', 11), ('외교관', 11), ('끼리', 11), ('댄서', 11), ('뚜벅뚜벅', 11), ('애기', 11), ('벨로', 11), ('사각형', 11), ('쌍살벌', 11), ('끝', 11), ('길이', 11), ('오바마', 11), ('장수말벌', 11), ('난타', 11), ('돕다', 11), ('드리다', 11), ('분류', 11), ('종치', 11), ('그래픽', 11), ('넓다', 11), ('멋조롱박딱정벌레', 10), ('들리다', 10), ('라마', 10), ('다시', 10), ('날다', 10), ('지구', 10), ('털보말벌', 10), ('새롭다', 10), ('곱셈', 10), ('쏘이다', 10), ('요리', 10), ('양금로', 10), ('왕풍뎅이', 10), ('털어놓다', 10), ('균형', 10), ('잡기', 10), ('편지', 10), ('팡팡', 10), ('보살피다', 10), ('부채', 10), ('행복', 10), ('새집', 10), ('짓다', 10), ('직선', 10), ('곡선', 10), ('스포츠', 10), ('관리', 10), ('원표애보라사슴벌레', 10), ('태평', 10), ('양봉꿀벌', 10), ('기자', 10), ('실베짱이', 10), ('늘', 10), ('물장군', 10), ('왕귀뚜라미', 10), ('사향제비나비', 10), ('아래', 10), ('바퀴', 10), ('떠보다', 10), ('여치', 10), ('타조', 10), ('호랑나비', 10), ('연예인', 10), ('삼각형', 10), ('쇼', 10), ('염소', 10), ('잇다', 10), ('세익스피어', 10), ('지르다', 10), ('채집', 10), ('풍', 10), ('택', 10), ('한국홍가슴개미', 10), ('손뼉', 10), ('주홍길앞잡이', 10), ('사슴풍뎅이', 9), ('개그맨', 9), ('긴꼬리제비나비', 9), ('대교', 9), ('라디오', 9), ('자장가', 9), ('배추흰나비', 9), ('어라', 9), ('회색', 9), ('말벌', 9), ('잔물땡땡이', 9), ('대벌레', 9), ('미접', 9), ('운문산', 9), ('영화 음악', 9), ('도', 9), ('남방제비나비', 9), ('메이크업', 9), ('두점박이사슴벌레', 9), ('청띠제비나비', 9), ('거짓말', 9), ('향기', 9), ('철봉', 9), ('오래', 9), ('재래꿀벌', 9), ('애사슴벌레', 9), ('누다', 9), ('음대', 9), ('농장', 9), ('운영', 9), ('카피라이터', 9), ('작은청동하늘소', 9), ('사물', 9), ('알락꼽등이', 9), ('붉다', 9), ('이봉주', 9), ('소관', 9), ('자치', 9), ('떼', 9), ('큐레이터', 9), ('산호랑나비', 9), ('들소', 9), ('홍단딱정벌레', 9), ('업무', 9), ('담당', 9), ('깡충깡충', 9), ('기업', 9), ('엎드리다', 9), ('가위', 9), ('마케팅', 8), ('조사', 8), ('햇빛', 8), ('풍뎅이', 8), ('번역', 8), ('스포츠 에이전트', 8), ('달리기', 8), ('호텔', 8), ('해설', 8), ('철써기', 8), ('왕사마귀', 8), ('돼지', 8), ('아이돌', 8), ('킹', 8), ('가우디', 8), ('사서', 8), ('모사', 8), ('소설가', 8), ('매장', 8), ('대통령', 8), ('물통', 8), ('떨어뜨리다', 8), ('음반', 8), ('감상', 8), ('해', 8), ('꼽등이', 8), ('고갱', 8), ('카페', 8), ('넓적배사마귀', 8), ('발표', 8), ('톱사슴벌레', 8), ('우장춘', 8), ('장수하늘소', 8), ('비틀다', 8), ('상담원', 8), ('아나운서', 8), ('조각가', 8), ('스카프', 8), ('산제비나비', 8), ('임', 8), ('ㄹ래', 8), ('너', 8), ('자르다', 8), ('언론인', 8), ('탐정', 8), ('신동엽', 7), ('부인', 7), ('사육사', 7), ('동물학', 7), ('슈바이처', 7), ('항해사', 7), ('꽃집', 7), ('피카소', 7), ('털보왕사슴벌레', 7), ('심리치료', 7), ('조류학', 7), ('김현우', 7), ('찰리', 7), ('채플린', 7), ('처칠', 7), ('이벤트', 7), ('사업가', 7), ('중베짱이', 7), ('아인슈타인', 7), ('이외수', 7), ('지도자', 7), ('곰 세 마리', 7), ('전략', 7), ('안철수', 7), ('큰주홍부전나비', 7), ('문학 평론', 7), ('절', 7), ('고고학', 7), ('도예', 7), ('화가', 7), ('루터', 7), ('마틴', 7), ('조리사', 7), ('천문학자', 7), ('수학자', 7), ('드가', 7), ('사회 운동', 7), ('운전기사', 7), ('분', 7), ('작은 수', 7), ('모옌', 7), ('공원', 7), ('인', 7), ('주', 7), ('카운슬러', 7), ('거리다', 7), ('김혜자', 7), ('생물학자', 7), ('정약용', 7), ('갈릴레이', 7), ('펀드', 7), ('박물관', 7), ('손기정', 7), ('수학', 7), ('의', 7), ('찰리 채플린', 7), ('보석', 7), ('설리번', 7), ('설', 7), ('톨스토이', 7), ('경락', 7), ('마사지', 7), ('샤넬', 7), ('비틀즈', 7), ('곤충학', 7), ('조선희', 7), ('에이전트', 7), ('머', 7), ('경호원', 7), ('마이클', 7), ('웨딩', 7), ('삽화가', 6), ('다빈치', 6), ('편', 6), ('아이유', 6), ('발레리', 6), ('나이', 6), ('안내원', 6), ('컴', 6), ('뉴튼', 6), ('낙원', 6), ('마네', 6), ('컨설턴트', 6), ('나이팅게일', 6), ('래', 6), ('종교', 6), ('빠르다', 6), ('간호사', 6), ('식물학', 6), ('이순신', 6), ('서태지', 6), ('헬스', 6), ('트레이너', 6), ('한의사', 6), ('베르', 6), ('레이첼', 6), ('카슨', 6), ('엷은털왕사슴벌레', 6), ('유전', 6), ('드', 6), ('미화원', 6), ('치과의', 6), ('한승헌', 6), ('장영실', 6), ('세종대왕', 6), ('뮤지컬', 6), ('생물', 6), ('학교', 6), ('교장', 6), ('마라', 6), ('도나', 6), ('기상학', 6), ('만화가', 6), ('증권', 6), ('분석', 6), ('성악가', 6), ('장유', 6), ('지리학', 6), ('호스트', 6), ('우즈', 6), ('매니저', 6), ('링컨', 6), ('인테리어', 6), ('랴', 6), ('샤오', 6), ('정신', 6), ('음악가', 6), ('표창원', 6), ('영업', 6), ('사원', 6), ('미켈란젤로', 6), ('아이', 6), ('이브', 6), ('베토벤', 6), ('모네', 6), ('반기문', 6), ('김대중', 6), ('꾸다', 6), ('베이비', 6), ('루스', 6), ('생일', 6), ('박세리', 6), ('실', 6), ('마술사', 6), ('펠레', 6), ('승무원', 6), ('강', 6), ('시설', 6), ('선장', 6), ('괴테', 6), ('도감', 6), ('경리', 6), ('보디가드', 6), ('조오련', 6), ('로뎅', 5), ('판매원', 5), ('정보기관', 5), ('모차르트', 5), ('허준', 5), ('학', 5), ('음향', 5), ('외과의', 5), ('김구', 5), ('에디슨', 5), ('나폴레옹', 5), ('통계학자', 5), ('스타일', 5), ('리스트', 5), ('파브르', 5), ('정명훈', 5), ('러스트', 5), ('레이', 5), ('터', 5), ('설교', 5), ('물리치료', 5), ('리포터', 5), ('롤링', 5), ('조앤', 5), ('스턴', 5), ('박맹호', 5), ('은행원', 5), ('감시원', 5), ('방송국', 5), ('원예', 5), ('방송', 5), ('이상묵', 5), ('고아원', 5), ('원장', 5), ('밤나무산누에나방', 5), ('김연아', 5), ('강수진', 5), ('권기옥', 5), ('목사', 5), ('약사', 5), ('미야자키 하야오', 5), ('이국', 5), ('키즈', 5), ('타이거', 5), ('유', 5), ('판사', 5), ('박찬호', 5), ('손석희', 5), ('대학교수', 5), ('다윈', 5), ('메다', 5), ('ㄴ데', 5), ('조수미', 5), ('수녀', 5), ('최진순', 5), ('연설', 5), ('레크레이션', 5), ('수의사', 5), ('안무', 5), ('과학자', 5), ('경', 5), ('간디', 5), ('야구장', 5), ('고산', 5), ('서예', 5), ('제인', 5), ('박재범', 5), ('안데르센', 5), ('연구원', 5), ('윤', 5), ('생진', 5), ('포', 5), ('파티', 5), ('정비', 5), ('젤리', 5), ('농', 5), ('연구', 5), ('샘물', 5), ('황영조', 5), ('윤선', 5), ('애견', 5), ('아놀드', 5), ('코디네이터', 5), ('정의', 4), ('채연', 4), ('오리아나 팔라치', 4), ('소녀시대', 4), ('장한나', 4), ('탤런트', 4), ('영화배우', 4), ('송유근', 4), ('마이클 잭슨', 4), ('베르나르', 4), ('애니메이터', 4), ('건축', 4), ('들판', 4), ('테', 4), ('광고인', 4), ('어니스트 섀클턴', 4), ('통역', 4), ('삼성', 4), ('박지성', 4), ('피아니스트', 4), ('자영업자', 4), ('애플', 4), ('해주', 4), ('구매', 4), ('대리인', 4), ('관리자', 4), ('최정화', 4), ('게임 디자이너', 4), ('김영모', 4), ('도서관', 4), ('한국어', 4), ('상가', 4), ('사진', 4), ('공연장', 4), ('팔다', 4), ('데이비드 오길비', 4), ('화원', 4), ('성우', 4), ('어류학', 4), ('조장희', 4), ('게바라', 4), ('천문대', 4), ('안젤리나 졸리', 4), ('무대', 4), ('앨 고어', 4), ('심', 4), ('조율', 4), ('피아노 조율사', 4), ('책방', 4), ('영', 4), ('오프라 윈프리', 4), ('문', 4), ('린', 4), ('버나드', 4), ('윤무부', 4), ('건축가', 4), ('손흥민', 4), ('치어리더', 4), ('차범근', 4), ('탐험', 4), ('잔디밭', 4), ('수치', 4), ('여사', 4), ('공예', 4), ('타이거 우즈', 4), ('언어학', 4), ('달나라', 4), ('가브리엘', 4), ('음악 평론', 4), ('오드리', 4), ('산악인', 4), ('미술관', 4), ('조던', 4), ('로렌츠', 4), ('관광', 4), ('가이드', 4), ('넬슨 만델라', 3), ('식물원', 3), ('자리', 3), ('학원', 3), ('치료', 3), ('앨리스 먼로', 3), ('지휘자', 3), ('땀', 3), ('고어', 3), ('앨', 3), ('쓰 시', 3), ('쪼개다', 3), ('부서지다', 3), ('과정', 3), ('슈마허', 3), ('시저', 3), ('줄리어스', 3), ('필', 3), ('식', 3), ('고흐', 3), ('류현진', 3), ('오리아', 3), ('비서', 3), ('베르나르 베르베르', 3), ('통', 3), ('생명', 3), ('음악 치료', 3), ('친척', 3), ('에게 해', 3), ('법조인', 3), ('디즈니', 3), ('월트', 3), ('아끼다', 3), ('월트 디즈니', 3), ('하루키', 3), ('코코', 3), ('오길비', 3), ('졸', 3), ('농구장', 3), ('운동선수', 3), ('콘라트 로렌츠', 3), ('깃', 3), ('무라카미 하루키', 3), ('스티븐', 3), ('호킹', 3), ('게이츠', 3), ('헤어', 3), ('헵번', 3), ('시인', 3), ('스티븐 호킹', 3), ('골프장', 3), ('빌 게이츠', 3), ('평', 2), ('오드리 헵번', 2), ('먼로', 2), ('앨리스', 2), ('마리 퀴리', 2), ('스티브', 2), ('마르쿠스', 2), ('용', 2), ('동산', 2), ('꿈나라', 2), ('수영장', 2), ('줄리어스 시저', 2), ('놈', 2), ('소풍', 2), ('증', 2), ('휘', 2), ('회', 2), ('안토니 가우디', 2), ('와다', 2), ('미야자키', 2), ('하야', 2), ('패션쇼', 2), ('과학관', 2), ('이 노래', 2), ('소 우', 2), ('발명가', 2), ('에버', 2), ('랜드', 2), ('잡스', 2), ('허다', 2), ('관', 2), ('키다', 2), ('조', 2), ('문학', 2), ('스티브 잡스', 2), ('활', 2), ('잭슨', 2), ('윈', 2), ('프리', 2), ('오프', 2), ('콘라트', 2), ('명', 2), ('패', 2), ('소중', 2), ('물리학자', 2), ('마르쿠스 페르손', 2), ('김태호', 2), ('곡', 2), ('축구장', 2), ('항', 2), ('품', 1), ('호', 1), ('제인 구달', 1), ('어니스트', 1), ('넬슨', 1), ('만델라', 1), ('데이비드', 1), ('교', 1), ('안토니', 1), ('보 주', 1), ('술', 1), ('총', 1), ('털', 1), ('꽃밭에 나비', 1), ('탁', 1), ('뒷', 1), ('뭇', 1), ('마이클 조던', 1)]\n"
     ]
    }
   ],
   "source": [
    "token_dic = tokenizer.word_counts\n",
    "d2 = sorted(token_dic.items(), key=lambda x: x[1], reverse=True)\n",
    "print(d2)"
   ],
   "metadata": {
    "collapsed": false,
    "pycharm": {
     "name": "#%%\n"
    }
   }
  },
  {
   "cell_type": "markdown",
   "source": [
    "### Padding"
   ],
   "metadata": {
    "collapsed": false,
    "pycharm": {
     "name": "#%% md\n"
    }
   }
  },
  {
   "cell_type": "code",
   "execution_count": 17,
   "outputs": [
    {
     "name": "stdout",
     "output_type": "stream",
     "text": [
      "텍스트의 최대 길이 : 46\n",
      "텍스트의 평균 길이 : 7.9268132589432225\n"
     ]
    },
    {
     "data": {
      "text/plain": "<Figure size 432x288 with 1 Axes>",
      "image/png": "[encoded data removed]"
     },
     "metadata": {},
     "output_type": "display_data"
    }
   ],
   "source": [
    "print('텍스트의 최대 길이 :',max(len(text) for text in train_sequences))\n",
    "print('텍스트의 평균 길이 :',sum(map(len, train_sequences))/len(train_sequences))\n",
    "plt.hist([len(text) for text in train_sequences], bins=50)\n",
    "plt.xlabel('length of samples')\n",
    "plt.ylabel('number of samples')\n",
    "plt.show()"
   ],
   "metadata": {
    "collapsed": false,
    "pycharm": {
     "name": "#%%\n"
    }
   }
  },
  {
   "cell_type": "code",
   "execution_count": 18,
   "outputs": [],
   "source": [
    "trunc_type = 'post'\n",
    "padding_type = 'post'\n",
    "MAX_LEN = int(max(len(text) for text in train_sequences) * 95 / 100)\n",
    "\n",
    "X_train = pad_sequences(train_sequences, maxlen=MAX_LEN, padding=padding_type, truncating=trunc_type)\n",
    "X_test= pad_sequences(test_sequences, maxlen=MAX_LEN, padding=padding_type, truncating=trunc_type)"
   ],
   "metadata": {
    "collapsed": false,
    "pycharm": {
     "name": "#%%\n"
    }
   }
  },
  {
   "cell_type": "markdown",
   "source": [
    "## Labeling"
   ],
   "metadata": {
    "collapsed": false,
    "pycharm": {
     "name": "#%% md\n"
    }
   }
  },
  {
   "cell_type": "code",
   "execution_count": 19,
   "outputs": [
    {
     "data": {
      "text/plain": "array(['음악', '자연', '미술', '신체', '수리', '관계', '언어'], dtype=object)"
     },
     "execution_count": 19,
     "metadata": {},
     "output_type": "execute_result"
    }
   ],
   "source": [
    "y_train.unique()"
   ],
   "metadata": {
    "collapsed": false,
    "pycharm": {
     "name": "#%%\n"
    }
   }
  },
  {
   "cell_type": "code",
   "execution_count": 20,
   "outputs": [],
   "source": [
    "intelli_dic = {\n",
    "    '관계': 0, '미술': 1, '수리': 2, '신체': 3, '언어': 4, '음악': 5, '자연': 6\n",
    "}"
   ],
   "metadata": {
    "collapsed": false,
    "pycharm": {
     "name": "#%%\n"
    }
   }
  },
  {
   "cell_type": "code",
   "execution_count": 21,
   "outputs": [
    {
     "data": {
      "text/plain": "array([5, 6, 1, 3, 2, 0, 4])"
     },
     "execution_count": 21,
     "metadata": {},
     "output_type": "execute_result"
    }
   ],
   "source": [
    "y_train = y_train.replace(intelli_dic)\n",
    "y_test = y_test.replace(intelli_dic)\n",
    "y_train.unique()"
   ],
   "metadata": {
    "collapsed": false,
    "pycharm": {
     "name": "#%%\n"
    }
   }
  },
  {
   "cell_type": "markdown",
   "source": [
    "## Model definition"
   ],
   "metadata": {
    "collapsed": false,
    "pycharm": {
     "name": "#%% md\n"
    }
   }
  },
  {
   "cell_type": "code",
   "execution_count": 22,
   "outputs": [
    {
     "name": "stderr",
     "output_type": "stream",
     "text": [
      "2022-08-03 13:37:18.365197: I tensorflow/core/common_runtime/pluggable_device/pluggable_device_factory.cc:305] Could not identify NUMA node of platform GPU ID 0, defaulting to 0. Your kernel may not have been built with NUMA support.\n",
      "2022-08-03 13:37:18.365230: I tensorflow/core/common_runtime/pluggable_device/pluggable_device_factory.cc:271] Created TensorFlow device (/job:localhost/replica:0/task:0/device:GPU:0 with 0 MB memory) -> physical PluggableDevice (device: 0, name: METAL, pci bus id: <undefined>)\n"
     ]
    }
   ],
   "source": [
    "model = Sequential()\n",
    "model.add(Embedding(input_dim=VOCAB_SIZE, output_dim=OUTPUT_DIM, mask_zero=True, input_length=MAX_LEN))\n",
    "model.add(LSTM(units=UNITS, dropout=DROPOUT))#, recurrent_dropout=RECURRENT_DROPOUT))\n",
    "model.add(Dense(units=OUTPUT, activation='softmax'))\n",
    "\n",
    "es = EarlyStopping(monitor='val_loss', mode='min', verbose=VERBOSE, patience=PATIENCE, restore_best_weights=True)\n",
    "mcp = ModelCheckpoint(SAVE_DIR + 'best-model.h5', monitor='val_accuracy', mode='max', verbose=VERBOSE, save_best_only=True)\n",
    "\n",
    "model.compile(loss='sparse_categorical_crossentropy', optimizer='adam', metrics=['accuracy'])"
   ],
   "metadata": {
    "collapsed": false,
    "pycharm": {
     "name": "#%%\n"
    }
   }
  },
  {
   "cell_type": "markdown",
   "source": [
    "## Train"
   ],
   "metadata": {
    "collapsed": false,
    "pycharm": {
     "name": "#%% md\n"
    }
   }
  },
  {
   "cell_type": "code",
   "execution_count": 23,
   "outputs": [
    {
     "name": "stdout",
     "output_type": "stream",
     "text": [
      "Epoch 1/10\n"
     ]
    },
    {
     "name": "stderr",
     "output_type": "stream",
     "text": [
      "2022-08-03 13:37:26.440988: W tensorflow/core/platform/profile_utils/cpu_utils.cc:128] Failed to get CPU frequency: 0 Hz\n",
      "2022-08-03 13:37:27.308069: I tensorflow/core/grappler/optimizers/custom_graph_optimizer_registry.cc:113] Plugin optimizer for device_type GPU is enabled.\n",
      "2022-08-03 13:37:27.606958: W tensorflow/core/common_runtime/forward_type_inference.cc:231] Type inference failed. This indicates an invalid graph that escaped type checking. Error message: INVALID_ARGUMENT: expected compatible input types, but input 1:\n",
      "type_id: TFT_OPTIONAL\n",
      "args {\n",
      "  type_id: TFT_PRODUCT\n",
      "  args {\n",
      "    type_id: TFT_TENSOR\n",
      "    args {\n",
      "      type_id: TFT_LEGACY_VARIANT\n",
      "    }\n",
      "  }\n",
      "}\n",
      " is neither a subtype nor a supertype of the combined inputs preceding it:\n",
      "type_id: TFT_OPTIONAL\n",
      "args {\n",
      "  type_id: TFT_PRODUCT\n",
      "  args {\n",
      "    type_id: TFT_TENSOR\n",
      "    args {\n",
      "      type_id: TFT_INT8\n",
      "    }\n",
      "  }\n",
      "}\n",
      "\n",
      "\twhile inferring type of node 'cond_40/output/_26'\n",
      "2022-08-03 13:37:27.610054: I tensorflow/core/grappler/optimizers/custom_graph_optimizer_registry.cc:113] Plugin optimizer for device_type GPU is enabled.\n",
      "2022-08-03 13:37:28.984058: I tensorflow/core/grappler/optimizers/custom_graph_optimizer_registry.cc:113] Plugin optimizer for device_type GPU is enabled.\n"
     ]
    },
    {
     "name": "stdout",
     "output_type": "stream",
     "text": [
      "286/286 [==============================] - ETA: 0s - loss: 1.2981 - accuracy: 0.4214"
     ]
    },
    {
     "name": "stderr",
     "output_type": "stream",
     "text": [
      "2022-08-03 13:37:45.466965: I tensorflow/core/grappler/optimizers/custom_graph_optimizer_registry.cc:113] Plugin optimizer for device_type GPU is enabled.\n",
      "2022-08-03 13:37:45.595512: I tensorflow/core/grappler/optimizers/custom_graph_optimizer_registry.cc:113] Plugin optimizer for device_type GPU is enabled.\n"
     ]
    },
    {
     "name": "stdout",
     "output_type": "stream",
     "text": [
      "\n",
      "Epoch 1: val_accuracy improved from -inf to 0.47172, saving model to /Users/inseoklee/Desktop/miso/intelli/model/LSTM_eda/best-model.h5\n",
      "286/286 [==============================] - 20s 60ms/step - loss: 1.2981 - accuracy: 0.4214 - val_loss: 1.0853 - val_accuracy: 0.4717\n",
      "Epoch 2/10\n",
      "286/286 [==============================] - ETA: 0s - loss: 1.1016 - accuracy: 0.4685\n",
      "Epoch 2: val_accuracy improved from 0.47172 to 0.47413, saving model to /Users/inseoklee/Desktop/miso/intelli/model/LSTM_eda/best-model.h5\n",
      "286/286 [==============================] - 16s 54ms/step - loss: 1.1016 - accuracy: 0.4685 - val_loss: 1.0897 - val_accuracy: 0.4741\n",
      "Epoch 3/10\n",
      "286/286 [==============================] - ETA: 0s - loss: 1.1038 - accuracy: 0.4698\n",
      "Epoch 3: val_accuracy did not improve from 0.47413\n",
      "286/286 [==============================] - 15s 54ms/step - loss: 1.1038 - accuracy: 0.4698 - val_loss: 1.2265 - val_accuracy: 0.4452\n",
      "Epoch 4/10\n",
      "286/286 [==============================] - ETA: 0s - loss: 1.2310 - accuracy: 0.4424Restoring model weights from the end of the best epoch: 1.\n",
      "\n",
      "Epoch 4: val_accuracy did not improve from 0.47413\n",
      "286/286 [==============================] - 15s 52ms/step - loss: 1.2310 - accuracy: 0.4424 - val_loss: 1.2495 - val_accuracy: 0.4614\n",
      "Epoch 4: early stopping\n"
     ]
    }
   ],
   "source": [
    "history = model.fit(\n",
    "    X_train, y_train, epochs=EPOCHS, callbacks=[es, mcp], batch_size=BATCH_SIZE, validation_split=VALIDATION_SPLIT\n",
    ")"
   ],
   "metadata": {
    "collapsed": false,
    "pycharm": {
     "name": "#%%\n"
    }
   }
  },
  {
   "cell_type": "markdown",
   "source": [
    "## Test"
   ],
   "metadata": {
    "collapsed": false,
    "pycharm": {
     "name": "#%% md\n"
    }
   }
  },
  {
   "cell_type": "code",
   "execution_count": 24,
   "outputs": [
    {
     "name": "stderr",
     "output_type": "stream",
     "text": [
      "2022-08-03 13:38:44.899083: I tensorflow/core/grappler/optimizers/custom_graph_optimizer_registry.cc:113] Plugin optimizer for device_type GPU is enabled.\n",
      "2022-08-03 13:38:45.079692: I tensorflow/core/grappler/optimizers/custom_graph_optimizer_registry.cc:113] Plugin optimizer for device_type GPU is enabled.\n"
     ]
    },
    {
     "name": "stdout",
     "output_type": "stream",
     "text": [
      "358/358 [==============================] - 6s 14ms/step - loss: 1.0977 - accuracy: 0.4704\n",
      "Test loss:  1.0977312326431274\n",
      "Test accuracy:  0.4703771770000458\n"
     ]
    }
   ],
   "source": [
    "loaded_model = load_model(LOAD_DIR + 'best-model.h5')\n",
    "loss, acc = loaded_model.evaluate(X_test, y_test)\n",
    "print('Test loss: ', loss)\n",
    "print('Test accuracy: ', acc)"
   ],
   "metadata": {
    "collapsed": false,
    "pycharm": {
     "name": "#%%\n"
    }
   }
  },
  {
   "cell_type": "markdown",
   "source": [
    "## Visualization"
   ],
   "metadata": {
    "collapsed": false,
    "pycharm": {
     "name": "#%% md\n"
    }
   }
  },
  {
   "cell_type": "code",
   "execution_count": 25,
   "outputs": [
    {
     "data": {
      "text/plain": "<Figure size 432x288 with 2 Axes>",
      "image/png": "[encoded data removed]"
     },
     "metadata": {},
     "output_type": "display_data"
    }
   ],
   "source": [
    "fig, loss_ax = plt.subplots()\n",
    "acc_ax = loss_ax.twinx()\n",
    "\n",
    "loss_ax.plot(history.history['loss'], 'y', label='train loss')\n",
    "loss_ax.plot(history.history['val_loss'], 'r', label='val loss')\n",
    "\n",
    "acc_ax.plot(history.history['accuracy'], 'b', label='train acc')\n",
    "acc_ax.plot(history.history['val_accuracy'], 'g', label='val acc')\n",
    "\n",
    "loss_ax.set_xlabel('epoch')\n",
    "loss_ax.set_ylabel('loss')\n",
    "acc_ax.set_ylabel('accuracy')\n",
    "\n",
    "loss_ax.legend(loc='upper left')\n",
    "acc_ax.legend(loc='lower left')\n",
    "\n",
    "plt.show()"
   ],
   "metadata": {
    "collapsed": false,
    "pycharm": {
     "name": "#%%\n"
    }
   }
  },
  {
   "cell_type": "markdown",
   "source": [
    "## Save model"
   ],
   "metadata": {
    "collapsed": false,
    "pycharm": {
     "name": "#%% md\n"
    }
   }
  },
  {
   "cell_type": "code",
   "execution_count": 26,
   "outputs": [
    {
     "name": "stdout",
     "output_type": "stream",
     "text": [
      "Saved trained model at /Users/inseoklee/Desktop/miso/intelli/model/LSTM_eda/trained-model.h5 \n"
     ]
    }
   ],
   "source": [
    "model_name = 'trained-model.h5'\n",
    "\n",
    "# Save model and weights\n",
    "model_path = os.path.join(SAVE_DIR, model_name)\n",
    "model.save(model_path)\n",
    "print('Saved trained model at %s ' % model_path)"
   ],
   "metadata": {
    "collapsed": false,
    "pycharm": {
     "name": "#%%\n"
    }
   }
  },
  {
   "cell_type": "markdown",
   "source": [
    "## Evaluation"
   ],
   "metadata": {
    "collapsed": false,
    "pycharm": {
     "name": "#%% md\n"
    }
   }
  },
  {
   "cell_type": "code",
   "execution_count": 27,
   "outputs": [
    {
     "name": "stderr",
     "output_type": "stream",
     "text": [
      "2022-08-03 13:38:53.993959: I tensorflow/core/grappler/optimizers/custom_graph_optimizer_registry.cc:113] Plugin optimizer for device_type GPU is enabled.\n",
      "2022-08-03 13:38:54.123273: I tensorflow/core/grappler/optimizers/custom_graph_optimizer_registry.cc:113] Plugin optimizer for device_type GPU is enabled.\n"
     ]
    },
    {
     "name": "stdout",
     "output_type": "stream",
     "text": [
      "358/358 [==============================] - 5s 11ms/step\n",
      "[4 5 4 ... 4 5 4]\n"
     ]
    }
   ],
   "source": [
    "y_pred = loaded_model.predict(X_test)\n",
    "y_pred = y_pred.argmax(axis=-1)\n",
    "print(y_pred)"
   ],
   "metadata": {
    "collapsed": false,
    "pycharm": {
     "name": "#%%\n"
    }
   }
  },
  {
   "cell_type": "markdown",
   "source": [
    "### Confusion matrix"
   ],
   "metadata": {
    "collapsed": false,
    "pycharm": {
     "name": "#%% md\n"
    }
   }
  },
  {
   "cell_type": "code",
   "execution_count": 28,
   "outputs": [
    {
     "name": "stdout",
     "output_type": "stream",
     "text": [
      "[[   0    0    0    0  480   15    0]\n",
      " [   0    0    0    0  523    8    0]\n",
      " [   0    0    0    0  500   34    0]\n",
      " [   0    0    0    0  756   30    0]\n",
      " [   0    0    0    0 1256   28    0]\n",
      " [   0    0    0    0   90 4119    0]\n",
      " [   0    0    0    0  200 3388    0]]\n"
     ]
    },
    {
     "data": {
      "text/plain": "<Figure size 864x720 with 2 Axes>",
      "image/png": "[encoded data removed]"
     },
     "metadata": {},
     "output_type": "display_data"
    }
   ],
   "source": [
    "# constant for classes\n",
    "classes = ('관계', '미술', '수리', '신체', '언어', '음악', '자연')\n",
    "\n",
    "# Build confusion matrix\n",
    "cf_matrix = confusion_matrix(y_test, y_pred)\n",
    "print(cf_matrix)\n",
    "df_cm = pd.DataFrame(cf_matrix/cf_matrix.sum(axis=1).reshape(7, 1), index = [i for i in classes],\n",
    "                     columns = [i for i in classes])\n",
    "plt.figure(figsize = (12,10))\n",
    "sn.heatmap(df_cm, annot=True, cmap='Blues')\n",
    "plt.savefig(SAVE_DIR + '/output.png')"
   ],
   "metadata": {
    "collapsed": false,
    "pycharm": {
     "name": "#%%\n"
    }
   }
  },
  {
   "cell_type": "markdown",
   "source": [
    "### precision, recall, f1 score"
   ],
   "metadata": {
    "collapsed": false,
    "pycharm": {
     "name": "#%% md\n"
    }
   }
  },
  {
   "cell_type": "code",
   "execution_count": 29,
   "outputs": [
    {
     "name": "stdout",
     "output_type": "stream",
     "text": [
      "accuracy_score:  0.4703771768618185\n",
      "precision_score:  0.12435733223021282\n",
      "recall_score:  0.2795443421671598\n",
      "f1_score:  0.1699885700683336\n"
     ]
    },
    {
     "name": "stderr",
     "output_type": "stream",
     "text": [
      "/Users/inseoklee/miniforge3/envs/intelli/lib/python3.10/site-packages/sklearn/metrics/_classification.py:1327: UndefinedMetricWarning: Precision is ill-defined and being set to 0.0 in labels with no predicted samples. Use `zero_division` parameter to control this behavior.\n",
      "  _warn_prf(average, modifier, msg_start, len(result))\n"
     ]
    }
   ],
   "source": [
    "acc_score = accuracy_score(y_test, y_pred)\n",
    "prec_score = precision_score(y_test, y_pred, average='macro')\n",
    "re_score = recall_score(y_test, y_pred, average='macro')\n",
    "f1_score = f1_score(y_test, y_pred, average='macro')\n",
    "print(\"accuracy_score: \", acc_score)\n",
    "print(\"precision_score: \", prec_score)\n",
    "print(\"recall_score: \", re_score)\n",
    "print(\"f1_score: \", f1_score)"
   ],
   "metadata": {
    "collapsed": false,
    "pycharm": {
     "name": "#%%\n"
    }
   }
  },
  {
   "cell_type": "markdown",
   "source": [
    "## Load Model"
   ],
   "metadata": {
    "collapsed": false,
    "pycharm": {
     "name": "#%% md\n"
    }
   }
  },
  {
   "cell_type": "code",
   "execution_count": 30,
   "outputs": [],
   "source": [
    "def load_tokenizer(path):\n",
    "    with open(path, 'rb') as f:\n",
    "        tokenizer = pickle.load(f)\n",
    "    return tokenizer\n",
    "\n",
    "model_name = 'trained-model.h5'\n",
    "tokenizer_name = 'tokenizer.pickle'\n",
    "model_path = os.path.join(LOAD_DIR, model_name)\n",
    "tokenizer_path = os.path.join(LOAD_DIR, tokenizer_name)\n",
    "\n",
    "model = load_model(model_path)\n",
    "tokenizer = load_tokenizer(tokenizer_path)\n"
   ],
   "metadata": {
    "collapsed": false,
    "pycharm": {
     "name": "#%%\n"
    }
   }
  },
  {
   "cell_type": "code",
   "execution_count": 31,
   "outputs": [],
   "source": [
    "def getResult(predict) :\n",
    "    highest = 0\n",
    "    highestIdx = 0\n",
    "    for x in range (0,len(predict)) :\n",
    "        if(predict[x] > highest) :\n",
    "            highestIdx = x\n",
    "            highest =predict[x]\n",
    "    return highestIdx\n",
    "\n",
    "def predict_label(text, model):\n",
    "    tokens = []\n",
    "    tokenized = tokenize(text, stop_pos_tags)\n",
    "    if(len(tokenized) == 0) :\n",
    "        return \"너무 짧아\"\n",
    "    tokens.append(tokenized)\n",
    "    tokens = tokenizer.texts_to_sequences(tokens)\n",
    "    x_test = pad_sequences(tokens, maxlen=MAX_LEN)\n",
    "    predict = model.predict(x_test)\n",
    "    # print(predict)\n",
    "    result = getResult(predict[0])\n",
    "    # '관계', '미술', '수리', '신체', '언어', '음악', '자연'\n",
    "    if result == 0 :\n",
    "        return '관계'\n",
    "    elif result == 1 :\n",
    "        return '미술'\n",
    "    elif result == 2 :\n",
    "        return '수리'\n",
    "    elif result == 3 :\n",
    "        return '신체'\n",
    "    elif result == 4 :\n",
    "        return '언어'\n",
    "    elif result == 5 :\n",
    "        return '음악'\n",
    "    elif result == 6 :\n",
    "        return '자연'"
   ],
   "metadata": {
    "collapsed": false,
    "pycharm": {
     "name": "#%%\n"
    }
   }
  },
  {
   "cell_type": "markdown",
   "source": [
    "## 3가지 레이블에 대한 예측"
   ],
   "metadata": {
    "collapsed": false,
    "pycharm": {
     "name": "#%% md\n"
    }
   }
  },
  {
   "cell_type": "markdown",
   "source": [
    "'미술' 라벨에 대한 예측"
   ],
   "metadata": {
    "collapsed": false,
    "pycharm": {
     "name": "#%% md\n"
    }
   }
  },
  {
   "cell_type": "code",
   "execution_count": 32,
   "outputs": [
    {
     "name": "stderr",
     "output_type": "stream",
     "text": [
      "2022-08-03 13:39:00.513958: I tensorflow/core/grappler/optimizers/custom_graph_optimizer_registry.cc:113] Plugin optimizer for device_type GPU is enabled.\n",
      "2022-08-03 13:39:00.774953: I tensorflow/core/grappler/optimizers/custom_graph_optimizer_registry.cc:113] Plugin optimizer for device_type GPU is enabled.\n"
     ]
    },
    {
     "name": "stdout",
     "output_type": "stream",
     "text": [
      "1/1 [==============================] - 1s 1s/step\n"
     ]
    },
    {
     "data": {
      "text/plain": "'미술'"
     },
     "execution_count": 32,
     "metadata": {},
     "output_type": "execute_result"
    }
   ],
   "source": [
    "predict_label(\"나는 동물을 크레파스로 그리는게 신나\", model)"
   ],
   "metadata": {
    "collapsed": false,
    "pycharm": {
     "name": "#%%\n"
    }
   }
  },
  {
   "cell_type": "markdown",
   "source": [
    "'관계' 라벨에 대한 예측"
   ],
   "metadata": {
    "collapsed": false,
    "pycharm": {
     "name": "#%% md\n"
    }
   }
  },
  {
   "cell_type": "code",
   "execution_count": 33,
   "outputs": [
    {
     "name": "stdout",
     "output_type": "stream",
     "text": [
      "1/1 [==============================] - 0s 318ms/step\n"
     ]
    },
    {
     "data": {
      "text/plain": "'언어'"
     },
     "execution_count": 33,
     "metadata": {},
     "output_type": "execute_result"
    }
   ],
   "source": [
    "predict_label(\"나는 친구를 도와줘서 칭찬을 받는게 좋아\", model)"
   ],
   "metadata": {
    "collapsed": false,
    "pycharm": {
     "name": "#%%\n"
    }
   }
  },
  {
   "cell_type": "markdown",
   "source": [
    "'수리'라벨에 대한 예측"
   ],
   "metadata": {
    "collapsed": false,
    "pycharm": {
     "name": "#%% md\n"
    }
   }
  },
  {
   "cell_type": "code",
   "execution_count": 34,
   "outputs": [
    {
     "name": "stdout",
     "output_type": "stream",
     "text": [
      "1/1 [==============================] - 0s 204ms/step\n"
     ]
    },
    {
     "data": {
      "text/plain": "'미술'"
     },
     "execution_count": 34,
     "metadata": {},
     "output_type": "execute_result"
    }
   ],
   "source": [
    "predict_label(\"나는 숫자를 공부해서 나중에 프로그래머가 되고 싶어요\", model)"
   ],
   "metadata": {
    "collapsed": false,
    "pycharm": {
     "name": "#%%\n"
    }
   }
  },
  {
   "cell_type": "code",
   "execution_count": null,
   "outputs": [],
   "source": [],
   "metadata": {
    "collapsed": false,
    "pycharm": {
     "name": "#%%\n"
    }
   }
  }
 ],
 "metadata": {
  "kernelspec": {
   "display_name": "Python 3.10.4 ('intelli')",
   "language": "python",
   "name": "python3"
  },
  "language_info": {
   "codemirror_mode": {
    "name": "ipython",
    "version": 3
   },
   "file_extension": ".py",
   "mimetype": "text/x-python",
   "name": "python",
   "nbconvert_exporter": "python",
   "pygments_lexer": "ipython3",
   "version": "3.10.4"
  },
  "orig_nbformat": 4,
  "vscode": {
   "interpreter": {
    "hash": "3b274bb93569e4867fd26fecd7d75d5329e1156233149f03ba1b952d6088b262"
   }
  }
 },
 "nbformat": 4,
 "nbformat_minor": 2
}
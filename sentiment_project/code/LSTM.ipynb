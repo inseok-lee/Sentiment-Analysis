{
 "cells": [
  {
   "cell_type": "markdown",
   "metadata": {
    "id": "NqHnZq63C0Z6",
    "pycharm": {
     "name": "#%% md\n"
    }
   },
   "source": [
    "\n",
    "## Mount Google Drive"
   ]
  },
  {
   "cell_type": "code",
   "execution_count": 1,
   "metadata": {
    "colab": {
     "base_uri": "https://localhost:8080/"
    },
    "id": "T5_yi_yZE1TF",
    "outputId": "32330786-4453-4650-9a7b-57f286624acb",
    "pycharm": {
     "name": "#%%\n"
    }
   },
   "outputs": [],
   "source": [
    "# from google.colab import drive\n",
    "# drive.mount('/content/drive')"
   ]
  },
  {
   "cell_type": "markdown",
   "metadata": {
    "id": "fa00IT-yE111",
    "pycharm": {
     "name": "#%% md\n"
    }
   },
   "source": [
    "## Install"
   ]
  },
  {
   "cell_type": "markdown",
   "source": [
    "### 형태소 분석기 설치\n"
   ],
   "metadata": {
    "collapsed": false,
    "pycharm": {
     "name": "#%% md\n"
    }
   }
  },
  {
   "cell_type": "code",
   "execution_count": 2,
   "outputs": [],
   "source": [
    "#!java -version\n",
    "#%pip install konlpy"
   ],
   "metadata": {
    "collapsed": false,
    "pycharm": {
     "name": "#%%\n"
    }
   }
  },
  {
   "cell_type": "markdown",
   "source": [
    "## Import Library"
   ],
   "metadata": {
    "collapsed": false,
    "pycharm": {
     "name": "#%% md\n"
    }
   }
  },
  {
   "cell_type": "code",
   "execution_count": 12,
   "outputs": [],
   "source": [
    "import os\n",
    "import pickle\n",
    "\n",
    "import pandas as pd\n",
    "import re\n",
    "\n",
    "from konlpy.tag import Komoran, Okt\n",
    "\n",
    "import tensorflow as tf\n",
    "from tensorflow.keras import Sequential\n",
    "from tensorflow.keras.layers import Dense, Embedding, LSTM\n",
    "from tensorflow.keras.preprocessing.text import Tokenizer\n",
    "from tensorflow.keras.preprocessing.sequence import pad_sequences\n",
    "from tensorflow.keras.models import load_model\n",
    "from tensorflow.keras.callbacks import EarlyStopping, ModelCheckpoint\n",
    "\n",
    "from sklearn.model_selection import train_test_split\n",
    "from sklearn.metrics import accuracy_score, precision_score, recall_score, f1_score, confusion_matrix\n",
    "\n",
    "import matplotlib.pyplot as plt\n",
    "import seaborn as sn\n",
    "from tqdm import tqdm\n"
   ],
   "metadata": {
    "collapsed": false,
    "pycharm": {
     "name": "#%%\n"
    }
   }
  },
  {
   "cell_type": "markdown",
   "source": [
    "## GPU Setting"
   ],
   "metadata": {
    "collapsed": false,
    "pycharm": {
     "name": "#%% md\n"
    }
   }
  },
  {
   "cell_type": "code",
   "execution_count": 13,
   "outputs": [],
   "source": [
    "# %tensorflow_version 2.x\n",
    "# import tensorflow as tf\n",
    "# device_name = tf.test.gpu_device_name()\n",
    "# if device_name != '/device:GPU:0':\n",
    "#     raise SystemError('GPU device not found')\n",
    "# print('Found GPU at: {}'.format(device_name))"
   ],
   "metadata": {
    "collapsed": false,
    "pycharm": {
     "name": "#%%\n"
    }
   }
  },
  {
   "cell_type": "markdown",
   "source": [
    "## Hyper_parameters"
   ],
   "metadata": {
    "collapsed": false,
    "pycharm": {
     "name": "#%% md\n"
    }
   }
  },
  {
   "cell_type": "code",
   "execution_count": 14,
   "outputs": [],
   "source": [
    "# Colab\n",
    "# DATA_DIR = '/content/drive/MyDrive/Colab Notebooks/miso'\n",
    "\n",
    "# Local\n",
    "DATA_DIR = '/Users/inseoklee/Desktop/miso/data'\n",
    "SAVE_DIR = '/Users/inseoklee/Desktop/miso/model/LSTM'\n",
    "LOAD_DIR = '/Users/inseoklee/Desktop/miso/model/LSTM'\n",
    "\n",
    "# MAX_LEN -> 패딩 단계에서 설정\n",
    "EMBEDDING_DIM = 300\n",
    "HIDDEN_UNITS = 256\n",
    "DROP_OUT = 0.2\n",
    "RECURRENT_DROPOUT = 0.2\n",
    "\n",
    "EPOCHS = 10\n",
    "VERBOSE = 1\n",
    "BATCH_SIZE = 512\n",
    "PATIENCE = 5\n",
    "VALIDATION_SPLIT = 0.2\n",
    "\n",
    "OUTPUT = 7"
   ],
   "metadata": {
    "collapsed": false,
    "pycharm": {
     "name": "#%%\n"
    }
   }
  },
  {
   "cell_type": "markdown",
   "source": [
    "## Data Load"
   ],
   "metadata": {
    "collapsed": false,
    "pycharm": {
     "name": "#%% md\n"
    }
   }
  },
  {
   "cell_type": "code",
   "execution_count": 15,
   "outputs": [],
   "source": [
    "df = pd.read_csv(DATA_DIR+'/processed_sentiment.csv')"
   ],
   "metadata": {
    "collapsed": false,
    "pycharm": {
     "name": "#%%\n"
    }
   }
  },
  {
   "cell_type": "code",
   "execution_count": 16,
   "outputs": [
    {
     "name": "stdout",
     "output_type": "stream",
     "text": [
      "<class 'pandas.core.frame.DataFrame'>\n",
      "RangeIndex: 37212 entries, 0 to 37211\n",
      "Data columns (total 2 columns):\n",
      " #   Column  Non-Null Count  Dtype \n",
      "---  ------  --------------  ----- \n",
      " 0   text    37212 non-null  object\n",
      " 1   label   37212 non-null  object\n",
      "dtypes: object(2)\n",
      "memory usage: 581.6+ KB\n"
     ]
    }
   ],
   "source": [
    "df.info()"
   ],
   "metadata": {
    "collapsed": false,
    "pycharm": {
     "name": "#%%\n"
    }
   }
  },
  {
   "cell_type": "code",
   "execution_count": 17,
   "outputs": [
    {
     "data": {
      "text/plain": "<Figure size 1152x576 with 1 Axes>",
      "image/png": "[encoded data removed]"
     },
     "metadata": {},
     "output_type": "display_data"
    }
   ],
   "source": [
    "label = df['label']\n",
    "\n",
    "plt.figure(figsize=(16, 8))\n",
    "plt.hist(label)\n",
    "plt.show()"
   ],
   "metadata": {
    "collapsed": false,
    "pycharm": {
     "name": "#%%\n"
    }
   }
  },
  {
   "cell_type": "markdown",
   "source": [
    "### Train, Test split"
   ],
   "metadata": {
    "collapsed": false,
    "pycharm": {
     "name": "#%% md\n"
    }
   }
  },
  {
   "cell_type": "code",
   "execution_count": 18,
   "outputs": [],
   "source": [
    "X = df.text\n",
    "y = df.label\n",
    "\n",
    "X_train, X_test, y_train, y_test = train_test_split(\n",
    "    X, y, test_size=0.2, shuffle=True, random_state=34, stratify=y\n",
    ")"
   ],
   "metadata": {
    "collapsed": false,
    "pycharm": {
     "name": "#%%\n"
    }
   }
  },
  {
   "cell_type": "code",
   "execution_count": 19,
   "outputs": [
    {
     "name": "stdout",
     "output_type": "stream",
     "text": [
      "X_train shape:  (29769,)\n",
      "y_train shape:  (29769,)\n",
      "\n",
      "X_test shape:  (7443,)\n",
      "y_test shape:  (7443,)\n"
     ]
    }
   ],
   "source": [
    "print('X_train shape: ', X_train.shape)\n",
    "print('y_train shape: ', y_train.shape)\n",
    "print('\\nX_test shape: ', X_test.shape)\n",
    "print('y_test shape: ', y_test.shape)"
   ],
   "metadata": {
    "collapsed": false,
    "pycharm": {
     "name": "#%%\n"
    }
   }
  },
  {
   "cell_type": "markdown",
   "source": [
    "## Train Data PreProcessing"
   ],
   "metadata": {
    "collapsed": false,
    "pycharm": {
     "name": "#%% md\n"
    }
   }
  },
  {
   "cell_type": "markdown",
   "source": [
    "### Komoran을 이용한 품사(불용어) 제거 및 토큰화"
   ],
   "metadata": {
    "collapsed": false,
    "pycharm": {
     "name": "#%% md\n"
    }
   }
  },
  {
   "cell_type": "code",
   "execution_count": 20,
   "outputs": [
    {
     "name": "stdout",
     "output_type": "stream",
     "text": [
      "[0.004s][warning][os,thread] Attempt to protect stack guard pages failed (0x000000016b010000-0x000000016b01c000).\n",
      "[0.004s][warning][os,thread] Attempt to deallocate stack guard pages failed.\n"
     ]
    }
   ],
   "source": [
    "komoran = Komoran()\n",
    "\n",
    "# 불용어(Stop Words) 제거\n",
    "stop_pos_tags =  ['IC', 'JKS', 'JKC', 'JKG', 'JKO', 'JKB', 'JKV', 'JKQ', 'JX',\n",
    "                   'EF', 'ETN', 'ETM', 'XSA', 'SF', 'SP', 'SS', 'SE', 'SO', 'SL', 'SH',\n",
    "                   'SW', 'NF', 'NV', 'SN', 'NA']\n",
    "\n",
    "#어간 원형 복원 (Lemmatization)\n",
    "#동사와 형용사의 경우에는 어간(Stem)에 '다'를 붙여서 기본형으로 복원\n",
    "def tokenize(corpus, stop_pos_tags):\n",
    "    result = []\n",
    "    pairs = komoran.pos(corpus)\n",
    "    for pair in pairs:\n",
    "        morph, pos = pair\n",
    "        if pos not in stop_pos_tags:\n",
    "            if pos in ['VV', 'VA', 'VX', 'VCP', 'VCN']:\n",
    "                morph = morph + '다'\n",
    "            result.append(morph)\n",
    "    return result"
   ],
   "metadata": {
    "collapsed": false,
    "pycharm": {
     "name": "#%%\n"
    }
   }
  },
  {
   "cell_type": "code",
   "execution_count": 21,
   "outputs": [
    {
     "name": "stderr",
     "output_type": "stream",
     "text": [
      "100%|██████████| 29769/29769 [00:09<00:00, 3069.73it/s]\n"
     ]
    }
   ],
   "source": [
    "# 토큰을 만들고 리스트에 저장\n",
    "clean_train_text = []\n",
    "for sample in tqdm(X_train):\n",
    "    clean_train_text.append(tokenize(sample, stop_pos_tags))"
   ],
   "metadata": {
    "collapsed": false,
    "pycharm": {
     "name": "#%%\n"
    }
   }
  },
  {
   "cell_type": "code",
   "execution_count": 22,
   "outputs": [
    {
     "data": {
      "text/plain": "[['안', '그래도', '카페', '가다', '참', '이다', '바람', '좀', '쐬다'],\n ['그렇다', '니깐', '말', '이다', '당장', '버리다', '어야', '하다', '겠'],\n ['약속', '있다', '어서', '친구', '기다리다', '는데', '친구', '안와'],\n ['나', '그러니까', '너무', '힘들다'],\n ['내', '너무', '갖다', '고', '싶다', '었', '걸다', 'ㄴ데', '받다', '아서', '정말', '기분', '좋다']]"
     },
     "execution_count": 22,
     "metadata": {},
     "output_type": "execute_result"
    }
   ],
   "source": [
    "clean_train_text[:5]"
   ],
   "metadata": {
    "collapsed": false,
    "pycharm": {
     "name": "#%%\n"
    }
   }
  },
  {
   "cell_type": "markdown",
   "source": [
    "## Test Data PreProcessing"
   ],
   "metadata": {
    "collapsed": false,
    "pycharm": {
     "name": "#%% md\n"
    }
   }
  },
  {
   "cell_type": "markdown",
   "source": [
    "### Komoran을 이용한 품사(불용어) 제거 및 토큰화"
   ],
   "metadata": {
    "collapsed": false,
    "pycharm": {
     "name": "#%% md\n"
    }
   }
  },
  {
   "cell_type": "code",
   "execution_count": 23,
   "outputs": [
    {
     "name": "stderr",
     "output_type": "stream",
     "text": [
      "100%|██████████| 7443/7443 [00:02<00:00, 3700.30it/s]\n"
     ]
    }
   ],
   "source": [
    "# 토큰을 만들고 리스트에 저장\n",
    "clean_test_text = []\n",
    "for sample in tqdm(X_test):\n",
    "    clean_test_text.append(tokenize(sample, stop_pos_tags))"
   ],
   "metadata": {
    "collapsed": false,
    "pycharm": {
     "name": "#%%\n"
    }
   }
  },
  {
   "cell_type": "markdown",
   "source": [
    "### 토큰 데이터 벡터화(토큰을 숫자로 변환하고 tokenizer를 파일에 저장)"
   ],
   "metadata": {
    "collapsed": false,
    "pycharm": {
     "name": "#%% md\n"
    }
   }
  },
  {
   "cell_type": "code",
   "execution_count": 24,
   "outputs": [
    {
     "data": {
      "text/plain": "[[14, 143, 1433, 32, 596, 9, 545, 41, 723],\n [26, 561, 57, 9, 368, 78, 68, 3, 16],\n [65, 7, 24, 31, 135, 13, 31, 879],\n [10, 481, 11, 45],\n [25, 11, 235, 5, 54, 6, 144, 93, 89, 21, 47, 86, 30]]"
     },
     "execution_count": 24,
     "metadata": {},
     "output_type": "execute_result"
    }
   ],
   "source": [
    "tokenizer_name = 'tokenizer.pickle'\n",
    "save_path = os.path.join(SAVE_DIR, tokenizer_name)\n",
    "\n",
    "tokenizer = Tokenizer(oov_token = True)\n",
    "\n",
    "try:\n",
    "    tokenizer.fit_on_texts(clean_train_text)\n",
    "    train_sequences = tokenizer.texts_to_sequences(clean_train_text)\n",
    "    test_sequences = tokenizer.texts_to_sequences(clean_test_text)\n",
    "except:\n",
    "    print('Already tokenized')\n",
    "\n",
    "with open(save_path, 'wb') as f:\n",
    "    pickle.dump(tokenizer, f, protocol=pickle.HIGHEST_PROTOCOL)\n",
    "\n",
    "vocab_size = len(tokenizer.word_index)+1 # 단어의 수\n",
    "vocab_size\n",
    "\n",
    "train_sequences[:5]"
   ],
   "metadata": {
    "collapsed": false,
    "pycharm": {
     "name": "#%%\n"
    }
   }
  },
  {
   "cell_type": "code",
   "execution_count": 25,
   "outputs": [
    {
     "name": "stdout",
     "output_type": "stream",
     "text": [
      "sorted\n",
      "[('았', 9138), ('하다', 7952), ('하', 7899), ('고', 7674), ('었', 7090), ('있다', 5091), ('어', 4450), ('이다', 4444), ('나', 4039), ('너무', 4039), ('게', 3838), ('는데', 3775), ('안', 3686), ('아', 3652), ('겠', 3403), ('보다', 3389), ('같다', 3354), ('없다', 3337), ('되다', 3313), ('아서', 3267), ('거', 3000), ('것', 2616), ('어서', 2453), ('내', 2267), ('그렇다', 2227), ('오다', 2204), ('지', 2139), ('들', 2139), ('좋다', 2104), ('친구', 1875), ('가다', 1843), ('주다', 1843), ('다', 1747), ('한', 1742), ('일', 1706), ('아야', 1643), ('지금', 1606), ('않다', 1576), ('사람', 1555), ('좀', 1453), ('나다', 1427), ('시', 1398), ('집', 1354), ('힘들다', 1350), ('잘', 1339), ('정말', 1328), ('많이', 1209), ('들다', 1172), ('모르다', 1122), ('알다', 1108), ('그', 1081), ('수', 1050), ('싶다', 1045), ('번', 1035), ('먹다', 1033), ('말', 1027), ('아직', 1018), ('못', 1011), ('지다', 1010), ('시간', 1003), ('니까', 999), ('면', 997), ('회사', 972), ('약속', 967), ('또', 965), ('생각', 949), ('어야', 945), ('다치다', 936), ('만나다', 917), ('되', 909), ('괜찮다', 904), ('진짜', 873), ('때', 860), ('아니다', 858), ('그냥', 841), ('고맙다', 827), ('버리다', 823), ('맞다', 792), ('많다', 780), ('해피', 757), ('오늘', 750), ('갑자기', 739), ('마음', 729), ('다고', 729), ('기분', 719), ('청소', 712), ('나가다', 700), ('받다', 695), ('다가', 686), ('너', 678), ('더', 667), ('ㄴ데', 639), ('때문', 630), ('다른', 628), ('놀라다', 611), ('얘기', 591), ('우리', 590), ('술', 588), ('근데', 586), ('어제', 585), ('해보다', 583), ('그래서', 582), ('어떻다', 578), ('으면', 578), ('요즘', 572), ('조금', 570), ('나오다', 569), ('엄청', 568), ('무섭다', 561), ('이제', 560), ('싸우다', 559), ('이야기', 550), ('연락', 549), ('이렇다', 540), ('못하다', 539), ('전화', 536), ('짜증', 523), ('그런', 522), ('걱정', 512), ('뭐', 506), ('다시', 499), ('같이', 499), ('그것', 496), ('더니', 493), ('화장실', 490), ('라고', 488), ('왜', 480), ('달', 480), ('밖', 478), ('병원', 478), ('살다', 474), ('계속', 468), ('떨어지다', 461), ('기다리다', 458), ('시다', 442), ('라', 439), ('이번', 438), ('구경', 436), ('가지다', 429), ('면서', 426), ('생기다', 423), ('그래도', 411), ('걸다', 408), ('정도', 407), ('음악', 407), ('곰팡이', 396), ('으니까', 396), ('아도', 391), ('치우다', 390), ('밥', 390), ('아프다', 390), ('드리다', 385), ('냄새', 380), ('건', 379), ('늦다', 379), ('이', 376), ('헤어지다', 372), ('하지만', 368), ('쉬다', 368), ('준비', 367), ('아니', 365), ('크다', 363), ('놓다', 362), ('허리', 360), ('말씀', 358), ('동안', 355), ('비', 355), ('다행히', 352), ('혼자', 344), ('은데', 344), ('ㄴ지', 342), ('지진', 338), ('쓰다', 334), ('자주', 333), ('가족', 333), ('주식', 332), ('우울', 327), ('매일', 327), ('님', 326), ('놀다', 325), ('넘어지다', 324), ('방', 324), ('내일', 323), ('산책', 322), ('내다', 321), ('물', 320), ('퇴근', 319), ('년', 317), ('몰리다', 310), ('끝나다', 310), ('전', 308), ('두', 306), ('몸', 304), ('지만', 303), ('데', 300), ('추천', 299), ('았었', 298), ('면접', 296), ('바쁘다', 295), ('당첨', 291), ('견', 290), ('는지', 288), ('기획', 279), ('그런데', 277), ('아빠', 274), ('누구', 274), ('좋아하다', 274), ('자꾸', 274), ('화가', 273), ('마시다', 270), ('ㄹ지', 269), ('싫다', 267), ('시작', 262), ('적', 260), ('곳', 259), ('잘못', 259), ('들어오다', 258), ('ㄹ까', 254), ('새끼', 253), ('처음', 252), ('속상하다', 249), ('갇히다', 248), ('다니다', 246), ('유기', 244), ('자다', 244), ('이벤트', 240), ('깜짝', 239), ('일주일', 239), ('맨날', 238), ('매번', 238), ('얼마나', 238), ('라도', 237), ('중', 234), ('갖다', 231), ('궁금', 231), ('명', 231), ('일어나다', 229), ('부모', 229), ('권', 228), ('고등학교', 227), ('무슨', 227), ('마라톤', 227), ('자고', 226), ('떠나다', 226), ('막', 225), ('더럽다', 225), ('코로나', 224), ('지나다', 224), ('그러다', 224), ('태기', 222), ('이나', 222), ('진정', 220), ('빨리', 218), ('스트레스', 218), ('날', 217), ('기록', 214), ('당연히', 212), ('벌써', 212), ('휴가', 211), ('죽다', 211), ('상사', 210), ('프로젝트', 210), ('듣다', 209), ('그대로', 208), ('답답', 207), ('보이다', 207), ('하나', 207), ('항상', 206), ('결국', 205), ('문제', 205), ('나아지다', 205), ('아무래도', 205), ('길래', 205), ('아무', 200), ('이랑', 200), ('향수', 200), ('넘다', 200), ('여행', 199), ('슬프다', 199), ('다음', 197), ('완전', 197), ('말다', 196), ('벌레', 196), ('사다', 195), ('분', 189), ('계단', 187), ('지치다', 186), ('고치다', 185), ('아까', 184), ('힘', 183), ('ㄴ가', 183), ('경찰', 181), ('사진', 181), ('세상', 181), ('저녁', 180), ('찍다', 180), ('토하다', 180), ('들어가다', 178), ('라서', 178), ('신나다', 177), ('잡다', 176), ('남다', 176), ('시키', 174), ('자', 173), ('목줄', 172), ('나서다', 172), ('꼭', 171), ('바로', 171), ('시키다', 171), ('화', 170), ('만', 169), ('키우다', 169), ('요새', 168), ('대회', 168), ('진행', 168), ('방법', 167), ('무', 167), ('음식물 쓰레기', 166), ('려고', 166), ('주변', 164), ('룸메이트', 164), ('별로', 162), ('짜장면', 161), ('영화', 160), ('새롭다', 159), ('야근', 159), ('치다', 159), ('미루다', 158), ('다섯', 158), ('따로', 157), ('오르다', 157), ('소리', 156), ('입원', 156), ('니', 155), ('얼른', 155), ('소개', 154), ('거기', 154), ('아무것', 154), ('강아지', 153), ('서로', 152), ('잠깐', 152), ('밤', 151), ('열심히', 149), ('달리다', 149), ('쓰레기통', 149), ('돈', 146), ('치료', 145), ('어도', 144), ('지저분', 143), ('이상', 142), ('장소', 142), ('욕', 141), ('걷다', 140), ('뛰다', 140), ('이런', 140), ('발목', 139), ('구매', 138), ('기력', 138), ('옮기다', 137), ('노트북', 137), ('사이', 137), ('마지막', 137), ('지장', 137), ('너무나', 136), ('며칠', 136), ('오래', 136), ('당장', 135), ('방향제', 135), ('거지', 135), ('풀리다', 134), ('심하다', 134), ('의식', 134), ('계', 133), ('완전히', 133), ('ㄴ다고', 132), ('운동', 132), ('고민', 131), ('뽑다', 130), ('원래', 129), ('사과', 128), ('주', 128), ('일찍', 128), ('환기', 128), ('제', 124), ('빼다', 124), ('응급실', 124), ('끊어지다', 123), ('쓰레기', 123), ('실망', 123), ('생명', 123), ('취미', 122), ('일단', 121), ('상황', 120), ('속', 120), ('거의', 119), ('잃다', 119), ('다행', 118), ('앞', 116), ('다녀오다', 115), ('동창', 114), ('식당', 114), ('장례', 114), ('이해', 114), ('룸', 114), ('업무', 113), ('거제', 113), ('강남', 112), ('어렵다', 111), ('드', 111), ('이직', 111), ('엄마', 111), ('잠', 110), ('참다', 110), ('혼', 110), ('나중', 109), ('아주', 109), ('하루', 107), ('천둥', 107), ('강남역', 107), ('최근', 107), ('선물', 107), ('러', 107), ('제출', 106), ('사용', 105), ('몇', 105), ('어디', 104), ('갱신', 104), ('우산', 104), ('어떡하지', 103), ('버티다', 103), ('미안', 103), ('으면서', 103), ('고생', 103), ('줄', 103), ('아침', 102), ('풀다', 102), ('비싸다', 102), ('층', 102), ('슬퍼하다', 101), ('노력', 100), ('그때', 100), ('동네', 100), ('이것', 99), ('째', 99), ('평소', 99), ('난리', 99), ('토', 98), ('으시', 98), ('건강', 98), ('아무도', 97), ('여기저기', 97), ('그리고', 97), ('영상', 97), ('선수', 97), ('간', 97), ('앉다', 96), ('똑같다', 96), ('걔', 96), ('사귀다', 96), ('지내다', 96), ('오랜만', 95), ('자기', 95), ('어떤', 95), ('옆', 94), ('손해', 94), ('그저께', 93), ('으', 92), ('효과', 92), ('그럼', 91), ('사라지다', 91), ('남자친구', 90), ('부족', 90), ('함께', 90), ('털어놓다', 90), ('어쩌다', 90), ('그만두다', 89), ('길', 89), ('나쁘다', 89), ('씩', 89), ('그러니까', 87), ('지인', 87), ('알리다', 86), ('축하', 85), ('대하다', 85), ('제대로', 85), ('얘', 85), ('종목', 85), ('만원', 84), ('포기', 84), ('쉽다', 84), ('아마', 84), ('입맛', 84), ('종일', 83), ('결승선', 83), ('도착', 83), ('신경', 83), ('보내다', 83), ('드디어', 83), ('계획', 83), ('관리', 83), ('찾다', 82), ('메', 82), ('순간', 82), ('예전', 81), ('다큐멘터리', 81), ('출전', 81), ('전혀', 80), ('떡', 80), ('그래야', 80), ('허전', 80), ('뿐', 80), ('프다', 80), ('걸리다', 80), ('확진', 80), ('알아보다', 80), ('네', 78), ('크루', 78), ('아이', 77), ('려면', 77), ('상태', 77), ('점점', 77), ('세우다', 77), ('서', 77), ('팔다', 76), ('처리', 75), ('기간', 75), ('죄송', 75), ('과', 75), ('배', 75), ('역겹다', 75), ('눈치', 74), ('망하다', 74), ('루', 74), ('광고', 73), ('두다', 73), ('생활비', 73), ('나이', 72), ('언', 72), ('통과', 71), ('와', 71), ('만들다', 71), ('모두', 71), ('따뜻', 71), ('바람', 70), ('직장', 70), ('상하다', 70), ('믿다', 70), ('조심', 70), ('내내', 69), ('날씨', 69), ('책임감', 68), ('친하다', 68), ('괜히', 68), ('반찬', 67), ('제일', 67), ('위로', 67), ('무기력증', 67), ('맛있다', 66), ('그러더니', 66), ('니깐', 65), ('데려가다', 65), ('빠지다', 65), ('모든', 64), ('느끼다', 64), ('부탁', 64), ('피해', 64), ('딱', 64), ('끊다', 64), ('공채', 64), ('전자', 63), ('습관', 62), ('음식물', 62), ('행복', 62), ('온대', 62), ('그만', 62), ('당연', 62), ('스트레칭', 61), ('엘리베이터', 61), ('뒷', 61), ('그러면', 61), ('얼마', 61), ('없이', 61), ('바닥', 60), ('보호', 60), ('창문', 59), ('반려', 59), ('그런지', 59), ('늘어나다', 59), ('여자친구', 58), ('전환', 58), ('진지', 58), ('문자', 58), ('심각', 58), ('갈다', 58), ('참', 57), ('넘어가다', 57), ('미치다', 57), ('대', 57), ('잊히다', 57), ('완성', 57), ('머리', 57), ('가장', 56), ('시설', 56), ('적다', 56), ('소식', 56), ('쓰러지다', 56), ('기대', 56), ('성격', 56), ('끝내다', 56), ('어지럽히다', 56), ('허다', 56), ('제품', 55), ('세면대', 55), ('을지', 55), ('자마자', 55), ('여기', 55), ('위하다', 55), ('당분간', 55), ('지켜보다', 55), ('저번', 54), ('취하다', 54), ('구입', 54), ('훨씬', 54), ('우', 54), ('감기', 54), ('깨다', 54), ('싸움', 54), ('바다', 54), ('학교', 53), ('우리집', 53), ('개', 53), ('찾아보다', 53), ('톡', 53), ('뉴스', 53), ('노래', 53), ('내려가다', 52), ('원', 52), ('경우', 52), ('느라고', 52), ('몰려오다', 52), ('발표', 52), ('먼저', 51), ('보증금', 51), ('밥맛', 51), ('슬럼프', 51), ('달다', 51), ('활동', 51), ('낫다', 50), ('도움', 50), ('소용', 50), ('도록', 50), ('잠도', 50), ('보험', 50), ('어떡하다', 49), ('눈', 49), ('당첨자', 49), ('늘다', 49), ('예쁘다', 49), ('한동안', 49), ('지랄', 49), ('습기', 48), ('계시다', 48), ('멈추다', 48), ('냉장고', 48), ('달려가다', 47), ('운영', 47), ('지적', 47), ('차', 47), ('사고', 47), ('지키다', 47), ('공원', 47), ('정신', 47), ('장마철', 47), ('열다', 47), ('큰일', 47), ('단', 47), ('붙다', 47), ('밤새', 47), ('여자', 47), ('사실', 46), ('언제', 46), ('후', 46), ('ㄹ려고', 46), ('적도', 46), ('그렇지만', 46), ('기운', 46), ('정리', 46), ('잊다', 46), ('가도', 46), ('으니', 46), ('아야지', 45), ('그동안', 45), ('없어', 45), ('유명', 45), ('계약', 45), ('너무너무', 45), ('아무리', 45), ('증거', 45), ('가지', 44), ('생활', 44), ('올', 44), ('부르다', 44), ('열악', 44), ('도대체', 44), ('재택근무', 44), ('썩다', 44), ('중요', 44), ('끼리', 44), ('음식', 43), ('앞으로', 43), ('지질', 43), ('두렵다', 43), ('과장', 43), ('터지다', 43), ('새로', 42), ('애', 42), ('가입', 42), ('없애다', 42), ('치루다', 42), ('모', 42), ('양식', 42), ('쐬다', 41), ('직원', 41), ('자랑', 41), ('운', 41), ('아파서', 41), ('쯤', 41), ('자신', 41), ('르', 41), ('지나가다', 41), ('돌아다니다', 41), ('대로', 41), ('작다', 41), ('매너', 41), ('충격', 41), ('고프다', 41), ('바이러스', 40), ('구', 40), ('아저씨', 40), ('편하다', 40), ('일식', 40), ('디스크', 40), ('당하다', 40), ('문', 39), ('미세먼지', 39), ('부리다', 39), ('컨디션', 39), ('별', 39), ('여러', 38), ('뻔', 38), ('맘', 38), ('기회', 38), ('모이다', 38), ('거나', 38), ('결과', 38), ('이따가', 38), ('작성', 38), ('어야지', 38), ('고립', 38), ('울다', 38), ('집안', 38), ('가슴', 37), ('올리다', 37), ('착하다', 37), ('에', 37), ('해도', 37), ('도망가다', 37), ('기본', 37), ('질', 37), ('저', 37), ('시즌', 37), ('감염병', 37), ('근처', 37), ('연습', 36), ('내리다', 36), ('선배', 36), ('거든', 36), ('딱히', 36), ('아깝다', 36), ('직', 36), ('확인', 36), ('뜨다', 36), ('돌아오다', 36), ('3년', 36), ('피곤', 35), ('손', 35), ('는가', 35), ('사무실', 35), ('반기다', 35), ('친절', 35), ('방금', 35), ('이미', 35), ('홍수', 35), ('귀엽다', 35), ('물바다', 35), ('싹', 35), ('열리다', 34), ('근무', 34), ('쪽', 34), ('지지', 34), ('대피', 34), ('챙기다', 34), ('혹시', 34), ('묻다', 34), ('더라고', 34), ('누', 34), ('군가', 34), ('최악', 34), ('구하다', 33), ('살펴보다', 33), ('재밌다', 33), ('도저히', 33), ('대화', 33), ('작업', 33), ('휴', 33), ('장난', 33), ('끝내', 33), ('해결', 33), ('래서', 33), ('커피', 33), ('안받다', 33), ('괜찮아', 33), ('둘', 33), ('장례식', 33), ('장마', 33), ('토가', 33), ('그곳', 33), ('무리', 32), ('듯', 32), ('반', 32), ('잡히다', 32), ('ㄹ게', 32), ('ㄴ다', 32), ('화도', 32), ('정전', 32), ('다투다', 32), ('퇴짜', 32), ('바', 32), ('정하다', 32), ('잖아', 32), ('다리', 32), ('땜', 32), ('잠기다', 32), ('고약', 32), ('결혼', 32), ('경기', 31), ('엉망', 31), ('싸다', 31), ('동료', 31), ('신청', 31), ('물어보다', 31), ('진도', 31), ('책임', 31), ('동물병원', 31), ('울적', 31), ('내용', 31), ('벌다', 31), ('필요', 31), ('메가', 31), ('대부분', 31), ('그렇잖다', 30), ('타다', 30), ('놈', 30), ('잃어버리다', 30), ('폭탄', 30), ('금방', 30), ('발생', 30), ('번개', 30), ('덥다', 30), ('히스테리', 30), ('뿌리다', 30), ('처지다', 30), ('동기', 30), ('시끄럽다', 30), ('마무리', 30), ('최종', 30), ('으러', 30), ('안와', 29), ('변하다', 29), ('차오르다', 29), ('재택', 29), ('정확', 29), ('묶다', 29), ('아우', 29), ('주의', 29), ('중간', 29), ('길거리', 29), ('들리다', 29), ('쫓아가다', 29), ('통장', 29), ('분위기', 29), ('인지', 29), ('세', 29), ('실수', 29), ('좋아서', 29), ('가격', 29), ('오지', 29), ('아무튼', 29), ('성', 28), ('1년', 28), ('동물', 28), ('잠시', 28), ('시름시름', 28), ('편', 28), ('데리다', 28), ('확', 28), ('모카', 28), ('새우다', 28), ('뒤', 28), ('생각나다', 28), ('중독', 28), ('끝', 28), ('다면', 28), ('억지로', 28), ('기쁘다', 27), ('기숙사', 27), ('안나', 27), ('곧', 27), ('정말로', 27), ('지원', 27), ('할거', 27), ('환경', 27), ('구르다', 27), ('올해', 27), ('지역', 27), ('멀쩡', 27), ('이유', 26), ('쓰이다', 26), ('남자', 26), ('사라', 26), ('탓', 26), ('미리', 26), ('안고', 26), ('귀찮다', 26), ('제때', 26), ('15년', 26), ('가끔', 26), ('비염', 26), ('느낌', 26), ('텐', 26), ('바꾸다', 26), ('정확히', 26), ('10분', 25), ('감다', 25), ('바깥', 25), ('째다', 25), ('바뀌다', 25), ('사건', 25), ('삼성', 25), ('주말', 25), ('지지다', 25), ('주위', 25), ('춥다', 25), ('거래', 25), ('치우', 25), ('바이오', 25), ('홀가분', 25), ('합격', 25), ('꺼내다', 25), ('떨다', 25), ('씻다', 25), ('발', 25), ('아이들', 25), ('치르다', 24), ('팀장', 24), ('앓다', 24), ('대면', 24), ('오질', 24), ('시험', 24), ('음식점', 24), ('환불', 24), ('들어주다', 24), ('명단', 24), ('음', 24), ('최선', 24), ('시원', 24), ('하긴', 24), ('조치', 24), ('마치다', 24), ('분이', 24), ('말리다', 24), ('이마', 23), ('기부금', 23), ('대박', 23), ('관심', 23), ('곁', 23), ('나가', 23), ('취소', 23), ('다운', 23), ('정부', 23), ('의욕', 23), ('딴', 23), ('센터', 23), ('모으다', 23), ('달래다', 23), ('경찰차', 23), ('꽝', 23), ('새서', 23), ('열', 23), ('식', 23), ('항의', 23), ('조언', 23), ('약간', 23), ('핑계', 23), ('아버지', 23), ('오', 23), ('에피타이저', 23), ('쌀', 23), ('확실', 23), ('위', 22), ('보조금', 22), ('움직이다', 22), ('흔들리다', 22), ('우산도', 22), ('소개팅', 22), ('관련', 22), ('삼', 22), ('한대', 22), ('비다', 22), ('깨끗이', 22), ('짜리', 22), ('군데', 22), ('통하다', 22), ('어차피', 22), ('화나', 22), ('장', 22), ('도와주다', 21), ('이따', 21), ('만만', 21), ('대학교', 21), ('섞이다', 21), ('남', 21), ('한참', 21), ('혼나다', 21), ('답', 21), ('끔찍', 21), ('재난', 21), ('실제로', 21), ('새', 21), ('엄청나다', 21), ('어젯밤', 21), ('피하다', 21), ('이틀', 21), ('진', 21), ('힘내다', 20), ('요령', 20), ('엊그제', 20), ('이루어지다', 20), ('외출', 20), ('뭔', 20), ('작년', 20), ('테이블', 20), ('리뷰', 20), ('이름', 20), ('푸짐', 20), ('배고프다', 20), ('덕분', 20), ('눈물', 20), ('회복', 20), ('공부', 20), ('삐다', 20), ('보상', 20), ('불쌍', 20), ('변명', 20), ('겁', 19), ('불편', 19), ('넌', 19), ('가야', 19), ('오랫동안', 19), ('적당히', 19), ('곳도', 19), ('해', 19), ('달려오다', 19), ('잠결', 19), ('위험', 19), ('줄다', 19), ('백화점', 19), ('피타', 19), ('붙잡다', 19), ('동아리', 19), ('물론', 19), ('는다고', 19), ('식히다', 19), ('을까', 19), ('꼼꼼히', 19), ('뜯다', 19), ('지난번', 19), ('동해', 19), ('첨부', 19), ('희망', 19), ('든', 18), ('대처', 18), ('지각', 18), ('증권', 18), ('의미', 18), ('옛날', 18), ('상처', 18), ('돈이 없어', 18), ('합격자', 18), ('쫓겨나다', 18), ('그나마', 18), ('깨끗', 18), ('변경', 18), ('천둥소리', 18), ('고통', 18), ('얼굴', 17), ('비우다', 17), ('저기', 17), ('즐겁다', 17), ('터', 17), ('나누다', 17), ('단축', 17), ('취업', 17), ('순', 17), ('빠르다', 17), ('등', 17), ('대다', 17), ('으려고', 17), ('나라', 17), ('통', 17), ('작정', 17), ('건물', 17), ('와서', 17), ('절대', 17), ('밤새우다', 17), ('안이', 17), ('끊기다', 17), ('푹', 17), ('다르다', 17), ('하늘나라', 17), ('교통비', 17), ('간신히', 17), ('행동', 17), ('아무런', 17), ('벌렁', 16), ('눕다', 16), ('화내다', 16), ('자리', 16), ('틀리다', 16), ('당황', 16), ('대답', 16), ('언니', 16), ('심장', 16), ('일반인', 16), ('어쩜', 16), ('주사', 16), ('날리다', 16), ('백', 16), ('평점', 16), ('겸', 16), ('라면', 16), ('바비', 16), ('돌아가다', 16), ('턱없이', 16), ('도망치다', 16), ('사', 16), ('아니야', 16), ('표현', 16), ('여름', 16), ('겹치다', 16), ('내년', 16), ('겨우', 16), ('꼬다', 16), ('값', 16), ('메세지', 16), ('멀다', 15), ('안전', 15), ('마찬가지', 15), ('레', 15), ('그러니', 15), ('실감', 15), ('틀다', 15), ('분명히', 15), ('한두', 15), ('느라', 15), ('ㄹ려면', 15), ('신다', 15), ('정', 15), ('사장', 15), ('바늘', 15), ('높다', 15), ('보호소', 15), ('나기', 15), ('건지', 15), ('아마도', 15), ('맞추다', 15), ('이신', 15), ('후회', 15), ('자세히', 15), ('경기도', 15), ('하늘', 15), ('으니깐', 15), ('통보', 15), ('어리다', 15), ('복잡', 15), ('상심', 15), ('지르다', 15), ('애가', 15), ('해오라', 15), ('즐기다', 15), ('잔뜩', 15), ('이전', 15), ('못나다', 15), ('경제', 15), ('인제', 15), ('과연', 15), ('비하다', 15), ('불안', 15), ('아예', 15), ('월급', 15), ('적당', 15), ('휴식', 14), ('날아가다', 14), ('엘', 14), ('베이', 14), ('능력', 14), ('비슷', 14), ('가볍다', 14), ('길다', 14), ('월급날', 14), ('부분', 14), ('작동', 14), ('이건', 14), ('배우다', 14), ('토막', 14), ('해서', 14), ('사랑', 14), ('항공사', 14), ('맛', 14), ('이거', 14), ('언젠가', 14), ('신고', 14), ('제거', 14), ('부러워하다', 14), ('나름', 14), ('왜 그러지', 14), ('부담', 14), ('꺼지다', 14), ('꿰매다', 14), ('올라가다', 14), ('전부', 13), ('부장', 13), ('서류', 13), ('여직원', 13), ('넣다', 13), ('상의', 13), ('흐르다', 13), ('견디다', 13), ('지나', 13), ('역', 13), ('털다', 13), ('결정', 13), ('려', 13), ('달라지다', 13), ('보고싶다', 13), ('싫어하다', 13), ('재미있다', 13), ('시도', 13), ('상', 13), ('차다', 13), ('병', 13), ('똑같이', 13), ('오래되다', 13), ('개월', 13), ('추스리다', 13), ('버릇', 13), ('저러다', 13), ('슬픔', 13), ('폭락', 13), ('수다', 13), ('씨', 13), ('지독', 13), ('덜', 13), ('괴롭히다', 13), ('환절기', 13), ('하필', 13), ('배신감', 12), ('상관', 12), ('바닷가', 12), ('우연히', 12), ('저것', 12), ('전염병', 12), ('재미', 12), ('신기', 12), ('여유', 12), ('잔소리', 12), ('경신', 12), ('가게', 12), ('살', 12), ('보고서', 12), ('답장', 12), ('우선', 12), ('보지', 12), ('올라오다', 12), ('모임', 12), ('그만큼', 12), ('잠들다', 12), ('바보', 12), ('동생', 12), ('막히다', 12), ('쓸다', 12), ('가뜩이나', 12), ('십', 12), ('보니', 12), ('겪다', 12), ('와중', 12), ('검진', 12), ('커서', 12), ('확산', 11), ('남은', 11), ('어기다', 11), ('부럽다', 11), ('사용 설명서', 11), ('어쨌든', 11), ('간식', 11), ('막상', 11), ('은지', 11), ('최고', 11), ('솔직히', 11), ('조만간', 11), ('상품', 11), ('게임', 11), ('서울', 11), ('늘', 11), ('볼일', 11), ('내놓다', 11), ('몰아주다', 11), ('이루', 11), ('전망', 11), ('하진', 11), ('피', 11), ('모양', 11), ('급하다', 11), ('이대로', 11), ('참고', 11), ('정밀', 11), ('뛰어가다', 11), ('경황', 11), ('굉장히', 11), ('약', 11), ('킬로미터', 11), ('수정', 11), ('곤', 11), ('여력', 11), ('요청', 11), ('밤샘', 11), ('요란', 11), ('서다', 11), ('트다', 11), ('황당', 11), ('별일', 11), ('편안', 11), ('때려치다', 11), ('매다', 11), ('송이', 11), ('질리다', 11), ('고이다', 11), ('속이다', 11), ('대체', 11), ('을려고', 11), ('물건', 11), ('빈자리', 11), ('보고 싶다', 11), ('화장', 11), ('외롭다', 10), ('식사', 10), ('사서', 10), ('춤', 10), ('추다', 10), ('봉투', 10), ('영', 10), ('동호회', 10), ('ㄴ다니까', 10), ('벌리다', 10), ('권태', 10), ('직접', 10), ('역시', 10), ('연차', 10), ('해진', 10), ('긴장', 10), ('개념', 10), ('별다르다', 10), ('차리다', 10), ('겁나다', 10), ('오래전', 10), ('가시다', 10), ('범인', 10), ('내야', 10), ('카', 10), ('급', 10), ('소용없다', 10), ('달아나다', 10), ('이별', 10), ('벗어나다', 10), ('인정받다', 10), ('발라드', 10), ('맛집', 10), ('주일', 10), ('첫', 10), ('투자', 10), ('첫날', 10), ('날파리', 10), ('일곱', 10), ('은가', 10), ('돕다', 10), ('제주도', 10), ('습', 10), ('자체', 10), ('론', 10), ('본인', 10), ('기도', 10), ('형편', 10), ('시비', 10), ('약하다', 10), ('담배', 10), ('짓', 10), ('쑤시다', 10), ('심심', 10), ('대신', 10), ('더러워지다', 10), ('정이', 10), ('걸어가다', 10), ('깨지다', 10), ('사소', 10), ('감정', 10), ('대단', 10), ('바퀴벌레', 10), ('인정', 10), ('꽤', 10), ('나빠지다', 10), ('노', 10), ('카페', 9), ('바리케이드', 9), ('발견', 9), ('원하다', 9), ('진실', 9), ('워낙', 9), ('감사', 9), ('의지', 9), ('엉망진창', 9), ('촬영', 9), ('가라앉다', 9), ('까', 9), ('친', 9), ('야', 9), ('ㄴ다면', 9), ('며', 9), ('조절', 9), ('용', 9), ('용돈', 9), ('상장', 9), ('켜다', 9), ('이정', 9), ('중국집', 9), ('쌓이다', 9), ('펴다', 9), ('짱', 9), ('권유', 9), ('남기다', 9), ('공기', 9), ('고르다', 9), ('점', 9), ('기억', 9), ('한가', 9), ('요번', 9), ('쟤', 9), ('다니까', 9), ('뿌듯', 9), ('ㄹ테니까', 9), ('놀래다', 9), ('ㄴ걸', 9), ('한심', 9), ('특히', 9), ('가르치다', 9), ('일상', 9), ('상습범', 9), ('려니', 9), ('잊어버리다', 9), ('기존', 9), ('딸', 9), ('울렁거리다', 9), ('지우다', 9), ('막막', 9), ('매', 9), ('검사', 9), ('지지가', 9), ('만화', 9), ('후련', 9), ('뽑히다', 9), ('퍼지다', 9), ('지도', 9), ('벌어지다', 9), ('관계', 9), ('턱', 9), ('냄새나다', 9), ('무시', 9), ('차라리', 9), ('밑', 9), ('최대한', 9), ('한결', 8), ('듯이', 8), ('시청자', 8), ('입장', 8), ('욕먹다', 8), ('끊이다', 8), ('물다', 8), ('대안', 8), ('신기록', 8), ('화나다', 8), ('마스크', 8), ('내보다', 8), ('이용', 8), ('예정', 8), ('기획서', 8), ('든지', 8), ('폭', 8), ('애완견', 8), ('공용', 8), ('한숨', 8), ('정보', 8), ('량', 8), ('맡기다', 8), ('실컷', 8), ('오히려', 8), ('뛰쳐나가다', 8), ('뒤지다', 8), ('존', 8), ('하지', 8), ('공감', 8), ('상실감', 8), ('생명과학', 8), ('놀랍다', 8), ('안쓰럽다', 8), ('드릴', 8), ('태풍', 8), ('설치다', 8), ('매우', 8), ('아물다', 8), ('거진', 8), ('우울증', 8), ('땅', 8), ('간단', 8), ('여진', 8), ('비상', 8), ('진심', 8), ('돌다', 8), ('그리', 8), ('가', 8), ('꿈', 8), ('불', 8), ('벨', 8), ('교통사고', 8), ('한잔', 8), ('도망', 8), ('비교', 8), ('서해', 8), ('인하다', 8), ('못살다', 8), ('학원', 8), ('분명', 8), ('여전히', 8), ('돌리다', 8), ('출근', 8), ('퇴원', 8), ('누르다', 8), ('수습', 8), ('휴간', 8), ('때리다', 8), ('만큼', 8), ('래', 8), ('진작에', 8), ('쳐먹다', 8), ('신세', 8), ('인터넷', 8), ('죄다', 8), ('조용히', 8), ('제약', 8), ('안정', 8), ('털', 8), ('저금통', 7), ('안다', 7), ('보통', 7), ('전염', 7), ('채우다', 7), ('비정규직', 7), ('배달', 7), ('자격', 7), ('향', 7), ('퇴사', 7), ('푸다', 7), ('냐면', 7), ('더라도', 7), ('시국', 7), ('오죽', 7), ('얻다', 7), ('진전', 7), ('ㄹ텐데', 7), ('달리기', 7), ('통증', 7), ('하도', 7), ('케이', 7), ('엔터테인먼트', 7), ('어느', 7), ('꼴', 7), ('도로', 7), ('무사', 7), ('찢어지다', 7), ('찜찜', 7), ('아마추어', 7), ('빨리빨리', 7), ('앞날', 7), ('치사', 7), ('까지다', 7), ('헤어', 7), ('용기', 7), ('한강', 7), ('다시다', 7), ('믿기다', 7), ('거두다', 7), ('지겹다', 7), ('인생', 7), ('가능', 7), ('걸', 7), ('연애', 7), ('처먹다', 7), ('향상', 7), ('비하', 7), ('고려', 7), ('정돈', 7), ('입', 7), ('끼다', 7), ('그립다', 7), ('삼십', 7), ('새다', 7), ('여행가', 7), ('시기', 7), ('축축', 7), ('랑', 7), ('성적', 7), ('깔끔', 7), ('걱정하지마', 7), ('근질근질', 7), ('기부', 7), ('한적', 7), ('진동', 7), ('수술', 7), ('상해', 7), ('이기다', 7), ('로', 7), ('월세', 7), ('성인', 7), ('저렇다', 7), ('도둑', 7), ('우왕좌왕', 7), ('수준', 7), ('하루하루', 7), ('수도', 7), ('꼬리', 7), ('고백', 7), ('갑작스럽다', 7), ('신', 7), ('변기', 6), ('변종', 6), ('닦다', 6), ('반드시', 6), ('던가', 6), ('저런', 6), ('자료', 6), ('자연', 6), ('이놈', 6), ('지경', 6), ('퉁명', 6), ('관리실', 6), ('유행', 6), ('쫓다', 6), ('땡큐', 6), ('조', 6), ('회의', 6), ('늙다', 6), ('식구', 6), ('동', 6), ('락', 6), ('습하다', 6), ('게든', 6), ('티', 6), ('무능', 6), ('재밌는 영화', 6), ('조깅', 6), ('회', 6), ('날짜', 6), ('리가', 6), ('본건', 6), ('경력', 6), ('그분', 6), ('쌓다', 6), ('숨', 6), ('차이', 6), ('일부러', 6), ('게라도', 6), ('들어서다', 6), ('가깝다', 6), ('모습', 6), ('동영상', 6), ('연구', 6), ('절대로', 6), ('마땅', 6), ('터놓다', 6), ('라는데', 6), ('허기', 6), ('인가', 6), ('반복', 6), ('짜', 6), ('온통', 6), ('시끌', 6), ('보람', 6), ('불합격', 6), ('햇빛', 6), ('가득', 6), ('우리 아버지', 6), ('수업', 6), ('오빠', 6), ('나가야', 6), ('추스르다', 6), ('구급차', 6), ('막다', 6), ('오케이', 6), ('따지다', 6), ('해외', 6), ('던데', 6), ('앤', 6), ('청하다', 6), ('자원봉사', 6), ('으라고', 6), ('애기', 6), ('선택', 6), ('글', 6), ('대학', 6), ('변덕', 6), ('떨리다', 6), ('빠', 6), ('거짓말', 6), ('입다', 6), ('달동', 6), ('난 주', 6), ('골', 6), ('해지', 6), ('기', 6), ('함부로', 6), ('천천히', 6), ('하드', 6), ('연인', 6), ('물놀이', 6), ('잇다', 6), ('아무렇다', 6), ('더욱', 6), ('취직', 6), ('처참', 6), ('반하다', 6), ('정규', 6), ('자신감', 6), ('혼내다', 6), ('칸', 6), ('지시', 6), ('경고', 6), ('아이디어', 6), ('자유', 6), ('추억', 6), ('충분히', 6), ('일자리', 6), ('다며', 6), ('다니', 6), ('ㄹ래', 6), ('까다', 5), ('바래다', 5), ('만인', 5), ('강하다', 5), ('본적', 5), ('척', 5), ('길가', 5), ('와우', 5), ('붙이다', 5), ('줄이다', 5), ('아파하다', 5), ('꿰메다', 5), ('다정다감', 5), ('출동', 5), ('쇼핑', 5), ('두루두루', 5), ('젖다', 5), ('빌리다', 5), ('이주', 5), ('당하', 5), ('실력', 5), ('따라서', 5), ('환장', 5), ('한텐', 5), ('종종', 5), ('김치', 5), ('만사', 5), ('일거리', 5), ('도', 5), ('책임지다', 5), ('줄어들다', 5), ('인사', 5), ('빠져나오다', 5), ('이참', 5), ('독하다', 5), ('우리나라', 5), ('흘리다', 5), ('빅히트 엔터테인먼트', 5), ('언제나', 5), ('맑다', 5), ('도전', 5), ('염치', 5), ('자취방', 5), ('고서', 5), ('불만', 5), ('안해', 5), ('삶', 5), ('슬슬', 5), ('마저', 5), ('깜깜', 5), ('산', 5), ('나야', 5), ('똥', 5), ('가망', 5), ('아쉽다', 5), ('짓다', 5), ('창', 5), ('어깨', 5), ('무겁다', 5), ('터덜터덜', 5), ('요', 5), ('어이', 5), ('연구실', 5), ('어머니', 5), ('그러면서', 5), ('영도', 5), ('든가', 5), ('피고', 5), ('가만히', 5), ('이후', 5), ('부서', 5), ('피다', 5), ('추첨', 5), ('돌고', 5), ('달래', 5), ('이것저것', 5), ('특별히', 5), ('반반', 5), ('빠져나가다', 5), ('꾸준히', 5), ('치', 5), ('다간', 5), ('진료', 5), ('잔', 5), ('점심', 5), ('중학교', 5), ('만약', 5), ('주가', 5), ('괴롭다', 5), ('순위', 5), ('입구', 5), ('지난달', 5), ('정해', 5), ('난', 5), ('백신', 5), ('굶다', 5), ('따르다', 5), ('좋은 날', 5), ('뛰어나가다', 5), ('제발', 5), ('옷', 5), ('이력서', 5), ('불도', 5), ('꽉', 5), ('실리다', 5), ('개인', 5), ('또라이', 5), ('웬', 5), ('어다', 5), ('덜다', 5), ('고여', 5), ('진중', 5), ('최', 5), ('냐고', 5), ('영화로', 5), ('소리치다', 5), ('치질', 5), ('빨다', 5), ('코로', 5), ('전쟁', 5), ('대판', 5), ('어쩌면', 5), ('부딪히다', 5), ('깜빡', 5), ('부끄럽다', 5), ('피우다', 5), ('벌이다', 5), ('살피다', 5), ('아파트', 5), ('환풍기', 5), ('잔잔', 5), ('ㄹ라고', 5), ('구조', 5), ('자취', 5), ('떨치다', 5), ('해달', 5), ('낡다', 5), ('멀리', 5), ('오시', 5), ('꼬이다', 5), ('괘', 5), ('술취', 5), ('깊다', 5), ('사설', 5), ('냐', 5), ('회산', 5), ('놀라', 5), ('찾아오다', 5), ('받아들이다', 5), ('마다', 5), ('양이', 5), ('짜다', 5), ('틈틈히', 5), ('아끼다', 5), ('키로', 5), ('청소기', 5), ('던지', 5), ('막내', 5), ('마땅히', 5), ('더라', 5), ('설명서', 5), ('클럽', 4), ('현금', 4), ('ㄹ수록', 4), ('먹이다', 4), ('번호', 4), ('따다', 4), ('만지다', 4), ('달성', 4), ('수용', 4), ('독해', 4), ('종', 4), ('부러지다', 4), ('다음번', 4), ('삐', 4), ('논문', 4), ('맡다', 4), ('강도', 4), ('군대', 4), ('눈빛', 4), ('사원', 4), ('분도', 4), ('명동', 4), ('세수', 4), ('먹히다', 4), ('잠잠', 4), ('현실', 4), ('다만', 4), ('팝', 4), ('놓치다', 4), ('아냐', 4), ('인', 4), ('소홀', 4), ('첨', 4), ('가가', 4), ('빨래', 4), ('유', 4), ('억울', 4), ('조퇴', 4), ('챙피', 4), ('팀', 4), ('처음이라서', 4), ('바라다', 4), ('아주머니', 4), ('거동', 4), ('경험', 4), ('망치다', 4), ('매장', 4), ('나란히', 4), ('후원금', 4), ('나몰라라', 4), ('분야', 4), ('화만', 4), ('가슴이 두근두근', 4), ('내면', 4), ('테', 4), ('나머지', 4), ('저세상', 4), ('비위', 4), ('어저께', 4), ('하나하나', 4), ('원인', 4), ('버스', 4), ('신나', 4), ('온', 4), ('민간', 4), ('도중', 4), ('그리다', 4), ('심정', 4), ('법', 4), ('미워하다', 4), ('마트', 4), ('몰려들다', 4), ('말도', 4), ('떠나보내다', 4), ('잘다', 4), ('응원', 4), ('이게 무슨 일이야', 4), ('금상첨화', 4), ('양심', 4), ('이리저리', 4), ('트러블', 4), ('병들다', 4), ('살리다', 4), ('쫓아내다', 4), ('바르다', 4), ('두근두근', 4), ('혐오', 4), ('벌린', 4), ('과정', 4), ('뒤처리', 4), ('확실히', 4), ('유튜브', 4), ('조회', 4), ('지긋지긋', 4), ('알바', 4), ('아요', 4), ('다시피', 4), ('기관', 4), ('자장면', 4), ('틈', 4), ('섞다', 4), ('표정', 4), ('바리', 4), ('쯧', 4), ('윽', 4), ('일없다', 4), ('고지', 4), ('질문', 4), ('사와', 4), ('천생연분', 4), ('팔', 4), ('암', 4), ('화장품', 4), ('날다', 4), ('커플', 4), ('울고불고', 4), ('헬스', 4), ('행운', 4), ('와도', 4), ('문도', 4), ('비밀', 4), ('멍', 4), ('이기', 4), ('차마', 4), ('찌뿌둥하다', 4), ('치킨', 4), ('밝다', 4), ('못쓰다', 4), ('생', 4), ('통화', 4), ('안타깝다', 4), ('불쾌', 4), ('긍정', 4), ('탈락', 4), ('지루', 4), ('소원', 4), ('고급', 4), ('가면', 4), ('해소', 4), ('방도', 4), ('마감', 4), ('자르다', 4), ('첫눈', 4), ('반도체', 4), ('잡기', 4), ('주지', 4), ('알아먹다', 4), ('동고동락', 4), ('사면', 4), ('소문나다', 4), ('무척', 4), ('한번', 4), ('집세', 4), ('심지어', 4), ('의논', 4), ('드라마', 4), ('때려치우다', 4), ('훔치다', 4), ('유독', 4), ('애쓰다', 4), ('참가', 4), ('버티고', 4), ('예약', 4), ('상대', 4), ('후기', 4), ('인턴', 4), ('딩', 4), ('강력', 4), ('죽이다', 4), ('친구사이', 4), ('소문', 4), ('명품', 4), ('십오', 4), ('주인', 4), ('들어먹다', 4), ('침대', 4), ('안보', 4), ('박다', 4), ('완주', 4), ('과중', 4), ('전국', 4), ('지금 그대', 4), ('어둡다', 3), ('설마', 3), ('몇 번을', 3), ('다는데', 3), ('꼼꼼', 3), ('방세', 3), ('넘', 3), ('엄두', 3), ('테마', 3), ('천', 3), ('기지', 3), ('꾸중', 3), ('결혼식', 3), ('똑', 3), ('어서라도', 3), ('채팅', 3), ('귀', 3), ('허위', 3), ('매사', 3), ('맘대로', 3), ('살짝', 3), ('하면', 3), ('쾅', 3), ('그럭저럭', 3), ('벌', 3), ('응모', 3), ('주문', 3), ('동거', 3), ('빅', 3), ('전원', 3), ('시지', 3), ('도일', 3), ('매년', 3), ('정처', 3), ('어지르다', 3), ('마디', 3), ('가보', 3), ('행사', 3), ('갔', 3), ('바로바로', 3), ('김', 3), ('스타', 3), ('오십만', 3), ('계획안', 3), ('스터디', 3), ('기사', 3), ('ㄹ래야', 3), ('초등학교', 3), ('의자', 3), ('거리다', 3), ('과제', 3), ('이사', 3), ('태어나다', 3), ('끼치다', 3), ('식욕', 3), ('경비실', 3), ('안락사', 3), ('컵', 3), ('여동생', 3), ('뵙다', 3), ('거절', 3), ('오랜', 3), ('적응', 3), ('뜻', 3), ('종식', 3), ('만회', 3), ('데려오다', 3), ('수록', 3), ('무지', 3), ('지하철', 3), ('좆', 3), ('허', 3), ('읽다', 3), ('의견', 3), ('좀처럼', 3), ('철', 3), ('짖다', 3), ('눈코', 3), ('직전', 3), ('리진', 3), ('머릿속', 3), ('청소년', 3), ('가짜', 3), ('알', 3), ('이면', 3), ('올려놓다', 3), ('장소라', 3), ('라더니', 3), ('사이에서', 3), ('구경거리', 3), ('산거', 3), ('칼', 3), ('허둥지둥', 3), ('잠수', 3), ('다던데', 3), ('자원', 3), ('책상', 3), ('제가', 3), ('부상', 3), ('결론', 3), ('어요', 3), ('굴다', 3), ('핸드폰', 3), ('참여', 3), ('식다', 3), ('불다', 3), ('예', 3), ('화이팅', 3), ('개발', 3), ('집으로 가는 길', 3), ('관리인', 3), ('속다', 3), ('동시', 3), ('풀어지다', 3), ('저렴', 3), ('날라가다', 3), ('대학생', 3), ('감', 3), ('이래', 3), ('쭉', 3), ('화끈', 3), ('뛰치다', 3), ('덜컹', 3), ('심리', 3), ('불안정', 3), ('대세', 3), ('한바탕', 3), ('이든', 3), ('넘어오다', 3), ('전화기', 3), ('기절', 3), ('민중', 3), ('지팡이', 3), ('쎄다', 3), ('기르다', 3), ('다름없다', 3), ('좆같다', 3), ('점심시간', 3), ('함', 3), ('맘껏', 3), ('한마디', 3), ('으려면', 3), ('반성', 3), ('싫증', 3), ('아이패드', 3), ('건너다', 3), ('미친놈', 3), ('서성이다', 3), ('큐', 3), ('사표', 3), ('단체', 3), ('게으르다', 3), ('우수', 3), ('찌다', 3), ('사정', 3), ('인줄', 3), ('평상시', 3), ('나진', 3), ('땡기다', 3), ('급진', 3), ('신입', 3), ('선생님', 3), ('의사', 3), ('시위', 3), ('어이없다', 3), ('굳이', 3), ('편의점', 3), ('직업인', 3), ('증가', 3), ('뻔하다', 3), ('예뻐서', 3), ('못가', 3), ('벤치', 3), ('여건', 3), ('보태다', 3), ('쓰기', 3), ('한시', 3), ('심란', 3), ('오래다', 3), ('접촉', 3), ('얼', 3), ('시진', 3), ('놀이터', 3), ('창피', 3), ('할', 3), ('웃다', 3), ('짧다', 3), ('갈라고', 3), ('왕따', 3), ('직업', 3), ('사방', 3), ('들이다', 3), ('그르다', 3), ('처지', 3), ('성능', 3), ('말이', 3), ('인해', 3), ('저지르다', 3), ('날뛰다', 3), ('가라앉히다', 3), ('토사물', 3), ('넘치다', 3), ('대비', 3), ('밀리다', 3), ('민수', 3), ('주로', 3), ('경비', 3), ('말다툼', 3), ('마구', 3), ('예민', 3), ('진척', 3), ('뜨개질', 3), ('죽음', 3), ('탈', 3), ('일방', 3), ('지옥', 3), ('빵', 3), ('리안', 3), ('알코올', 3), ('방바닥', 3), ('식은땀', 3), ('프로', 3), ('물 한잔', 3), ('엎드리다', 3), ('추세', 3), ('몰래', 3), ('그쪽', 3), ('마시기', 3), ('본전', 3), ('컴퓨터', 3), ('징그럽다', 3), ('사기', 3), ('충고', 3), ('망', 3), ('자전거', 3), ('더니만', 3), ('끼', 3), ('놀리다', 3), ('그거', 3), ('비오', 3), ('년대', 3), ('조차', 3), ('사지', 3), ('고집', 3), ('밤새다', 3), ('배신', 3), ('하기', 3), ('커다랗다', 3), ('근거', 3), ('입양', 3), ('하소연', 3), ('잠자다', 3), ('머', 3), ('기가', 3), ('어젯', 3), ('콩닥콩닥', 3), ('고등학생', 3), ('미련', 3), ('여섯', 3), ('서운', 3), ('밟다', 3), ('그러다가', 3), ('발전', 3), ('꺼', 3), ('까먹다', 3), ('형', 3), ('책', 3), ('체', 3), ('내다보다', 2), ('관리자', 2), ('정해진', 2), ('명정', 2), ('락스', 2), ('빡빡', 2), ('다짐', 2), ('물어', 2), ('뜯어보다', 2), ('증말', 2), ('대형', 2), ('내일은 비', 2), ('녀석', 2), ('늘어놓다', 2), ('사회생활', 2), ('수칙', 2), ('페이', 2), ('공간', 2), ('사람과', 2), ('미끄러지다', 2), ('매뉴얼', 2), ('후배', 2), ('죽지', 2), ('인간', 2), ('매주', 2), ('부치다', 2), ('저가', 2), ('아미', 2), ('히트', 2), ('마', 2), ('씨알', 2), ('홈페이지', 2), ('기전', 2), ('구독자', 2), ('관두다', 2), ('가끔가다', 2), ('일반', 2), ('공공', 2), ('구석', 2), ('겨', 2), ('이대', 2), ('아가', 2), ('월', 2), ('택시', 2), ('혹시나', 2), ('억', 2), ('백만', 2), ('다면서', 2), ('보아주다', 2), ('악화', 2), ('만도', 2), ('기계', 2), ('각자', 2), ('상상', 2), ('끓이다', 2), ('진단', 2), ('이런저런', 2), ('굴', 2), ('마련', 2), ('문제없이', 2), ('스펙', 2), ('감염', 2), ('회식', 2), ('아찔', 2), ('먹거리', 2), ('계열', 2), ('한지', 2), ('무너지다', 2), ('지하', 2), ('바라지', 2), ('가시', 2), ('진출', 2), ('숙이다', 2), ('외국어', 2), ('몰다', 2), ('지난주', 2), ('차근차근', 2), ('밑반찬', 2), ('쭉쭉', 2), ('헛', 2), ('스타일', 2), ('둘째', 2), ('허술', 2), ('검색', 2), ('거제도', 2), ('집으로', 2), ('구역질', 2), ('일보', 2), ('대단히', 2), ('그치', 2), ('빠꾸', 2), ('어찌', 2), ('성공', 2), ('대충', 2), ('엉뚱', 2), ('고치', 2), ('잘살다', 2), ('번주', 2), ('심장병', 2), ('우량주', 2), ('삼성전자', 2), ('경영난', 2), ('적어지다', 2), ('ㄹ걸', 2), ('먼지', 2), ('영향', 2), ('봉사자', 2), ('벌금', 2), ('출발', 2), ('샐러드', 2), ('얼다', 2), ('쫓아다니다', 2), ('성질', 2), ('그놈', 2), ('그날', 2), ('시달리다', 2), ('해장국', 2), ('갈래', 2), ('때려', 2), ('전해', 2), ('왠지', 2), ('어울리다', 2), ('따라가다', 2), ('자책', 2), ('더럽히다', 2), ('생생', 2), ('살다가', 2), ('경품', 2), ('계획서', 2), ('해주시', 2), ('대도', 2), ('드럽다', 2), ('낌새', 2), ('사이고', 2), ('나르다', 2), ('다구', 2), ('알아듣다', 2), ('훌쩍', 2), ('아름답다', 2), ('데이트', 2), ('주동', 2), ('꾸다', 2), ('팁', 2), ('이제야', 2), ('난감', 2), ('명상', 2), ('살인', 2), ('수고', 2), ('양지바르다', 2), ('철창', 2), ('가까이', 2), ('으려니', 2), ('정답', 2), ('자식', 2), ('공고', 2), ('손대다', 2), ('평생', 2), ('소방차', 2), ('정색', 2), ('놓아두다', 2), ('이쪽', 2), ('수지', 2), ('으며', 2), ('허무', 2), ('잘못했어', 2), ('내지', 2), ('이만', 2), ('재산', 2), ('상태도', 2), ('동전', 2), ('요즈음', 2), ('실랑이', 2), ('덕', 2), ('무지개', 2), ('어색', 2), ('소화도', 2), ('조사', 2), ('방황', 2), ('확보', 2), ('자라다', 2), ('수험', 2), ('세달', 2), ('다더니', 2), ('ㄴ다는데', 2), ('거부', 2), ('진작', 2), ('먹고살다', 2), ('정상', 2), ('주어지다', 2), ('안녕', 2), ('햇볕', 2), ('접', 2), ('웬만', 2), ('주도', 2), ('심해', 2), ('세다', 2), ('이십', 2), ('3월', 2), ('낙후', 2), ('역하다', 2), ('여럿', 2), ('노리다', 2), ('일층', 2), ('고자', 2), ('유학', 2), ('생전', 2), ('더 독', 2), ('기적', 2), ('칭찬', 2), ('재테크', 2), ('학생', 2), ('은', 2), ('조개', 2), ('줍다', 2), ('어지럽다', 2), ('씩씩', 2), ('꼬드기다', 2), ('근', 2), ('리', 2), ('참견', 2), ('세배', 2), ('가져가다', 2), ('여', 2), ('집회', 2), ('언성', 2), ('상사면', 2), ('갑', 2), ('널리다', 2), ('아줌마', 2), ('훈련', 2), ('는구나', 2), ('용서', 2), ('모자라다', 2), ('무조건', 2), ('기미', 2), ('고주망태', 2), ('슬다', 2), ('으려나', 2), ('무사히', 2), ('탁자', 2), ('폭발', 2), ('느리다', 2), ('기업', 2), ('딴소리', 2), ('완벽', 2), ('유망', 2), ('정당', 2), ('느니', 2), ('이때', 2), ('사주', 2), ('달려들다', 2), ('극복', 2), ('세번', 2), ('운명', 2), ('자세', 2), ('정들다', 2), ('그치다', 2), ('송', 2), ('흥분', 2), ('을라고', 2), ('욕심', 2), ('절도', 2), ('업다', 2), ('구역', 2), ('염', 2), ('오픈', 2), ('집값', 2), ('온몸', 2), ('제안', 2), ('가져오다', 2), ('천국', 2), ('만나', 2), ('매력', 2), ('커지다', 2), ('보기', 2), ('찡', 2), ('측근', 2), ('분리', 2), ('번지다', 2), ('싸가지', 2), ('존중', 2), ('여기다', 2), ('애정', 2), ('외', 2), ('팍', 2), ('갈수록', 2), ('감동', 2), ('목표', 2), ('마시', 2), ('미식', 2), ('평화', 2), ('떠오르다', 2), ('홀로', 2), ('화재', 2), ('귀로', 2), ('아시', 2), ('튀다', 2), ('미', 2), ('상당히', 2), ('텅', 2), ('제라', 2), ('실장', 2), ('하나라', 2), ('목도', 2), ('오우', 2), ('주정', 2), ('부리', 2), ('파티', 2), ('졸다', 2), ('안중', 2), ('몸싸움', 2), ('환상', 2), ('실제', 2), ('외톨이', 2), ('거리', 2), ('어느날', 2), ('실은', 2), ('개새끼', 2), ('다라고', 2), ('리야', 2), ('절도사', 2), ('무서워하다', 2), ('오기', 2), ('안심', 2), ('피하', 2), ('난장판', 2), ('허망', 2), ('활기', 2), ('민폐', 2), ('힐링', 2), ('사보', 2), ('알콜', 2), ('상대방', 2), ('내려오다', 2), ('설거지', 2), ('서너', 2), ('어마어마', 2), ('무릎', 2), ('놀래기', 2), ('총', 2), ('안지', 2), ('동창생', 2), ('비도', 2), ('식인', 2), ('하물며', 2), ('들이대다', 2), ('장기', 2), ('신이', 2), ('에 산', 2), ('카드', 2), ('학기', 2), ('담다', 2), ('술주정', 2), ('쓸모', 2), ('패턴', 2), ('미팅', 2), ('공포', 2), ('학대', 2), ('겄', 2), ('두지', 2), ('교육', 2), ('셈', 2), ('그녀', 2), ('어학', 2), ('또다시', 2), ('계란', 2), ('실천', 2), ('피신', 2), ('호전', 2), ('답변', 2), ('편집', 2), ('존재', 2), ('실내', 2), ('해결책', 2), ('나쁘지 않아', 2), ('정기', 2), ('컵라면', 2), ('차장', 2), ('도인', 2), ('재미나다', 2), ('한데', 2), ('우르르', 2), ('예능', 2), ('인기', 2), ('카메라', 2), ('기념', 2), ('단순', 2), ('골목', 2), ('을', 2), ('운전', 2), ('하락세', 2), ('후유증', 2), ('너 때문에', 2), ('라나', 2), ('통원', 2), ('봉사', 2), ('자존심', 2), ('푼', 2), ('모처럼', 2), ('페브리즈', 2), ('봄', 2), ('근로', 2), ('얕잡다', 2), ('버스 정류장', 2), ('몇몇', 2), ('싸이다', 2), ('만해', 2), ('업체', 2), ('재', 2), ('통수', 2), ('그저', 2), ('ㄹ라', 2), ('주기', 2), ('달리', 2), ('유동', 2), ('인구', 2), ('트로트', 2), ('더라구', 2), ('민망', 2), ('실망감', 2), ('으려니까', 2), ('의하다', 2), ('게으름', 2), ('말귀', 2), ('험악', 2), ('여태', 2), ('엔터', 2), ('테이', 2), ('쨍', 2), ('홈', 2), ('트레이닝', 2), ('연기', 2), ('집다', 2), ('달랑', 2), ('한계', 2), ('연인들', 2), ('흑', 2), ('내보내다', 2), ('는다', 2), ('이쁘다', 2), ('갈리다', 2), ('비행기', 2), ('표', 2), ('끄다', 2), ('시발', 2), ('증상', 2), ('학', 2), ('의심', 2), ('각박', 2), ('판', 2), ('다양', 2), ('우리동네', 2), ('발뺌', 2), ('그중', 2), ('넘기다', 2), ('새벽', 2), ('노환', 2), ('어라', 2), ('뛰쳐나오다', 2), ('투', 2), ('피더', 2), ('찬바람', 2), ('진대', 2), ('사태', 2), ('으려', 2), ('대놓고', 2), ('두서너', 2), ('못되다', 2), ('내주다', 2), ('헤비메탈', 2), ('헐레벌떡', 2), ('꿀꿀', 2), ('병신', 2), ('수십', 2), ('해주', 2), ('상습', 2), ('흔하다', 2), ('뚝', 2), ('왕', 2), ('바라보다', 2), ('두기', 2), ('건데', 2), ('특별', 2), ('통제', 2), ('촉박', 2), ('강', 2), ('지우', 2), ('님과 함께', 2), ('일요일', 2), ('뒤척이다', 2), ('오토바이', 2), ('무엇', 2), ('자상', 2), ('지속', 2), ('옥상', 2), ('비슷비슷', 2), ('편히', 2), ('별거', 2), ('콜', 2), ('록', 2), ('멍청', 2), ('격려', 2), ('날씬', 2), ('물리다', 2), ('계기', 2), ('공', 2), ('산더미', 2), ('어느새', 2), ('타이르다', 2), ('등산', 2), ('잠재우다', 2), ('목걸이', 2), ('려는데', 2), ('마랑', 2), ('나타나다', 2), ('무난', 2), ('이곳', 2), ('저곳', 2), ('잘리다', 2), ('닫히다', 1), ('집어던지다', 1), ('구글', 1), ('시체', 1), ('벽', 1), ('독불', 1), ('장군', 1), ('아웅', 1), ('벌어먹다', 1), ('코믹', 1), ('다음날', 1), ('무려', 1), ('문서', 1), ('뚱딴지', 1), ('반응', 1), ('실세', 1), ('방안', 1), ('짝', 1), ('메모', 1), ('가리다', 1), ('구조대', 1), ('당', 1), ('주당', 1), ('저작권', 1), ('손 세정제', 1), ('탄천', 1), ('안녕히 계세요', 1), ('종량제', 1), ('소화', 1), ('한복판', 1), ('유리컵', 1), ('졸업', 1), ('볼', 1), ('일거', 1), ('가만', 1), ('익히다', 1), ('보살피다', 1), ('격리', 1), ('안내판', 1), ('기막히다', 1), ('사안', 1), ('거니와', 1), ('데다', 1), ('신세계', 1), ('화상', 1), ('무말랭이', 1), ('떼', 1), ('천하태평', 1), ('전쟁터', 1), ('차분히', 1), ('각오', 1), ('색출', 1), ('떠돌다', 1), ('코', 1), ('술집', 1), ('왕창', 1), ('불성', 1), ('속상', 1), ('고향', 1), ('장손', 1), ('주방', 1), ('한쪽', 1), ('부시다', 1), ('달마', 1), ('집구석', 1), ('랴', 1), ('타입', 1), ('승객', 1), ('풀리', 1), ('햄버거', 1), ('팀원', 1), ('창피해', 1), ('반지', 1), ('해방', 1), ('부당', 1), ('도난', 1), ('증인', 1), ('집중', 1), ('빌다', 1), ('죽', 1), ('구직', 1), ('사이트', 1), ('소름', 1), ('선비', 1), ('이어지다', 1), ('떨어뜨리다', 1), ('쫙', 1), ('깔리다', 1), ('몸살', 1), ('다그치다', 1), ('제한', 1), ('합하다', 1), ('공역', 1), ('이용자', 1), ('마포대교', 1), ('일상생활', 1), ('멍청이', 1), ('방송', 1), ('차량', 1), ('차기', 1), ('일정', 1), ('되돌아오다', 1), ('무트', 1), ('찌푸리다', 1), ('세부', 1), ('사항', 1), ('사촌', 1), ('순진', 1), ('면역력', 1), ('ㄴ다면서', 1), ('결실', 1), ('감격', 1), ('거실', 1), ('깨', 1), ('야간', 1), ('허하다', 1), ('일감', 1), ('활동량', 1), ('찾아가다', 1), ('빌어', 1), ('신뢰도', 1), ('엑셀', 1), ('고생대', 1), ('고다', 1), ('목구멍', 1), ('로비', 1), ('녹록', 1), ('번트', 1), ('강의', 1), ('짚다', 1), ('끈', 1), ('웃음', 1), ('저쪽', 1), ('ㄹ새', 1), ('봉사단', 1), ('들뜨다', 1), ('지내보다', 1), ('전기', 1), ('제재', 1), ('환영', 1), ('뒤따르다', 1), ('무단', 1), ('널브러지다', 1), ('분발', 1), ('빠짐없이', 1), ('전하진', 1), ('이동', 1), ('고소', 1), ('진다', 1), ('이리', 1), ('금전', 1), ('틈틈이', 1), ('애초', 1), ('땡', 1), ('깡', 1), ('화창', 1), ('쉬쉬', 1), ('위주', 1), ('가르키다', 1), ('담기다', 1), ('재발', 1), ('씌우다', 1), ('리오', 1), ('미세', 1), ('불량품', 1), ('딱지', 1), ('파리', 1), ('조마조마', 1), ('탈출', 1), ('비일비재', 1), ('인디라', 1), ('카레', 1), ('반갑다', 1), ('고장', 1), ('우하다', 1), ('폐렴', 1), ('아비규환', 1), ('공유', 1), ('정식', 1), ('단도리', 1), ('도구', 1), ('고양이', 1), ('요리', 1), ('맴돌다', 1), ('쌍', 1), ('리만', 1), ('불면증', 1), ('낮', 1), ('넋', 1), ('는데다가', 1), ('독감', 1), ('배터리', 1), ('입지', 1), ('거짓', 1), ('여가', 1), ('유리창', 1), ('야구', 1), ('방망이', 1), ('려니까', 1), ('홍', 1), ('수난', 1), ('위치', 1), ('바까', 1), ('제자리', 1), ('권안', 1), ('치료제', 1), ('박난', 1), ('시연', 1), ('번갈다', 1), ('핫', 1), ('악랄', 1), ('널', 1), ('볼라', 1), ('열흘', 1), ('뽑기', 1), ('사랑으로', 1), ('부딪치다', 1), ('입사', 1), ('개인주의', 1), ('신약', 1), ('단어', 1), ('야무지다', 1), ('커버', 1), ('주제', 1), ('조상', 1), ('무가', 1), ('성비', 1), ('블루', 1), ('추모', 1), ('댁', 1), ('성별', 1), ('툭', 1), ('울리다', 1), ('전화번호', 1), ('야외', 1), ('수용소', 1), ('개선', 1), ('줄기', 1), ('멋지다', 1), ('니어', 1), ('연결', 1), ('곤란', 1), ('매입', 1), ('우 누', 1), ('헤치다', 1), ('바랄', 1), ('나위', 1), ('지가', 1), ('변동', 1), ('앞마당', 1), ('볕', 1), ('아침저녁', 1), ('노릇', 1), ('미래', 1), ('인식', 1), ('귀신', 1), ('소주', 1), ('이끌다', 1), ('승진', 1), ('건성건성', 1), ('뛰어나오다', 1), ('뛰어놀다', 1), ('의', 1), ('두르다', 1), ('변기통', 1), ('전주', 1), ('담', 1), ('우승', 1), ('불경기', 1), ('디디다', 1), ('엄연히', 1), ('쇠약', 1), ('독고', 1), ('다이', 1), ('다리다', 1), ('한진', 1), ('노처녀', 1), ('하마터면', 1), ('젤', 1), ('자동', 1), ('이어', 1), ('학년', 1), ('지점', 1), ('바람나다', 1), ('양', 1), ('모아', 1), ('사도', 1), ('안녕하세요', 1), ('축', 1), ('망가', 1), ('허탈', 1), ('평균', 1), ('컷', 1), ('최선일', 1), ('ㄴ다더니', 1), ('여쭈다', 1), ('물리', 1), ('아니아', 1), ('라며', 1), ('팔자', 1), ('입력', 1), ('기상', 1), ('솔로', 1), ('문지르다', 1), ('근육통', 1), ('엔', 1), ('해보면', 1), ('술자리', 1), ('스무', 1), ('초대', 1), ('닫힘', 1), ('버튼', 1), ('잔고', 1), ('오진', 1), ('던지다', 1), ('마도', 1), ('지면', 1), ('폭발음', 1), ('메로', 1), ('위생', 1), ('으려는데', 1), ('원상태', 1), ('순지', 1), ('쉬엄쉬엄', 1), ('채', 1), ('자꾸자꾸', 1), ('짤리다', 1), ('욕실', 1), ('찾아다니다', 1), ('튕기다', 1), ('고는', 1), ('취객', 1), ('행패', 1), ('널다', 1), ('모드', 1), ('더 문', 1), ('제야', 1), ('반납', 1), ('무디다', 1), ('뒤늦다', 1), ('안일', 1), ('퇴직금', 1), ('신입사원', 1), ('긴급', 1), ('금쪽같다', 1), ('당시', 1), ('사감', 1), ('지잔', 1), ('몹쓸', 1), ('수치', 1), ('불리다', 1), ('기집애', 1), ('사이좋다', 1), ('한가득', 1), ('인상', 1), ('비명', 1), ('후에', 1), ('규칙', 1), ('갑갑', 1), ('실패', 1), ('발작', 1), ('일으키다', 1), ('취급', 1), ('시끄러워!', 1), ('실례', 1), ('비속어', 1), ('박히다', 1), ('두세', 1), ('대낮', 1), ('단짝', 1), ('마냥', 1), ('마당', 1), ('더하다', 1), ('이진', 1), ('금액', 1), ('초기', 1), ('바닥나다', 1), ('비록', 1), ('공포 영화', 1), ('땅콩', 1), ('액션', 1), ('필라테스', 1), ('먹먹', 1), ('라이프', 1), ('양초', 1), ('수영', 1), ('일일이', 1), ('나열', 1), ('아홉', 1), ('쌀쌀', 1), ('조용', 1), ('우리말', 1), ('소매치기', 1), ('메스껍다', 1), ('노라고', 1), ('어쨋든', 1), ('방학', 1), ('만근', 1), ('신종', 1), ('밉다', 1), ('꾸리다', 1), ('비율', 1), ('예상', 1), ('주시', 1), ('응답', 1), ('갈라서다', 1), ('불법', 1), ('막아서다', 1), ('쉬', 1), ('교수', 1), ('유라', 1), ('높이다', 1), ('조촐', 1), ('밴드', 1), ('다시 시작해', 1), ('관하다', 1), ('전인지', 1), ('병간호', 1), ('거르다', 1), ('감염자', 1), ('살수', 1), ('업', 1), ('지진대', 1), ('회초리', 1), ('을래', 1), ('비품', 1), ('시인', 1), ('자금난', 1), ('디어', 1), ('십분', 1), ('인터폰', 1), ('씨방', 1), ('원도', 1), ('동의', 1), ('숫자', 1), ('물 처리', 1), ('돼지', 1), ('잡새', 1), ('주장', 1), ('펼치다', 1), ('크리스마스', 1), ('머리카락', 1), ('메뉴', 1), ('천만다행', 1), ('조그맣다', 1), ('금융', 1), ('지주', 1), ('타겟', 1), ('뛰어들다', 1), ('흔들흔들', 1), ('커피집', 1), ('대전', 1), ('경향', 1), ('비대', 1), ('오일', 1), ('진창', 1), ('아르바이트', 1), ('끌어안다', 1), ('절차', 1), ('떠들다', 1), ('야단', 1), ('이불', 1), ('엥', 1), ('국내', 1), ('섣불리', 1), ('한군데', 1), ('따라오다', 1), ('불평', 1), ('배려', 1), ('심도', 1), ('거주자', 1), ('우선주', 1), ('주차', 1), ('고객', 1), ('음료수', 1), ('13층', 1), ('성형', 1), ('넷플릭스', 1), ('주량', 1), ('달려와', 1), ('돼지우리', 1), ('좁히다', 1), ('식탁', 1), ('미처', 1), ('대수롭다', 1), ('새하얗다', 1), ('여름휴가', 1), ('엄격', 1), ('허기지다', 1), ('간지', 1), ('기금', 1), ('칠', 1), ('유리병', 1), ('지병', 1), ('돋다', 1), ('파', 1), ('넉넉', 1), ('특성', 1), ('뒷바라지', 1), ('둘러싸다', 1), ('죄책감', 1), ('왜 나에게', 1), ('들이밀다', 1), ('한강대로', 1), ('벅차다', 1), ('휩싸이다', 1), ('수거', 1), ('낮추다', 1), ('타박상', 1), ('멍들다', 1), ('몰려가다', 1), ('처', 1), ('근육', 1), ('당일', 1), ('난 구', 1), ('경도', 1), ('보일', 1), ('보석상', 1), ('동창회', 1), ('사내', 1), ('코리안', 1), ('타임', 1), ('극', 1), ('혀다', 1), ('공동', 1), ('금주', 1), ('플로', 1), ('재미없다', 1), ('이르다', 1), ('부재중', 1), ('세월', 1), ('반대편', 1), ('카페나', 1), ('변한', 1), ('지원서', 1), ('악몽', 1), ('내걸다', 1), ('종결', 1), ('모시다', 1), ('주민', 1), ('동이', 1), ('그런대로', 1), ('영화관', 1), ('제맛', 1), ('냉수', 1), ('여태껏', 1), ('아씨', 1), ('튀어나오다', 1), ('오니', 1), ('재빠르다', 1), ('노려보다', 1), ('전세', 1), ('대출', 1), ('자금', 1), ('갚다', 1), ('썩이다', 1), ('취하', 1), ('최소', 1), ('열기', 1), ('실', 1), ('배고픔', 1), ('가운데', 1), ('진주', 1), ('뒤통수', 1), ('갱년기', 1), ('가방', 1), ('종기', 1), ('열도', 1), ('쓸쓸', 1), ('서울역', 1), ('입학', 1), ('자포자기', 1), ('부질', 1), ('수없다', 1), ('그새', 1), ('청솔', 1), ('차사', 1), ('딴사람', 1), ('가로수길', 1), ('여행지', 1), ('여유도', 1), ('플레이', 1), ('사이코', 1), ('알아주다', 1), ('산업', 1), ('단계', 1), ('불결', 1), ('현상', 1), ('수배', 1), ('범', 1), ('월요일', 1), ('남이', 1), ('아서라도', 1), ('뛰어오다', 1), ('쌍수', 1), ('그전', 1), ('나날이', 1), ('엑스레이', 1), ('다란', 1), ('소속사', 1), ('동동', 1), ('방산', 1), ('원금', 1), ('인내심', 1), ('드러내다', 1), ('본가', 1), ('당당', 1), ('흰둥이', 1), ('존경심', 1), ('엎어지다', 1), ('징징대다', 1), ('똑똑', 1), ('우지', 1), ('갑작스레', 1), ('깜작', 1), ('토익', 1), ('염치없다', 1), ('분량', 1), ('부렐', 1), ('학회', 1), ('이상만', 1), ('상관없다', 1), ('대리', 1), ('버겁다', 1), ('겹다', 1), ('효', 1), ('준', 1), ('원만', 1), ('아인', 1), ('계산', 1), ('악취', 1), ('원상', 1), ('복귀', 1), ('애지', 1), ('저거', 1), ('슬금슬금', 1), ('중독자', 1), ('배추', 1), ('찾아내다', 1), ('드세다', 1), ('더라면', 1), ('애착', 1), ('잔인', 1), ('구서', 1), ('곧바로', 1), ('뒤섞이다', 1), ('허락', 1), ('꾸짖다', 1), ('때다', 1), ('오드', 1), ('심장이 뛴다', 1), ('대체로', 1), ('최후', 1), ('보루', 1), ('은행', 1), ('구나', 1), ('안위', 1), ('느', 1), ('7년', 1), ('키', 1), ('수목장', 1), ('컴', 1), ('플레인', 1), ('몰래몰래', 1), ('사상충', 1), ('려나', 1), ('빈번', 1), ('선선', 1), ('툭하면', 1), ('패닉', 1), ('즐거움', 1), ('구지', 1), ('모레', 1), ('지나치다', 1), ('휴지통', 1), ('척도', 1), ('가이드', 1), ('라인', 1), ('엎다', 1), ('에선', 1), ('닫다', 1), ('방문', 1), ('통쾌', 1), ('엉터리', 1), ('고사', 1), ('끝끝내', 1), ('다나', 1), ('피터', 1), ('바퀴', 1), ('자니', 1), ('여든', 1), ('샘', 1), ('재다', 1), ('일어', 1), ('무력', 1), ('빗물', 1), ('유도', 1), ('본', 1), ('정주', 1), ('행', 1), ('어쩌다가', 1), ('감당', 1), ('관리비', 1), ('솔직', 1), ('기차', 1), ('활짝', 1), ('사사건건', 1), ('큰맘', 1), ('위자료', 1), ('면하다', 1), ('격하다', 1), ('화병', 1), ('짬', 1), ('놀', 1), ('기온', 1), ('따듯', 1), ('가정', 1), ('무더기', 1), ('아니 벌써', 1), ('서비스', 1), ('다지', 1), ('수상', 1), ('게다가', 1), ('오신', 1), ('가량', 1), ('파격', 1), ('하락', 1), ('영상 편집', 1), ('감기다', 1), ('정일', 1), ('그나저나', 1), ('쓸모없다', 1), ('청개구리', 1), ('진찰', 1), ('삼일', 1), ('근본', 1), ('재계약', 1), ('초', 1), ('마라', 1), ('토너', 1), ('건들다', 1), ('온종일', 1), ('향기도', 1), ('공지', 1), ('돌아보다', 1), ('직인', 1), ('부쩍', 1), ('찌릿찌릿', 1), ('캐다', 1), ('노후', 1), ('정정', 1), ('행동 지침', 1), ('절로', 1), ('목숨', 1), ('전날', 1), ('국가', 1), ('주니', 1), ('스스로', 1), ('소', 1), ('화장터', 1), ('민원', 1), ('조급히', 1), ('회기', 1), ('단지', 1), ('금', 1), ('감시', 1), ('인간성', 1), ('테러', 1), ('말꼬리', 1), ('교훈', 1), ('해먹', 1), ('고기', 1), ('굽다', 1), ('재능', 1), ('연세', 1), ('미숙', 1), ('음주', 1), ('말썽', 1), ('부리면', 1), ('가자', 1), ('애교', 1), ('펑펑', 1), ('플라이', 1), ('길목', 1), ('뒷마당', 1), ('한번쯤', 1), ('냥', 1), ('찌꺼기', 1), ('크룬', 1), ('훈수', 1), ('사람의 마음', 1), ('수당', 1), ('서서히', 1), ('긴가', 1), ('외면', 1), ('쳐다보다', 1), ('두리번거리다', 1), ('째지다', 1), ('고열', 1), ('일해', 1), ('쉼터', 1), ('외국', 1), ('넋두리', 1), ('베다', 1), ('부동산', 1), ('비상금', 1), ('열두', 1), ('쿵쾅거리다', 1), ('주소', 1), ('성장', 1), ('솔루션', 1), ('덩치', 1), ('대치', 1), ('이루다', 1), ('메일', 1), ('단백질', 1), ('섭취', 1), ('거래처', 1), ('싹싹', 1), ('감실', 1), ('프로그램', 1), ('택하다', 1), ('동네 한 바퀴', 1), ('경찰관', 1), ('언어', 1), ('쏟아지다', 1), ('밀려들다', 1), ('사준', 1), ('대서', 1), ('꼼짝', 1), ('콱', 1), ('자존', 1), ('완료', 1), ('집주인', 1), ('대니까', 1), ('빙글빙글', 1), ('개운', 1), ('초반', 1), ('수월', 1), ('반전', 1), ('그다지', 1), ('생일', 1), ('정수기', 1), ('부페', 1), ('형식', 1), ('줄줄이', 1), ('최소한', 1), ('통계', 1), ('아들', 1), ('경', 1), ('신입생', 1), ('환영회', 1), ('에피', 1), ('타이', 1), ('총대', 1), ('청해', 1), ('하루나', 1), ('휴가철', 1), ('서핑', 1), ('미르', 1), ('조르다', 1), ('기자', 1), ('사회', 1), ('음주운전', 1), ('기준', 1), ('신랑', 1), ('안도', 1), ('껍데기', 1), ('덮어놓다', 1), ('허비', 1), ('옵션', 1), ('여우', 1), ('키질', 1), ('자동차', 1), ('코로나바이러스', 1), ('영어', 1), ('떠올리다', 1), ('추돌', 1), ('소득', 1), ('댄', 1), ('주정뱅이', 1), ('제압', 1), ('내리', 1), ('전공', 1), ('대기', 1), ('트라우마', 1), ('불나다', 1), ('언가', 1), ('사놓다', 1), ('저도', 1), ('유지', 1), ('원점', 1), ('활력', 1), ('꾸역꾸역', 1), ('땡땡', 1), ('반점', 1), ('어른', 1), ('애지중지', 1), ('파악', 1), ('마주', 1), ('일리', 1), ('꿀', 1), ('치이다', 1), ('일본', 1), ('망가지다', 1), ('오바', 1), ('춤추다', 1), ('서인', 1), ('ㄴ다기에', 1), ('따라다니다', 1), ('리포트', 1), ('체력', 1), ('오호', 1), ('창고', 1), ('뒤치다', 1), ('꺼리', 1), ('미국', 1), ('실험', 1), ('상위', 1), ('정시', 1), ('멍하니', 1), ('설레다', 1), ('운전자', 1), ('은근', 1), ('슬쩍', 1), ('효율', 1), ('해지다', 1), ('바가지', 1), ('짐', 1), ('다로', 1), ('길이', 1), ('려다가', 1), ('얌전히', 1), ('수백', 1), ('강가', 1), ('왼팔', 1), ('대시', 1), ('지갑', 1), ('대충대충', 1), ('찍히다', 1), ('탁', 1), ('묵다', 1), ('신곡', 1), ('헌팅', 1), ('까다롭다', 1), ('덮다', 1), ('모집', 1), ('중천', 1), ('버들', 1), ('방탄소년단', 1), ('즘', 1), ('희한', 1), ('나이트', 1), ('인재', 1), ('창밖', 1), ('끊임없이', 1), ('이하', 1), ('동문', 1), ('꼽다', 1), ('곰곰히', 1), ('거더', 1), ('뒤덮이다', 1), ('사이코패스', 1), ('흔들다', 1), ('남자들', 1), ('사가', 1), ('믿음', 1), ('약식', 1), ('빈둥거리다', 1), ('만족', 1), ('고라도', 1), ('불공평', 1), ('걸치다', 1), ('제작사', 1), ('기기', 1), ('는다면', 1), ('비참', 1), ('전만', 1), ('레포트', 1), ('빈도', 1), ('끙끙', 1), ('본관', 1), ('정중', 1), ('거칠다', 1), ('유골', 1), ('지구', 1), ('아두', 1), ('봉지', 1), ('전율', 1), ('ㄴ바', 1), ('차근히', 1), ('잔상', 1), ('편들다', 1), ('라던지', 1), ('도무지', 1), ('당번', 1), ('내키다', 1), ('이만큼', 1), ('변', 1), ('삼성화재', 1), ('어쩌라고', 1), ('말싸움', 1), ('밀다', 1), ('두부', 1), ('인력', 1), ('낭비', 1), ('볼꼴', 1), ('향도', 1), ('한둘', 1), ('왕자', 1), ('결재', 1), ('오만', 1), ('내 여자', 1), ('뻥', 1), ('힌트', 1), ('기왕이면', 1), ('라벤더', 1), ('잡치다', 1), ('리더', 1), ('숨다', 1), ('놀이공원', 1), ('재활', 1), ('이왕이면', 1), ('간도', 1), ('기술', 1), ('그딴', 1), ('개소리', 1), ('복지', 1), ('시들시들', 1), ('여행권', 1), ('되찾다', 1), ('뛰어다니다', 1), ('자기변명', 1), ('성실', 1), ('유머', 1), ('잡지', 1), ('유일한', 1), ('해답', 1), ('인플루언스', 1), ('예뻐', 1), ('쳐주다', 1), ('안치', 1), ('운지', 1), ('불구경', 1), ('심정은', 1), ('시원찮다', 1), ('쬐다', 1), ('도면', 1), ('취향', 1), ('헤드헌터', 1), ('본거지', 1), ('도박', 1), ('발자국', 1), ('술버릇', 1), ('아수라장', 1), ('성실히', 1), ('신뢰', 1), ('만화가', 1), ('그릴', 1), ('진짜진짜', 1), ('아픔', 1), ('고마워요', 1), ('시내', 1), ('미터', 1), ('다지다', 1), ('다와', 1), ('선반', 1), ('철장', 1), ('존댓말', 1), ('스타벅스', 1), ('다이어트', 1), ('신지', 1), ('덤덤', 1), ('자리 구', 1), ('째려보다', 1), ('혹은', 1), ('범죄', 1), ('사망자', 1), ('찬물', 1), ('꼰대', 1), ('쓸데없다', 1), ('구김살', 1), ('자빠지다', 1), ('그럼에도 불구하고', 1), ('구별', 1), ('오노', 1), ('수없이', 1), ('당연시', 1), ('자급', 1), ('동행', 1), ('직도', 1), ('손실', 1), ('성취감', 1), ('소소', 1), ('착잡', 1), ('수중', 1), ('테크', 1), ('건설', 1), ('애인', 1), ('풀어내다', 1), ('처박히다', 1), ('간만', 1), ('고대', 1), ('썬', 1), ('도라도', 1), ('쿵쾅쿵쾅', 1), ('술타령', 1), ('저놈', 1), ('흔적', 1), ('메우다', 1), ('도통', 1), ('내색', 1), ('앞서다', 1), ('꺼림칙', 1), ('꼬투리', 1), ('별생각', 1), ('약품', 1), ('속사정', 1), ('급여', 1), ('공황', 1), ('낮잠', 1), ('깐깐', 1), ('ㅁ직', 1), ('헐렁', 1), ('나시', 1), ('일수', 1), ('마을', 1), ('비타민', 1), ('듬뿍', 1), ('과일', 1), ('동문서답', 1), ('차주', 1), ('장르', 1), ('정상은', 1), ('지금껏', 1), ('폐쇄', 1), ('밟히다', 1), ('심근', 1), ('경색', 1), ('복권', 1), ('천우', 1), ('본때', 1), ('분명이', 1), ('로만', 1), ('뜸하다', 1), ('리지', 1), ('공제', 1), ('환', 1), ('풍', 1), ('꼭꼭', 1), ('생겨나다', 1), ('골대', 1), ('상쾌', 1), ('직성', 1), ('기고만장', 1), ('세제', 1), ('살아오다', 1), ('날이 갈수록', 1), ('보고', 1), ('킬로', 1), ('다툼', 1), ('피폐', 1), ('불량', 1), ('기고', 1), ('천생', 1), ('연분', 1), ('찰떡', 1), ('궁합', 1), ('자로', 1), ('착각', 1), ('가까스로', 1), ('방향', 1), ('인공지능', 1), ('쾌감', 1), ('오 마이 갓', 1), ('은행동', 1), ('친오빠', 1), ('하프', 1), ('석연', 1), ('철썩', 1), ('오자', 1), ('좋아 좋아', 1), ('훈계', 1), ('말세', 1), ('귀여워하다', 1), ('찡그리다', 1), ('해수욕장', 1), ('강제', 1), ('이만저만', 1), ('까짓', 1), ('예절', 1), ('독', 1), ('중심지', 1), ('지대', 1), ('낮다', 1), ('파스', 1), ('원고', 1), ('그림책', 1), ('사십', 1), ('설득', 1), ('슈퍼', 1), ('전하다', 1), ('신경전', 1), ('인연', 1), ('상도', 1), ('장난치다', 1), ('척추측만증', 1), ('그리워', 1), ('불어나다', 1), ('간소', 1), ('간직', 1), ('옮다', 1), ('하여튼', 1), ('하염없이', 1), ('물품', 1), ('꾸미다', 1), ('피해액', 1), ('상당', 1), ('투성이', 1), ('발길', 1), ('닿다', 1), ('잡아먹다', 1), ('안달', 1), ('하든', 1), ('분별', 1), ('자질', 1), ('대책', 1), ('합치다', 1), ('각', 1), ('증명', 1), ('실적', 1), ('복수', 1), ('둘러보다', 1), ('오해', 1), ('돈이 없어!', 1), ('메시지', 1), ('피로', 1), ('절', 1), ('서점', 1), ('몰아붙이다', 1), ('아라', 1), ('통로', 1), ('보름', 1), ('불안감', 1), ('청정기', 1), ('오래가다', 1), ('극한', 1), ('코코', 1), ('명절', 1), ('되돌다', 1), ('상실', 1), ('학과', 1), ('복학', 1), ('과학', 1), ('수사', 1), ('선뜻', 1), ('들여오다', 1), ('종료', 1), ('다루다', 1), ('너에게', 1), ('튜브', 1), ('유혹', 1), ('뿌리치다', 1), ('돌리지', 1), ('마침', 1), ('증세', 1), ('보이', 1), ('재우다', 1), ('ㄹ라구', 1), ('맞이', 1), ('근래', 1), ('늦잠', 1), ('훈이', 1), ('협상', 1), ('졸리다', 1), ('샤워', 1), ('슬그머니', 1), ('초파리', 1), ('불러들이다', 1), ('선후배', 1), ('둥둥', 1), ('섬', 1), ('경상', 1), ('ㄴ다더라', 1), ('적어도', 1), ('흥청망청', 1), ('이해심', 1), ('징징', 1), ('마리나', 1), ('뒤끝', 1), ('부여', 1), ('시장', 1), ('라면서', 1), ('들이박다', 1), ('감수', 1), ('레인지', 1), ('삼각김밥', 1), ('절약', 1), ('잦다', 1), ('생각해보면', 1), ('얼큰', 1), ('하룻밤', 1), ('똥값', 1), ('아이티', 1), ('농땡이', 1), ('들려주다', 1), ('비보', 1), ('물난리', 1), ('바이트', 1), ('풀', 1), ('의원', 1), ('침', 1), ('물리치료', 1), ('비즈니스', 1), ('엉키다', 1), ('평범', 1), ('으려다', 1), ('제법', 1), ('부시', 1), ('초상집', 1), ('자초', 1), ('일시', 1), ('전체', 1), ('시간대', 1), ('오우야', 1), ('주먹', 1), ('망정', 1), ('꿈속', 1), ('교', 1), ('형편없다', 1), ('소질', 1), ('국밥', 1), ('10억', 1), ('면허', 1), ('뒷산', 1), ('쫓아오다', 1), ('실상', 1), ('살아가다', 1), ('굴러가다', 1), ('중국', 1), ('어리둥절', 1), ('나발', 1), ('당신', 1), ('계시', 1), ('계발', 1), ('쇼핑몰', 1), ('못다', 1), ('이상해', 1), ('장사', 1), ('떠밀리다', 1), ('11월', 1), ('이용하', 1), ('ㄹ려', 1), ('숙지', 1), ('상하', 1), ('예의', 1), ('서로서로', 1), ('현황', 1), ('실태', 1), ('앞자리', 1), ('안치다', 1), ('고사하고', 1), ('쪼다', 1), ('테레비', 1), ('구상', 1), ('과로사', 1), ('업종', 1), ('개다', 1), ('게시판', 1), ('진 하', 1), ('차지', 1), ('중국어', 1), ('도둑들', 1), ('인성', 1), ('낫', 1), ('초밥', 1), ('이왕', 1), ('따끔', 1), ('해내다', 1), ('꼬박', 1), ('이백만', 1), ('만난 사람', 1), ('운수', 1), ('종업원', 1), ('부패', 1), ('현명', 1), ('수익', 1), ('멕이다', 1), ('놀림', 1), ('질주', 1), ('명심', 1), ('월차', 1), ('겨를', 1), ('기다', 1), ('장기전', 1), ('마찰', 1), ('버', 1), ('불황', 1), ('뒤집다', 1)]\n"
     ]
    }
   ],
   "source": [
    "token_dic = tokenizer.word_counts\n",
    "d2 = sorted(token_dic.items(), key=lambda x: x[1], reverse=True)\n",
    "print(\"sorted\")\n",
    "print(d2)"
   ],
   "metadata": {
    "collapsed": false,
    "pycharm": {
     "name": "#%%\n"
    }
   }
  },
  {
   "cell_type": "markdown",
   "source": [
    "### Padding"
   ],
   "metadata": {
    "collapsed": false,
    "pycharm": {
     "name": "#%% md\n"
    }
   }
  },
  {
   "cell_type": "code",
   "execution_count": 26,
   "outputs": [
    {
     "name": "stdout",
     "output_type": "stream",
     "text": [
      "텍스트의 최대 길이 : 52\n",
      "텍스트의 평균 길이 : 10.53609459504854\n"
     ]
    },
    {
     "data": {
      "text/plain": "<Figure size 432x288 with 1 Axes>",
      "image/png": "[encoded data removed]"
     },
     "metadata": {},
     "output_type": "display_data"
    }
   ],
   "source": [
    "print('텍스트의 최대 길이 :',max(len(text) for text in train_sequences))\n",
    "print('텍스트의 평균 길이 :',sum(map(len, train_sequences))/len(train_sequences))\n",
    "plt.hist([len(text) for text in train_sequences], bins=50)\n",
    "plt.xlabel('length of samples')\n",
    "plt.ylabel('number of samples')\n",
    "plt.show()"
   ],
   "metadata": {
    "collapsed": false,
    "pycharm": {
     "name": "#%%\n"
    }
   }
  },
  {
   "cell_type": "code",
   "execution_count": 27,
   "outputs": [],
   "source": [
    "trunc_type = 'post'\n",
    "padding_type = 'post'\n",
    "MAX_LEN = int(max(len(text) for text in train_sequences) * 95 / 100)\n",
    "\n",
    "X_train = pad_sequences(train_sequences, maxlen=MAX_LEN, padding=padding_type, truncating=trunc_type)\n",
    "X_test= pad_sequences(test_sequences, maxlen=MAX_LEN, padding=padding_type, truncating=trunc_type)"
   ],
   "metadata": {
    "collapsed": false,
    "pycharm": {
     "name": "#%%\n"
    }
   }
  },
  {
   "cell_type": "code",
   "execution_count": 28,
   "outputs": [
    {
     "name": "stdout",
     "output_type": "stream",
     "text": [
      "[[  14  143 1433   32  596    9  545   41  723    0    0    0    0    0\n",
      "     0    0    0    0    0    0    0    0    0    0    0    0    0    0\n",
      "     0    0    0    0    0    0    0    0    0    0    0    0    0    0\n",
      "     0    0    0    0    0    0    0]\n",
      " [  26  561   57    9  368   78   68    3   16    0    0    0    0    0\n",
      "     0    0    0    0    0    0    0    0    0    0    0    0    0    0\n",
      "     0    0    0    0    0    0    0    0    0    0    0    0    0    0\n",
      "     0    0    0    0    0    0    0]\n",
      " [  65    7   24   31  135   13   31  879    0    0    0    0    0    0\n",
      "     0    0    0    0    0    0    0    0    0    0    0    0    0    0\n",
      "     0    0    0    0    0    0    0    0    0    0    0    0    0    0\n",
      "     0    0    0    0    0    0    0]]\n"
     ]
    }
   ],
   "source": [
    "print(X_train[:3])"
   ],
   "metadata": {
    "collapsed": false,
    "pycharm": {
     "name": "#%%\n"
    }
   }
  },
  {
   "cell_type": "markdown",
   "source": [
    "### Labeling"
   ],
   "metadata": {
    "collapsed": false,
    "pycharm": {
     "name": "#%% md\n"
    }
   }
  },
  {
   "cell_type": "code",
   "execution_count": 29,
   "outputs": [
    {
     "data": {
      "text/plain": "array(['sad', 'disgusting', 'angry', 'happy', 'fear', 'surprised',\n       'neutral'], dtype=object)"
     },
     "execution_count": 29,
     "metadata": {},
     "output_type": "execute_result"
    }
   ],
   "source": [
    "y_train.unique()"
   ],
   "metadata": {
    "collapsed": false,
    "pycharm": {
     "name": "#%%\n"
    }
   }
  },
  {
   "cell_type": "code",
   "execution_count": 20,
   "outputs": [],
   "source": [
    "emo_dic = {\n",
    "    'sad': 0, 'disgusting': 1, 'angry': 2, 'happy': 3, 'fear': 4, 'surprised': 5, 'neutral': 6\n",
    "}"
   ],
   "metadata": {
    "collapsed": false,
    "pycharm": {
     "name": "#%%\n"
    }
   }
  },
  {
   "cell_type": "code",
   "execution_count": 21,
   "outputs": [
    {
     "data": {
      "text/plain": "array([1, 3, 0, 5, 2, 6, 4])"
     },
     "execution_count": 21,
     "metadata": {},
     "output_type": "execute_result"
    }
   ],
   "source": [
    "y_train = y_train.replace(emo_dic)\n",
    "y_test = y_test.replace(emo_dic)\n",
    "y_train.unique()"
   ],
   "metadata": {
    "collapsed": false,
    "pycharm": {
     "name": "#%%\n"
    }
   }
  },
  {
   "cell_type": "markdown",
   "source": [
    "## Model definition"
   ],
   "metadata": {
    "collapsed": false,
    "pycharm": {
     "name": "#%% md\n"
    }
   }
  },
  {
   "cell_type": "code",
   "execution_count": 22,
   "outputs": [
    {
     "name": "stdout",
     "output_type": "stream",
     "text": [
      "Metal device set to: Apple M1\n",
      "WARNING:tensorflow:Layer lstm will not use cuDNN kernels since it doesn't meet the criteria. It will use a generic GPU kernel as fallback when running on GPU.\n"
     ]
    },
    {
     "name": "stderr",
     "output_type": "stream",
     "text": [
      "2022-07-13 16:06:43.336985: I tensorflow/core/common_runtime/pluggable_device/pluggable_device_factory.cc:305] Could not identify NUMA node of platform GPU ID 0, defaulting to 0. Your kernel may not have been built with NUMA support.\n",
      "2022-07-13 16:06:43.337098: I tensorflow/core/common_runtime/pluggable_device/pluggable_device_factory.cc:271] Created TensorFlow device (/job:localhost/replica:0/task:0/device:GPU:0 with 0 MB memory) -> physical PluggableDevice (device: 0, name: METAL, pci bus id: <undefined>)\n"
     ]
    }
   ],
   "source": [
    "model = Sequential()\n",
    "model.add(Embedding(input_dim=vocab_size, output_dim=EMBEDDING_DIM, mask_zero=True, input_length=MAX_LEN))\n",
    "model.add(LSTM(HIDDEN_UNITS, dropout=DROP_OUT, recurrent_dropout=RECURRENT_DROPOUT))\n",
    "model.add(Dense(OUTPUT, activation='softmax'))\n",
    "\n",
    "es = EarlyStopping(monitor='val_loss', mode='min', verbose=VERBOSE, patience=PATIENCE)\n",
    "mc = ModelCheckpoint('best_model.h5', monitor='val_accuracy', mode='max', verbose=VERBOSE, save_best_only=True)\n",
    "\n",
    "model.compile(loss='sparse_categorical_crossentropy', optimizer='adam', metrics=['accuracy'])"
   ],
   "metadata": {
    "collapsed": false,
    "pycharm": {
     "name": "#%%\n"
    }
   }
  },
  {
   "cell_type": "markdown",
   "source": [
    "## Train Model"
   ],
   "metadata": {
    "collapsed": false,
    "pycharm": {
     "name": "#%% md\n"
    }
   }
  },
  {
   "cell_type": "code",
   "execution_count": 23,
   "outputs": [
    {
     "name": "stdout",
     "output_type": "stream",
     "text": [
      "Epoch 1/10\n"
     ]
    },
    {
     "name": "stderr",
     "output_type": "stream",
     "text": [
      "2022-07-13 16:06:44.250663: W tensorflow/core/platform/profile_utils/cpu_utils.cc:128] Failed to get CPU frequency: 0 Hz\n",
      "2022-07-13 16:06:45.631713: I tensorflow/core/grappler/optimizers/custom_graph_optimizer_registry.cc:113] Plugin optimizer for device_type GPU is enabled.\n"
     ]
    },
    {
     "name": "stdout",
     "output_type": "stream",
     "text": [
      "373/373 [==============================] - ETA: 0s - loss: 0.6995 - accuracy: 0.7667"
     ]
    },
    {
     "name": "stderr",
     "output_type": "stream",
     "text": [
      "2022-07-13 16:07:20.661027: I tensorflow/core/grappler/optimizers/custom_graph_optimizer_registry.cc:113] Plugin optimizer for device_type GPU is enabled.\n"
     ]
    },
    {
     "name": "stdout",
     "output_type": "stream",
     "text": [
      "\n",
      "Epoch 1: val_accuracy improved from -inf to 0.86060, saving model to best_model.h5\n",
      "373/373 [==============================] - 39s 101ms/step - loss: 0.6995 - accuracy: 0.7667 - val_loss: 0.4228 - val_accuracy: 0.8606\n",
      "Epoch 2/10\n",
      "373/373 [==============================] - ETA: 0s - loss: 0.3390 - accuracy: 0.8873\n",
      "Epoch 2: val_accuracy improved from 0.86060 to 0.86765, saving model to best_model.h5\n",
      "373/373 [==============================] - 40s 106ms/step - loss: 0.3390 - accuracy: 0.8873 - val_loss: 0.3785 - val_accuracy: 0.8677\n",
      "Epoch 3/10\n",
      "373/373 [==============================] - ETA: 0s - loss: 0.2770 - accuracy: 0.9054\n",
      "Epoch 3: val_accuracy improved from 0.86765 to 0.86782, saving model to best_model.h5\n",
      "373/373 [==============================] - 41s 110ms/step - loss: 0.2770 - accuracy: 0.9054 - val_loss: 0.3719 - val_accuracy: 0.8678\n",
      "Epoch 4/10\n",
      "373/373 [==============================] - ETA: 0s - loss: 0.2418 - accuracy: 0.9169\n",
      "Epoch 4: val_accuracy improved from 0.86782 to 0.86832, saving model to best_model.h5\n",
      "373/373 [==============================] - 39s 106ms/step - loss: 0.2418 - accuracy: 0.9169 - val_loss: 0.3831 - val_accuracy: 0.8683\n",
      "Epoch 5/10\n",
      "373/373 [==============================] - ETA: 0s - loss: 0.2154 - accuracy: 0.9248\n",
      "Epoch 5: val_accuracy improved from 0.86832 to 0.86916, saving model to best_model.h5\n",
      "373/373 [==============================] - 40s 107ms/step - loss: 0.2154 - accuracy: 0.9248 - val_loss: 0.4012 - val_accuracy: 0.8692\n",
      "Epoch 6/10\n",
      "373/373 [==============================] - ETA: 0s - loss: 0.1975 - accuracy: 0.9298\n",
      "Epoch 6: val_accuracy did not improve from 0.86916\n",
      "373/373 [==============================] - 40s 108ms/step - loss: 0.1975 - accuracy: 0.9298 - val_loss: 0.4054 - val_accuracy: 0.8643\n",
      "Epoch 7/10\n",
      "373/373 [==============================] - ETA: 0s - loss: 0.1791 - accuracy: 0.9356\n",
      "Epoch 7: val_accuracy improved from 0.86916 to 0.87151, saving model to best_model.h5\n",
      "373/373 [==============================] - 42s 113ms/step - loss: 0.1791 - accuracy: 0.9356 - val_loss: 0.4142 - val_accuracy: 0.8715\n",
      "Epoch 8/10\n",
      "373/373 [==============================] - ETA: 0s - loss: 0.1688 - accuracy: 0.9389\n",
      "Epoch 8: val_accuracy did not improve from 0.87151\n",
      "373/373 [==============================] - 42s 113ms/step - loss: 0.1688 - accuracy: 0.9389 - val_loss: 0.4277 - val_accuracy: 0.8703\n",
      "Epoch 8: early stopping\n"
     ]
    }
   ],
   "source": [
    "# CPU만 사용\n",
    "with tf.device('/CPU:0'):\n",
    "    history = model.fit(\n",
    "    X_train, y_train, epochs=EPOCHS, callbacks=[es, mc], batch_size=BATCH_SIZE, validation_split=VALIDATION_SPLIT)"
   ],
   "metadata": {
    "collapsed": false,
    "pycharm": {
     "name": "#%%\n"
    }
   }
  },
  {
   "cell_type": "code",
   "execution_count": 24,
   "outputs": [],
   "source": [
    "# history = model.fit(\n",
    "#     X_train, y_train, epochs=EPOCHS, callbacks=[es, mc], batch_size=BATCH_SIZE, validation_split=0.2\n",
    "# )"
   ],
   "metadata": {
    "collapsed": false,
    "pycharm": {
     "name": "#%%\n"
    }
   }
  },
  {
   "cell_type": "markdown",
   "source": [
    "## Test Model"
   ],
   "metadata": {
    "collapsed": false,
    "pycharm": {
     "name": "#%% md\n"
    }
   }
  },
  {
   "cell_type": "code",
   "execution_count": 26,
   "outputs": [
    {
     "name": "stdout",
     "output_type": "stream",
     "text": [
      "WARNING:tensorflow:Layer lstm will not use cuDNN kernels since it doesn't meet the criteria. It will use a generic GPU kernel as fallback when running on GPU.\n",
      "233/233 [==============================] - 4s 17ms/step - loss: 0.4021 - accuracy: 0.8788\n",
      "Test loss: 0.40207552909851074\n",
      "Test accuracy: 0.878812313079834\n"
     ]
    }
   ],
   "source": [
    "# CPU만 사용\n",
    "with tf.device('/CPU:0'):\n",
    "    loaded_model = load_model('best_model.h5')\n",
    "    loss, acc = loaded_model.evaluate(X_test, y_test)\n",
    "\n",
    "    print('Test loss:', loss)\n",
    "    print('Test accuracy:', acc)"
   ],
   "metadata": {
    "collapsed": false,
    "pycharm": {
     "name": "#%%\n"
    }
   }
  },
  {
   "cell_type": "code",
   "execution_count": 27,
   "outputs": [],
   "source": [
    "# loaded_model = load_model('best_model.h5')\n",
    "# loss, acc = loaded_model.evaluate(X_test, y_test)\n",
    "#\n",
    "# print('Test loss:', loss)\n",
    "# print('Test accuracy:', acc)"
   ],
   "metadata": {
    "collapsed": false,
    "pycharm": {
     "name": "#%%\n"
    }
   }
  },
  {
   "cell_type": "markdown",
   "source": [
    "### Visualization"
   ],
   "metadata": {
    "collapsed": false,
    "pycharm": {
     "name": "#%% md\n"
    }
   }
  },
  {
   "cell_type": "code",
   "execution_count": 25,
   "outputs": [
    {
     "data": {
      "text/plain": "<Figure size 432x288 with 2 Axes>",
      "image/png": "[encoded data removed]"
     },
     "metadata": {},
     "output_type": "display_data"
    }
   ],
   "source": [
    "fig, loss_ax = plt.subplots()\n",
    "acc_ax = loss_ax.twinx()\n",
    "\n",
    "loss_ax.plot(history.history['loss'], 'y', label='train loss')\n",
    "loss_ax.plot(history.history['val_loss'], 'r', label='val loss')\n",
    "\n",
    "acc_ax.plot(history.history['accuracy'], 'b', label='train acc')\n",
    "acc_ax.plot(history.history['val_accuracy'], 'g', label='val acc')\n",
    "\n",
    "loss_ax.set_xlabel('epoch')\n",
    "loss_ax.set_ylabel('loss')\n",
    "acc_ax.set_ylabel('accuracy')\n",
    "\n",
    "loss_ax.legend(loc='upper left')\n",
    "acc_ax.legend(loc='lower left')\n",
    "\n",
    "plt.show()"
   ],
   "metadata": {
    "collapsed": false,
    "pycharm": {
     "name": "#%%\n"
    }
   }
  },
  {
   "cell_type": "markdown",
   "source": [
    "## Save Model"
   ],
   "metadata": {
    "collapsed": false,
    "pycharm": {
     "name": "#%% md\n"
    }
   }
  },
  {
   "cell_type": "code",
   "execution_count": 28,
   "outputs": [
    {
     "name": "stdout",
     "output_type": "stream",
     "text": [
      "Saved trained model at /Users/inseoklee/Desktop/miso/model/LSTM/trained_model.h5 \n"
     ]
    }
   ],
   "source": [
    "model_name = 'trained_model.h5'\n",
    "\n",
    "# Save model and weights\n",
    "model_path = os.path.join(SAVE_DIR, model_name)\n",
    "model.save(model_path)\n",
    "print('Saved trained model at %s ' % model_path)"
   ],
   "metadata": {
    "collapsed": false,
    "pycharm": {
     "name": "#%%\n"
    }
   }
  },
  {
   "cell_type": "markdown",
   "source": [
    "## Evaluation"
   ],
   "metadata": {
    "collapsed": false,
    "pycharm": {
     "name": "#%% md\n"
    }
   }
  },
  {
   "cell_type": "markdown",
   "source": [
    "### confusion matrix"
   ],
   "metadata": {
    "collapsed": false,
    "pycharm": {
     "name": "#%% md\n"
    }
   }
  },
  {
   "cell_type": "code",
   "execution_count": 29,
   "outputs": [
    {
     "name": "stderr",
     "output_type": "stream",
     "text": [
      "2022-07-13 16:12:12.624175: I tensorflow/core/grappler/optimizers/custom_graph_optimizer_registry.cc:113] Plugin optimizer for device_type GPU is enabled.\n"
     ]
    },
    {
     "name": "stdout",
     "output_type": "stream",
     "text": [
      "233/233 [==============================] - 15s 64ms/step\n",
      "[0 0 1 ... 0 3 1]\n"
     ]
    }
   ],
   "source": [
    "y_pred = loaded_model.predict(X_test)\n",
    "y_pred = y_pred.argmax(axis=-1)\n",
    "print(y_pred)"
   ],
   "metadata": {
    "collapsed": false,
    "pycharm": {
     "name": "#%%\n"
    }
   }
  },
  {
   "cell_type": "code",
   "execution_count": 30,
   "outputs": [
    {
     "name": "stdout",
     "output_type": "stream",
     "text": [
      "[[1809  121   28   44   21   24    4]\n",
      " [ 114 2064   35   24   21   44    6]\n",
      " [  25   26  597   16    4    5   13]\n",
      " [  24   56   13  706    8    8    8]\n",
      " [  23   29   13   12  465   11    3]\n",
      " [  11   31    7    6    9  660    3]\n",
      " [   9   14   17    5    2    5  240]]\n"
     ]
    },
    {
     "data": {
      "text/plain": "<Figure size 864x720 with 2 Axes>",
      "image/png": "[encoded data removed]"
     },
     "metadata": {},
     "output_type": "display_data"
    }
   ],
   "source": [
    "# constant for classes\n",
    "classes = ('sad', 'disgusting', 'angry', 'happy', 'fear', 'surprised', 'neutral')\n",
    "\n",
    "# Build confusion matrix\n",
    "cf_matrix = confusion_matrix(y_test, y_pred)\n",
    "print(cf_matrix)\n",
    "df_cm = pd.DataFrame(cf_matrix/cf_matrix.sum(axis=1).reshape(7, 1), index = [i for i in classes],\n",
    "                     columns = [i for i in classes])\n",
    "plt.figure(figsize = (12,10))\n",
    "sn.heatmap(df_cm, annot=True, cmap='Blues')\n",
    "plt.savefig(SAVE_DIR + '/output.png')"
   ],
   "metadata": {
    "collapsed": false,
    "pycharm": {
     "name": "#%%\n"
    }
   }
  },
  {
   "cell_type": "markdown",
   "source": [
    "### precision, recall, f1 score"
   ],
   "metadata": {
    "collapsed": false,
    "pycharm": {
     "name": "#%% md\n"
    }
   }
  },
  {
   "cell_type": "code",
   "execution_count": 31,
   "outputs": [
    {
     "name": "stdout",
     "output_type": "stream",
     "text": [
      "accuracy_score:  0.8788123068655113\n",
      "precision_score:  0.872046014385777\n",
      "recall_score:  0.8672111848747529\n",
      "f1_score:  0.8693655907112197\n"
     ]
    }
   ],
   "source": [
    "acc_score = accuracy_score(y_test, y_pred)\n",
    "prec_score = precision_score(y_test, y_pred, average='macro')\n",
    "re_score = recall_score(y_test, y_pred, average='macro')\n",
    "f1_score = f1_score(y_test, y_pred, average='macro')\n",
    "print(\"accuracy_score: \", acc_score)\n",
    "print(\"precision_score: \", prec_score)\n",
    "print(\"recall_score: \", re_score)\n",
    "print(\"f1_score: \", f1_score)"
   ],
   "metadata": {
    "collapsed": false,
    "pycharm": {
     "name": "#%%\n"
    }
   }
  },
  {
   "cell_type": "markdown",
   "source": [
    "## Load Model"
   ],
   "metadata": {
    "collapsed": false,
    "pycharm": {
     "name": "#%% md\n"
    }
   }
  },
  {
   "cell_type": "code",
   "execution_count": 32,
   "outputs": [
    {
     "name": "stdout",
     "output_type": "stream",
     "text": [
      "WARNING:tensorflow:Layer lstm will not use cuDNN kernels since it doesn't meet the criteria. It will use a generic GPU kernel as fallback when running on GPU.\n"
     ]
    }
   ],
   "source": [
    "def load_tokenizer(path):\n",
    "    with open(path, 'rb') as f:\n",
    "        tokenizer = pickle.load(f)\n",
    "    return tokenizer\n",
    "\n",
    "model_name = 'trained_model.h5'\n",
    "tokenizer_name = 'tokenizer.pickle'\n",
    "model_path = os.path.join(LOAD_DIR, model_name)\n",
    "tokenizer_path = os.path.join(LOAD_DIR, tokenizer_name)\n",
    "\n",
    "model = load_model(model_path)\n",
    "tokenizer = load_tokenizer(tokenizer_path)\n"
   ],
   "metadata": {
    "collapsed": false,
    "pycharm": {
     "name": "#%%\n"
    }
   }
  },
  {
   "cell_type": "code",
   "execution_count": 33,
   "outputs": [
    {
     "name": "stderr",
     "output_type": "stream",
     "text": [
      "2022-07-13 16:12:28.609088: I tensorflow/core/grappler/optimizers/custom_graph_optimizer_registry.cc:113] Plugin optimizer for device_type GPU is enabled.\n"
     ]
    },
    {
     "name": "stdout",
     "output_type": "stream",
     "text": [
      "1/1 [==============================] - 1s 616ms/step\n",
      "[[3.8543245e-04 9.9869269e-01 2.3589895e-05 4.7026502e-04 3.5161426e-04\n",
      "  2.8387165e-05 4.8107740e-05]]\n"
     ]
    },
    {
     "data": {
      "text/plain": "'sad'"
     },
     "execution_count": 33,
     "metadata": {},
     "output_type": "execute_result"
    }
   ],
   "source": [
    "def getResult(predict) :\n",
    "    highest = 0\n",
    "    highestIdx = 0\n",
    "    for x in range (0,len(predict)) :\n",
    "        if(predict[x] > highest) :\n",
    "            highestIdx = x\n",
    "            highest =predict[x]\n",
    "    return highestIdx\n",
    "\n",
    "def predict_sentiment(text, model):\n",
    "    tokens = []\n",
    "    tokenized = tokenize(text, stop_pos_tags)\n",
    "    if(len(tokenized) == 0) :\n",
    "        return \"너무 짧아\"\n",
    "    tokens.append(tokenized)\n",
    "    tokens = tokenizer.texts_to_sequences(tokens)\n",
    "    x_test = pad_sequences(tokens, maxlen=MAX_LEN)\n",
    "    predict = model.predict(x_test)\n",
    "    # print(predict)\n",
    "    result = getResult(predict[0])\n",
    "    if result == 0 :\n",
    "        return 'angry'\n",
    "    elif result == 1 :\n",
    "        return 'sad'\n",
    "    elif result == 2 :\n",
    "        return 'fear'\n",
    "    elif result == 3 :\n",
    "        return 'disgusting'\n",
    "    elif result == 4 :\n",
    "        return 'neutral'\n",
    "    elif result == 5 :\n",
    "        return 'happy'\n",
    "    elif result == 6 :\n",
    "        return 'surprised'"
   ],
   "metadata": {
    "collapsed": false,
    "pycharm": {
     "name": "#%%\n"
    }
   }
  },
  {
   "cell_type": "code",
   "execution_count": null,
   "outputs": [],
   "source": [
    "predict_sentiment(\"너 엄마가 일찍 들어오라고 했어 안했어.\", model)"
   ],
   "metadata": {
    "collapsed": false,
    "pycharm": {
     "name": "#%%\n"
    }
   }
  },
  {
   "cell_type": "code",
   "execution_count": null,
   "outputs": [],
   "source": [
    "predict_sentiment(\"친구가 다쳐서 병문안 가야돼.\", model)"
   ],
   "metadata": {
    "collapsed": false,
    "pycharm": {
     "name": "#%%\n"
    }
   }
  }
 ],
 "metadata": {
  "accelerator": "GPU",
  "colab": {
   "collapsed_sections": [],
   "machine_shape": "hm",
   "name": "LSTM_noonehot.ipynb",
   "provenance": []
  },
  "gpuClass": "standard",
  "kernelspec": {
   "display_name": "Python 3 (ipykernel)",
   "language": "python",
   "name": "python3"
  },
  "language_info": {
   "codemirror_mode": {
    "name": "ipython",
    "version": 3
   },
   "file_extension": ".py",
   "mimetype": "text/x-python",
   "name": "python",
   "nbconvert_exporter": "python",
   "pygments_lexer": "ipython3",
   "version": "3.10.4"
  }
 },
 "nbformat": 4,
 "nbformat_minor": 4
}
{
 "cells": [
  {
   "cell_type": "markdown",
   "metadata": {
    "id": "NqHnZq63C0Z6",
    "pycharm": {
     "name": "#%% md\n"
    }
   },
   "source": [
    "\n",
    "## Mount Google Drive"
   ]
  },
  {
   "cell_type": "code",
   "execution_count": 1,
   "metadata": {
    "colab": {
     "base_uri": "https://localhost:8080/"
    },
    "id": "T5_yi_yZE1TF",
    "outputId": "32330786-4453-4650-9a7b-57f286624acb",
    "pycharm": {
     "name": "#%%\n"
    }
   },
   "outputs": [],
   "source": [
    "# from google.colab import drive\n",
    "# drive.mount('/content/drive')"
   ]
  },
  {
   "cell_type": "markdown",
   "metadata": {
    "id": "fa00IT-yE111",
    "pycharm": {
     "name": "#%% md\n"
    }
   },
   "source": [
    "## Install"
   ]
  },
  {
   "cell_type": "markdown",
   "source": [
    "### 형태소 분석기 설치\n"
   ],
   "metadata": {
    "collapsed": false,
    "pycharm": {
     "name": "#%% md\n"
    }
   }
  },
  {
   "cell_type": "code",
   "execution_count": 2,
   "outputs": [],
   "source": [
    "#!java -version\n",
    "#%pip install PyKomoran\n",
    "#%pip install konlpy"
   ],
   "metadata": {
    "collapsed": false,
    "pycharm": {
     "name": "#%%\n"
    }
   }
  },
  {
   "cell_type": "markdown",
   "source": [
    "## Import Library"
   ],
   "metadata": {
    "collapsed": false,
    "pycharm": {
     "name": "#%% md\n"
    }
   }
  },
  {
   "cell_type": "code",
   "execution_count": 14,
   "outputs": [],
   "source": [
    "import os\n",
    "import pickle\n",
    "\n",
    "import pandas as pd\n",
    "import re\n",
    "\n",
    "from konlpy.tag import Komoran, Kkma, Hannanum, Okt\n",
    "\n",
    "import tensorflow as tf\n",
    "from tensorflow.keras import Sequential\n",
    "from tensorflow.keras.layers import Dense, Embedding, LSTM, Dropout, Conv1D, GlobalMaxPooling1D\n",
    "from tensorflow.keras.preprocessing.text import Tokenizer\n",
    "from tensorflow.keras.preprocessing.sequence import pad_sequences\n",
    "from tensorflow.keras.models import load_model\n",
    "from tensorflow.keras.callbacks import EarlyStopping, ModelCheckpoint\n",
    "\n",
    "from sklearn.model_selection import train_test_split\n",
    "from sklearn.metrics import accuracy_score, precision_score, recall_score, f1_score, confusion_matrix\n",
    "\n",
    "import matplotlib.pyplot as plt\n",
    "import seaborn as sn\n",
    "from tqdm import tqdm\n"
   ],
   "metadata": {
    "collapsed": false,
    "pycharm": {
     "name": "#%%\n"
    }
   }
  },
  {
   "cell_type": "markdown",
   "source": [
    "## GPU Setting"
   ],
   "metadata": {
    "collapsed": false,
    "pycharm": {
     "name": "#%% md\n"
    }
   }
  },
  {
   "cell_type": "code",
   "execution_count": 4,
   "outputs": [],
   "source": [
    "# %tensorflow_version 2.x\n",
    "# import tensorflow as tf\n",
    "# device_name = tf.test.gpu_device_name()\n",
    "# if device_name != '/device:GPU:0':\n",
    "#     raise SystemError('GPU device not found')\n",
    "# print('Found GPU at: {}'.format(device_name))"
   ],
   "metadata": {
    "collapsed": false,
    "pycharm": {
     "name": "#%%\n"
    }
   }
  },
  {
   "cell_type": "markdown",
   "source": [
    "## Hyper_parameters"
   ],
   "metadata": {
    "collapsed": false,
    "pycharm": {
     "name": "#%% md\n"
    }
   }
  },
  {
   "cell_type": "code",
   "execution_count": 7,
   "outputs": [],
   "source": [
    "# Colab\n",
    "# DATA_DIR = '/content/drive/MyDrive/Colab Notebooks/miso'\n",
    "\n",
    "# Local\n",
    "DATA_DIR = '/Users/inseoklee/Desktop/miso/data'\n",
    "SAVE_DIR = '/Users/inseoklee/Desktop/miso/model/TEST_hannanum'\n",
    "LOAD_DIR = '/Users/inseoklee/Desktop/miso/model/TEST_hannanum'\n",
    "\n",
    "# MAX_LEN -> 패딩 단계에서 설정\n",
    "EMBEDDING_DIM = 300\n",
    "NUM_FILTERS = 256\n",
    "KERNEL_SIZE = 3\n",
    "HIDDEN_UNITS = 256\n",
    "DROP_OUT = 0.5\n",
    "\n",
    "EPOCHS = 20\n",
    "VERBOSE = 1\n",
    "BATCH_SIZE = 512\n",
    "PATIENCE = 5\n",
    "VALIDATION_SPLIT=0.2\n",
    "\n",
    "OUTPUT = 7"
   ],
   "metadata": {
    "collapsed": false,
    "pycharm": {
     "name": "#%%\n"
    }
   }
  },
  {
   "cell_type": "markdown",
   "source": [
    "## Data Load"
   ],
   "metadata": {
    "collapsed": false,
    "pycharm": {
     "name": "#%% md\n"
    }
   }
  },
  {
   "cell_type": "code",
   "execution_count": 8,
   "outputs": [],
   "source": [
    "df = pd.read_csv(DATA_DIR+'/end_sentiment.csv')"
   ],
   "metadata": {
    "collapsed": false,
    "pycharm": {
     "name": "#%%\n"
    }
   }
  },
  {
   "cell_type": "code",
   "execution_count": 9,
   "outputs": [
    {
     "data": {
      "text/plain": "               text  label\n0  어, 청소 니가 대신 해 줘!  angry",
      "text/html": "<div>\n<style scoped>\n    .dataframe tbody tr th:only-of-type {\n        vertical-align: middle;\n    }\n\n    .dataframe tbody tr th {\n        vertical-align: top;\n    }\n\n    .dataframe thead th {\n        text-align: right;\n    }\n</style>\n<table border=\"1\" class=\"dataframe\">\n  <thead>\n    <tr style=\"text-align: right;\">\n      <th></th>\n      <th>text</th>\n      <th>label</th>\n    </tr>\n  </thead>\n  <tbody>\n    <tr>\n      <th>0</th>\n      <td>어, 청소 니가 대신 해 줘!</td>\n      <td>angry</td>\n    </tr>\n  </tbody>\n</table>\n</div>"
     },
     "execution_count": 9,
     "metadata": {},
     "output_type": "execute_result"
    }
   ],
   "source": [
    "df[:1]"
   ],
   "metadata": {
    "collapsed": false,
    "pycharm": {
     "name": "#%%\n"
    }
   }
  },
  {
   "cell_type": "code",
   "execution_count": 10,
   "outputs": [
    {
     "data": {
      "text/plain": "<Figure size 1152x576 with 1 Axes>",
      "image/png": "[encoded data removed]"
     },
     "metadata": {},
     "output_type": "display_data"
    }
   ],
   "source": [
    "label = df['label']\n",
    "\n",
    "plt.figure(figsize=(16, 8))\n",
    "plt.hist(label)\n",
    "plt.show()"
   ],
   "metadata": {
    "collapsed": false,
    "pycharm": {
     "name": "#%%\n"
    }
   }
  },
  {
   "cell_type": "markdown",
   "source": [
    "### Train, Test split"
   ],
   "metadata": {
    "collapsed": false,
    "pycharm": {
     "name": "#%% md\n"
    }
   }
  },
  {
   "cell_type": "code",
   "execution_count": 11,
   "outputs": [],
   "source": [
    "X = df.text\n",
    "y = df.label\n",
    "\n",
    "X_train, X_test, y_train, y_test = train_test_split(\n",
    "    X, y, test_size=0.2, shuffle=True, random_state=34, stratify=y\n",
    ")"
   ],
   "metadata": {
    "collapsed": false,
    "pycharm": {
     "name": "#%%\n"
    }
   }
  },
  {
   "cell_type": "code",
   "execution_count": 12,
   "outputs": [
    {
     "name": "stdout",
     "output_type": "stream",
     "text": [
      "X_train shape:  (99018,)\n",
      "y_train shape:  (99018,)\n",
      "\n",
      "X_test shape:  (24755,)\n",
      "y_test shape:  (24755,)\n"
     ]
    }
   ],
   "source": [
    "print('X_train shape: ', X_train.shape)\n",
    "print('y_train shape: ', y_train.shape)\n",
    "print('\\nX_test shape: ', X_test.shape)\n",
    "print('y_test shape: ', y_test.shape)"
   ],
   "metadata": {
    "collapsed": false,
    "pycharm": {
     "name": "#%%\n"
    }
   }
  },
  {
   "cell_type": "markdown",
   "source": [
    "## Train Data PreProcessing"
   ],
   "metadata": {
    "collapsed": false,
    "pycharm": {
     "name": "#%% md\n"
    }
   }
  },
  {
   "cell_type": "markdown",
   "source": [
    "### Hannanum을 이용한 품사(불용어) 제거 및 토큰화"
   ],
   "metadata": {
    "collapsed": false,
    "pycharm": {
     "name": "#%% md\n"
    }
   }
  },
  {
   "cell_type": "code",
   "execution_count": 18,
   "outputs": [],
   "source": [
    "def preprocessing(text, hannanum, remove_stopwords=False, stop_words=[]):\n",
    "    # 함수의 인자는 다음과 같다.\n",
    "    # text: 전처리할 텍스트\n",
    "    # okt: okt객체를 반복적으로 생성하지 않고 미리 생성한 후 인자로 받는다.\n",
    "    # remove_stopwords: 불용어를 제거할지 여부 선택. 기본값은 False\n",
    "    # stop_words: 불용어 사전은 사용자가 직접 입력.\n",
    "\n",
    "    # 1. 한글 및 공백을 제외한 문자를 모두 제거\n",
    "    text = re.sub(\"[^가-힣ㄱ-ㅎㅏ-ㅣ\\\\s]\", \"\", text)\n",
    "\n",
    "    # 2. okt 객체를 활용하여 형태소 단위로 나눈다\n",
    "    word_text = hannanum.morphs(text)\n",
    "\n",
    "    if remove_stopwords:\n",
    "        word_text = [token for token in word_text if not token in stop_words and len(token) > 1]\n",
    "\n",
    "    return word_text"
   ],
   "metadata": {
    "collapsed": false,
    "pycharm": {
     "name": "#%%\n"
    }
   }
  },
  {
   "cell_type": "code",
   "execution_count": 19,
   "outputs": [
    {
     "name": "stderr",
     "output_type": "stream",
     "text": [
      "100%|██████████| 99018/99018 [01:40<00:00, 988.59it/s] \n"
     ]
    },
    {
     "data": {
      "text/plain": "[['급여', '차감', '니까', '짜증', '회사', '에서'],\n ['으면서', '청소', '매일', '혼자', '청소', '하고'],\n ['고맙', '이상', '다니', '기쁘'],\n ['그래도', '공지', '도록', '말씀', '드릴려구'],\n ['이번', '건강검진', '이상', '없대']]"
     },
     "execution_count": 19,
     "metadata": {},
     "output_type": "execute_result"
    }
   ],
   "source": [
    "stop_words = set(['은', '는', '이', '가', '하', '아', '것', '들', '의', '있', '되', '수', '보', '주', '등', '한'])\n",
    "hannanum = Hannanum()\n",
    "clean_train_text = []\n",
    "\n",
    "for text in tqdm(X_train):\n",
    "    # 비어있는 데이터에서 멈추지 않도록 문자열인 경우에만 진행\n",
    "    if type(text) == str:\n",
    "        clean_train_text.append(preprocessing(text, hannanum, remove_stopwords=True, stop_words=stop_words))\n",
    "    else:\n",
    "        clean_train_text.append([]) #string이 아니면 비어있는 값 추가\n",
    "\n",
    "clean_train_text[:5]"
   ],
   "metadata": {
    "collapsed": false,
    "pycharm": {
     "name": "#%%\n"
    }
   }
  },
  {
   "cell_type": "markdown",
   "source": [
    "## Test Data PreProcessing"
   ],
   "metadata": {
    "collapsed": false,
    "pycharm": {
     "name": "#%% md\n"
    }
   }
  },
  {
   "cell_type": "markdown",
   "source": [
    "### Okt을 이용한 품사(불용어) 제거 및 토큰화"
   ],
   "metadata": {
    "collapsed": false,
    "pycharm": {
     "name": "#%% md\n"
    }
   }
  },
  {
   "cell_type": "code",
   "execution_count": 20,
   "outputs": [
    {
     "name": "stderr",
     "output_type": "stream",
     "text": [
      "100%|██████████| 24755/24755 [00:24<00:00, 1003.13it/s]\n"
     ]
    },
    {
     "data": {
      "text/plain": "[['텔레비전',\n  '리모컨',\n  '기능',\n  '사람',\n  '알리',\n  '어도',\n  '무슨',\n  'ㄴ지',\n  '이해',\n  '못하',\n  '어서',\n  '부끄럽',\n  '었어'],\n ['고맙', '밖에'],\n ['친구들이', '싸우', '선생님', '따돌리', '당하', '오해', '었어', '자꾸', '상담실', '오래']]"
     },
     "execution_count": 20,
     "metadata": {},
     "output_type": "execute_result"
    }
   ],
   "source": [
    "clean_test_text = []\n",
    "\n",
    "for text in tqdm(X_test):\n",
    "    # 비어있는 데이터에서 멈추지 않도록 문자열인 경우에만 진행\n",
    "    if type(text) == str:\n",
    "        clean_test_text.append(preprocessing(text, hannanum, remove_stopwords=True, stop_words=stop_words))\n",
    "    else:\n",
    "        clean_test_text.append([]) #string이 아니면 비어있는 값 추가\n",
    "\n",
    "clean_test_text[:3]"
   ],
   "metadata": {
    "collapsed": false,
    "pycharm": {
     "name": "#%%\n"
    }
   }
  },
  {
   "cell_type": "markdown",
   "source": [
    "### 토큰 데이터 벡터화(토큰을 숫자로 변환하고 tokenizer를 파일에 저장)"
   ],
   "metadata": {
    "collapsed": false,
    "pycharm": {
     "name": "#%% md\n"
    }
   }
  },
  {
   "cell_type": "code",
   "execution_count": 21,
   "outputs": [
    {
     "data": {
      "text/plain": "[[1525, 8299, 31, 70, 21, 9],\n [614, 164, 142, 67, 164, 12],\n [91, 233, 54, 100],\n [143, 3425, 429, 345, 11226],\n [45, 461, 233, 1134]]"
     },
     "execution_count": 21,
     "metadata": {},
     "output_type": "execute_result"
    }
   ],
   "source": [
    "tokenizer_name = 'tokenizer.pickle'\n",
    "save_path = os.path.join(SAVE_DIR, tokenizer_name)\n",
    "\n",
    "tokenizer = Tokenizer(oov_token = True)\n",
    "\n",
    "try:\n",
    "    tokenizer.fit_on_texts(clean_train_text)\n",
    "    train_sequences = tokenizer.texts_to_sequences(clean_train_text)\n",
    "    test_sequences = tokenizer.texts_to_sequences(clean_test_text)\n",
    "except:\n",
    "    print('Already tokenized')\n",
    "\n",
    "with open(save_path, 'wb') as f:\n",
    "    pickle.dump(tokenizer, f, protocol=pickle.HIGHEST_PROTOCOL)\n",
    "\n",
    "vocab_size = len(tokenizer.word_index)+1 # 단어의 수\n",
    "vocab_size\n",
    "\n",
    "train_sequences[:5]"
   ],
   "metadata": {
    "collapsed": false,
    "pycharm": {
     "name": "#%%\n"
    }
   }
  },
  {
   "cell_type": "code",
   "execution_count": 22,
   "outputs": [],
   "source": [
    "# tokenizer.word_index"
   ],
   "metadata": {
    "collapsed": false,
    "pycharm": {
     "name": "#%%\n"
    }
   }
  },
  {
   "cell_type": "markdown",
   "source": [
    "### Padding"
   ],
   "metadata": {
    "collapsed": false,
    "pycharm": {
     "name": "#%% md\n"
    }
   }
  },
  {
   "cell_type": "code",
   "execution_count": 24,
   "outputs": [
    {
     "name": "stdout",
     "output_type": "stream",
     "text": [
      "텍스트의 최대 길이 : 34\n",
      "텍스트의 평균 길이 : 6.844604011391868\n"
     ]
    },
    {
     "data": {
      "text/plain": "<Figure size 432x288 with 1 Axes>",
      "image/png": "[encoded data removed]"
     },
     "metadata": {},
     "output_type": "display_data"
    }
   ],
   "source": [
    "print('텍스트의 최대 길이 :',max(len(text) for text in train_sequences))\n",
    "print('텍스트의 평균 길이 :',sum(map(len, train_sequences))/len(train_sequences))\n",
    "plt.hist([len(text) for text in train_sequences], bins=50)\n",
    "plt.xlabel('length of samples')\n",
    "plt.ylabel('number of samples')\n",
    "plt.show()"
   ],
   "metadata": {
    "collapsed": false,
    "pycharm": {
     "name": "#%%\n"
    }
   }
  },
  {
   "cell_type": "code",
   "execution_count": 25,
   "outputs": [],
   "source": [
    "trunc_type = 'post'\n",
    "padding_type = 'post'\n",
    "MAX_LEN = 10\n",
    "\n",
    "X_train = pad_sequences(train_sequences, maxlen=MAX_LEN, padding=padding_type, truncating=trunc_type)\n",
    "X_test= pad_sequences(test_sequences, maxlen=MAX_LEN, padding=padding_type, truncating=trunc_type)"
   ],
   "metadata": {
    "collapsed": false,
    "pycharm": {
     "name": "#%%\n"
    }
   }
  },
  {
   "cell_type": "code",
   "execution_count": 26,
   "outputs": [
    {
     "name": "stdout",
     "output_type": "stream",
     "text": [
      "[[ 1525  8299    31    70    21     9     0     0     0     0]\n",
      " [  614   164   142    67   164    12     0     0     0     0]\n",
      " [   91   233    54   100     0     0     0     0     0     0]\n",
      " [  143  3425   429   345 11226     0     0     0     0     0]\n",
      " [   45   461   233  1134     0     0     0     0     0     0]]\n"
     ]
    }
   ],
   "source": [
    "print(X_train[:5])"
   ],
   "metadata": {
    "collapsed": false,
    "pycharm": {
     "name": "#%%\n"
    }
   }
  },
  {
   "cell_type": "markdown",
   "source": [
    "### Labeling"
   ],
   "metadata": {
    "collapsed": false,
    "pycharm": {
     "name": "#%% md\n"
    }
   }
  },
  {
   "cell_type": "code",
   "execution_count": 27,
   "outputs": [
    {
     "data": {
      "text/plain": "array(['sad', 'angry', 'happy', 'disgusting', 'neutral', 'fear',\n       'surprised'], dtype=object)"
     },
     "execution_count": 27,
     "metadata": {},
     "output_type": "execute_result"
    }
   ],
   "source": [
    "y_train.unique()"
   ],
   "metadata": {
    "collapsed": false,
    "pycharm": {
     "name": "#%%\n"
    }
   }
  },
  {
   "cell_type": "code",
   "execution_count": 28,
   "outputs": [],
   "source": [
    "emo_dic = {\n",
    "    'angry': 0, 'sad': 1, 'fear': 2, 'disgusting': 3, 'neutral': 4, 'happy': 5, 'surprised': 6\n",
    "}"
   ],
   "metadata": {
    "collapsed": false,
    "pycharm": {
     "name": "#%%\n"
    }
   }
  },
  {
   "cell_type": "code",
   "execution_count": 29,
   "outputs": [
    {
     "data": {
      "text/plain": "array([1, 0, 5, 3, 4, 2, 6])"
     },
     "execution_count": 29,
     "metadata": {},
     "output_type": "execute_result"
    }
   ],
   "source": [
    "y_train = y_train.replace(emo_dic)\n",
    "y_test = y_test.replace(emo_dic)\n",
    "y_train.unique()"
   ],
   "metadata": {
    "collapsed": false,
    "pycharm": {
     "name": "#%%\n"
    }
   }
  },
  {
   "cell_type": "markdown",
   "source": [
    "## Model definition"
   ],
   "metadata": {
    "collapsed": false,
    "pycharm": {
     "name": "#%% md\n"
    }
   }
  },
  {
   "cell_type": "code",
   "execution_count": 30,
   "outputs": [
    {
     "name": "stdout",
     "output_type": "stream",
     "text": [
      "Metal device set to: Apple M1\n"
     ]
    },
    {
     "name": "stderr",
     "output_type": "stream",
     "text": [
      "2022-07-14 09:15:59.510240: I tensorflow/core/common_runtime/pluggable_device/pluggable_device_factory.cc:305] Could not identify NUMA node of platform GPU ID 0, defaulting to 0. Your kernel may not have been built with NUMA support.\n",
      "2022-07-14 09:15:59.510341: I tensorflow/core/common_runtime/pluggable_device/pluggable_device_factory.cc:271] Created TensorFlow device (/job:localhost/replica:0/task:0/device:GPU:0 with 0 MB memory) -> physical PluggableDevice (device: 0, name: METAL, pci bus id: <undefined>)\n"
     ]
    }
   ],
   "source": [
    "model = Sequential()\n",
    "model.add(Embedding(input_dim=vocab_size, output_dim=EMBEDDING_DIM, mask_zero=True, input_length=MAX_LEN))\n",
    "model.add(Dropout(DROP_OUT))\n",
    "model.add(Conv1D(NUM_FILTERS, KERNEL_SIZE, padding='valid', activation='relu'))\n",
    "model.add(GlobalMaxPooling1D())\n",
    "model.add(Dense(HIDDEN_UNITS, activation='relu'))\n",
    "model.add(Dropout(DROP_OUT))\n",
    "model.add(Dense(OUTPUT, activation='softmax'))\n",
    "\n",
    "es = EarlyStopping(monitor='val_loss', mode='min', verbose=VERBOSE, patience=PATIENCE)\n",
    "mc = ModelCheckpoint('best_model.h5', monitor='val_accuracy', mode='max', verbose=VERBOSE, save_best_only=True)\n",
    "\n",
    "model.compile(loss='sparse_categorical_crossentropy', optimizer='adam', metrics=['accuracy'])"
   ],
   "metadata": {
    "collapsed": false,
    "pycharm": {
     "name": "#%%\n"
    }
   }
  },
  {
   "cell_type": "markdown",
   "source": [
    "## Train Model"
   ],
   "metadata": {
    "collapsed": false,
    "pycharm": {
     "name": "#%% md\n"
    }
   }
  },
  {
   "cell_type": "code",
   "execution_count": 31,
   "outputs": [
    {
     "name": "stdout",
     "output_type": "stream",
     "text": [
      "Epoch 1/20\n"
     ]
    },
    {
     "name": "stderr",
     "output_type": "stream",
     "text": [
      "2022-07-14 09:16:28.081874: W tensorflow/core/platform/profile_utils/cpu_utils.cc:128] Failed to get CPU frequency: 0 Hz\n",
      "2022-07-14 09:16:29.240660: I tensorflow/core/grappler/optimizers/custom_graph_optimizer_registry.cc:113] Plugin optimizer for device_type GPU is enabled.\n"
     ]
    },
    {
     "name": "stdout",
     "output_type": "stream",
     "text": [
      "155/155 [==============================] - ETA: 0s - loss: 1.2989 - accuracy: 0.4821"
     ]
    },
    {
     "name": "stderr",
     "output_type": "stream",
     "text": [
      "2022-07-14 09:16:39.008556: I tensorflow/core/grappler/optimizers/custom_graph_optimizer_registry.cc:113] Plugin optimizer for device_type GPU is enabled.\n"
     ]
    },
    {
     "name": "stdout",
     "output_type": "stream",
     "text": [
      "\n",
      "Epoch 1: val_accuracy improved from -inf to 0.62351, saving model to best_model.h5\n",
      "155/155 [==============================] - 12s 67ms/step - loss: 1.2989 - accuracy: 0.4821 - val_loss: 1.0024 - val_accuracy: 0.6235\n",
      "Epoch 2/20\n",
      "155/155 [==============================] - ETA: 0s - loss: 0.9022 - accuracy: 0.6602\n",
      "Epoch 2: val_accuracy improved from 0.62351 to 0.65517, saving model to best_model.h5\n",
      "155/155 [==============================] - 10s 62ms/step - loss: 0.9022 - accuracy: 0.6602 - val_loss: 0.8833 - val_accuracy: 0.6552\n",
      "Epoch 3/20\n",
      "155/155 [==============================] - ETA: 0s - loss: 0.7683 - accuracy: 0.7120\n",
      "Epoch 3: val_accuracy improved from 0.65517 to 0.66143, saving model to best_model.h5\n",
      "155/155 [==============================] - 10s 64ms/step - loss: 0.7683 - accuracy: 0.7120 - val_loss: 0.8623 - val_accuracy: 0.6614\n",
      "Epoch 4/20\n",
      "154/155 [============================>.] - ETA: 0s - loss: 0.6821 - accuracy: 0.7449\n",
      "Epoch 4: val_accuracy did not improve from 0.66143\n",
      "155/155 [==============================] - 10s 61ms/step - loss: 0.6824 - accuracy: 0.7448 - val_loss: 0.8775 - val_accuracy: 0.6603\n",
      "Epoch 5/20\n",
      "155/155 [==============================] - ETA: 0s - loss: 0.6160 - accuracy: 0.7708\n",
      "Epoch 5: val_accuracy did not improve from 0.66143\n",
      "155/155 [==============================] - 9s 61ms/step - loss: 0.6160 - accuracy: 0.7708 - val_loss: 0.9024 - val_accuracy: 0.6580\n",
      "Epoch 6/20\n",
      "155/155 [==============================] - ETA: 0s - loss: 0.5598 - accuracy: 0.7917\n",
      "Epoch 6: val_accuracy did not improve from 0.66143\n",
      "155/155 [==============================] - 10s 62ms/step - loss: 0.5598 - accuracy: 0.7917 - val_loss: 0.9271 - val_accuracy: 0.6517\n",
      "Epoch 7/20\n",
      "154/155 [============================>.] - ETA: 0s - loss: 0.5101 - accuracy: 0.8104\n",
      "Epoch 7: val_accuracy did not improve from 0.66143\n",
      "155/155 [==============================] - 9s 61ms/step - loss: 0.5104 - accuracy: 0.8104 - val_loss: 0.9701 - val_accuracy: 0.6557\n",
      "Epoch 8/20\n",
      "155/155 [==============================] - ETA: 0s - loss: 0.4709 - accuracy: 0.8252\n",
      "Epoch 8: val_accuracy did not improve from 0.66143\n",
      "155/155 [==============================] - 9s 61ms/step - loss: 0.4709 - accuracy: 0.8252 - val_loss: 1.0185 - val_accuracy: 0.6516\n",
      "Epoch 8: early stopping\n"
     ]
    }
   ],
   "source": [
    "history = model.fit(\n",
    "    X_train, y_train, epochs=EPOCHS, callbacks=[es, mc], batch_size=BATCH_SIZE, validation_split=VALIDATION_SPLIT\n",
    ")"
   ],
   "metadata": {
    "collapsed": false,
    "pycharm": {
     "name": "#%%\n"
    }
   }
  },
  {
   "cell_type": "markdown",
   "source": [
    "시각화"
   ],
   "metadata": {
    "collapsed": false,
    "pycharm": {
     "name": "#%% md\n"
    }
   }
  },
  {
   "cell_type": "code",
   "execution_count": 32,
   "outputs": [
    {
     "data": {
      "text/plain": "<Figure size 432x288 with 2 Axes>",
      "image/png": "[encoded data removed]"
     },
     "metadata": {},
     "output_type": "display_data"
    }
   ],
   "source": [
    "fig, loss_ax = plt.subplots()\n",
    "acc_ax = loss_ax.twinx()\n",
    "\n",
    "loss_ax.plot(history.history['loss'], 'y', label='train loss')\n",
    "loss_ax.plot(history.history['val_loss'], 'r', label='val loss')\n",
    "\n",
    "acc_ax.plot(history.history['accuracy'], 'b', label='train acc')\n",
    "acc_ax.plot(history.history['val_accuracy'], 'g', label='val acc')\n",
    "\n",
    "loss_ax.set_xlabel('epoch')\n",
    "loss_ax.set_ylabel('loss')\n",
    "acc_ax.set_ylabel('accuracy')\n",
    "\n",
    "loss_ax.legend(loc='upper left')\n",
    "acc_ax.legend(loc='lower left')\n",
    "\n",
    "plt.show()"
   ],
   "metadata": {
    "collapsed": false,
    "pycharm": {
     "name": "#%%\n"
    }
   }
  },
  {
   "cell_type": "markdown",
   "source": [
    "## Test Model"
   ],
   "metadata": {
    "collapsed": false,
    "pycharm": {
     "name": "#%% md\n"
    }
   }
  },
  {
   "cell_type": "code",
   "execution_count": 33,
   "outputs": [
    {
     "name": "stdout",
     "output_type": "stream",
     "text": [
      " 14/774 [..............................] - ETA: 6s - loss: 0.9511 - accuracy: 0.6228"
     ]
    },
    {
     "name": "stderr",
     "output_type": "stream",
     "text": [
      "2022-07-14 09:17:54.865631: I tensorflow/core/grappler/optimizers/custom_graph_optimizer_registry.cc:113] Plugin optimizer for device_type GPU is enabled.\n"
     ]
    },
    {
     "name": "stdout",
     "output_type": "stream",
     "text": [
      "774/774 [==============================] - 6s 7ms/step - loss: 0.8678 - accuracy: 0.6609\n",
      "Test loss: 0.8677874803543091\n",
      "Test accuracy: 0.6608765721321106\n"
     ]
    }
   ],
   "source": [
    "loaded_model = load_model('best_model.h5')\n",
    "loss, acc = loaded_model.evaluate(X_test, y_test)\n",
    "\n",
    "print('Test loss:', loss)\n",
    "print('Test accuracy:', acc)"
   ],
   "metadata": {
    "collapsed": false,
    "pycharm": {
     "name": "#%%\n"
    }
   }
  },
  {
   "cell_type": "markdown",
   "source": [
    "## Save Model"
   ],
   "metadata": {
    "collapsed": false,
    "pycharm": {
     "name": "#%% md\n"
    }
   }
  },
  {
   "cell_type": "code",
   "execution_count": 34,
   "outputs": [
    {
     "name": "stdout",
     "output_type": "stream",
     "text": [
      "Saved trained model at /Users/inseoklee/Desktop/miso/model/TEST2/trained_model.h5 \n"
     ]
    }
   ],
   "source": [
    "model_name = 'trained_model.h5'\n",
    "\n",
    "# Save model and weights\n",
    "model_path = os.path.join(SAVE_DIR, model_name)\n",
    "model.save(model_path)\n",
    "print('Saved trained model at %s ' % model_path)"
   ],
   "metadata": {
    "collapsed": false,
    "pycharm": {
     "name": "#%%\n"
    }
   }
  },
  {
   "cell_type": "markdown",
   "source": [
    "## Evaluation"
   ],
   "metadata": {
    "collapsed": false,
    "pycharm": {
     "name": "#%% md\n"
    }
   }
  },
  {
   "cell_type": "markdown",
   "source": [
    "confusion matrix"
   ],
   "metadata": {
    "collapsed": false,
    "pycharm": {
     "name": "#%% md\n"
    }
   }
  },
  {
   "cell_type": "code",
   "execution_count": 29,
   "outputs": [
    {
     "name": "stdout",
     "output_type": "stream",
     "text": [
      "[3 6 2 ... 2 3 3]\n"
     ]
    }
   ],
   "source": [
    "y_pred = loaded_model.predict(X_test)\n",
    "y_pred = y_pred.argmax(axis=-1)\n",
    "print(y_pred)"
   ],
   "metadata": {
    "collapsed": false,
    "pycharm": {
     "name": "#%%\n"
    }
   }
  },
  {
   "cell_type": "code",
   "execution_count": 30,
   "outputs": [
    {
     "name": "stdout",
     "output_type": "stream",
     "text": [
      "[[ 529   13   27   29    4    4    9]\n",
      " [  14  236    2    5    3    0    3]\n",
      " [  13    2 1639  142    5   15   25]\n",
      " [  26   11   90 1881    8   36   21]\n",
      " [  11    5   32   49  380   15    6]\n",
      " [   7    1   17   34    2  588    4]\n",
      " [   4    8   42   42    6    7  630]]\n"
     ]
    },
    {
     "data": {
      "text/plain": "<Figure size 864x720 with 2 Axes>",
      "image/png": "[encoded data removed]"
     },
     "metadata": {},
     "output_type": "display_data"
    }
   ],
   "source": [
    "# constant for classes\n",
    "classes = ('angry', 'sad', 'happiness', 'anxiety', 'embarrassment', 'wound')\n",
    "\n",
    "# Build confusion matrix\n",
    "cf_matrix = confusion_matrix(y_test, y_pred)\n",
    "print(cf_matrix)\n",
    "df_cm = pd.DataFrame(cf_matrix/cf_matrix.sum(axis=1).reshape(6, 1), index = [i for i in classes],\n",
    "                     columns = [i for i in classes])\n",
    "plt.figure(figsize = (12,10))\n",
    "sn.heatmap(df_cm, annot=True, cmap='Blues')\n",
    "plt.savefig(SAVE_DIR + '/output.png')"
   ],
   "metadata": {
    "collapsed": false,
    "pycharm": {
     "name": "#%%\n"
    }
   }
  },
  {
   "cell_type": "markdown",
   "source": [
    "precision, recall, f1 score"
   ],
   "metadata": {
    "collapsed": false,
    "pycharm": {
     "name": "#%% md\n"
    }
   }
  },
  {
   "cell_type": "code",
   "execution_count": 31,
   "outputs": [
    {
     "name": "stdout",
     "output_type": "stream",
     "text": [
      "accuracy_score:  0.8804250224483687\n",
      "precision_score:  0.8853629153024126\n",
      "recall_score:  0.8673105208135988\n",
      "f1_score:  0.8748633251169252\n"
     ]
    }
   ],
   "source": [
    "acc_score = accuracy_score(y_test, y_pred)\n",
    "prec_score = precision_score(y_test, y_pred, average='macro')\n",
    "re_score = recall_score(y_test, y_pred, average='macro')\n",
    "f1_score = f1_score(y_test, y_pred, average='macro')\n",
    "print(\"accuracy_score: \", acc_score)\n",
    "print(\"precision_score: \", prec_score)\n",
    "print(\"recall_score: \", re_score)\n",
    "print(\"f1_score: \", f1_score)"
   ],
   "metadata": {
    "collapsed": false,
    "pycharm": {
     "name": "#%%\n"
    }
   }
  },
  {
   "cell_type": "markdown",
   "source": [
    "## Load Model"
   ],
   "metadata": {
    "collapsed": false,
    "pycharm": {
     "name": "#%% md\n"
    }
   }
  },
  {
   "cell_type": "code",
   "execution_count": 33,
   "outputs": [],
   "source": [
    "def load_tokenizer(path):\n",
    "    with open(path, 'rb') as f:\n",
    "        tokenizer = pickle.load(f)\n",
    "    return tokenizer\n",
    "\n",
    "model_name = 'trained_model.h5'\n",
    "tokenizer_name = 'tokenizer.pickle'\n",
    "model_path = os.path.join(LOAD_DIR, model_name)\n",
    "tokenizer_path = os.path.join(LOAD_DIR, tokenizer_name)\n",
    "\n",
    "model = load_model(model_path)\n",
    "tokenizer = load_tokenizer(tokenizer_path)\n"
   ],
   "metadata": {
    "collapsed": false,
    "pycharm": {
     "name": "#%%\n"
    }
   }
  },
  {
   "cell_type": "code",
   "execution_count": 35,
   "outputs": [],
   "source": [
    "def getResult(predict) :\n",
    "    highest = 0\n",
    "    highestIdx = 0\n",
    "    for x in range (0,len(predict)) :\n",
    "        if(predict[x] > highest) :\n",
    "            highestIdx = x\n",
    "            highest =predict[x]\n",
    "    return highestIdx\n",
    "\n",
    "def predict_sentiment(text, model):\n",
    "    tokens = []\n",
    "    if type(text) == str:\n",
    "        tokens.append(preprocessing(text, hannanum, remove_stopwords=True, stop_words=stop_words))\n",
    "    else:\n",
    "        tokens.append([]) #string이 아니면 비어있는 값 추가\n",
    "    token_sequences = tokenizer.texts_to_sequences(tokens)\n",
    "    if(len(token_sequences) == 0) :\n",
    "        return \"너무 짧아\"\n",
    "    padded_sequences = pad_sequences(token_sequences, maxlen=MAX_LEN)\n",
    "    predict = model.predict(padded_sequences)\n",
    "    print(predict)\n",
    "    result = getResult(predict[0])\n",
    "    if result == 0 :\n",
    "        return 'angry'\n",
    "    elif result == 1 :\n",
    "        return 'sad'\n",
    "    elif result == 2 :\n",
    "        return 'fear'\n",
    "    elif result == 3 :\n",
    "        return 'disgusting'\n",
    "    elif result == 4 :\n",
    "        return 'neutral'\n",
    "    elif result == 5 :\n",
    "        return 'happy'\n",
    "    elif result == 6 :\n",
    "        return 'surprised'"
   ],
   "metadata": {
    "collapsed": false,
    "pycharm": {
     "name": "#%%\n"
    }
   }
  },
  {
   "cell_type": "code",
   "execution_count": 36,
   "outputs": [
    {
     "name": "stdout",
     "output_type": "stream",
     "text": [
      "1/1 [==============================] - 0s 143ms/step\n",
      "[[2.6892340e-02 7.1997887e-01 7.2709576e-04 7.0954149e-04 2.8252325e-03\n",
      "  2.4793540e-01 9.3157013e-04]]\n"
     ]
    },
    {
     "name": "stderr",
     "output_type": "stream",
     "text": [
      "2022-07-14 09:48:21.190769: I tensorflow/core/grappler/optimizers/custom_graph_optimizer_registry.cc:113] Plugin optimizer for device_type GPU is enabled.\n"
     ]
    },
    {
     "data": {
      "text/plain": "'sad'"
     },
     "execution_count": 36,
     "metadata": {},
     "output_type": "execute_result"
    }
   ],
   "source": [
    "predict_sentiment(\"너 엄마가 일찍 들어오라고 했어 안했어.\", model)"
   ],
   "metadata": {
    "collapsed": false,
    "pycharm": {
     "name": "#%%\n"
    }
   }
  },
  {
   "cell_type": "code",
   "execution_count": 37,
   "outputs": [
    {
     "name": "stdout",
     "output_type": "stream",
     "text": [
      "1/1 [==============================] - 0s 12ms/step\n",
      "[[1.9282624e-02 2.1335715e-03 9.7333288e-01 1.5311621e-04 6.5078458e-04\n",
      "  2.8977252e-03 1.5492376e-03]]\n"
     ]
    },
    {
     "data": {
      "text/plain": "'fear'"
     },
     "execution_count": 37,
     "metadata": {},
     "output_type": "execute_result"
    }
   ],
   "source": [
    "predict_sentiment(\"친구가 다쳐서 병문안 가야돼.\", model)"
   ],
   "metadata": {
    "collapsed": false,
    "pycharm": {
     "name": "#%%\n"
    }
   }
  },
  {
   "cell_type": "code",
   "execution_count": null,
   "outputs": [],
   "source": [],
   "metadata": {
    "collapsed": false,
    "pycharm": {
     "name": "#%%\n"
    }
   }
  }
 ],
 "metadata": {
  "accelerator": "GPU",
  "colab": {
   "collapsed_sections": [],
   "machine_shape": "hm",
   "name": "LSTM_noonehot.ipynb",
   "provenance": []
  },
  "gpuClass": "standard",
  "kernelspec": {
   "display_name": "Python 3 (ipykernel)",
   "language": "python",
   "name": "python3"
  },
  "language_info": {
   "codemirror_mode": {
    "name": "ipython",
    "version": 3
   },
   "file_extension": ".py",
   "mimetype": "text/x-python",
   "name": "python",
   "nbconvert_exporter": "python",
   "pygments_lexer": "ipython3",
   "version": "3.10.4"
  }
 },
 "nbformat": 4,
 "nbformat_minor": 4
}
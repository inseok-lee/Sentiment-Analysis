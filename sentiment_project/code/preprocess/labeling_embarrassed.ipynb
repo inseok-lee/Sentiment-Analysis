{
 "cells": [
  {
   "cell_type": "markdown",
   "source": [
    "# Embarrassment labeling"
   ],
   "metadata": {
    "collapsed": false,
    "pycharm": {
     "name": "#%% md\n"
    }
   }
  },
  {
   "cell_type": "markdown",
   "source": [
    "## Import Library"
   ],
   "metadata": {
    "collapsed": false,
    "pycharm": {
     "name": "#%% md\n"
    }
   }
  },
  {
   "cell_type": "code",
   "execution_count": 1,
   "outputs": [],
   "source": [
    "import os\n",
    "import pickle\n",
    "\n",
    "import pandas as pd\n",
    "import re\n",
    "\n",
    "from konlpy.tag import Komoran, Okt\n",
    "\n",
    "from tensorflow.keras.preprocessing.sequence import pad_sequences\n",
    "from tensorflow.keras.models import load_model\n",
    "\n",
    "from tqdm import tqdm"
   ],
   "metadata": {
    "collapsed": false,
    "pycharm": {
     "name": "#%%\n"
    }
   }
  },
  {
   "cell_type": "markdown",
   "source": [
    "## Hyper_parameters"
   ],
   "metadata": {
    "collapsed": false,
    "pycharm": {
     "name": "#%% md\n"
    }
   }
  },
  {
   "cell_type": "code",
   "execution_count": 2,
   "outputs": [],
   "source": [
    "# Colab\n",
    "# DATA_DIR = '/content/drive/MyDrive/Colab Notebooks/miso'\n",
    "\n",
    "# Local\n",
    "DATA_DIR = '/Users/inseoklee/Desktop/miso/data'\n",
    "SAVE_DIR = '/Users/inseoklee/Desktop/miso/data'\n",
    "LOAD_DIR = '/Users/inseoklee/Desktop/miso/model/CNN'\n",
    "\n",
    "# MAX_LEN -> 패딩 단계에서 설정"
   ],
   "metadata": {
    "collapsed": false,
    "pycharm": {
     "name": "#%%\n"
    }
   }
  },
  {
   "cell_type": "markdown",
   "source": [
    "## Load Data"
   ],
   "metadata": {
    "collapsed": false,
    "pycharm": {
     "name": "#%% md\n"
    }
   }
  },
  {
   "cell_type": "code",
   "execution_count": 3,
   "outputs": [],
   "source": [
    "df_embarrassed = pd.read_csv(DATA_DIR + '/label_embarrassed.csv')"
   ],
   "metadata": {
    "collapsed": false,
    "pycharm": {
     "name": "#%%\n"
    }
   }
  },
  {
   "cell_type": "code",
   "execution_count": 4,
   "outputs": [
    {
     "name": "stdout",
     "output_type": "stream",
     "text": [
      "<class 'pandas.core.frame.DataFrame'>\n",
      "RangeIndex: 13630 entries, 0 to 13629\n",
      "Data columns (total 2 columns):\n",
      " #   Column  Non-Null Count  Dtype \n",
      "---  ------  --------------  ----- \n",
      " 0   text    13630 non-null  object\n",
      " 1   label   13630 non-null  object\n",
      "dtypes: object(2)\n",
      "memory usage: 213.1+ KB\n"
     ]
    }
   ],
   "source": [
    "df_embarrassed.info()"
   ],
   "metadata": {
    "collapsed": false,
    "pycharm": {
     "name": "#%%\n"
    }
   }
  },
  {
   "cell_type": "markdown",
   "source": [
    "## Tokenize"
   ],
   "metadata": {
    "collapsed": false,
    "pycharm": {
     "name": "#%% md\n"
    }
   }
  },
  {
   "cell_type": "code",
   "execution_count": 5,
   "outputs": [],
   "source": [
    "def preprocessing(text, okt, remove_stopwords=False, stop_words=[]):\n",
    "    # 함수의 인자는 다음과 같다.\n",
    "    # text: 전처리할 텍스트\n",
    "    # okt: okt객체를 반복적으로 생성하지 않고 미리 생성한 후 인자로 받는다.\n",
    "    # remove_stopwords: 불용어를 제거할지 여부 선택. 기본값은 False\n",
    "    # stop_words: 불용어 사전은 사용자가 직접 입력.\n",
    "\n",
    "    # 1. 한글 및 공백을 제외한 문자를 모두 제거\n",
    "    text = re.sub(\"[^가-힣ㄱ-ㅎㅏ-ㅣ\\\\s]\", \"\", text)\n",
    "\n",
    "    # 2. okt 객체를 활용하여 형태소 단위로 나눈다\n",
    "    word_text = okt.morphs(text, stem=True)\n",
    "\n",
    "    if remove_stopwords:\n",
    "        word_text = [token for token in word_text if (not token in stop_words)] #and len(token) > 1]\n",
    "\n",
    "    return word_text"
   ],
   "metadata": {
    "collapsed": false,
    "pycharm": {
     "name": "#%%\n"
    }
   }
  },
  {
   "cell_type": "code",
   "execution_count": 6,
   "outputs": [
    {
     "name": "stdout",
     "output_type": "stream",
     "text": [
      "[0.003s][warning][os,thread] Attempt to protect stack guard pages failed (0x00000001693d4000-0x00000001693e0000).\n",
      "[0.003s][warning][os,thread] Attempt to deallocate stack guard pages failed.\n"
     ]
    }
   ],
   "source": [
    "stop_words = set(['은', '는', '이', '가', '하', '아', '것', '들', '의', '있', '되', '수', '보', '주', '등', '한'])\n",
    "okt = Okt()"
   ],
   "metadata": {
    "collapsed": false,
    "pycharm": {
     "name": "#%%\n"
    }
   }
  },
  {
   "cell_type": "markdown",
   "source": [
    "## Load Model and Tokenizer"
   ],
   "metadata": {
    "collapsed": false,
    "pycharm": {
     "name": "#%% md\n"
    }
   }
  },
  {
   "cell_type": "code",
   "execution_count": 7,
   "outputs": [
    {
     "name": "stdout",
     "output_type": "stream",
     "text": [
      "Metal device set to: Apple M1\n"
     ]
    },
    {
     "name": "stderr",
     "output_type": "stream",
     "text": [
      "2022-07-13 16:34:11.395112: I tensorflow/core/common_runtime/pluggable_device/pluggable_device_factory.cc:305] Could not identify NUMA node of platform GPU ID 0, defaulting to 0. Your kernel may not have been built with NUMA support.\n",
      "2022-07-13 16:34:11.395198: I tensorflow/core/common_runtime/pluggable_device/pluggable_device_factory.cc:271] Created TensorFlow device (/job:localhost/replica:0/task:0/device:GPU:0 with 0 MB memory) -> physical PluggableDevice (device: 0, name: METAL, pci bus id: <undefined>)\n"
     ]
    }
   ],
   "source": [
    "def load_tokenizer(path):\n",
    "    with open(path, 'rb') as f:\n",
    "        tokenizer = pickle.load(f)\n",
    "    return tokenizer\n",
    "\n",
    "model_name = 'trained_model.h5'\n",
    "tokenizer_name = 'tokenizer.pickle'\n",
    "model_path = os.path.join(LOAD_DIR, model_name)\n",
    "tokenizer_path = os.path.join(LOAD_DIR, tokenizer_name)\n",
    "\n",
    "model = load_model(model_path)\n",
    "tokenizer = load_tokenizer(tokenizer_path)"
   ],
   "metadata": {
    "collapsed": false,
    "pycharm": {
     "name": "#%%\n"
    }
   }
  },
  {
   "cell_type": "markdown",
   "source": [
    "## Labeling"
   ],
   "metadata": {
    "collapsed": false,
    "pycharm": {
     "name": "#%% md\n"
    }
   }
  },
  {
   "cell_type": "code",
   "execution_count": 8,
   "outputs": [],
   "source": [
    "def getResult(predict):\n",
    "    highest = 0\n",
    "    highestIdx = 0\n",
    "    for x in range (0,len(predict)) :\n",
    "        if(predict[x] > highest) :\n",
    "            highestIdx = x\n",
    "            highest =predict[x]\n",
    "    return highestIdx"
   ],
   "metadata": {
    "collapsed": false,
    "pycharm": {
     "name": "#%%\n"
    }
   }
  },
  {
   "cell_type": "markdown",
   "source": [
    "angry\n",
    "sad\n",
    "fear\n",
    "disgusting\n",
    "neutral\n",
    "happy\n",
    "surprised"
   ],
   "metadata": {
    "collapsed": false,
    "pycharm": {
     "name": "#%% md\n"
    }
   }
  },
  {
   "cell_type": "code",
   "execution_count": 9,
   "outputs": [],
   "source": [
    "def predict_sentiment(text, model):\n",
    "    tokens = []\n",
    "    if type(text) == str:\n",
    "        tokens.append(preprocessing(text, okt, remove_stopwords=True, stop_words=stop_words))\n",
    "    else:\n",
    "        tokens.append([]) #string이 아니면 비어있는 값 추가\n",
    "    token_sequences = tokenizer.texts_to_sequences(tokens)\n",
    "    if(len(token_sequences) == 0) :\n",
    "        return \"너무 짧아\"\n",
    "    padded_sequences = pad_sequences(token_sequences, maxlen=15)\n",
    "    predict = model.predict(padded_sequences, verbose=0)\n",
    "    # print(predict)\n",
    "    result = getResult(predict[0])\n",
    "    if result == 0 :\n",
    "        return 'angry'\n",
    "    elif result == 1 :\n",
    "        return 'sad'\n",
    "    elif result == 2 :\n",
    "        return 'fear'\n",
    "    elif result == 3 :\n",
    "        return 'disgusting'\n",
    "    elif result == 4 :\n",
    "        return 'neutral'\n",
    "    elif result == 5 :\n",
    "        return 'happy'\n",
    "    elif result == 6 :\n",
    "        return 'surprised'"
   ],
   "metadata": {
    "collapsed": false,
    "pycharm": {
     "name": "#%%\n"
    }
   }
  },
  {
   "cell_type": "code",
   "execution_count": 10,
   "outputs": [
    {
     "name": "stderr",
     "output_type": "stream",
     "text": [
      "Labeling:   0%|          | 0/13630 [00:00<?, ?it/s]2022-07-13 16:34:13.321257: W tensorflow/core/platform/profile_utils/cpu_utils.cc:128] Failed to get CPU frequency: 0 Hz\n",
      "2022-07-13 16:34:13.360509: I tensorflow/core/grappler/optimizers/custom_graph_optimizer_registry.cc:113] Plugin optimizer for device_type GPU is enabled.\n",
      "Labeling: 100%|██████████| 13630/13630 [05:52<00:00, 38.68it/s]\n"
     ]
    },
    {
     "data": {
      "text/plain": "['disgusting',\n 'angry',\n 'sad',\n 'sad',\n 'happy',\n 'sad',\n 'sad',\n 'sad',\n 'angry',\n 'angry',\n 'fear',\n 'sad',\n 'sad',\n 'angry',\n 'angry',\n 'angry',\n 'sad',\n 'angry',\n 'fear',\n 'happy',\n 'sad',\n 'sad',\n 'sad',\n 'sad',\n 'sad',\n 'fear',\n 'sad',\n 'sad',\n 'sad',\n 'angry',\n 'sad',\n 'sad',\n 'sad',\n 'sad',\n 'angry',\n 'sad',\n 'sad',\n 'sad',\n 'angry',\n 'neutral',\n 'angry',\n 'angry',\n 'angry',\n 'sad',\n 'angry',\n 'sad',\n 'sad',\n 'neutral',\n 'angry',\n 'happy',\n 'angry',\n 'happy',\n 'sad',\n 'sad',\n 'sad',\n 'sad',\n 'sad',\n 'sad',\n 'sad',\n 'neutral',\n 'sad',\n 'sad',\n 'sad',\n 'angry',\n 'happy',\n 'neutral',\n 'sad',\n 'happy',\n 'sad',\n 'sad',\n 'sad',\n 'angry',\n 'neutral',\n 'sad',\n 'angry',\n 'angry',\n 'fear',\n 'angry',\n 'sad',\n 'happy',\n 'angry',\n 'sad',\n 'angry',\n 'angry',\n 'sad',\n 'sad',\n 'angry',\n 'sad',\n 'disgusting',\n 'sad',\n 'angry',\n 'sad',\n 'sad',\n 'angry',\n 'angry',\n 'disgusting',\n 'disgusting',\n 'angry',\n 'sad',\n 'neutral',\n 'angry',\n 'sad',\n 'fear',\n 'sad',\n 'sad',\n 'angry',\n 'sad',\n 'sad',\n 'angry',\n 'sad',\n 'neutral',\n 'neutral',\n 'angry',\n 'angry',\n 'angry',\n 'sad',\n 'angry',\n 'sad',\n 'angry',\n 'sad',\n 'happy',\n 'sad',\n 'sad',\n 'happy',\n 'happy',\n 'angry',\n 'sad',\n 'sad',\n 'happy',\n 'happy',\n 'neutral',\n 'sad',\n 'angry',\n 'sad',\n 'sad',\n 'sad',\n 'sad',\n 'sad',\n 'angry',\n 'fear',\n 'angry',\n 'angry',\n 'angry',\n 'sad',\n 'angry',\n 'angry',\n 'disgusting',\n 'sad',\n 'sad',\n 'disgusting',\n 'sad',\n 'sad',\n 'angry',\n 'neutral',\n 'angry',\n 'angry',\n 'sad',\n 'neutral',\n 'sad',\n 'sad',\n 'sad',\n 'sad',\n 'sad',\n 'fear',\n 'angry',\n 'happy',\n 'sad',\n 'angry',\n 'sad',\n 'sad',\n 'sad',\n 'sad',\n 'sad',\n 'fear',\n 'angry',\n 'fear',\n 'angry',\n 'sad',\n 'angry',\n 'sad',\n 'sad',\n 'sad',\n 'sad',\n 'angry',\n 'sad',\n 'sad',\n 'angry',\n 'angry',\n 'happy',\n 'angry',\n 'happy',\n 'sad',\n 'angry',\n 'fear',\n 'happy',\n 'angry',\n 'happy',\n 'sad',\n 'sad',\n 'sad',\n 'sad',\n 'sad',\n 'sad',\n 'sad',\n 'angry',\n 'sad',\n 'angry',\n 'happy',\n 'angry',\n 'sad',\n 'sad',\n 'sad',\n 'happy',\n 'angry',\n 'sad',\n 'sad',\n 'happy',\n 'angry',\n 'sad',\n 'sad',\n 'disgusting',\n 'sad',\n 'sad',\n 'disgusting',\n 'angry',\n 'angry',\n 'neutral',\n 'angry',\n 'sad',\n 'sad',\n 'neutral',\n 'fear',\n 'surprised',\n 'sad',\n 'sad',\n 'sad',\n 'surprised',\n 'neutral',\n 'angry',\n 'angry',\n 'angry',\n 'angry',\n 'fear',\n 'fear',\n 'angry',\n 'neutral',\n 'angry',\n 'sad',\n 'angry',\n 'sad',\n 'angry',\n 'happy',\n 'sad',\n 'sad',\n 'sad',\n 'sad',\n 'sad',\n 'angry',\n 'sad',\n 'sad',\n 'angry',\n 'angry',\n 'sad',\n 'sad',\n 'sad',\n 'sad',\n 'sad',\n 'sad',\n 'sad',\n 'sad',\n 'angry',\n 'disgusting',\n 'sad',\n 'angry',\n 'sad',\n 'sad',\n 'sad',\n 'sad',\n 'neutral',\n 'angry',\n 'sad',\n 'angry',\n 'angry',\n 'angry',\n 'neutral',\n 'disgusting',\n 'sad',\n 'sad',\n 'sad',\n 'sad',\n 'angry',\n 'angry',\n 'fear',\n 'sad',\n 'sad',\n 'sad',\n 'sad',\n 'sad',\n 'angry',\n 'sad',\n 'angry',\n 'angry',\n 'angry',\n 'sad',\n 'angry',\n 'angry',\n 'disgusting',\n 'sad',\n 'sad',\n 'sad',\n 'sad',\n 'sad',\n 'fear',\n 'sad',\n 'angry',\n 'happy',\n 'sad',\n 'fear',\n 'sad',\n 'sad',\n 'angry',\n 'angry',\n 'angry',\n 'sad',\n 'angry',\n 'sad',\n 'neutral',\n 'angry',\n 'sad',\n 'sad',\n 'sad',\n 'sad',\n 'sad',\n 'sad',\n 'angry',\n 'happy',\n 'neutral',\n 'sad',\n 'sad',\n 'sad',\n 'angry',\n 'sad',\n 'sad',\n 'angry',\n 'sad',\n 'sad',\n 'sad',\n 'angry',\n 'sad',\n 'disgusting',\n 'sad',\n 'sad',\n 'angry',\n 'sad',\n 'sad',\n 'sad',\n 'angry',\n 'sad',\n 'sad',\n 'angry',\n 'angry',\n 'angry',\n 'sad',\n 'sad',\n 'fear',\n 'sad',\n 'angry',\n 'sad',\n 'angry',\n 'neutral',\n 'disgusting',\n 'angry',\n 'sad',\n 'neutral',\n 'sad',\n 'happy',\n 'angry',\n 'sad',\n 'angry',\n 'sad',\n 'fear',\n 'disgusting',\n 'angry',\n 'angry',\n 'sad',\n 'happy',\n 'sad',\n 'fear',\n 'angry',\n 'sad',\n 'sad',\n 'sad',\n 'angry',\n 'sad',\n 'disgusting',\n 'sad',\n 'surprised',\n 'sad',\n 'angry',\n 'angry',\n 'happy',\n 'sad',\n 'angry',\n 'neutral',\n 'angry',\n 'sad',\n 'sad',\n 'angry',\n 'angry',\n 'neutral',\n 'angry',\n 'angry',\n 'happy',\n 'sad',\n 'sad',\n 'sad',\n 'angry',\n 'sad',\n 'sad',\n 'angry',\n 'sad',\n 'sad',\n 'angry',\n 'angry',\n 'fear',\n 'sad',\n 'neutral',\n 'sad',\n 'angry',\n 'angry',\n 'sad',\n 'sad',\n 'sad',\n 'angry',\n 'sad',\n 'angry',\n 'sad',\n 'sad',\n 'sad',\n 'sad',\n 'sad',\n 'neutral',\n 'angry',\n 'happy',\n 'sad',\n 'sad',\n 'angry',\n 'angry',\n 'disgusting',\n 'sad',\n 'sad',\n 'neutral',\n 'happy',\n 'angry',\n 'neutral',\n 'angry',\n 'angry',\n 'happy',\n 'fear',\n 'sad',\n 'sad',\n 'neutral',\n 'sad',\n 'angry',\n 'fear',\n 'sad',\n 'sad',\n 'sad',\n 'sad',\n 'happy',\n 'angry',\n 'fear',\n 'sad',\n 'sad',\n 'sad',\n 'sad',\n 'fear',\n 'angry',\n 'sad',\n 'neutral',\n 'sad',\n 'angry',\n 'happy',\n 'sad',\n 'sad',\n 'angry',\n 'fear',\n 'fear',\n 'sad',\n 'angry',\n 'angry',\n 'sad',\n 'fear',\n 'sad',\n 'sad',\n 'sad',\n 'angry',\n 'angry',\n 'angry',\n 'angry',\n 'sad',\n 'sad',\n 'sad',\n 'angry',\n 'angry',\n 'sad',\n 'neutral',\n 'angry',\n 'sad',\n 'happy',\n 'happy',\n 'sad',\n 'angry',\n 'angry',\n 'surprised',\n 'angry',\n 'happy',\n 'sad',\n 'sad',\n 'happy',\n 'angry',\n 'sad',\n 'sad',\n 'angry',\n 'sad',\n 'sad',\n 'neutral',\n 'neutral',\n 'angry',\n 'neutral',\n 'sad',\n 'angry',\n 'sad',\n 'sad',\n 'happy',\n 'angry',\n 'disgusting',\n 'happy',\n 'sad',\n 'sad',\n 'angry',\n 'angry',\n 'happy',\n 'sad',\n 'sad',\n 'happy',\n 'angry',\n 'angry',\n 'disgusting',\n 'sad',\n 'neutral',\n 'angry',\n 'sad',\n 'angry',\n 'sad',\n 'sad',\n 'sad',\n 'angry',\n 'sad',\n 'angry',\n 'happy',\n 'happy',\n 'sad',\n 'sad',\n 'disgusting',\n 'sad',\n 'happy',\n 'happy',\n 'sad',\n 'sad',\n 'sad',\n 'sad',\n 'sad',\n 'sad',\n 'sad',\n 'happy',\n 'sad',\n 'sad',\n 'neutral',\n 'angry',\n 'angry',\n 'sad',\n 'sad',\n 'sad',\n 'sad',\n 'angry',\n 'sad',\n 'fear',\n 'sad',\n 'fear',\n 'angry',\n 'sad',\n 'angry',\n 'fear',\n 'sad',\n 'angry',\n 'angry',\n 'happy',\n 'sad',\n 'happy',\n 'happy',\n 'sad',\n 'angry',\n 'happy',\n 'angry',\n 'disgusting',\n 'sad',\n 'angry',\n 'angry',\n 'sad',\n 'sad',\n 'sad',\n 'angry',\n 'happy',\n 'sad',\n 'angry',\n 'angry',\n 'sad',\n 'sad',\n 'sad',\n 'happy',\n 'fear',\n 'sad',\n 'angry',\n 'angry',\n 'angry',\n 'angry',\n 'sad',\n 'sad',\n 'neutral',\n 'sad',\n 'sad',\n 'sad',\n 'sad',\n 'sad',\n 'sad',\n 'happy',\n 'sad',\n 'angry',\n 'sad',\n 'sad',\n 'neutral',\n 'angry',\n 'sad',\n 'sad',\n 'angry',\n 'sad',\n 'fear',\n 'sad',\n 'sad',\n 'sad',\n 'happy',\n 'sad',\n 'sad',\n 'sad',\n 'sad',\n 'angry',\n 'angry',\n 'neutral',\n 'sad',\n 'happy',\n 'sad',\n 'angry',\n 'sad',\n 'sad',\n 'disgusting',\n 'angry',\n 'angry',\n 'surprised',\n 'angry',\n 'angry',\n 'sad',\n 'sad',\n 'angry',\n 'angry',\n 'sad',\n 'sad',\n 'angry',\n 'disgusting',\n 'sad',\n 'sad',\n 'fear',\n 'angry',\n 'sad',\n 'sad',\n 'sad',\n 'happy',\n 'angry',\n 'sad',\n 'angry',\n 'angry',\n 'sad',\n 'disgusting',\n 'sad',\n 'sad',\n 'neutral',\n 'fear',\n 'angry',\n 'sad',\n 'sad',\n 'angry',\n 'sad',\n 'sad',\n 'sad',\n 'neutral',\n 'disgusting',\n 'happy',\n 'sad',\n 'sad',\n 'sad',\n 'happy',\n 'sad',\n 'sad',\n 'angry',\n 'happy',\n 'angry',\n 'angry',\n 'sad',\n 'disgusting',\n 'angry',\n 'angry',\n 'sad',\n 'neutral',\n 'sad',\n 'angry',\n 'angry',\n 'angry',\n 'neutral',\n 'happy',\n 'angry',\n 'angry',\n 'angry',\n 'sad',\n 'sad',\n 'sad',\n 'sad',\n 'sad',\n 'angry',\n 'sad',\n 'sad',\n 'angry',\n 'sad',\n 'sad',\n 'sad',\n 'sad',\n 'angry',\n 'angry',\n 'sad',\n 'sad',\n 'angry',\n 'sad',\n 'neutral',\n 'angry',\n 'sad',\n 'angry',\n 'sad',\n 'sad',\n 'angry',\n 'sad',\n 'angry',\n 'sad',\n 'angry',\n 'happy',\n 'sad',\n 'sad',\n 'fear',\n 'angry',\n 'fear',\n 'sad',\n 'sad',\n 'sad',\n 'angry',\n 'angry',\n 'fear',\n 'angry',\n 'neutral',\n 'angry',\n 'sad',\n 'sad',\n 'sad',\n 'disgusting',\n 'sad',\n 'sad',\n 'sad',\n 'sad',\n 'sad',\n 'sad',\n 'sad',\n 'sad',\n 'angry',\n 'neutral',\n 'sad',\n 'sad',\n 'happy',\n 'sad',\n 'disgusting',\n 'sad',\n 'disgusting',\n 'angry',\n 'angry',\n 'sad',\n 'angry',\n 'neutral',\n 'sad',\n 'sad',\n 'sad',\n 'angry',\n 'angry',\n 'neutral',\n 'angry',\n 'sad',\n 'angry',\n 'fear',\n 'disgusting',\n 'happy',\n 'angry',\n 'sad',\n 'sad',\n 'neutral',\n 'disgusting',\n 'sad',\n 'angry',\n 'sad',\n 'sad',\n 'sad',\n 'sad',\n 'angry',\n 'surprised',\n 'happy',\n 'disgusting',\n 'happy',\n 'sad',\n 'angry',\n 'happy',\n 'angry',\n 'sad',\n 'sad',\n 'sad',\n 'sad',\n 'sad',\n 'fear',\n 'neutral',\n 'sad',\n 'happy',\n 'sad',\n 'neutral',\n 'sad',\n 'sad',\n 'angry',\n 'happy',\n 'neutral',\n 'sad',\n 'sad',\n 'angry',\n 'happy',\n 'happy',\n 'sad',\n 'angry',\n 'neutral',\n 'sad',\n 'angry',\n 'sad',\n 'angry',\n 'sad',\n 'angry',\n 'happy',\n 'sad',\n 'sad',\n 'sad',\n 'fear',\n 'angry',\n 'sad',\n 'sad',\n 'sad',\n 'angry',\n 'neutral',\n 'neutral',\n 'sad',\n 'happy',\n 'sad',\n 'sad',\n 'sad',\n 'sad',\n 'sad',\n 'happy',\n 'angry',\n 'sad',\n 'fear',\n 'sad',\n 'sad',\n 'angry',\n 'sad',\n 'angry',\n 'sad',\n 'angry',\n 'happy',\n 'angry',\n 'sad',\n 'sad',\n 'sad',\n 'happy',\n 'sad',\n 'disgusting',\n 'sad',\n 'sad',\n 'angry',\n 'angry',\n 'neutral',\n 'sad',\n 'sad',\n 'angry',\n 'sad',\n 'sad',\n 'sad',\n 'neutral',\n 'happy',\n 'angry',\n 'angry',\n 'sad',\n 'sad',\n 'neutral',\n 'angry',\n 'angry',\n 'sad',\n 'sad',\n 'angry',\n 'sad',\n 'fear',\n 'angry',\n 'neutral',\n 'angry',\n 'happy',\n 'sad',\n 'angry',\n 'sad',\n 'sad',\n 'surprised',\n 'angry',\n 'sad',\n 'angry',\n 'sad',\n 'sad',\n 'sad',\n 'angry',\n 'angry',\n 'fear',\n 'sad',\n 'angry',\n 'angry',\n 'sad',\n 'sad',\n 'sad',\n 'sad',\n 'sad',\n 'sad',\n 'angry',\n 'happy',\n 'angry',\n 'angry',\n 'happy',\n 'sad',\n 'happy',\n 'sad',\n 'sad',\n 'neutral',\n 'angry',\n 'angry',\n 'angry',\n 'sad',\n 'neutral',\n 'angry',\n 'angry',\n 'neutral',\n 'disgusting',\n 'angry',\n 'angry',\n 'angry',\n 'sad',\n 'angry',\n 'sad',\n 'fear',\n 'sad',\n 'sad',\n 'sad',\n 'angry',\n 'sad',\n 'sad',\n 'angry',\n 'disgusting',\n 'sad',\n 'sad',\n 'disgusting',\n 'sad',\n 'angry',\n 'angry',\n 'sad',\n 'angry',\n 'sad',\n 'sad',\n 'angry',\n ...]"
     },
     "execution_count": 10,
     "metadata": {},
     "output_type": "execute_result"
    }
   ],
   "source": [
    "label_embarrassed = []\n",
    "\n",
    "for idx in tqdm(range(len(df_embarrassed['text'])), desc=\"Labeling\", mininterval=0.01):\n",
    "    label = predict_sentiment(df_embarrassed['text'][idx], model)\n",
    "    label_embarrassed.append(label)\n",
    "\n",
    "label_embarrassed"
   ],
   "metadata": {
    "collapsed": false,
    "pycharm": {
     "name": "#%%\n"
    }
   }
  },
  {
   "cell_type": "code",
   "execution_count": 11,
   "outputs": [
    {
     "data": {
      "text/plain": "                                                 text       label\n0             고등학교에 올라오니 중학교 때보다 수업이 갑자기 어려워져서 당황스러워.  disgusting\n1     오늘 선생님이 나보고 앞에 나와 문제를 풀어보라고 했는데 답을 외워서 문제를 풀었어.       angry\n2            내가 무능해서 자기가 좋은 대학에 못 들어갔다는 딸의 말을 듣고 괴로워.         sad\n3                             요즘 아들이 말도 없이 사업을 시작했나봐.         sad\n4                 교수님께서 과제로 내주신 에세이에 엄청 애쓴 내가 너무 한심해.       happy\n5                           남편이 내 돈을 들고 집을 나갔어. 어떡하지?         sad\n6                           젊은 시절에 내가 했던 일이 이제 와 한심해.         sad\n7   엄마가 신문을 보시다가 성 소수자를 차별하는 발언을 했는데 그 모습이 너무 혐오스러웠어.         sad\n8   며칠 전에 친구 집에서 가족들이 모여 함께 텔레비전을 시청하는데 혐오스러운 장면이 ...       angry\n9                             어제 회사에서 정말 창피한 일을 경험했어.       angry\n10  병원비를 지불해야 하는데 자식들이 보내주는 용돈이 끊겨 병원비를 못 내고 있어서 서운해.        fear\n11            학교에서 아무도 말을 걸어주지 않아. 모두 나에게 등을 돌린 기분이야.         sad\n12                       나이는 먹어 가는데 벌어놓은 돈은 없으니 걱정이야.         sad\n13             요즘 내 진로에 대해서 고민이 많아. 명확한 꿈이 없어. 혼란스러워.       angry\n14    평소 치질로 고생하고 있는데 치질 전문 병원 앞에서 옆집 사람을 마주쳐서 부끄러웠어.       angry\n15              어제 엄마가 게임을 못하게 해서 이럴 거면 왜 낳았냐고 화를 냈어.       angry\n16      주식의 가격이 순식간에 폭락했는데 내 것을 팔아야 할지 모르겠구나. 너무 힘들다.         sad\n17  우리 시어머니는 나를 볼 때마다 나한테 왜 아들을 못 낳았냐고 말씀하셔서 시댁에 가...       angry\n18                               친구들이 다 나를 싫어하는 거 같아.        fear\n19                  남과 함께 가다가 구걸하는 사람을 보면 선뜻 돈을 주게 돼.       happy",
      "text/html": "<div>\n<style scoped>\n    .dataframe tbody tr th:only-of-type {\n        vertical-align: middle;\n    }\n\n    .dataframe tbody tr th {\n        vertical-align: top;\n    }\n\n    .dataframe thead th {\n        text-align: right;\n    }\n</style>\n<table border=\"1\" class=\"dataframe\">\n  <thead>\n    <tr style=\"text-align: right;\">\n      <th></th>\n      <th>text</th>\n      <th>label</th>\n    </tr>\n  </thead>\n  <tbody>\n    <tr>\n      <th>0</th>\n      <td>고등학교에 올라오니 중학교 때보다 수업이 갑자기 어려워져서 당황스러워.</td>\n      <td>disgusting</td>\n    </tr>\n    <tr>\n      <th>1</th>\n      <td>오늘 선생님이 나보고 앞에 나와 문제를 풀어보라고 했는데 답을 외워서 문제를 풀었어.</td>\n      <td>angry</td>\n    </tr>\n    <tr>\n      <th>2</th>\n      <td>내가 무능해서 자기가 좋은 대학에 못 들어갔다는 딸의 말을 듣고 괴로워.</td>\n      <td>sad</td>\n    </tr>\n    <tr>\n      <th>3</th>\n      <td>요즘 아들이 말도 없이 사업을 시작했나봐.</td>\n      <td>sad</td>\n    </tr>\n    <tr>\n      <th>4</th>\n      <td>교수님께서 과제로 내주신 에세이에 엄청 애쓴 내가 너무 한심해.</td>\n      <td>happy</td>\n    </tr>\n    <tr>\n      <th>5</th>\n      <td>남편이 내 돈을 들고 집을 나갔어. 어떡하지?</td>\n      <td>sad</td>\n    </tr>\n    <tr>\n      <th>6</th>\n      <td>젊은 시절에 내가 했던 일이 이제 와 한심해.</td>\n      <td>sad</td>\n    </tr>\n    <tr>\n      <th>7</th>\n      <td>엄마가 신문을 보시다가 성 소수자를 차별하는 발언을 했는데 그 모습이 너무 혐오스러웠어.</td>\n      <td>sad</td>\n    </tr>\n    <tr>\n      <th>8</th>\n      <td>며칠 전에 친구 집에서 가족들이 모여 함께 텔레비전을 시청하는데 혐오스러운 장면이 ...</td>\n      <td>angry</td>\n    </tr>\n    <tr>\n      <th>9</th>\n      <td>어제 회사에서 정말 창피한 일을 경험했어.</td>\n      <td>angry</td>\n    </tr>\n    <tr>\n      <th>10</th>\n      <td>병원비를 지불해야 하는데 자식들이 보내주는 용돈이 끊겨 병원비를 못 내고 있어서 서운해.</td>\n      <td>fear</td>\n    </tr>\n    <tr>\n      <th>11</th>\n      <td>학교에서 아무도 말을 걸어주지 않아. 모두 나에게 등을 돌린 기분이야.</td>\n      <td>sad</td>\n    </tr>\n    <tr>\n      <th>12</th>\n      <td>나이는 먹어 가는데 벌어놓은 돈은 없으니 걱정이야.</td>\n      <td>sad</td>\n    </tr>\n    <tr>\n      <th>13</th>\n      <td>요즘 내 진로에 대해서 고민이 많아. 명확한 꿈이 없어. 혼란스러워.</td>\n      <td>angry</td>\n    </tr>\n    <tr>\n      <th>14</th>\n      <td>평소 치질로 고생하고 있는데 치질 전문 병원 앞에서 옆집 사람을 마주쳐서 부끄러웠어.</td>\n      <td>angry</td>\n    </tr>\n    <tr>\n      <th>15</th>\n      <td>어제 엄마가 게임을 못하게 해서 이럴 거면 왜 낳았냐고 화를 냈어.</td>\n      <td>angry</td>\n    </tr>\n    <tr>\n      <th>16</th>\n      <td>주식의 가격이 순식간에 폭락했는데 내 것을 팔아야 할지 모르겠구나. 너무 힘들다.</td>\n      <td>sad</td>\n    </tr>\n    <tr>\n      <th>17</th>\n      <td>우리 시어머니는 나를 볼 때마다 나한테 왜 아들을 못 낳았냐고 말씀하셔서 시댁에 가...</td>\n      <td>angry</td>\n    </tr>\n    <tr>\n      <th>18</th>\n      <td>친구들이 다 나를 싫어하는 거 같아.</td>\n      <td>fear</td>\n    </tr>\n    <tr>\n      <th>19</th>\n      <td>남과 함께 가다가 구걸하는 사람을 보면 선뜻 돈을 주게 돼.</td>\n      <td>happy</td>\n    </tr>\n  </tbody>\n</table>\n</div>"
     },
     "execution_count": 11,
     "metadata": {},
     "output_type": "execute_result"
    }
   ],
   "source": [
    "df_embarrassed['label'] = label_embarrassed\n",
    "df_embarrassed[:20]"
   ],
   "metadata": {
    "collapsed": false,
    "pycharm": {
     "name": "#%%\n"
    }
   }
  },
  {
   "cell_type": "markdown",
   "source": [
    "## Re labeling"
   ],
   "metadata": {
    "collapsed": false,
    "pycharm": {
     "name": "#%% md\n"
    }
   }
  },
  {
   "cell_type": "markdown",
   "source": [
    "### '행복'으로 레이블링된 샘플의 레이블을 '놀람'으로 레이블링"
   ],
   "metadata": {
    "collapsed": false,
    "pycharm": {
     "name": "#%% md\n"
    }
   }
  },
  {
   "cell_type": "markdown",
   "source": [
    "angry\n",
    "sad\n",
    "fear\n",
    "disgusting\n",
    "neutral\n",
    "happy\n",
    "surprised"
   ],
   "metadata": {
    "collapsed": false,
    "pycharm": {
     "name": "#%% md\n"
    }
   }
  },
  {
   "cell_type": "code",
   "execution_count": 12,
   "outputs": [],
   "source": [
    "df_embarrassed.loc[df_embarrassed['label'] == \"happiness\", 'label'] = 'surprise'"
   ],
   "metadata": {
    "collapsed": false,
    "pycharm": {
     "name": "#%%\n"
    }
   }
  },
  {
   "cell_type": "code",
   "execution_count": 13,
   "outputs": [
    {
     "data": {
      "text/plain": "array(['disgusting', 'angry', 'sad', 'happy', 'fear', 'neutral',\n       'surprised'], dtype=object)"
     },
     "execution_count": 13,
     "metadata": {},
     "output_type": "execute_result"
    }
   ],
   "source": [
    "df_embarrassed['label'].unique()"
   ],
   "metadata": {
    "collapsed": false,
    "pycharm": {
     "name": "#%%\n"
    }
   }
  },
  {
   "cell_type": "markdown",
   "source": [
    "## Save data"
   ],
   "metadata": {
    "collapsed": false,
    "pycharm": {
     "name": "#%% md\n"
    }
   }
  },
  {
   "cell_type": "code",
   "execution_count": 14,
   "outputs": [],
   "source": [
    "df_embarrassed.to_csv(SAVE_DIR+'/relabel_embarrassed.csv', encoding='utf-8-sig', index=False)"
   ],
   "metadata": {
    "collapsed": false,
    "pycharm": {
     "name": "#%%\n"
    }
   }
  }
 ],
 "metadata": {
  "kernelspec": {
   "display_name": "Python 3",
   "language": "python",
   "name": "python3"
  },
  "language_info": {
   "codemirror_mode": {
    "name": "ipython",
    "version": 2
   },
   "file_extension": ".py",
   "mimetype": "text/x-python",
   "name": "python",
   "nbconvert_exporter": "python",
   "pygments_lexer": "ipython2",
   "version": "2.7.6"
  }
 },
 "nbformat": 4,
 "nbformat_minor": 0
}
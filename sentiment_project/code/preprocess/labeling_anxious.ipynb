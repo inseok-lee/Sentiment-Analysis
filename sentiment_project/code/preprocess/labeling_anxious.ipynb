{
 "cells": [
  {
   "cell_type": "markdown",
   "source": [
    "# Anxiety labeling"
   ],
   "metadata": {
    "collapsed": false,
    "pycharm": {
     "name": "#%% md\n"
    }
   }
  },
  {
   "cell_type": "markdown",
   "source": [
    "## Import Library"
   ],
   "metadata": {
    "collapsed": false,
    "pycharm": {
     "name": "#%% md\n"
    }
   }
  },
  {
   "cell_type": "code",
   "execution_count": 1,
   "outputs": [],
   "source": [
    "import os\n",
    "import pickle\n",
    "\n",
    "import pandas as pd\n",
    "import re\n",
    "\n",
    "from konlpy.tag import Komoran, Okt\n",
    "\n",
    "from tensorflow.keras.preprocessing.sequence import pad_sequences\n",
    "from tensorflow.keras.models import load_model\n",
    "\n",
    "from tqdm import tqdm"
   ],
   "metadata": {
    "collapsed": false,
    "pycharm": {
     "name": "#%%\n"
    }
   }
  },
  {
   "cell_type": "markdown",
   "source": [
    "## Hyper_parameters"
   ],
   "metadata": {
    "collapsed": false,
    "pycharm": {
     "name": "#%% md\n"
    }
   }
  },
  {
   "cell_type": "code",
   "execution_count": 2,
   "outputs": [],
   "source": [
    "# Colab\n",
    "# DATA_DIR = '/content/drive/MyDrive/Colab Notebooks/miso'\n",
    "\n",
    "# Local\n",
    "DATA_DIR = '/Users/inseoklee/Desktop/miso/data'\n",
    "SAVE_DIR = '/Users/inseoklee/Desktop/miso/data'\n",
    "LOAD_DIR = '/Users/inseoklee/Desktop/miso/model/CNN'\n",
    "\n",
    "# MAX_LEN -> 패딩 단계에서 설정"
   ],
   "metadata": {
    "collapsed": false,
    "pycharm": {
     "name": "#%%\n"
    }
   }
  },
  {
   "cell_type": "markdown",
   "source": [
    "## Load Data"
   ],
   "metadata": {
    "collapsed": false,
    "pycharm": {
     "name": "#%% md\n"
    }
   }
  },
  {
   "cell_type": "code",
   "execution_count": 3,
   "outputs": [],
   "source": [
    "df_anxious = pd.read_csv(DATA_DIR + '/label_anxious.csv')"
   ],
   "metadata": {
    "collapsed": false,
    "pycharm": {
     "name": "#%%\n"
    }
   }
  },
  {
   "cell_type": "code",
   "execution_count": 4,
   "outputs": [
    {
     "name": "stdout",
     "output_type": "stream",
     "text": [
      "<class 'pandas.core.frame.DataFrame'>\n",
      "RangeIndex: 15799 entries, 0 to 15798\n",
      "Data columns (total 2 columns):\n",
      " #   Column  Non-Null Count  Dtype \n",
      "---  ------  --------------  ----- \n",
      " 0   text    15799 non-null  object\n",
      " 1   label   15799 non-null  object\n",
      "dtypes: object(2)\n",
      "memory usage: 247.0+ KB\n"
     ]
    }
   ],
   "source": [
    "df_anxious.info()"
   ],
   "metadata": {
    "collapsed": false,
    "pycharm": {
     "name": "#%%\n"
    }
   }
  },
  {
   "cell_type": "markdown",
   "source": [
    "## Tokenize"
   ],
   "metadata": {
    "collapsed": false,
    "pycharm": {
     "name": "#%% md\n"
    }
   }
  },
  {
   "cell_type": "code",
   "execution_count": 5,
   "outputs": [],
   "source": [
    "def preprocessing(text, okt, remove_stopwords=False, stop_words=[]):\n",
    "    # 함수의 인자는 다음과 같다.\n",
    "    # text: 전처리할 텍스트\n",
    "    # okt: okt객체를 반복적으로 생성하지 않고 미리 생성한 후 인자로 받는다.\n",
    "    # remove_stopwords: 불용어를 제거할지 여부 선택. 기본값은 False\n",
    "    # stop_words: 불용어 사전은 사용자가 직접 입력.\n",
    "\n",
    "    # 1. 한글 및 공백을 제외한 문자를 모두 제거\n",
    "    text = re.sub(\"[^가-힣ㄱ-ㅎㅏ-ㅣ\\\\s]\", \"\", text)\n",
    "\n",
    "    # 2. okt 객체를 활용하여 형태소 단위로 나눈다\n",
    "    word_text = okt.morphs(text, stem=True)\n",
    "\n",
    "    if remove_stopwords:\n",
    "        word_text = [token for token in word_text if (not token in stop_words)] #and len(token) > 1]\n",
    "\n",
    "    return word_text"
   ],
   "metadata": {
    "collapsed": false,
    "pycharm": {
     "name": "#%%\n"
    }
   }
  },
  {
   "cell_type": "code",
   "execution_count": 6,
   "outputs": [
    {
     "name": "stdout",
     "output_type": "stream",
     "text": [
      "[0.002s][warning][os,thread] Attempt to protect stack guard pages failed (0x00000001697d0000-0x00000001697dc000).\n",
      "[0.002s][warning][os,thread] Attempt to deallocate stack guard pages failed.\n"
     ]
    }
   ],
   "source": [
    "stop_words = set(['은', '는', '이', '가', '하', '아', '것', '들', '의', '있', '되', '수', '보', '주', '등', '한'])\n",
    "okt = Okt()"
   ],
   "metadata": {
    "collapsed": false,
    "pycharm": {
     "name": "#%%\n"
    }
   }
  },
  {
   "cell_type": "markdown",
   "source": [
    "## Load Model and Tokenizer"
   ],
   "metadata": {
    "collapsed": false,
    "pycharm": {
     "name": "#%% md\n"
    }
   }
  },
  {
   "cell_type": "code",
   "execution_count": 7,
   "outputs": [
    {
     "name": "stdout",
     "output_type": "stream",
     "text": [
      "Metal device set to: Apple M1\n"
     ]
    },
    {
     "name": "stderr",
     "output_type": "stream",
     "text": [
      "2022-07-13 16:24:11.280973: I tensorflow/core/common_runtime/pluggable_device/pluggable_device_factory.cc:305] Could not identify NUMA node of platform GPU ID 0, defaulting to 0. Your kernel may not have been built with NUMA support.\n",
      "2022-07-13 16:24:11.281072: I tensorflow/core/common_runtime/pluggable_device/pluggable_device_factory.cc:271] Created TensorFlow device (/job:localhost/replica:0/task:0/device:GPU:0 with 0 MB memory) -> physical PluggableDevice (device: 0, name: METAL, pci bus id: <undefined>)\n"
     ]
    }
   ],
   "source": [
    "def load_tokenizer(path):\n",
    "    with open(path, 'rb') as f:\n",
    "        tokenizer = pickle.load(f)\n",
    "    return tokenizer\n",
    "\n",
    "model_name = 'trained_model.h5'\n",
    "tokenizer_name = 'tokenizer.pickle'\n",
    "model_path = os.path.join(LOAD_DIR, model_name)\n",
    "tokenizer_path = os.path.join(LOAD_DIR, tokenizer_name)\n",
    "\n",
    "model = load_model(model_path)\n",
    "tokenizer = load_tokenizer(tokenizer_path)"
   ],
   "metadata": {
    "collapsed": false,
    "pycharm": {
     "name": "#%%\n"
    }
   }
  },
  {
   "cell_type": "markdown",
   "source": [
    "## Labeling"
   ],
   "metadata": {
    "collapsed": false,
    "pycharm": {
     "name": "#%% md\n"
    }
   }
  },
  {
   "cell_type": "code",
   "execution_count": 8,
   "outputs": [],
   "source": [
    "def getResult(predict):\n",
    "    highest = 0\n",
    "    highestIdx = 0\n",
    "    for x in range (0,len(predict)) :\n",
    "        if(predict[x] > highest) :\n",
    "            highestIdx = x\n",
    "            highest =predict[x]\n",
    "    return highestIdx"
   ],
   "metadata": {
    "collapsed": false,
    "pycharm": {
     "name": "#%%\n"
    }
   }
  },
  {
   "cell_type": "markdown",
   "source": [
    "angry\n",
    "sad\n",
    "fear\n",
    "disgusting\n",
    "neutral\n",
    "happy\n",
    "surprised"
   ],
   "metadata": {
    "collapsed": false,
    "pycharm": {
     "name": "#%% md\n"
    }
   }
  },
  {
   "cell_type": "code",
   "execution_count": 13,
   "outputs": [],
   "source": [
    "def predict_sentiment(text, model):\n",
    "    tokens = []\n",
    "    if type(text) == str:\n",
    "        tokens.append(preprocessing(text, okt, remove_stopwords=True, stop_words=stop_words))\n",
    "    else:\n",
    "        tokens.append([]) #string이 아니면 비어있는 값 추가\n",
    "    token_sequences = tokenizer.texts_to_sequences(tokens)\n",
    "    if(len(token_sequences) == 0) :\n",
    "        return \"너무 짧아\"\n",
    "    padded_sequences = pad_sequences(token_sequences, maxlen=15)\n",
    "    predict = model.predict(padded_sequences, verbose=0)\n",
    "    # print(predict)\n",
    "    result = getResult(predict[0])\n",
    "    if result == 0 :\n",
    "        return 'angry'\n",
    "    elif result == 1 :\n",
    "        return 'sad'\n",
    "    elif result == 2 :\n",
    "        return 'fear'\n",
    "    elif result == 3 :\n",
    "        return 'disgusting'\n",
    "    elif result == 4 :\n",
    "        return 'neutral'\n",
    "    elif result == 5 :\n",
    "        return 'happy'\n",
    "    elif result == 6 :\n",
    "        return 'surprised'"
   ],
   "metadata": {
    "collapsed": false,
    "pycharm": {
     "name": "#%%\n"
    }
   }
  },
  {
   "cell_type": "code",
   "execution_count": 14,
   "outputs": [
    {
     "name": "stderr",
     "output_type": "stream",
     "text": [
      "Labeling: 100%|██████████| 15799/15799 [06:05<00:00, 43.20it/s]\n"
     ]
    },
    {
     "data": {
      "text/plain": "['disgusting',\n 'angry',\n 'sad',\n 'sad',\n 'happy',\n 'sad',\n 'sad',\n 'angry',\n 'sad',\n 'happy',\n 'fear',\n 'sad',\n 'sad',\n 'happy',\n 'fear',\n 'sad',\n 'neutral',\n 'sad',\n 'sad',\n 'happy',\n 'sad',\n 'sad',\n 'sad',\n 'happy',\n 'disgusting',\n 'fear',\n 'sad',\n 'sad',\n 'happy',\n 'angry',\n 'angry',\n 'angry',\n 'sad',\n 'angry',\n 'sad',\n 'angry',\n 'angry',\n 'sad',\n 'sad',\n 'angry',\n 'happy',\n 'angry',\n 'angry',\n 'sad',\n 'angry',\n 'neutral',\n 'sad',\n 'sad',\n 'fear',\n 'angry',\n 'sad',\n 'angry',\n 'sad',\n 'happy',\n 'sad',\n 'sad',\n 'sad',\n 'sad',\n 'sad',\n 'sad',\n 'sad',\n 'sad',\n 'happy',\n 'sad',\n 'sad',\n 'disgusting',\n 'sad',\n 'sad',\n 'sad',\n 'angry',\n 'sad',\n 'sad',\n 'angry',\n 'angry',\n 'sad',\n 'sad',\n 'sad',\n 'angry',\n 'sad',\n 'happy',\n 'angry',\n 'sad',\n 'sad',\n 'sad',\n 'sad',\n 'sad',\n 'angry',\n 'sad',\n 'sad',\n 'sad',\n 'fear',\n 'sad',\n 'angry',\n 'sad',\n 'angry',\n 'sad',\n 'sad',\n 'angry',\n 'angry',\n 'sad',\n 'angry',\n 'angry',\n 'sad',\n 'angry',\n 'angry',\n 'angry',\n 'sad',\n 'sad',\n 'sad',\n 'angry',\n 'angry',\n 'angry',\n 'fear',\n 'sad',\n 'sad',\n 'sad',\n 'sad',\n 'sad',\n 'sad',\n 'sad',\n 'sad',\n 'sad',\n 'sad',\n 'angry',\n 'angry',\n 'angry',\n 'fear',\n 'angry',\n 'fear',\n 'angry',\n 'sad',\n 'fear',\n 'sad',\n 'sad',\n 'sad',\n 'angry',\n 'angry',\n 'sad',\n 'angry',\n 'sad',\n 'angry',\n 'angry',\n 'angry',\n 'sad',\n 'angry',\n 'angry',\n 'angry',\n 'sad',\n 'neutral',\n 'angry',\n 'sad',\n 'sad',\n 'angry',\n 'angry',\n 'neutral',\n 'sad',\n 'angry',\n 'angry',\n 'neutral',\n 'angry',\n 'angry',\n 'sad',\n 'sad',\n 'sad',\n 'neutral',\n 'sad',\n 'sad',\n 'angry',\n 'angry',\n 'sad',\n 'neutral',\n 'angry',\n 'happy',\n 'angry',\n 'fear',\n 'sad',\n 'disgusting',\n 'sad',\n 'sad',\n 'angry',\n 'angry',\n 'angry',\n 'fear',\n 'sad',\n 'sad',\n 'neutral',\n 'sad',\n 'sad',\n 'angry',\n 'angry',\n 'sad',\n 'sad',\n 'angry',\n 'surprised',\n 'fear',\n 'angry',\n 'disgusting',\n 'sad',\n 'sad',\n 'angry',\n 'angry',\n 'sad',\n 'sad',\n 'angry',\n 'neutral',\n 'sad',\n 'sad',\n 'sad',\n 'sad',\n 'sad',\n 'sad',\n 'sad',\n 'sad',\n 'sad',\n 'happy',\n 'sad',\n 'sad',\n 'angry',\n 'sad',\n 'angry',\n 'angry',\n 'angry',\n 'sad',\n 'disgusting',\n 'sad',\n 'sad',\n 'sad',\n 'happy',\n 'sad',\n 'sad',\n 'angry',\n 'sad',\n 'sad',\n 'sad',\n 'fear',\n 'sad',\n 'surprised',\n 'fear',\n 'sad',\n 'sad',\n 'angry',\n 'angry',\n 'happy',\n 'neutral',\n 'sad',\n 'sad',\n 'sad',\n 'angry',\n 'sad',\n 'sad',\n 'angry',\n 'sad',\n 'angry',\n 'sad',\n 'sad',\n 'sad',\n 'angry',\n 'sad',\n 'sad',\n 'angry',\n 'sad',\n 'sad',\n 'sad',\n 'sad',\n 'sad',\n 'neutral',\n 'sad',\n 'sad',\n 'sad',\n 'angry',\n 'angry',\n 'sad',\n 'neutral',\n 'angry',\n 'sad',\n 'fear',\n 'neutral',\n 'angry',\n 'angry',\n 'sad',\n 'sad',\n 'angry',\n 'angry',\n 'angry',\n 'sad',\n 'disgusting',\n 'disgusting',\n 'angry',\n 'sad',\n 'neutral',\n 'sad',\n 'sad',\n 'angry',\n 'angry',\n 'angry',\n 'sad',\n 'sad',\n 'happy',\n 'sad',\n 'sad',\n 'happy',\n 'fear',\n 'angry',\n 'angry',\n 'sad',\n 'neutral',\n 'angry',\n 'disgusting',\n 'angry',\n 'fear',\n 'sad',\n 'happy',\n 'sad',\n 'sad',\n 'angry',\n 'angry',\n 'angry',\n 'sad',\n 'sad',\n 'sad',\n 'sad',\n 'angry',\n 'sad',\n 'angry',\n 'sad',\n 'angry',\n 'sad',\n 'sad',\n 'sad',\n 'sad',\n 'angry',\n 'sad',\n 'sad',\n 'sad',\n 'angry',\n 'angry',\n 'angry',\n 'sad',\n 'angry',\n 'angry',\n 'angry',\n 'angry',\n 'angry',\n 'sad',\n 'fear',\n 'sad',\n 'sad',\n 'angry',\n 'sad',\n 'fear',\n 'sad',\n 'sad',\n 'angry',\n 'sad',\n 'angry',\n 'sad',\n 'fear',\n 'sad',\n 'fear',\n 'sad',\n 'angry',\n 'neutral',\n 'angry',\n 'fear',\n 'sad',\n 'sad',\n 'sad',\n 'sad',\n 'sad',\n 'angry',\n 'angry',\n 'sad',\n 'sad',\n 'sad',\n 'neutral',\n 'sad',\n 'disgusting',\n 'angry',\n 'angry',\n 'angry',\n 'fear',\n 'sad',\n 'sad',\n 'happy',\n 'happy',\n 'angry',\n 'angry',\n 'sad',\n 'sad',\n 'sad',\n 'fear',\n 'angry',\n 'sad',\n 'sad',\n 'sad',\n 'angry',\n 'fear',\n 'angry',\n 'disgusting',\n 'fear',\n 'sad',\n 'sad',\n 'angry',\n 'sad',\n 'happy',\n 'sad',\n 'sad',\n 'angry',\n 'fear',\n 'sad',\n 'sad',\n 'angry',\n 'neutral',\n 'angry',\n 'happy',\n 'neutral',\n 'neutral',\n 'sad',\n 'angry',\n 'angry',\n 'happy',\n 'sad',\n 'sad',\n 'angry',\n 'angry',\n 'sad',\n 'sad',\n 'sad',\n 'angry',\n 'angry',\n 'fear',\n 'sad',\n 'fear',\n 'angry',\n 'sad',\n 'fear',\n 'angry',\n 'angry',\n 'sad',\n 'disgusting',\n 'sad',\n 'sad',\n 'disgusting',\n 'sad',\n 'happy',\n 'disgusting',\n 'sad',\n 'sad',\n 'sad',\n 'happy',\n 'sad',\n 'neutral',\n 'sad',\n 'sad',\n 'sad',\n 'happy',\n 'sad',\n 'angry',\n 'sad',\n 'sad',\n 'happy',\n 'angry',\n 'angry',\n 'angry',\n 'happy',\n 'sad',\n 'fear',\n 'neutral',\n 'sad',\n 'sad',\n 'sad',\n 'sad',\n 'sad',\n 'angry',\n 'sad',\n 'sad',\n 'angry',\n 'angry',\n 'angry',\n 'angry',\n 'angry',\n 'happy',\n 'sad',\n 'angry',\n 'angry',\n 'sad',\n 'sad',\n 'sad',\n 'sad',\n 'angry',\n 'sad',\n 'disgusting',\n 'sad',\n 'fear',\n 'sad',\n 'disgusting',\n 'angry',\n 'sad',\n 'angry',\n 'fear',\n 'sad',\n 'fear',\n 'disgusting',\n 'happy',\n 'sad',\n 'neutral',\n 'sad',\n 'neutral',\n 'sad',\n 'sad',\n 'angry',\n 'sad',\n 'sad',\n 'sad',\n 'angry',\n 'angry',\n 'happy',\n 'neutral',\n 'angry',\n 'happy',\n 'sad',\n 'angry',\n 'happy',\n 'angry',\n 'angry',\n 'sad',\n 'happy',\n 'angry',\n 'sad',\n 'sad',\n 'sad',\n 'sad',\n 'neutral',\n 'neutral',\n 'angry',\n 'sad',\n 'fear',\n 'fear',\n 'sad',\n 'angry',\n 'sad',\n 'happy',\n 'sad',\n 'sad',\n 'disgusting',\n 'happy',\n 'angry',\n 'sad',\n 'disgusting',\n 'sad',\n 'sad',\n 'angry',\n 'sad',\n 'disgusting',\n 'sad',\n 'sad',\n 'fear',\n 'sad',\n 'sad',\n 'sad',\n 'sad',\n 'angry',\n 'angry',\n 'fear',\n 'sad',\n 'sad',\n 'disgusting',\n 'fear',\n 'happy',\n 'angry',\n 'angry',\n 'sad',\n 'sad',\n 'sad',\n 'angry',\n 'angry',\n 'angry',\n 'angry',\n 'angry',\n 'fear',\n 'angry',\n 'sad',\n 'angry',\n 'neutral',\n 'angry',\n 'angry',\n 'sad',\n 'sad',\n 'sad',\n 'happy',\n 'sad',\n 'sad',\n 'angry',\n 'angry',\n 'sad',\n 'angry',\n 'fear',\n 'sad',\n 'sad',\n 'sad',\n 'sad',\n 'sad',\n 'angry',\n 'sad',\n 'fear',\n 'happy',\n 'sad',\n 'neutral',\n 'sad',\n 'sad',\n 'angry',\n 'angry',\n 'sad',\n 'angry',\n 'angry',\n 'angry',\n 'sad',\n 'angry',\n 'sad',\n 'fear',\n 'sad',\n 'fear',\n 'sad',\n 'sad',\n 'sad',\n 'neutral',\n 'sad',\n 'sad',\n 'sad',\n 'sad',\n 'disgusting',\n 'sad',\n 'neutral',\n 'angry',\n 'sad',\n 'sad',\n 'disgusting',\n 'angry',\n 'sad',\n 'sad',\n 'angry',\n 'angry',\n 'angry',\n 'sad',\n 'sad',\n 'sad',\n 'sad',\n 'sad',\n 'angry',\n 'sad',\n 'neutral',\n 'sad',\n 'sad',\n 'sad',\n 'angry',\n 'fear',\n 'sad',\n 'angry',\n 'disgusting',\n 'angry',\n 'angry',\n 'neutral',\n 'happy',\n 'angry',\n 'angry',\n 'sad',\n 'sad',\n 'angry',\n 'happy',\n 'sad',\n 'angry',\n 'angry',\n 'angry',\n 'neutral',\n 'sad',\n 'sad',\n 'sad',\n 'sad',\n 'sad',\n 'happy',\n 'sad',\n 'sad',\n 'sad',\n 'angry',\n 'neutral',\n 'sad',\n 'angry',\n 'sad',\n 'fear',\n 'sad',\n 'fear',\n 'sad',\n 'angry',\n 'sad',\n 'sad',\n 'sad',\n 'sad',\n 'sad',\n 'angry',\n 'sad',\n 'happy',\n 'sad',\n 'angry',\n 'angry',\n 'fear',\n 'neutral',\n 'angry',\n 'sad',\n 'sad',\n 'sad',\n 'angry',\n 'neutral',\n 'angry',\n 'sad',\n 'sad',\n 'sad',\n 'angry',\n 'sad',\n 'sad',\n 'sad',\n 'sad',\n 'angry',\n 'angry',\n 'sad',\n 'fear',\n 'angry',\n 'sad',\n 'sad',\n 'disgusting',\n 'disgusting',\n 'sad',\n 'sad',\n 'sad',\n 'happy',\n 'sad',\n 'fear',\n 'sad',\n 'disgusting',\n 'sad',\n 'sad',\n 'neutral',\n 'fear',\n 'angry',\n 'fear',\n 'sad',\n 'disgusting',\n 'angry',\n 'sad',\n 'angry',\n 'angry',\n 'angry',\n 'sad',\n 'happy',\n 'sad',\n 'sad',\n 'sad',\n 'angry',\n 'sad',\n 'sad',\n 'happy',\n 'sad',\n 'angry',\n 'sad',\n 'angry',\n 'disgusting',\n 'sad',\n 'sad',\n 'neutral',\n 'angry',\n 'sad',\n 'sad',\n 'sad',\n 'angry',\n 'sad',\n 'sad',\n 'angry',\n 'sad',\n 'sad',\n 'sad',\n 'fear',\n 'sad',\n 'sad',\n 'sad',\n 'sad',\n 'sad',\n 'happy',\n 'sad',\n 'sad',\n 'angry',\n 'angry',\n 'sad',\n 'neutral',\n 'surprised',\n 'sad',\n 'sad',\n 'sad',\n 'happy',\n 'angry',\n 'neutral',\n 'sad',\n 'angry',\n 'sad',\n 'angry',\n 'sad',\n 'neutral',\n 'angry',\n 'angry',\n 'fear',\n 'angry',\n 'fear',\n 'disgusting',\n 'neutral',\n 'sad',\n 'angry',\n 'fear',\n 'sad',\n 'sad',\n 'sad',\n 'sad',\n 'sad',\n 'angry',\n 'sad',\n 'angry',\n 'sad',\n 'sad',\n 'sad',\n 'sad',\n 'angry',\n 'angry',\n 'sad',\n 'sad',\n 'happy',\n 'happy',\n 'angry',\n 'sad',\n 'angry',\n 'sad',\n 'angry',\n 'angry',\n 'fear',\n 'neutral',\n 'happy',\n 'angry',\n 'sad',\n 'angry',\n 'sad',\n 'sad',\n 'sad',\n 'angry',\n 'angry',\n 'angry',\n 'angry',\n 'angry',\n 'angry',\n 'disgusting',\n 'sad',\n 'sad',\n 'sad',\n 'neutral',\n 'angry',\n 'sad',\n 'angry',\n 'fear',\n 'neutral',\n 'angry',\n 'angry',\n 'neutral',\n 'neutral',\n 'fear',\n 'angry',\n 'sad',\n 'angry',\n 'sad',\n 'neutral',\n 'sad',\n 'angry',\n 'sad',\n 'angry',\n 'surprised',\n 'sad',\n 'sad',\n 'sad',\n 'sad',\n 'sad',\n 'angry',\n 'surprised',\n 'neutral',\n 'sad',\n 'sad',\n 'sad',\n 'sad',\n 'angry',\n 'sad',\n 'fear',\n 'sad',\n 'sad',\n 'sad',\n 'angry',\n 'sad',\n 'sad',\n 'sad',\n 'angry',\n 'neutral',\n 'fear',\n 'angry',\n 'surprised',\n 'sad',\n 'sad',\n 'sad',\n 'sad',\n 'fear',\n 'angry',\n 'fear',\n 'sad',\n 'sad',\n 'sad',\n 'angry',\n 'angry',\n 'sad',\n 'sad',\n 'sad',\n 'sad',\n 'angry',\n 'disgusting',\n 'happy',\n 'sad',\n 'sad',\n 'sad',\n 'neutral',\n 'neutral',\n 'sad',\n 'sad',\n 'angry',\n 'angry',\n 'fear',\n 'happy',\n 'sad',\n 'sad',\n 'disgusting',\n 'angry',\n 'sad',\n 'happy',\n 'sad',\n 'sad',\n 'sad',\n 'sad',\n 'sad',\n 'sad',\n 'happy',\n 'sad',\n 'angry',\n 'happy',\n 'angry',\n 'sad',\n 'sad',\n 'angry',\n 'angry',\n 'angry',\n 'sad',\n 'angry',\n 'angry',\n 'sad',\n 'fear',\n 'happy',\n 'sad',\n 'sad',\n 'angry',\n 'angry',\n 'angry',\n 'angry',\n 'angry',\n 'angry',\n 'neutral',\n 'fear',\n 'sad',\n 'sad',\n 'angry',\n 'fear',\n 'sad',\n 'sad',\n 'sad',\n 'sad',\n 'angry',\n 'angry',\n 'angry',\n 'fear',\n 'sad',\n 'sad',\n 'disgusting',\n 'angry',\n 'sad',\n 'sad',\n 'fear',\n 'angry',\n 'sad',\n 'disgusting',\n 'sad',\n 'sad',\n 'happy',\n 'angry',\n ...]"
     },
     "execution_count": 14,
     "metadata": {},
     "output_type": "execute_result"
    }
   ],
   "source": [
    "label_anxious = []\n",
    "\n",
    "for idx in tqdm(range(len(df_anxious['text'])), desc=\"Labeling\"):\n",
    "    label = predict_sentiment(df_anxious['text'][idx], model)\n",
    "    label_anxious.append(label)\n",
    "\n",
    "label_anxious"
   ],
   "metadata": {
    "collapsed": false,
    "pycharm": {
     "name": "#%%\n"
    }
   }
  },
  {
   "cell_type": "code",
   "execution_count": null,
   "outputs": [],
   "source": [
    "df_anxious['label'] = label_anxious\n",
    "df_anxious[:20]"
   ],
   "metadata": {
    "collapsed": false,
    "pycharm": {
     "name": "#%%\n"
    }
   }
  },
  {
   "cell_type": "markdown",
   "source": [
    "## re labeling"
   ],
   "metadata": {
    "collapsed": false,
    "pycharm": {
     "name": "#%% md\n"
    }
   }
  },
  {
   "cell_type": "markdown",
   "source": [
    "### '불안', '걱정' 이 들어가는 텍스트는 '두려움'으로 레이블링"
   ],
   "metadata": {
    "collapsed": false,
    "pycharm": {
     "name": "#%% md\n"
    }
   }
  },
  {
   "cell_type": "code",
   "execution_count": null,
   "outputs": [],
   "source": [
    "df_anxious['text'][0]"
   ],
   "metadata": {
    "collapsed": false,
    "pycharm": {
     "name": "#%%\n"
    }
   }
  },
  {
   "cell_type": "code",
   "execution_count": null,
   "outputs": [],
   "source": [
    "for idx in tqdm(range(len(df_anxious['text'])), desc=\"Labeling\", mininterval=0.01):\n",
    "    if \"불안\" and \"걱정\" in df_anxious['text'][idx]:\n",
    "        df_anxious['label'][idx] = \"fear\""
   ],
   "metadata": {
    "collapsed": false,
    "pycharm": {
     "name": "#%%\n"
    }
   }
  },
  {
   "cell_type": "code",
   "execution_count": null,
   "outputs": [],
   "source": [
    "df_anxious[2:3]"
   ],
   "metadata": {
    "collapsed": false,
    "pycharm": {
     "name": "#%%\n"
    }
   }
  },
  {
   "cell_type": "markdown",
   "source": [
    "### '행복'으로 레이블링 된 샘플의 레이블을 \"두려움\"으로 레이블링"
   ],
   "metadata": {
    "collapsed": false,
    "pycharm": {
     "name": "#%% md\n"
    }
   }
  },
  {
   "cell_type": "markdown",
   "source": [
    "angry\n",
    "sad\n",
    "fear\n",
    "disgusting\n",
    "neutral\n",
    "happy\n",
    "surprised"
   ],
   "metadata": {
    "collapsed": false,
    "pycharm": {
     "name": "#%% md\n"
    }
   }
  },
  {
   "cell_type": "code",
   "execution_count": null,
   "outputs": [],
   "source": [
    "df_anxious.loc[df_anxious['label'] == 'happiness', 'label'] = 'fear'"
   ],
   "metadata": {
    "collapsed": false,
    "pycharm": {
     "name": "#%%\n"
    }
   }
  },
  {
   "cell_type": "code",
   "execution_count": null,
   "outputs": [],
   "source": [
    "df_anxious['label'].unique()"
   ],
   "metadata": {
    "collapsed": false,
    "pycharm": {
     "name": "#%%\n"
    }
   }
  },
  {
   "cell_type": "markdown",
   "source": [
    "## Save data"
   ],
   "metadata": {
    "collapsed": false,
    "pycharm": {
     "name": "#%% md\n"
    }
   }
  },
  {
   "cell_type": "code",
   "execution_count": null,
   "outputs": [],
   "source": [
    "df_anxious.to_csv(SAVE_DIR+'/relabel_anxious.csv', encoding='utf-8-sig', index=False)"
   ],
   "metadata": {
    "collapsed": false,
    "pycharm": {
     "name": "#%%\n"
    }
   }
  }
 ],
 "metadata": {
  "kernelspec": {
   "display_name": "Python 3",
   "language": "python",
   "name": "python3"
  },
  "language_info": {
   "codemirror_mode": {
    "name": "ipython",
    "version": 2
   },
   "file_extension": ".py",
   "mimetype": "text/x-python",
   "name": "python",
   "nbconvert_exporter": "python",
   "pygments_lexer": "ipython2",
   "version": "2.7.6"
  }
 },
 "nbformat": 4,
 "nbformat_minor": 0
}
{
 "cells": [
  {
   "cell_type": "markdown",
   "source": [
    "# Hurt labeling"
   ],
   "metadata": {
    "collapsed": false,
    "pycharm": {
     "name": "#%% md\n"
    }
   }
  },
  {
   "cell_type": "markdown",
   "source": [
    "## Import Library"
   ],
   "metadata": {
    "collapsed": false,
    "pycharm": {
     "name": "#%% md\n"
    }
   }
  },
  {
   "cell_type": "code",
   "execution_count": 1,
   "outputs": [],
   "source": [
    "import os\n",
    "import pickle\n",
    "\n",
    "import pandas as pd\n",
    "import re\n",
    "\n",
    "from konlpy.tag import Komoran, Okt\n",
    "\n",
    "from tensorflow.keras.preprocessing.sequence import pad_sequences\n",
    "from tensorflow.keras.models import load_model\n",
    "\n",
    "from tqdm import tqdm"
   ],
   "metadata": {
    "collapsed": false,
    "pycharm": {
     "name": "#%%\n"
    }
   }
  },
  {
   "cell_type": "markdown",
   "source": [
    "## Hyper_parameters"
   ],
   "metadata": {
    "collapsed": false,
    "pycharm": {
     "name": "#%% md\n"
    }
   }
  },
  {
   "cell_type": "code",
   "execution_count": 2,
   "outputs": [],
   "source": [
    "# Colab\n",
    "# DATA_DIR = '/content/drive/MyDrive/Colab Notebooks/miso'\n",
    "\n",
    "# Local\n",
    "DATA_DIR = '/Users/inseoklee/Desktop/miso/data'\n",
    "SAVE_DIR = '/Users/inseoklee/Desktop/miso/data'\n",
    "LOAD_DIR = '/Users/inseoklee/Desktop/miso/model/CNN'\n",
    "\n",
    "# MAX_LEN -> 패딩 단계에서 설정"
   ],
   "metadata": {
    "collapsed": false,
    "pycharm": {
     "name": "#%%\n"
    }
   }
  },
  {
   "cell_type": "markdown",
   "source": [
    "## Load Data"
   ],
   "metadata": {
    "collapsed": false,
    "pycharm": {
     "name": "#%% md\n"
    }
   }
  },
  {
   "cell_type": "code",
   "execution_count": 3,
   "outputs": [],
   "source": [
    "df_hurt = pd.read_csv(DATA_DIR + '/label_hurt.csv')"
   ],
   "metadata": {
    "collapsed": false,
    "pycharm": {
     "name": "#%%\n"
    }
   }
  },
  {
   "cell_type": "code",
   "execution_count": 4,
   "outputs": [
    {
     "name": "stdout",
     "output_type": "stream",
     "text": [
      "<class 'pandas.core.frame.DataFrame'>\n",
      "RangeIndex: 14258 entries, 0 to 14257\n",
      "Data columns (total 2 columns):\n",
      " #   Column  Non-Null Count  Dtype \n",
      "---  ------  --------------  ----- \n",
      " 0   text    14258 non-null  object\n",
      " 1   label   14258 non-null  object\n",
      "dtypes: object(2)\n",
      "memory usage: 222.9+ KB\n"
     ]
    }
   ],
   "source": [
    "df_hurt.info()"
   ],
   "metadata": {
    "collapsed": false,
    "pycharm": {
     "name": "#%%\n"
    }
   }
  },
  {
   "cell_type": "markdown",
   "source": [
    "## Tokenize"
   ],
   "metadata": {
    "collapsed": false,
    "pycharm": {
     "name": "#%% md\n"
    }
   }
  },
  {
   "cell_type": "code",
   "execution_count": 5,
   "outputs": [],
   "source": [
    "def preprocessing(text, okt, remove_stopwords=False, stop_words=[]):\n",
    "    # 함수의 인자는 다음과 같다.\n",
    "    # text: 전처리할 텍스트\n",
    "    # okt: okt객체를 반복적으로 생성하지 않고 미리 생성한 후 인자로 받는다.\n",
    "    # remove_stopwords: 불용어를 제거할지 여부 선택. 기본값은 False\n",
    "    # stop_words: 불용어 사전은 사용자가 직접 입력.\n",
    "\n",
    "    # 1. 한글 및 공백을 제외한 문자를 모두 제거\n",
    "    text = re.sub(\"[^가-힣ㄱ-ㅎㅏ-ㅣ\\\\s]\", \"\", text)\n",
    "\n",
    "    # 2. okt 객체를 활용하여 형태소 단위로 나눈다\n",
    "    word_text = okt.morphs(text, stem=True)\n",
    "\n",
    "    if remove_stopwords:\n",
    "        word_text = [token for token in word_text if (not token in stop_words)] #and len(token) > 1]\n",
    "\n",
    "    return word_text"
   ],
   "metadata": {
    "collapsed": false,
    "pycharm": {
     "name": "#%%\n"
    }
   }
  },
  {
   "cell_type": "code",
   "execution_count": 6,
   "outputs": [
    {
     "name": "stdout",
     "output_type": "stream",
     "text": [
      "[0.003s][warning][os,thread] Attempt to protect stack guard pages failed (0x000000016b268000-0x000000016b274000).\n",
      "[0.003s][warning][os,thread] Attempt to deallocate stack guard pages failed.\n"
     ]
    }
   ],
   "source": [
    "stop_words = set(['은', '는', '이', '가', '하', '아', '것', '들', '의', '있', '되', '수', '보', '주', '등', '한'])\n",
    "okt = Okt()"
   ],
   "metadata": {
    "collapsed": false,
    "pycharm": {
     "name": "#%%\n"
    }
   }
  },
  {
   "cell_type": "markdown",
   "source": [
    "## Load Model and Tokenizer"
   ],
   "metadata": {
    "collapsed": false,
    "pycharm": {
     "name": "#%% md\n"
    }
   }
  },
  {
   "cell_type": "code",
   "execution_count": 7,
   "outputs": [
    {
     "name": "stdout",
     "output_type": "stream",
     "text": [
      "Metal device set to: Apple M1\n"
     ]
    },
    {
     "name": "stderr",
     "output_type": "stream",
     "text": [
      "2022-07-13 16:40:40.665081: I tensorflow/core/common_runtime/pluggable_device/pluggable_device_factory.cc:305] Could not identify NUMA node of platform GPU ID 0, defaulting to 0. Your kernel may not have been built with NUMA support.\n",
      "2022-07-13 16:40:40.665171: I tensorflow/core/common_runtime/pluggable_device/pluggable_device_factory.cc:271] Created TensorFlow device (/job:localhost/replica:0/task:0/device:GPU:0 with 0 MB memory) -> physical PluggableDevice (device: 0, name: METAL, pci bus id: <undefined>)\n"
     ]
    }
   ],
   "source": [
    "def load_tokenizer(path):\n",
    "    with open(path, 'rb') as f:\n",
    "        tokenizer = pickle.load(f)\n",
    "    return tokenizer\n",
    "\n",
    "model_name = 'trained_model.h5'\n",
    "tokenizer_name = 'tokenizer.pickle'\n",
    "model_path = os.path.join(LOAD_DIR, model_name)\n",
    "tokenizer_path = os.path.join(LOAD_DIR, tokenizer_name)\n",
    "\n",
    "model = load_model(model_path)\n",
    "tokenizer = load_tokenizer(tokenizer_path)"
   ],
   "metadata": {
    "collapsed": false,
    "pycharm": {
     "name": "#%%\n"
    }
   }
  },
  {
   "cell_type": "markdown",
   "source": [
    "## Labeling"
   ],
   "metadata": {
    "collapsed": false,
    "pycharm": {
     "name": "#%% md\n"
    }
   }
  },
  {
   "cell_type": "code",
   "execution_count": 8,
   "outputs": [],
   "source": [
    "def getResult(predict):\n",
    "    highest = 0\n",
    "    highestIdx = 0\n",
    "    for x in range (0,len(predict)) :\n",
    "        if(predict[x] > highest) :\n",
    "            highestIdx = x\n",
    "            highest =predict[x]\n",
    "    return highestIdx"
   ],
   "metadata": {
    "collapsed": false,
    "pycharm": {
     "name": "#%%\n"
    }
   }
  },
  {
   "cell_type": "markdown",
   "source": [
    "angry\n",
    "sad\n",
    "fear\n",
    "disgusting\n",
    "neutral\n",
    "happy\n",
    "surprised"
   ],
   "metadata": {
    "collapsed": false,
    "pycharm": {
     "name": "#%% md\n"
    }
   }
  },
  {
   "cell_type": "code",
   "execution_count": 9,
   "outputs": [],
   "source": [
    "def predict_sentiment(text, model):\n",
    "    tokens = []\n",
    "    if type(text) == str:\n",
    "        tokens.append(preprocessing(text, okt, remove_stopwords=True, stop_words=stop_words))\n",
    "    else:\n",
    "        tokens.append([]) #string이 아니면 비어있는 값 추가\n",
    "    token_sequences = tokenizer.texts_to_sequences(tokens)\n",
    "    if(len(token_sequences) == 0) :\n",
    "        return \"너무 짧아\"\n",
    "    padded_sequences = pad_sequences(token_sequences, maxlen=15)\n",
    "    predict = model.predict(padded_sequences, verbose=0)\n",
    "    # print(predict)\n",
    "    result = getResult(predict[0])\n",
    "    if result == 0 :\n",
    "        return 'angry'\n",
    "    elif result == 1 :\n",
    "        return 'sad'\n",
    "    elif result == 2 :\n",
    "        return 'fear'\n",
    "    elif result == 3 :\n",
    "        return 'disgusting'\n",
    "    elif result == 4 :\n",
    "        return 'neutral'\n",
    "    elif result == 5 :\n",
    "        return 'happy'\n",
    "    elif result == 6 :\n",
    "        return 'surprised'"
   ],
   "metadata": {
    "collapsed": false,
    "pycharm": {
     "name": "#%%\n"
    }
   }
  },
  {
   "cell_type": "code",
   "execution_count": 10,
   "outputs": [
    {
     "name": "stderr",
     "output_type": "stream",
     "text": [
      "Labeling:   0%|          | 0/14258 [00:00<?, ?it/s]2022-07-13 16:40:42.884406: W tensorflow/core/platform/profile_utils/cpu_utils.cc:128] Failed to get CPU frequency: 0 Hz\n",
      "2022-07-13 16:40:42.925234: I tensorflow/core/grappler/optimizers/custom_graph_optimizer_registry.cc:113] Plugin optimizer for device_type GPU is enabled.\n",
      "Labeling: 100%|██████████| 14258/14258 [06:06<00:00, 38.86it/s]\n"
     ]
    }
   ],
   "source": [
    "label_hurt = []\n",
    "\n",
    "for idx in tqdm(range(len(df_hurt['text'])), desc=\"Labeling\", mininterval=0.01):\n",
    "    label = predict_sentiment(df_hurt['text'][idx], model)\n",
    "    label_hurt.append(label)"
   ],
   "metadata": {
    "collapsed": false,
    "pycharm": {
     "name": "#%%\n"
    }
   }
  },
  {
   "cell_type": "code",
   "execution_count": 11,
   "outputs": [
    {
     "data": {
      "text/plain": "                                                 text       label\n0   새로 간 치과에서 조금 썩기만 한 이를 임플란트를 하라고 했어. 과잉진료는 안 한다더니.  disgusting\n1         부인이 건강검진 결과가 나왔는데 건강 상태가 좋질 않아 충격을 받은 모양이야.     neutral\n2                                  나 병원에 가 봐야 할 것 같아.         sad\n3           아들 녀석이 학원을 제대로 다니는가 싶었는데 그게 아니었어. 정말 속상해.         sad\n4           치과의 과잉 진료로 안 해도 되는 임플란트까지 하게 되어 큰돈을 지불했어.         sad\n5                  산책하던 중에 갑자기 자전거가 튀어나와 팔목이 부러졌지 뭐야.         sad\n6                              시댁에 가면 의지할 사람이 아무도 없어.         sad\n7                      병을 앓으면서 친하게 지내던 동호회 사람들과 멀어졌어.       angry\n8        딸이 또 공무원 시험에 떨어졌대. 애쓰는 걸 지켜봐서 그런지 내 마음도 괴롭네.         sad\n9                 진짜 공부 못하던 친구가 우리 회사에 합격했대. 너무 배 아파.         sad\n10                        이번에는 최종 합격했다고 생각했는데 또 떨어졌어.         sad\n11                              나한테 오늘 위암 말기 판정이 나왔어.       angry\n12               친구가 재혼했는데 엄청 연하에 잘 생겼더라고. 질투가 다 나더라.       happy\n13            친한 사람을 믿고 돈을 빌려줬는데 그 사람이 안 갚고 있어서 답답하네.         sad\n14              친구들이 여행을 가자고 했지만 가난한 탓에 거절했고 상처를 받았어.       happy\n15                 부모님의 지갑을 보고 나니 체험학습 비 달라는 말을 못하겠어.         sad\n16  내가 은퇴하면 같이 일자리를 알아보겠다던 아내는 작년에 교통사고로 죽어서 약속을 지...       angry\n17               내 친구들은 다 직장이 있는데 나만 구하지 못해서 열등감이 들어.       angry\n18           직장에서 무급 휴가를 가라고 해서 충격받았어. 회사 사정이 안 좋아졌대.       angry\n19           나에게 오백만 원을 빌려간 김 영감은 십 년이 지나도록 갚지 않고 있어.         sad",
      "text/html": "<div>\n<style scoped>\n    .dataframe tbody tr th:only-of-type {\n        vertical-align: middle;\n    }\n\n    .dataframe tbody tr th {\n        vertical-align: top;\n    }\n\n    .dataframe thead th {\n        text-align: right;\n    }\n</style>\n<table border=\"1\" class=\"dataframe\">\n  <thead>\n    <tr style=\"text-align: right;\">\n      <th></th>\n      <th>text</th>\n      <th>label</th>\n    </tr>\n  </thead>\n  <tbody>\n    <tr>\n      <th>0</th>\n      <td>새로 간 치과에서 조금 썩기만 한 이를 임플란트를 하라고 했어. 과잉진료는 안 한다더니.</td>\n      <td>disgusting</td>\n    </tr>\n    <tr>\n      <th>1</th>\n      <td>부인이 건강검진 결과가 나왔는데 건강 상태가 좋질 않아 충격을 받은 모양이야.</td>\n      <td>neutral</td>\n    </tr>\n    <tr>\n      <th>2</th>\n      <td>나 병원에 가 봐야 할 것 같아.</td>\n      <td>sad</td>\n    </tr>\n    <tr>\n      <th>3</th>\n      <td>아들 녀석이 학원을 제대로 다니는가 싶었는데 그게 아니었어. 정말 속상해.</td>\n      <td>sad</td>\n    </tr>\n    <tr>\n      <th>4</th>\n      <td>치과의 과잉 진료로 안 해도 되는 임플란트까지 하게 되어 큰돈을 지불했어.</td>\n      <td>sad</td>\n    </tr>\n    <tr>\n      <th>5</th>\n      <td>산책하던 중에 갑자기 자전거가 튀어나와 팔목이 부러졌지 뭐야.</td>\n      <td>sad</td>\n    </tr>\n    <tr>\n      <th>6</th>\n      <td>시댁에 가면 의지할 사람이 아무도 없어.</td>\n      <td>sad</td>\n    </tr>\n    <tr>\n      <th>7</th>\n      <td>병을 앓으면서 친하게 지내던 동호회 사람들과 멀어졌어.</td>\n      <td>angry</td>\n    </tr>\n    <tr>\n      <th>8</th>\n      <td>딸이 또 공무원 시험에 떨어졌대. 애쓰는 걸 지켜봐서 그런지 내 마음도 괴롭네.</td>\n      <td>sad</td>\n    </tr>\n    <tr>\n      <th>9</th>\n      <td>진짜 공부 못하던 친구가 우리 회사에 합격했대. 너무 배 아파.</td>\n      <td>sad</td>\n    </tr>\n    <tr>\n      <th>10</th>\n      <td>이번에는 최종 합격했다고 생각했는데 또 떨어졌어.</td>\n      <td>sad</td>\n    </tr>\n    <tr>\n      <th>11</th>\n      <td>나한테 오늘 위암 말기 판정이 나왔어.</td>\n      <td>angry</td>\n    </tr>\n    <tr>\n      <th>12</th>\n      <td>친구가 재혼했는데 엄청 연하에 잘 생겼더라고. 질투가 다 나더라.</td>\n      <td>happy</td>\n    </tr>\n    <tr>\n      <th>13</th>\n      <td>친한 사람을 믿고 돈을 빌려줬는데 그 사람이 안 갚고 있어서 답답하네.</td>\n      <td>sad</td>\n    </tr>\n    <tr>\n      <th>14</th>\n      <td>친구들이 여행을 가자고 했지만 가난한 탓에 거절했고 상처를 받았어.</td>\n      <td>happy</td>\n    </tr>\n    <tr>\n      <th>15</th>\n      <td>부모님의 지갑을 보고 나니 체험학습 비 달라는 말을 못하겠어.</td>\n      <td>sad</td>\n    </tr>\n    <tr>\n      <th>16</th>\n      <td>내가 은퇴하면 같이 일자리를 알아보겠다던 아내는 작년에 교통사고로 죽어서 약속을 지...</td>\n      <td>angry</td>\n    </tr>\n    <tr>\n      <th>17</th>\n      <td>내 친구들은 다 직장이 있는데 나만 구하지 못해서 열등감이 들어.</td>\n      <td>angry</td>\n    </tr>\n    <tr>\n      <th>18</th>\n      <td>직장에서 무급 휴가를 가라고 해서 충격받았어. 회사 사정이 안 좋아졌대.</td>\n      <td>angry</td>\n    </tr>\n    <tr>\n      <th>19</th>\n      <td>나에게 오백만 원을 빌려간 김 영감은 십 년이 지나도록 갚지 않고 있어.</td>\n      <td>sad</td>\n    </tr>\n  </tbody>\n</table>\n</div>"
     },
     "execution_count": 11,
     "metadata": {},
     "output_type": "execute_result"
    }
   ],
   "source": [
    "df_hurt['label'] = label_hurt\n",
    "df_hurt[:20]"
   ],
   "metadata": {
    "collapsed": false,
    "pycharm": {
     "name": "#%%\n"
    }
   }
  },
  {
   "cell_type": "markdown",
   "source": [
    "### Re labeling"
   ],
   "metadata": {
    "collapsed": false,
    "pycharm": {
     "name": "#%% md\n"
    }
   }
  },
  {
   "cell_type": "code",
   "execution_count": 12,
   "outputs": [],
   "source": [
    "df_hurt.drop(df_hurt[df_hurt['label'] == 'happy'].index, inplace=True)"
   ],
   "metadata": {
    "collapsed": false,
    "pycharm": {
     "name": "#%%\n"
    }
   }
  },
  {
   "cell_type": "code",
   "execution_count": 13,
   "outputs": [
    {
     "data": {
      "text/plain": "array(['disgusting', 'neutral', 'sad', 'angry', 'fear', 'surprised'],\n      dtype=object)"
     },
     "execution_count": 13,
     "metadata": {},
     "output_type": "execute_result"
    }
   ],
   "source": [
    "df_hurt['label'].unique()"
   ],
   "metadata": {
    "collapsed": false,
    "pycharm": {
     "name": "#%%\n"
    }
   }
  },
  {
   "cell_type": "markdown",
   "source": [
    "## Save data"
   ],
   "metadata": {
    "collapsed": false,
    "pycharm": {
     "name": "#%% md\n"
    }
   }
  },
  {
   "cell_type": "code",
   "execution_count": 14,
   "outputs": [],
   "source": [
    "df_hurt.to_csv(SAVE_DIR+'/relabel_hurt.csv', encoding='utf-8-sig', index=False)"
   ],
   "metadata": {
    "collapsed": false,
    "pycharm": {
     "name": "#%%\n"
    }
   }
  }
 ],
 "metadata": {
  "kernelspec": {
   "display_name": "Python 3",
   "language": "python",
   "name": "python3"
  },
  "language_info": {
   "codemirror_mode": {
    "name": "ipython",
    "version": 2
   },
   "file_extension": ".py",
   "mimetype": "text/x-python",
   "name": "python",
   "nbconvert_exporter": "python",
   "pygments_lexer": "ipython2",
   "version": "2.7.6"
  }
 },
 "nbformat": 4,
 "nbformat_minor": 0
}
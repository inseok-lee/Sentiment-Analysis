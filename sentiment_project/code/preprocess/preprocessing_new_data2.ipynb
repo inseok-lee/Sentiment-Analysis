{
 "cells": [
  {
   "cell_type": "markdown",
   "source": [
    "# New Data Preprocessing"
   ],
   "metadata": {
    "collapsed": false,
    "pycharm": {
     "name": "#%% md\n"
    }
   }
  },
  {
   "cell_type": "markdown",
   "source": [
    "## Import"
   ],
   "metadata": {
    "collapsed": false,
    "pycharm": {
     "name": "#%% md\n"
    }
   }
  },
  {
   "cell_type": "code",
   "execution_count": 1,
   "outputs": [],
   "source": [
    "import pandas as pd"
   ],
   "metadata": {
    "collapsed": false,
    "pycharm": {
     "name": "#%%\n"
    }
   }
  },
  {
   "cell_type": "markdown",
   "source": [
    "## Hyper Parameter"
   ],
   "metadata": {
    "collapsed": false,
    "pycharm": {
     "name": "#%% md\n"
    }
   }
  },
  {
   "cell_type": "code",
   "execution_count": 4,
   "outputs": [],
   "source": [
    "# Local\n",
    "DATA_DIR = '/Users/inseoklee/Desktop/miso/data/aihub_sentiment'\n",
    "SAVE_DIR = '/Users/inseoklee/Desktop/miso/data'"
   ],
   "metadata": {
    "collapsed": false,
    "pycharm": {
     "name": "#%%\n"
    }
   }
  },
  {
   "cell_type": "markdown",
   "source": [
    "## Load Data"
   ],
   "metadata": {
    "collapsed": false,
    "pycharm": {
     "name": "#%% md\n"
    }
   }
  },
  {
   "cell_type": "code",
   "execution_count": 5,
   "outputs": [],
   "source": [
    "df6 = pd.read_excel(DATA_DIR+'/senti_training.xlsx')\n",
    "df7 = pd.read_excel(DATA_DIR+'/senti_validation.xlsx')"
   ],
   "metadata": {
    "collapsed": false,
    "pycharm": {
     "name": "#%%\n"
    }
   }
  },
  {
   "cell_type": "code",
   "execution_count": 25,
   "outputs": [
    {
     "data": {
      "text/plain": "(46009, 15)"
     },
     "execution_count": 25,
     "metadata": {},
     "output_type": "execute_result"
    }
   ],
   "source": [
    "df = pd.concat([df6, df7], ignore_index=True)\n",
    "df.shape"
   ],
   "metadata": {
    "collapsed": false,
    "pycharm": {
     "name": "#%%\n"
    }
   }
  },
  {
   "cell_type": "code",
   "execution_count": 26,
   "outputs": [
    {
     "data": {
      "text/plain": "      번호  연령  성별       상황키워드  신체질환 감정_대분류 감정_소분류                      사람문장1  \\\n0  44164  청년  남성  연애, 결혼, 출산  해당없음     기쁨   신이 난  아내가 드디어 출산하게 되어서 정말 신이 나.   \n\n                      시스템응답1          사람문장2     시스템응답2  \\\n0  아내분이 출산을 하시는군요. 정말 축하드려요.  아 지금 정말 신이 나.  잘 된 일이네요.   \n\n                                사람문장3                        시스템응답3 사람문장4  \\\n0  아기가 점점 클게 벌써 기대가 되네. 내가 많이 놀아줘야지.   좋은 아빠가 되실 거 같아요. 진심으로 축하드려요.   NaN   \n\n  시스템응답4  \n0    NaN  ",
      "text/html": "<div>\n<style scoped>\n    .dataframe tbody tr th:only-of-type {\n        vertical-align: middle;\n    }\n\n    .dataframe tbody tr th {\n        vertical-align: top;\n    }\n\n    .dataframe thead th {\n        text-align: right;\n    }\n</style>\n<table border=\"1\" class=\"dataframe\">\n  <thead>\n    <tr style=\"text-align: right;\">\n      <th></th>\n      <th>번호</th>\n      <th>연령</th>\n      <th>성별</th>\n      <th>상황키워드</th>\n      <th>신체질환</th>\n      <th>감정_대분류</th>\n      <th>감정_소분류</th>\n      <th>사람문장1</th>\n      <th>시스템응답1</th>\n      <th>사람문장2</th>\n      <th>시스템응답2</th>\n      <th>사람문장3</th>\n      <th>시스템응답3</th>\n      <th>사람문장4</th>\n      <th>시스템응답4</th>\n    </tr>\n  </thead>\n  <tbody>\n    <tr>\n      <th>0</th>\n      <td>44164</td>\n      <td>청년</td>\n      <td>남성</td>\n      <td>연애, 결혼, 출산</td>\n      <td>해당없음</td>\n      <td>기쁨</td>\n      <td>신이 난</td>\n      <td>아내가 드디어 출산하게 되어서 정말 신이 나.</td>\n      <td>아내분이 출산을 하시는군요. 정말 축하드려요.</td>\n      <td>아 지금 정말 신이 나.</td>\n      <td>잘 된 일이네요.</td>\n      <td>아기가 점점 클게 벌써 기대가 되네. 내가 많이 놀아줘야지.</td>\n      <td>좋은 아빠가 되실 거 같아요. 진심으로 축하드려요.</td>\n      <td>NaN</td>\n      <td>NaN</td>\n    </tr>\n  </tbody>\n</table>\n</div>"
     },
     "execution_count": 26,
     "metadata": {},
     "output_type": "execute_result"
    }
   ],
   "source": [
    "df[:1]"
   ],
   "metadata": {
    "collapsed": false,
    "pycharm": {
     "name": "#%%\n"
    }
   }
  },
  {
   "cell_type": "markdown",
   "source": [
    "## Data PreProcessing"
   ],
   "metadata": {
    "collapsed": false,
    "pycharm": {
     "name": "#%% md\n"
    }
   }
  },
  {
   "cell_type": "markdown",
   "source": [
    "### remove unnecessary columns"
   ],
   "metadata": {
    "collapsed": false,
    "pycharm": {
     "name": "#%% md\n"
    }
   }
  },
  {
   "cell_type": "code",
   "execution_count": 27,
   "outputs": [],
   "source": [
    "try:\n",
    "    df['text'] = df['사람문장1']\n",
    "    df['label'] = df['감정_대분류']\n",
    "    df = df[['text', 'label']]\n",
    "except:\n",
    "    print(\"Already Preprocessed\")"
   ],
   "metadata": {
    "collapsed": false,
    "pycharm": {
     "name": "#%%\n"
    }
   }
  },
  {
   "cell_type": "code",
   "execution_count": 28,
   "outputs": [
    {
     "data": {
      "text/plain": "                                            text label\n0                      아내가 드디어 출산하게 되어서 정말 신이 나.    기쁨\n1        당뇨랑 합병증 때문에 먹어야 할 약이 열 가지가 넘어가니까 스트레스야.    불안\n2        고등학교에 올라오니 중학교 때보다 수업이 갑자기 어려워져서 당황스러워.    당황\n3  재취업이 돼서 받게 된 첫 월급으로 온 가족이 외식을 할 예정이야. 너무 행복해.    기쁨\n4                   빚을 드디어 다 갚게 되어서 이제야 안도감이 들어.    기쁨",
      "text/html": "<div>\n<style scoped>\n    .dataframe tbody tr th:only-of-type {\n        vertical-align: middle;\n    }\n\n    .dataframe tbody tr th {\n        vertical-align: top;\n    }\n\n    .dataframe thead th {\n        text-align: right;\n    }\n</style>\n<table border=\"1\" class=\"dataframe\">\n  <thead>\n    <tr style=\"text-align: right;\">\n      <th></th>\n      <th>text</th>\n      <th>label</th>\n    </tr>\n  </thead>\n  <tbody>\n    <tr>\n      <th>0</th>\n      <td>아내가 드디어 출산하게 되어서 정말 신이 나.</td>\n      <td>기쁨</td>\n    </tr>\n    <tr>\n      <th>1</th>\n      <td>당뇨랑 합병증 때문에 먹어야 할 약이 열 가지가 넘어가니까 스트레스야.</td>\n      <td>불안</td>\n    </tr>\n    <tr>\n      <th>2</th>\n      <td>고등학교에 올라오니 중학교 때보다 수업이 갑자기 어려워져서 당황스러워.</td>\n      <td>당황</td>\n    </tr>\n    <tr>\n      <th>3</th>\n      <td>재취업이 돼서 받게 된 첫 월급으로 온 가족이 외식을 할 예정이야. 너무 행복해.</td>\n      <td>기쁨</td>\n    </tr>\n    <tr>\n      <th>4</th>\n      <td>빚을 드디어 다 갚게 되어서 이제야 안도감이 들어.</td>\n      <td>기쁨</td>\n    </tr>\n  </tbody>\n</table>\n</div>"
     },
     "execution_count": 28,
     "metadata": {},
     "output_type": "execute_result"
    }
   ],
   "source": [
    "df[:5]"
   ],
   "metadata": {
    "collapsed": false,
    "pycharm": {
     "name": "#%%\n"
    }
   }
  },
  {
   "cell_type": "markdown",
   "source": [
    "### Drop duplicates"
   ],
   "metadata": {
    "collapsed": false,
    "pycharm": {
     "name": "#%% md\n"
    }
   }
  },
  {
   "cell_type": "code",
   "execution_count": 31,
   "outputs": [
    {
     "name": "stdout",
     "output_type": "stream",
     "text": [
      "44172 44172\n"
     ]
    }
   ],
   "source": [
    "print(len(df), df['text'].nunique())"
   ],
   "metadata": {
    "collapsed": false,
    "pycharm": {
     "name": "#%%\n"
    }
   }
  },
  {
   "cell_type": "code",
   "execution_count": 32,
   "outputs": [],
   "source": [
    "df.drop_duplicates(subset=['text'], inplace=True)"
   ],
   "metadata": {
    "collapsed": false,
    "pycharm": {
     "name": "#%%\n"
    }
   }
  },
  {
   "cell_type": "markdown",
   "source": [
    "### Remove missing value"
   ],
   "metadata": {
    "collapsed": false,
    "pycharm": {
     "name": "#%% md\n"
    }
   }
  },
  {
   "cell_type": "code",
   "execution_count": 33,
   "outputs": [
    {
     "data": {
      "text/plain": "array(['기쁨', '불안', '당황', '슬픔', '분노', '상처', '불안 ', '기쁨 ', 's'],\n      dtype=object)"
     },
     "execution_count": 33,
     "metadata": {},
     "output_type": "execute_result"
    }
   ],
   "source": [
    "df['label'].unique()"
   ],
   "metadata": {
    "collapsed": false,
    "pycharm": {
     "name": "#%%\n"
    }
   }
  },
  {
   "cell_type": "code",
   "execution_count": 34,
   "outputs": [],
   "source": [
    "df.drop(df[df['label'] == 's'].index, inplace=True)"
   ],
   "metadata": {
    "collapsed": false,
    "pycharm": {
     "name": "#%%\n"
    }
   }
  },
  {
   "cell_type": "code",
   "execution_count": 35,
   "outputs": [
    {
     "data": {
      "text/plain": "array(['기쁨', '불안', '당황', '슬픔', '분노', '상처', '불안 ', '기쁨 '], dtype=object)"
     },
     "execution_count": 35,
     "metadata": {},
     "output_type": "execute_result"
    }
   ],
   "source": [
    "df['label'].unique()"
   ],
   "metadata": {
    "collapsed": false,
    "pycharm": {
     "name": "#%%\n"
    }
   }
  },
  {
   "cell_type": "markdown",
   "source": [
    "### Labeling"
   ],
   "metadata": {
    "collapsed": false,
    "pycharm": {
     "name": "#%% md\n"
    }
   }
  },
  {
   "cell_type": "code",
   "execution_count": 36,
   "outputs": [],
   "source": [
    "emo_dic = {\n",
    "    '기쁨': 'happy', '기쁨 ': 'happy', '불안': 'anxious', '불안 ': 'anxious', '당황': 'embarrassed', '슬픔': 'sad', '분노': 'angry', '상처': 'hurt'\n",
    "}"
   ],
   "metadata": {
    "collapsed": false,
    "pycharm": {
     "name": "#%%\n"
    }
   }
  },
  {
   "cell_type": "code",
   "execution_count": 37,
   "outputs": [
    {
     "data": {
      "text/plain": "array(['happy', 'anxious', 'embarrassed', 'sad', 'angry', 'hurt'],\n      dtype=object)"
     },
     "execution_count": 37,
     "metadata": {},
     "output_type": "execute_result"
    }
   ],
   "source": [
    "df['label'] = df['label'].replace(emo_dic)\n",
    "df['label'].unique()"
   ],
   "metadata": {
    "collapsed": false,
    "pycharm": {
     "name": "#%%\n"
    }
   }
  },
  {
   "cell_type": "markdown",
   "source": [
    "## Save Data"
   ],
   "metadata": {
    "collapsed": false,
    "pycharm": {
     "name": "#%% md\n"
    }
   }
  },
  {
   "cell_type": "code",
   "execution_count": 38,
   "outputs": [],
   "source": [
    "df.to_csv(SAVE_DIR + '/new_processed_sentiment2.csv', encoding=\"utf-8-sig\", index=False)"
   ],
   "metadata": {
    "collapsed": false,
    "pycharm": {
     "name": "#%%\n"
    }
   }
  },
  {
   "cell_type": "code",
   "execution_count": null,
   "outputs": [],
   "source": [],
   "metadata": {
    "collapsed": false,
    "pycharm": {
     "name": "#%%\n"
    }
   }
  }
 ],
 "metadata": {
  "kernelspec": {
   "display_name": "Python 3",
   "language": "python",
   "name": "python3"
  },
  "language_info": {
   "codemirror_mode": {
    "name": "ipython",
    "version": 2
   },
   "file_extension": ".py",
   "mimetype": "text/x-python",
   "name": "python",
   "nbconvert_exporter": "python",
   "pygments_lexer": "ipython2",
   "version": "2.7.6"
  }
 },
 "nbformat": 4,
 "nbformat_minor": 0
}
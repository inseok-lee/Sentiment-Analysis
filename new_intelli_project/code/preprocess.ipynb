{
 "cells": [
  {
   "cell_type": "markdown",
   "source": [
    "# Preprocess"
   ],
   "metadata": {
    "collapsed": false,
    "pycharm": {
     "name": "#%% md\n"
    }
   }
  },
  {
   "cell_type": "markdown",
   "source": [
    "\n",
    "## Mount Google Drive"
   ],
   "metadata": {
    "collapsed": false,
    "pycharm": {
     "name": "#%% md\n"
    }
   }
  },
  {
   "cell_type": "code",
   "execution_count": 1,
   "outputs": [],
   "source": [
    "# Colab 사용시\n",
    "# from google.colab import drive\n",
    "# drive.mount('/content/drive')"
   ],
   "metadata": {
    "collapsed": false,
    "pycharm": {
     "name": "#%%\n"
    }
   }
  },
  {
   "cell_type": "markdown",
   "source": [
    "## Import Library"
   ],
   "metadata": {
    "collapsed": false,
    "pycharm": {
     "name": "#%% md\n"
    }
   }
  },
  {
   "cell_type": "code",
   "execution_count": 2,
   "outputs": [
    {
     "name": "stdout",
     "output_type": "stream",
     "text": [
      "Hangul font is set!\n"
     ]
    },
    {
     "name": "stderr",
     "output_type": "stream",
     "text": [
      "/opt/miniconda3/envs/intelli/lib/python3.10/site-packages/scipy/__init__.py:146: UserWarning: A NumPy version >=1.16.5 and <1.23.0 is required for this version of SciPy (detected version 1.23.1\n",
      "  warnings.warn(f\"A NumPy version >={np_minversion} and <{np_maxversion}\"\n"
     ]
    }
   ],
   "source": [
    "import pandas as pd\n",
    "import matplotlib.pyplot as plt\n",
    "import hangul_font\n",
    "%matplotlib inline\n",
    "\n",
    "from sklearn.model_selection import train_test_split"
   ],
   "metadata": {
    "collapsed": false,
    "pycharm": {
     "name": "#%%\n"
    }
   }
  },
  {
   "cell_type": "markdown",
   "source": [
    "## Hyper Parameter"
   ],
   "metadata": {
    "collapsed": false,
    "pycharm": {
     "name": "#%% md\n"
    }
   }
  },
  {
   "cell_type": "code",
   "execution_count": 3,
   "outputs": [],
   "source": [
    "# Colab\n",
    "# DATA_DIR = '/content/drive/MyDrive/miso/intelli/data/'\n",
    "# SAVE_DIR = '/content/drive/MyDrive/miso/intelli/data/'\n",
    "\n",
    "# Local\n",
    "DATA_DIR = '/Users/inseoklee/Desktop/miso/new_intelli/data/'\n",
    "SAVE_DIR = '/Users/inseoklee/Desktop/miso/new_intelli/data/'"
   ],
   "metadata": {
    "collapsed": false,
    "pycharm": {
     "name": "#%%\n"
    }
   }
  },
  {
   "cell_type": "markdown",
   "source": [
    "## Load Data"
   ],
   "metadata": {
    "collapsed": false,
    "pycharm": {
     "name": "#%% md\n"
    }
   }
  },
  {
   "cell_type": "code",
   "execution_count": 4,
   "outputs": [],
   "source": [
    "df_relation = pd.read_csv(DATA_DIR + '관계.csv', encoding='cp949')\n",
    "df_art = pd.read_csv(DATA_DIR + '미술.csv', encoding='cp949')\n",
    "df_math = pd.read_csv(DATA_DIR + '수리.csv', encoding='cp949')\n",
    "df_body = pd.read_csv(DATA_DIR + '신체.csv', encoding='cp949')\n",
    "df_language = pd.read_csv(DATA_DIR + '언어.csv', encoding='cp949')\n",
    "df_music = pd.read_csv(DATA_DIR + '음악.csv', encoding='cp949')\n",
    "df_nature = pd.read_csv(DATA_DIR + '자연.csv', encoding='cp949')"
   ],
   "metadata": {
    "collapsed": false,
    "pycharm": {
     "name": "#%%\n"
    }
   }
  },
  {
   "cell_type": "code",
   "execution_count": 5,
   "outputs": [
    {
     "name": "stdout",
     "output_type": "stream",
     "text": [
      "<class 'pandas.core.frame.DataFrame'>\n",
      "Int64Index: 400336 entries, 0 to 130594\n",
      "Data columns (total 2 columns):\n",
      " #   Column  Non-Null Count   Dtype \n",
      "---  ------  --------------   ----- \n",
      " 0   답변      185882 non-null  object\n",
      " 1   지능      185882 non-null  object\n",
      "dtypes: object(2)\n",
      "memory usage: 9.2+ MB\n"
     ]
    }
   ],
   "source": [
    "df = pd.concat([df_relation, df_art, df_math, df_body, df_language, df_music, df_nature])\n",
    "df.info()"
   ],
   "metadata": {
    "collapsed": false,
    "pycharm": {
     "name": "#%%\n"
    }
   }
  },
  {
   "cell_type": "code",
   "execution_count": 6,
   "outputs": [
    {
     "name": "stdout",
     "output_type": "stream",
     "text": [
      "<class 'pandas.core.frame.DataFrame'>\n",
      "RangeIndex: 400336 entries, 0 to 400335\n",
      "Data columns (total 2 columns):\n",
      " #   Column  Non-Null Count   Dtype \n",
      "---  ------  --------------   ----- \n",
      " 0   답변      185882 non-null  object\n",
      " 1   지능      185882 non-null  object\n",
      "dtypes: object(2)\n",
      "memory usage: 6.1+ MB\n"
     ]
    }
   ],
   "source": [
    "df.reset_index(drop=True, inplace=True)\n",
    "df.info()"
   ],
   "metadata": {
    "collapsed": false,
    "pycharm": {
     "name": "#%%\n"
    }
   }
  },
  {
   "cell_type": "code",
   "execution_count": 7,
   "outputs": [
    {
     "data": {
      "text/plain": "                        답변   지능\n0             친구들이랑 노는게 좋아   관계\n1          가족들이랑 같이 노는게 좋아   관계\n2       친구들이랑 사이 좋게지내는게 좋아   관계\n3         친구들이랑 재밌게 노는게 좋아   관계\n4         얘들이랑 사이좋게 노는게 좋아   관계\n...                    ...  ...\n400331                 NaN  NaN\n400332                 NaN  NaN\n400333                 NaN  NaN\n400334                 NaN  NaN\n400335                 NaN  NaN\n\n[400336 rows x 2 columns]",
      "text/html": "<div>\n<style scoped>\n    .dataframe tbody tr th:only-of-type {\n        vertical-align: middle;\n    }\n\n    .dataframe tbody tr th {\n        vertical-align: top;\n    }\n\n    .dataframe thead th {\n        text-align: right;\n    }\n</style>\n<table border=\"1\" class=\"dataframe\">\n  <thead>\n    <tr style=\"text-align: right;\">\n      <th></th>\n      <th>답변</th>\n      <th>지능</th>\n    </tr>\n  </thead>\n  <tbody>\n    <tr>\n      <th>0</th>\n      <td>친구들이랑 노는게 좋아</td>\n      <td>관계</td>\n    </tr>\n    <tr>\n      <th>1</th>\n      <td>가족들이랑 같이 노는게 좋아</td>\n      <td>관계</td>\n    </tr>\n    <tr>\n      <th>2</th>\n      <td>친구들이랑 사이 좋게지내는게 좋아</td>\n      <td>관계</td>\n    </tr>\n    <tr>\n      <th>3</th>\n      <td>친구들이랑 재밌게 노는게 좋아</td>\n      <td>관계</td>\n    </tr>\n    <tr>\n      <th>4</th>\n      <td>얘들이랑 사이좋게 노는게 좋아</td>\n      <td>관계</td>\n    </tr>\n    <tr>\n      <th>...</th>\n      <td>...</td>\n      <td>...</td>\n    </tr>\n    <tr>\n      <th>400331</th>\n      <td>NaN</td>\n      <td>NaN</td>\n    </tr>\n    <tr>\n      <th>400332</th>\n      <td>NaN</td>\n      <td>NaN</td>\n    </tr>\n    <tr>\n      <th>400333</th>\n      <td>NaN</td>\n      <td>NaN</td>\n    </tr>\n    <tr>\n      <th>400334</th>\n      <td>NaN</td>\n      <td>NaN</td>\n    </tr>\n    <tr>\n      <th>400335</th>\n      <td>NaN</td>\n      <td>NaN</td>\n    </tr>\n  </tbody>\n</table>\n<p>400336 rows × 2 columns</p>\n</div>"
     },
     "execution_count": 7,
     "metadata": {},
     "output_type": "execute_result"
    }
   ],
   "source": [
    "df[:]"
   ],
   "metadata": {
    "collapsed": false,
    "pycharm": {
     "name": "#%%\n"
    }
   }
  },
  {
   "cell_type": "markdown",
   "source": [
    "### Drop NaN (결측치 제거)"
   ],
   "metadata": {
    "collapsed": false,
    "pycharm": {
     "name": "#%% md\n"
    }
   }
  },
  {
   "cell_type": "code",
   "execution_count": 8,
   "outputs": [
    {
     "name": "stdout",
     "output_type": "stream",
     "text": [
      "<class 'pandas.core.frame.DataFrame'>\n",
      "Int64Index: 185882 entries, 0 to 296273\n",
      "Data columns (total 2 columns):\n",
      " #   Column  Non-Null Count   Dtype \n",
      "---  ------  --------------   ----- \n",
      " 0   답변      185882 non-null  object\n",
      " 1   지능      185882 non-null  object\n",
      "dtypes: object(2)\n",
      "memory usage: 4.3+ MB\n"
     ]
    }
   ],
   "source": [
    "df.dropna(axis=0, how='any', inplace=True)\n",
    "df.info()"
   ],
   "metadata": {
    "collapsed": false,
    "pycharm": {
     "name": "#%%\n"
    }
   }
  },
  {
   "cell_type": "code",
   "execution_count": 9,
   "outputs": [
    {
     "data": {
      "text/plain": "                         답변  지능\n0              친구들이랑 노는게 좋아  관계\n1           가족들이랑 같이 노는게 좋아  관계\n2        친구들이랑 사이 좋게지내는게 좋아  관계\n3          친구들이랑 재밌게 노는게 좋아  관계\n4          얘들이랑 사이좋게 노는게 좋아  관계\n...                     ...  ..\n296269     나는 제인 구달처럼 될 거예요  자연\n296270       나는 멘델처럼 되고 싶어요  자연\n296271        나는 멘델처럼 될 거예요  자연\n296272  나는 콘라트 로렌츠처럼 되고 싶어요  자연\n296273   나는 콘라트 로렌츠처럼 될 거예요  자연\n\n[185882 rows x 2 columns]",
      "text/html": "<div>\n<style scoped>\n    .dataframe tbody tr th:only-of-type {\n        vertical-align: middle;\n    }\n\n    .dataframe tbody tr th {\n        vertical-align: top;\n    }\n\n    .dataframe thead th {\n        text-align: right;\n    }\n</style>\n<table border=\"1\" class=\"dataframe\">\n  <thead>\n    <tr style=\"text-align: right;\">\n      <th></th>\n      <th>답변</th>\n      <th>지능</th>\n    </tr>\n  </thead>\n  <tbody>\n    <tr>\n      <th>0</th>\n      <td>친구들이랑 노는게 좋아</td>\n      <td>관계</td>\n    </tr>\n    <tr>\n      <th>1</th>\n      <td>가족들이랑 같이 노는게 좋아</td>\n      <td>관계</td>\n    </tr>\n    <tr>\n      <th>2</th>\n      <td>친구들이랑 사이 좋게지내는게 좋아</td>\n      <td>관계</td>\n    </tr>\n    <tr>\n      <th>3</th>\n      <td>친구들이랑 재밌게 노는게 좋아</td>\n      <td>관계</td>\n    </tr>\n    <tr>\n      <th>4</th>\n      <td>얘들이랑 사이좋게 노는게 좋아</td>\n      <td>관계</td>\n    </tr>\n    <tr>\n      <th>...</th>\n      <td>...</td>\n      <td>...</td>\n    </tr>\n    <tr>\n      <th>296269</th>\n      <td>나는 제인 구달처럼 될 거예요</td>\n      <td>자연</td>\n    </tr>\n    <tr>\n      <th>296270</th>\n      <td>나는 멘델처럼 되고 싶어요</td>\n      <td>자연</td>\n    </tr>\n    <tr>\n      <th>296271</th>\n      <td>나는 멘델처럼 될 거예요</td>\n      <td>자연</td>\n    </tr>\n    <tr>\n      <th>296272</th>\n      <td>나는 콘라트 로렌츠처럼 되고 싶어요</td>\n      <td>자연</td>\n    </tr>\n    <tr>\n      <th>296273</th>\n      <td>나는 콘라트 로렌츠처럼 될 거예요</td>\n      <td>자연</td>\n    </tr>\n  </tbody>\n</table>\n<p>185882 rows × 2 columns</p>\n</div>"
     },
     "execution_count": 9,
     "metadata": {},
     "output_type": "execute_result"
    }
   ],
   "source": [
    "df[:]"
   ],
   "metadata": {
    "collapsed": false,
    "pycharm": {
     "name": "#%%\n"
    }
   }
  },
  {
   "cell_type": "code",
   "execution_count": 10,
   "outputs": [
    {
     "data": {
      "text/plain": "139041"
     },
     "execution_count": 10,
     "metadata": {},
     "output_type": "execute_result"
    }
   ],
   "source": [
    "df['답변'].nunique()"
   ],
   "metadata": {
    "collapsed": false,
    "pycharm": {
     "name": "#%%\n"
    }
   }
  },
  {
   "cell_type": "markdown",
   "source": [
    "답변 컬럼에 중복된 데이터가 존재하는듯 하다"
   ],
   "metadata": {
    "collapsed": false,
    "pycharm": {
     "name": "#%% md\n"
    }
   }
  },
  {
   "cell_type": "code",
   "execution_count": 11,
   "outputs": [
    {
     "data": {
      "text/plain": "7"
     },
     "execution_count": 11,
     "metadata": {},
     "output_type": "execute_result"
    }
   ],
   "source": [
    "df['지능'].nunique()"
   ],
   "metadata": {
    "collapsed": false,
    "pycharm": {
     "name": "#%%\n"
    }
   }
  },
  {
   "cell_type": "code",
   "execution_count": 12,
   "outputs": [
    {
     "data": {
      "text/plain": "array(['관계', '미술', '수리', '신체', '언어', '음악', '자연'], dtype=object)"
     },
     "execution_count": 12,
     "metadata": {},
     "output_type": "execute_result"
    }
   ],
   "source": [
    "df['지능'].unique()"
   ],
   "metadata": {
    "collapsed": false,
    "pycharm": {
     "name": "#%%\n"
    }
   }
  },
  {
   "cell_type": "markdown",
   "source": [
    "지능 컬럼엔 문제가 없다"
   ],
   "metadata": {
    "collapsed": false,
    "pycharm": {
     "name": "#%% md\n"
    }
   }
  },
  {
   "cell_type": "markdown",
   "source": [
    "중복 데이터 확인"
   ],
   "metadata": {
    "collapsed": false,
    "pycharm": {
     "name": "#%% md\n"
    }
   }
  },
  {
   "cell_type": "code",
   "execution_count": 13,
   "outputs": [
    {
     "data": {
      "text/plain": "46704"
     },
     "execution_count": 13,
     "metadata": {},
     "output_type": "execute_result"
    }
   ],
   "source": [
    "# 46,704 개의 중복데이터 존재\n",
    "\n",
    "dup = df.duplicated()\n",
    "dup.sum()"
   ],
   "metadata": {
    "collapsed": false,
    "pycharm": {
     "name": "#%%\n"
    }
   }
  },
  {
   "cell_type": "code",
   "execution_count": 14,
   "outputs": [
    {
     "name": "stdout",
     "output_type": "stream",
     "text": [
      "<class 'pandas.core.frame.DataFrame'>\n",
      "RangeIndex: 139041 entries, 0 to 139040\n",
      "Data columns (total 2 columns):\n",
      " #   Column  Non-Null Count   Dtype \n",
      "---  ------  --------------   ----- \n",
      " 0   답변      139041 non-null  object\n",
      " 1   지능      139041 non-null  object\n",
      "dtypes: object(2)\n",
      "memory usage: 2.1+ MB\n"
     ]
    }
   ],
   "source": [
    "df.drop_duplicates(subset=['답변'], inplace=True, ignore_index=True)\n",
    "df.info()"
   ],
   "metadata": {
    "collapsed": false,
    "pycharm": {
     "name": "#%%\n"
    }
   }
  },
  {
   "cell_type": "markdown",
   "source": [
    "font"
   ],
   "metadata": {
    "collapsed": false,
    "pycharm": {
     "name": "#%% md\n"
    }
   }
  },
  {
   "cell_type": "code",
   "execution_count": 15,
   "outputs": [
    {
     "data": {
      "text/plain": "<Figure size 720x576 with 1 Axes>",
      "image/png": "[encoded data removed]"
     },
     "metadata": {
      "needs_background": "light"
     },
     "output_type": "display_data"
    }
   ],
   "source": [
    "label = df['지능']\n",
    "\n",
    "plt.figure(figsize=(10, 8))\n",
    "plt.hist(label)\n",
    "plt.show()"
   ],
   "metadata": {
    "collapsed": false,
    "pycharm": {
     "name": "#%%\n"
    }
   }
  },
  {
   "cell_type": "code",
   "execution_count": 16,
   "outputs": [
    {
     "data": {
      "text/plain": "언어    23463\n자연    23051\n신체    20302\n관계    19517\n수리    18807\n음악    17564\n미술    16337\nName: 지능, dtype: int64"
     },
     "execution_count": 16,
     "metadata": {},
     "output_type": "execute_result"
    }
   ],
   "source": [
    "label.value_counts()"
   ],
   "metadata": {
    "collapsed": false,
    "pycharm": {
     "name": "#%%\n"
    }
   }
  },
  {
   "cell_type": "markdown",
   "source": [
    "## Save"
   ],
   "metadata": {
    "collapsed": false,
    "pycharm": {
     "name": "#%% md\n"
    }
   }
  },
  {
   "cell_type": "code",
   "execution_count": 17,
   "outputs": [],
   "source": [
    " df.to_csv(SAVE_DIR + 'new_intelli.csv', encoding='utf-8-sig', index=False)"
   ],
   "metadata": {
    "collapsed": false,
    "pycharm": {
     "name": "#%%\n"
    }
   }
  }
 ],
 "metadata": {
  "kernelspec": {
   "display_name": "Python 3",
   "language": "python",
   "name": "python3"
  },
  "language_info": {
   "codemirror_mode": {
    "name": "ipython",
    "version": 2
   },
   "file_extension": ".py",
   "mimetype": "text/x-python",
   "name": "python",
   "nbconvert_exporter": "python",
   "pygments_lexer": "ipython2",
   "version": "2.7.6"
  }
 },
 "nbformat": 4,
 "nbformat_minor": 0
}